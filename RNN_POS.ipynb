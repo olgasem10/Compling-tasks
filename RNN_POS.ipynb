{
  "nbformat": 4,
  "nbformat_minor": 0,
  "metadata": {
    "colab": {
      "name": "RNN POS.ipynb",
      "provenance": [],
      "collapsed_sections": [],
      "authorship_tag": "ABX9TyMJxqgbprJL404esiE2/odd",
      "include_colab_link": true
    },
    "kernelspec": {
      "name": "python3",
      "display_name": "Python 3"
    }
  },
  "cells": [
    {
      "cell_type": "markdown",
      "metadata": {
        "id": "view-in-github",
        "colab_type": "text"
      },
      "source": [
        "<a href=\"https://colab.research.google.com/github/olgasem10/Compling-tasks/blob/master/RNN_POS.ipynb\" target=\"_parent\"><img src=\"https://colab.research.google.com/assets/colab-badge.svg\" alt=\"Open In Colab\"/></a>"
      ]
    },
    {
      "cell_type": "code",
      "metadata": {
        "id": "OuHof5Dcdsdc",
        "colab_type": "code",
        "colab": {}
      },
      "source": [
        "import tensorflow as tf"
      ],
      "execution_count": 0,
      "outputs": []
    },
    {
      "cell_type": "code",
      "metadata": {
        "id": "zyQ7yRgLuP0J",
        "colab_type": "code",
        "colab": {}
      },
      "source": [
        "from tensorflow.keras.models import Sequential\n",
        "from tensorflow.keras.layers import Dense, Activation, Dropout, LSTM, GRU, Bidirectional, TimeDistributed, InputLayer, Embedding, Conv1D, Input, Flatten, concatenate, MaxPool1D\n",
        "from tensorflow.keras.preprocessing.sequence import pad_sequences\n",
        "from tensorflow.keras.utils import to_categorical\n",
        "import numpy as np\n",
        "from sklearn.model_selection import train_test_split\n",
        "import matplotlib.pyplot as plt\n",
        "from collections import Counter"
      ],
      "execution_count": 0,
      "outputs": []
    },
    {
      "cell_type": "code",
      "metadata": {
        "id": "MT2htT5PvO2-",
        "colab_type": "code",
        "outputId": "646dd6a2-2ad6-4204-ea3a-9b5c47889bf5",
        "colab": {
          "base_uri": "https://localhost:8080/",
          "height": 68
        }
      },
      "source": [
        "import nltk\n",
        "nltk.download('treebank')"
      ],
      "execution_count": 0,
      "outputs": [
        {
          "output_type": "stream",
          "text": [
            "[nltk_data] Downloading package treebank to /root/nltk_data...\n",
            "[nltk_data]   Unzipping corpora/treebank.zip.\n"
          ],
          "name": "stdout"
        },
        {
          "output_type": "execute_result",
          "data": {
            "text/plain": [
              "True"
            ]
          },
          "metadata": {
            "tags": []
          },
          "execution_count": 3
        }
      ]
    },
    {
      "cell_type": "code",
      "metadata": {
        "id": "raw2SaVxvRZc",
        "colab_type": "code",
        "colab": {}
      },
      "source": [
        "tagged_sentences = nltk.corpus.treebank.tagged_sents()"
      ],
      "execution_count": 0,
      "outputs": []
    },
    {
      "cell_type": "code",
      "metadata": {
        "id": "JWKb9R9YvTPS",
        "colab_type": "code",
        "outputId": "cbe85960-dcef-4de7-baf3-8b774ece8cce",
        "colab": {
          "base_uri": "https://localhost:8080/",
          "height": 34
        }
      },
      "source": [
        "len(tagged_sentences)"
      ],
      "execution_count": 0,
      "outputs": [
        {
          "output_type": "execute_result",
          "data": {
            "text/plain": [
              "3914"
            ]
          },
          "metadata": {
            "tags": []
          },
          "execution_count": 5
        }
      ]
    },
    {
      "cell_type": "code",
      "metadata": {
        "id": "DaDWjIFAy1Zd",
        "colab_type": "code",
        "colab": {}
      },
      "source": [
        "sentences, sentence_tags =[], [] \n",
        "for tagged_sentence in tagged_sentences:\n",
        "    sentence, tags = zip(*tagged_sentence)\n",
        "    sentences.append(sentence)\n",
        "    sentence_tags.append(tags)"
      ],
      "execution_count": 0,
      "outputs": []
    },
    {
      "cell_type": "code",
      "metadata": {
        "id": "Fn8rOBZ5VGFm",
        "colab_type": "code",
        "colab": {}
      },
      "source": [
        "char_sents = [[list(word) for word in sent] for sent in sentences]"
      ],
      "execution_count": 0,
      "outputs": []
    },
    {
      "cell_type": "markdown",
      "metadata": {
        "id": "zOUiQs-ESjHH",
        "colab_type": "text"
      },
      "source": [
        "### Обработка данных"
      ]
    },
    {
      "cell_type": "code",
      "metadata": {
        "id": "ckbMMSd1zUYy",
        "colab_type": "code",
        "colab": {}
      },
      "source": [
        "sent_train, sent_test, char_sent_train, char_sent_test, tag_train, tag_test = train_test_split(sentences, char_sents, sentence_tags, test_size=0.2, random_state=0)"
      ],
      "execution_count": 0,
      "outputs": []
    },
    {
      "cell_type": "code",
      "metadata": {
        "id": "-8C_JyqczY_B",
        "colab_type": "code",
        "outputId": "c38cca36-e6dd-4e57-a167-a0e6e53d3881",
        "colab": {
          "base_uri": "https://localhost:8080/",
          "height": 34
        }
      },
      "source": [
        "sent_train[0]"
      ],
      "execution_count": 0,
      "outputs": [
        {
          "output_type": "execute_result",
          "data": {
            "text/plain": [
              "('Edward', 'L.', 'Kane', 'succeeded', 'Mr.', 'Taylor', 'as', 'chairman', '.')"
            ]
          },
          "metadata": {
            "tags": []
          },
          "execution_count": 9
        }
      ]
    },
    {
      "cell_type": "code",
      "metadata": {
        "id": "ERpmTVwPzh0i",
        "colab_type": "code",
        "colab": {}
      },
      "source": [
        "vocab = Counter()\n",
        "for sent in sent_train:\n",
        "    sent = [word.lower() for word in sent]\n",
        "    vocab.update(sent)"
      ],
      "execution_count": 0,
      "outputs": []
    },
    {
      "cell_type": "code",
      "metadata": {
        "id": "QGwvtbN6zkTy",
        "colab_type": "code",
        "colab": {}
      },
      "source": [
        "filtered_vocab = {word for word in vocab if vocab[word] > 5}"
      ],
      "execution_count": 0,
      "outputs": []
    },
    {
      "cell_type": "code",
      "metadata": {
        "id": "rA_RJr7Vzn7z",
        "colab_type": "code",
        "outputId": "f4c379f5-d42a-46cb-8f56-21bea4fbe4d8",
        "colab": {
          "base_uri": "https://localhost:8080/",
          "height": 34
        }
      },
      "source": [
        "len(filtered_vocab)"
      ],
      "execution_count": 0,
      "outputs": [
        {
          "output_type": "execute_result",
          "data": {
            "text/plain": [
              "1679"
            ]
          },
          "metadata": {
            "tags": []
          },
          "execution_count": 12
        }
      ]
    },
    {
      "cell_type": "code",
      "metadata": {
        "id": "CUziWuX1zysE",
        "colab_type": "code",
        "colab": {}
      },
      "source": [
        "word2id = {'PAD':0,'UNK':1}    \n",
        "for i,word in enumerate(filtered_vocab):\n",
        "      word2id[word] = i + 2\n",
        "\n",
        "id2word = {i:word for word, i in word2id.items()}"
      ],
      "execution_count": 0,
      "outputs": []
    },
    {
      "cell_type": "code",
      "metadata": {
        "id": "u97sVXFtz7Oi",
        "colab_type": "code",
        "colab": {}
      },
      "source": [
        "tag2id = {'PAD':0}  \n",
        "for tags in tag_train:\n",
        "    for tag in tags:\n",
        "      if tag.lower() not in tag2id:\n",
        "        tag2id[tag.lower()] = len(tag2id)\n",
        "\n",
        "id2tag = {i:tag for tag, i in tag2id.items()}"
      ],
      "execution_count": 0,
      "outputs": []
    },
    {
      "cell_type": "code",
      "metadata": {
        "id": "N8tMJkQD0LPa",
        "colab_type": "code",
        "outputId": "5edbd761-5ff2-45f8-bb99-70bfd3e6de84",
        "colab": {
          "base_uri": "https://localhost:8080/",
          "height": 34
        }
      },
      "source": [
        "len(id2tag)"
      ],
      "execution_count": 0,
      "outputs": [
        {
          "output_type": "execute_result",
          "data": {
            "text/plain": [
              "47"
            ]
          },
          "metadata": {
            "tags": []
          },
          "execution_count": 15
        }
      ]
    },
    {
      "cell_type": "code",
      "metadata": {
        "id": "ZrsMYL290XwK",
        "colab_type": "code",
        "colab": {}
      },
      "source": [
        "def data2ints(data, smth2id):\n",
        "  int_data = []\n",
        "  for seq in data:\n",
        "      int_seq = []\n",
        "      for i in seq:\n",
        "          try:\n",
        "            int_seq.append(smth2id[i.lower()])\n",
        "          except KeyError:\n",
        "            int_seq.append(smth2id['UNK'])\n",
        "  \n",
        "      int_data.append(int_seq)\n",
        "  return int_data"
      ],
      "execution_count": 0,
      "outputs": []
    },
    {
      "cell_type": "code",
      "metadata": {
        "id": "6md5Dnon0bY5",
        "colab_type": "code",
        "outputId": "ee23a5d3-907e-4d8c-fb5c-89268a8256f5",
        "colab": {
          "base_uri": "https://localhost:8080/",
          "height": 85
        }
      },
      "source": [
        "X_train_ids, X_test_ids = data2ints(sent_train, word2id), data2ints(sent_test, word2id)\n",
        "y_train_ids, y_test_ids = data2ints(tag_train, tag2id), data2ints(tag_test, tag2id)\n",
        "\n",
        "\n",
        "print(X_train_ids[0])\n",
        "print(X_test_ids[0])\n",
        "print(y_train_ids[0])\n",
        "print(y_test_ids[0])"
      ],
      "execution_count": 0,
      "outputs": [
        {
          "output_type": "stream",
          "text": [
            "[341, 1, 1, 1, 561, 1, 593, 1529, 907]\n",
            "[507, 839, 499, 1162, 467, 642, 1168, 1, 334, 1, 1314, 1518, 947, 907]\n",
            "[1, 1, 1, 2, 1, 1, 3, 4, 5]\n",
            "[18, 19, 21, 24, 10, 25, 24, 18, 21, 14, 3, 7, 15, 5]\n"
          ],
          "name": "stdout"
        }
      ]
    },
    {
      "cell_type": "code",
      "metadata": {
        "id": "dlTFjQpr0mb6",
        "colab_type": "code",
        "outputId": "978b2452-bc9f-4a88-e0f0-f9bda2bbf3c6",
        "colab": {
          "base_uri": "https://localhost:8080/",
          "height": 34
        }
      },
      "source": [
        "MAX_LEN = max(len(x) for x in X_train_ids)\n",
        "MAX_LEN"
      ],
      "execution_count": 0,
      "outputs": [
        {
          "output_type": "execute_result",
          "data": {
            "text/plain": [
              "128"
            ]
          },
          "metadata": {
            "tags": []
          },
          "execution_count": 18
        }
      ]
    },
    {
      "cell_type": "code",
      "metadata": {
        "id": "TSIotRCK1gjQ",
        "colab_type": "code",
        "colab": {}
      },
      "source": [
        "X_train, X_test = pad_sequences(X_train_ids, maxlen=MAX_LEN, padding='post'), pad_sequences(X_test_ids, maxlen=MAX_LEN, padding='post')\n",
        "y_train_pad, y_test_pad = pad_sequences(y_train_ids, maxlen=MAX_LEN, padding='post'), pad_sequences(y_test_ids, maxlen=MAX_LEN, padding='post')"
      ],
      "execution_count": 0,
      "outputs": []
    },
    {
      "cell_type": "code",
      "metadata": {
        "id": "yNA6bGnZ1ieT",
        "colab_type": "code",
        "outputId": "f2a73b5f-b7bf-4df0-869b-7c95fa0770d5",
        "colab": {
          "base_uri": "https://localhost:8080/",
          "height": 34
        }
      },
      "source": [
        "print(X_train.shape, y_train_pad.shape, X_test.shape, y_test_pad.shape)"
      ],
      "execution_count": 0,
      "outputs": [
        {
          "output_type": "stream",
          "text": [
            "(3131, 128) (3131, 128) (783, 128) (783, 128)\n"
          ],
          "name": "stdout"
        }
      ]
    },
    {
      "cell_type": "code",
      "metadata": {
        "id": "kYb96d033CtS",
        "colab_type": "code",
        "colab": {}
      },
      "source": [
        "y_train, y_test = to_categorical(y_train_pad, num_classes=len(tag2id)), to_categorical(y_test_pad, num_classes=len(tag2id))"
      ],
      "execution_count": 0,
      "outputs": []
    },
    {
      "cell_type": "code",
      "metadata": {
        "id": "y_HdFaAR3IMx",
        "colab_type": "code",
        "outputId": "5ee05421-65fb-49fe-8927-84152c262c39",
        "colab": {
          "base_uri": "https://localhost:8080/",
          "height": 34
        }
      },
      "source": [
        "y_test.shape"
      ],
      "execution_count": 0,
      "outputs": [
        {
          "output_type": "execute_result",
          "data": {
            "text/plain": [
              "(783, 128, 47)"
            ]
          },
          "metadata": {
            "tags": []
          },
          "execution_count": 22
        }
      ]
    },
    {
      "cell_type": "markdown",
      "metadata": {
        "id": "CeyLbywZTlpE",
        "colab_type": "text"
      },
      "source": [
        "### Данные для второго инпута"
      ]
    },
    {
      "cell_type": "code",
      "metadata": {
        "id": "-k3Vp-3yVdpz",
        "colab_type": "code",
        "outputId": "bfbb8f97-4d43-40fc-b6da-fe28f5b37134",
        "colab": {
          "base_uri": "https://localhost:8080/",
          "height": 34
        }
      },
      "source": [
        "alphabet = Counter()\n",
        "for sent in char_sent_train:\n",
        "  for word in sent:\n",
        "    word = [char.lower() for char in word]\n",
        "    alphabet.update(word)\n",
        "\n",
        "len(alphabet)"
      ],
      "execution_count": 0,
      "outputs": [
        {
          "output_type": "execute_result",
          "data": {
            "text/plain": [
              "52"
            ]
          },
          "metadata": {
            "tags": []
          },
          "execution_count": 24
        }
      ]
    },
    {
      "cell_type": "code",
      "metadata": {
        "colab_type": "code",
        "id": "c0jZbsOKVqUu",
        "colab": {}
      },
      "source": [
        "char2id = {'PAD':0,'UNK':1}    \n",
        "for i,char in enumerate(alphabet):\n",
        "      char2id[char] = i + 2\n",
        "\n",
        "id2char = {i:char for char, i in char2id.items()}"
      ],
      "execution_count": 0,
      "outputs": []
    },
    {
      "cell_type": "code",
      "metadata": {
        "colab_type": "code",
        "id": "jBSK8p9PVqU6",
        "colab": {}
      },
      "source": [
        "X_char_train_ids = [data2ints(sent, char2id) for sent in char_sent_train]\n",
        "X_char_test_ids = [data2ints(sent, char2id) for sent in char_sent_test]"
      ],
      "execution_count": 0,
      "outputs": []
    },
    {
      "cell_type": "code",
      "metadata": {
        "colab_type": "code",
        "outputId": "e2c3a6bb-b342-4ab3-8f92-a9179e5af216",
        "id": "k2MTZKPHVqVN",
        "colab": {
          "base_uri": "https://localhost:8080/",
          "height": 34
        }
      },
      "source": [
        "MAX_CHAR_LEN = max(max(len(word) for word in sent) for sent in X_char_train_ids)\n",
        "MAX_CHAR_LEN"
      ],
      "execution_count": 0,
      "outputs": [
        {
          "output_type": "execute_result",
          "data": {
            "text/plain": [
              "24"
            ]
          },
          "metadata": {
            "tags": []
          },
          "execution_count": 28
        }
      ]
    },
    {
      "cell_type": "code",
      "metadata": {
        "colab_type": "code",
        "id": "Ky2NGyLYTbr4",
        "colab": {}
      },
      "source": [
        "def chars_pad(data, MAX_LEN, MAX_CHAR_LEN):\n",
        "  pad_char = np.zeros((len(data), MAX_LEN, MAX_CHAR_LEN))\n",
        "  for i, s in enumerate(data):\n",
        "      for j, word in enumerate(s):\n",
        "        for k, char in enumerate(word):\n",
        "          try:\n",
        "              pad_char[i][j][k] = char\n",
        "          except:\n",
        "            continue\n",
        "  return pad_char"
      ],
      "execution_count": 0,
      "outputs": []
    },
    {
      "cell_type": "code",
      "metadata": {
        "id": "Ugc09BeNTfIV",
        "colab_type": "code",
        "colab": {}
      },
      "source": [
        "X_char_train = chars_pad(X_char_train_ids, MAX_LEN, MAX_CHAR_LEN)\n",
        "X_char_test = chars_pad(X_char_test_ids, MAX_LEN, MAX_CHAR_LEN)"
      ],
      "execution_count": 0,
      "outputs": []
    },
    {
      "cell_type": "code",
      "metadata": {
        "id": "Z2xW2NGET3T_",
        "colab_type": "code",
        "outputId": "7fbeccaa-e214-4ca1-8498-4b834b93375a",
        "colab": {
          "base_uri": "https://localhost:8080/",
          "height": 34
        }
      },
      "source": [
        "print(X_char_train.shape, X_char_test.shape)"
      ],
      "execution_count": 0,
      "outputs": [
        {
          "output_type": "stream",
          "text": [
            "(3131, 128, 24) (783, 128, 24)\n"
          ],
          "name": "stdout"
        }
      ]
    },
    {
      "cell_type": "markdown",
      "metadata": {
        "id": "LKoctnM0Whsv",
        "colab_type": "text"
      },
      "source": [
        "### Сеть"
      ]
    },
    {
      "cell_type": "code",
      "metadata": {
        "id": "GNaynSOMWltO",
        "colab_type": "code",
        "outputId": "c98bd5d0-ebcc-4702-f55d-135145452064",
        "colab": {
          "base_uri": "https://localhost:8080/",
          "height": 578
        }
      },
      "source": [
        "input1 = Input(shape=(MAX_LEN,), name='input1')\n",
        "embeddings1 = Embedding(input_dim=len(word2id), output_dim=100, name='embeddings', mask_zero=True)(input1)\n",
        "\n",
        "bi = Bidirectional(LSTM(16, return_sequences=True), merge_mode='concat', name='bi')(embeddings1)\n",
        "drop = Dropout(0.2, name = 'drop')(bi)\n",
        "\n",
        "\n",
        "input2 = Input(shape=(MAX_LEN, MAX_CHAR_LEN,), name='input2')\n",
        "embeddings2 = TimeDistributed(Embedding(input_dim=len(char2id), output_dim=40), name='embeddings2')(input2)\n",
        "conv1 = TimeDistributed(Conv1D(kernel_size=3, filters=30, strides = 1), name='conv1')(embeddings2)\n",
        "drop2 = Dropout(0.2, name = 'drop2')(conv1)\n",
        "flat = TimeDistributed(Flatten(), name='flat')(drop2)\n",
        "\n",
        "concat = concatenate([drop, flat], name='concat')\n",
        "\n",
        "bi2 = Bidirectional(LSTM(16, return_sequences=True), merge_mode='concat', name='bi2')(concat)\n",
        "\n",
        "outputs = TimeDistributed(Dense(len(tag2id), activation='softmax'), name='output')(bi2)\n",
        "\n",
        "model1 = tf.keras.Model(inputs=[input1, input2], outputs=outputs)\n",
        "model1.compile(loss='categorical_crossentropy', optimizer='Adam', metrics=['accuracy'])\n",
        "model1.summary()"
      ],
      "execution_count": 0,
      "outputs": [
        {
          "output_type": "stream",
          "text": [
            "Model: \"model_10\"\n",
            "__________________________________________________________________________________________________\n",
            "Layer (type)                    Output Shape         Param #     Connected to                     \n",
            "==================================================================================================\n",
            "input2 (InputLayer)             [(None, 128, 24)]    0                                            \n",
            "__________________________________________________________________________________________________\n",
            "input1 (InputLayer)             [(None, 128)]        0                                            \n",
            "__________________________________________________________________________________________________\n",
            "embeddings2 (TimeDistributed)   (None, 128, 24, 40)  2160        input2[0][0]                     \n",
            "__________________________________________________________________________________________________\n",
            "embeddings (Embedding)          (None, 128, 100)     168100      input1[0][0]                     \n",
            "__________________________________________________________________________________________________\n",
            "conv1 (TimeDistributed)         (None, 128, 22, 30)  3630        embeddings2[0][0]                \n",
            "__________________________________________________________________________________________________\n",
            "bi (Bidirectional)              (None, 128, 32)      14976       embeddings[0][0]                 \n",
            "__________________________________________________________________________________________________\n",
            "drop2 (Dropout)                 (None, 128, 22, 30)  0           conv1[0][0]                      \n",
            "__________________________________________________________________________________________________\n",
            "drop (Dropout)                  (None, 128, 32)      0           bi[0][0]                         \n",
            "__________________________________________________________________________________________________\n",
            "flat (TimeDistributed)          (None, 128, 660)     0           drop2[0][0]                      \n",
            "__________________________________________________________________________________________________\n",
            "concat (Concatenate)            (None, 128, 692)     0           drop[0][0]                       \n",
            "                                                                 flat[0][0]                       \n",
            "__________________________________________________________________________________________________\n",
            "bi2 (Bidirectional)             (None, 128, 32)      90752       concat[0][0]                     \n",
            "__________________________________________________________________________________________________\n",
            "output (TimeDistributed)        (None, 128, 47)      1551        bi2[0][0]                        \n",
            "==================================================================================================\n",
            "Total params: 281,169\n",
            "Trainable params: 281,169\n",
            "Non-trainable params: 0\n",
            "__________________________________________________________________________________________________\n"
          ],
          "name": "stdout"
        }
      ]
    },
    {
      "cell_type": "code",
      "metadata": {
        "colab_type": "code",
        "outputId": "d8f24f52-75b2-476b-b13f-00fc544de4af",
        "id": "HifZHLZpmoFX",
        "colab": {
          "base_uri": "https://localhost:8080/",
          "height": 884
        }
      },
      "source": [
        "model1.fit([X_train, X_char_train], y_train, validation_data=([X_test, X_char_test], y_test), batch_size=128, epochs=25)"
      ],
      "execution_count": 0,
      "outputs": [
        {
          "output_type": "stream",
          "text": [
            "Epoch 1/25\n",
            "25/25 [==============================] - 35s 1s/step - loss: 0.7051 - accuracy: 0.0575 - val_loss: 0.6551 - val_accuracy: 0.0272\n",
            "Epoch 2/25\n",
            "25/25 [==============================] - 30s 1s/step - loss: 0.6151 - accuracy: 0.0264 - val_loss: 0.6146 - val_accuracy: 0.0329\n",
            "Epoch 3/25\n",
            "25/25 [==============================] - 30s 1s/step - loss: 0.5788 - accuracy: 0.0390 - val_loss: 0.5740 - val_accuracy: 0.0471\n",
            "Epoch 4/25\n",
            "25/25 [==============================] - 30s 1s/step - loss: 0.5411 - accuracy: 0.0475 - val_loss: 0.5392 - val_accuracy: 0.0567\n",
            "Epoch 5/25\n",
            "25/25 [==============================] - 30s 1s/step - loss: 0.5093 - accuracy: 0.0685 - val_loss: 0.5078 - val_accuracy: 0.0776\n",
            "Epoch 6/25\n",
            "25/25 [==============================] - 31s 1s/step - loss: 0.4775 - accuracy: 0.0783 - val_loss: 0.4742 - val_accuracy: 0.0827\n",
            "Epoch 7/25\n",
            "25/25 [==============================] - 30s 1s/step - loss: 0.4438 - accuracy: 0.0829 - val_loss: 0.4382 - val_accuracy: 0.0880\n",
            "Epoch 8/25\n",
            "25/25 [==============================] - 30s 1s/step - loss: 0.4100 - accuracy: 0.0882 - val_loss: 0.4057 - val_accuracy: 0.0958\n",
            "Epoch 9/25\n",
            "25/25 [==============================] - 33s 1s/step - loss: 0.3797 - accuracy: 0.0956 - val_loss: 0.3754 - val_accuracy: 0.1035\n",
            "Epoch 10/25\n",
            "25/25 [==============================] - 30s 1s/step - loss: 0.3521 - accuracy: 0.1028 - val_loss: 0.3483 - val_accuracy: 0.1108\n",
            "Epoch 11/25\n",
            "25/25 [==============================] - 30s 1s/step - loss: 0.3262 - accuracy: 0.1102 - val_loss: 0.3224 - val_accuracy: 0.1178\n",
            "Epoch 12/25\n",
            "25/25 [==============================] - 30s 1s/step - loss: 0.3012 - accuracy: 0.1190 - val_loss: 0.2971 - val_accuracy: 0.1277\n",
            "Epoch 13/25\n",
            "25/25 [==============================] - 30s 1s/step - loss: 0.2774 - accuracy: 0.1291 - val_loss: 0.2753 - val_accuracy: 0.1380\n",
            "Epoch 14/25\n",
            "25/25 [==============================] - 30s 1s/step - loss: 0.2572 - accuracy: 0.1358 - val_loss: 0.2560 - val_accuracy: 0.1431\n",
            "Epoch 15/25\n",
            "25/25 [==============================] - 30s 1s/step - loss: 0.2390 - accuracy: 0.1417 - val_loss: 0.2384 - val_accuracy: 0.1487\n",
            "Epoch 16/25\n",
            "25/25 [==============================] - 30s 1s/step - loss: 0.2223 - accuracy: 0.1474 - val_loss: 0.2215 - val_accuracy: 0.1549\n",
            "Epoch 17/25\n",
            "25/25 [==============================] - 30s 1s/step - loss: 0.2063 - accuracy: 0.1522 - val_loss: 0.2060 - val_accuracy: 0.1583\n",
            "Epoch 18/25\n",
            "25/25 [==============================] - 30s 1s/step - loss: 0.1912 - accuracy: 0.1557 - val_loss: 0.1919 - val_accuracy: 0.1607\n",
            "Epoch 19/25\n",
            "25/25 [==============================] - 30s 1s/step - loss: 0.1775 - accuracy: 0.1591 - val_loss: 0.1781 - val_accuracy: 0.1649\n",
            "Epoch 20/25\n",
            "25/25 [==============================] - 30s 1s/step - loss: 0.1640 - accuracy: 0.1637 - val_loss: 0.1651 - val_accuracy: 0.1696\n",
            "Epoch 21/25\n",
            "25/25 [==============================] - 30s 1s/step - loss: 0.1516 - accuracy: 0.1677 - val_loss: 0.1538 - val_accuracy: 0.1725\n",
            "Epoch 22/25\n",
            "25/25 [==============================] - 30s 1s/step - loss: 0.1405 - accuracy: 0.1703 - val_loss: 0.1429 - val_accuracy: 0.1745\n",
            "Epoch 23/25\n",
            "25/25 [==============================] - 30s 1s/step - loss: 0.1298 - accuracy: 0.1722 - val_loss: 0.1335 - val_accuracy: 0.1761\n",
            "Epoch 24/25\n",
            "25/25 [==============================] - 30s 1s/step - loss: 0.1206 - accuracy: 0.1740 - val_loss: 0.1248 - val_accuracy: 0.1778\n",
            "Epoch 25/25\n",
            "25/25 [==============================] - 30s 1s/step - loss: 0.1128 - accuracy: 0.1754 - val_loss: 0.1177 - val_accuracy: 0.1793\n"
          ],
          "name": "stdout"
        },
        {
          "output_type": "execute_result",
          "data": {
            "text/plain": [
              "<tensorflow.python.keras.callbacks.History at 0x7f1c16868be0>"
            ]
          },
          "metadata": {
            "tags": []
          },
          "execution_count": 62
        }
      ]
    },
    {
      "cell_type": "markdown",
      "metadata": {
        "id": "ORGLdueVhRCw",
        "colab_type": "text"
      },
      "source": [
        "### Функция для разметки предложений"
      ]
    },
    {
      "cell_type": "code",
      "metadata": {
        "id": "U8q5188Kp7vS",
        "colab_type": "code",
        "colab": {}
      },
      "source": [
        "def tagger(sent, model):\n",
        "  sent_ids = data2ints([sent], word2id)\n",
        "  length = len(sent)\n",
        "  pad_sent = pad_sequences(sent_ids, maxlen=MAX_LEN, padding='post')\n",
        "  char_sent = [[list(word) for word in s] for s in [sent]]\n",
        "  char_sent_ids = [data2ints(sent, char2id) for sent in char_sent]\n",
        "  padded_chars = chars_pad(char_sent_ids, MAX_LEN, MAX_CHAR_LEN)\n",
        "  tags_ids = np.argmax(model.predict([pad_sent, padded_chars]), axis=2).tolist()[0][:length]\n",
        "  tags = [id2tag[ind] for ind in tags_ids]\n",
        "  tagged_sent = [(word, tag) for word, tag in zip(sent, tags)]   \n",
        "  return tagged_sent\n"
      ],
      "execution_count": 0,
      "outputs": []
    },
    {
      "cell_type": "code",
      "metadata": {
        "id": "jflC2E0soaPM",
        "colab_type": "code",
        "outputId": "5ea68f8c-3b05-42ec-f435-007c4a25df88",
        "colab": {
          "base_uri": "https://localhost:8080/",
          "height": 935
        }
      },
      "source": [
        "tagger(sent_test[100], model1)"
      ],
      "execution_count": 0,
      "outputs": [
        {
          "output_type": "execute_result",
          "data": {
            "text/plain": [
              "[('David', 'nnp'),\n",
              " ('A.', 'nnp'),\n",
              " ('DiLoreto', 'nnp'),\n",
              " (',', ','),\n",
              " ('president', 'nn'),\n",
              " ('of', 'in'),\n",
              " ('metal', 'nnp'),\n",
              " ('container', 'nnp'),\n",
              " ('division', 'nn'),\n",
              " (',', ','),\n",
              " ('was', 'vbd'),\n",
              " ('named', 'vbn'),\n",
              " ('*-1', '-none-'),\n",
              " ('to', 'to'),\n",
              " ('the', 'dt'),\n",
              " ('additional', 'jj'),\n",
              " ('post', 'nn'),\n",
              " ('of', 'in'),\n",
              " ('group', 'nn'),\n",
              " ('vice', 'nn'),\n",
              " ('president', 'nn'),\n",
              " (',', ','),\n",
              " ('packaging', 'vbg'),\n",
              " ('products', 'nns'),\n",
              " (',', ','),\n",
              " ('at', 'in'),\n",
              " ('this', 'dt'),\n",
              " ('packaging', 'vbg'),\n",
              " (',', ','),\n",
              " ('industrial', 'jj'),\n",
              " ('and', 'cc'),\n",
              " ('aerospace', 'jj'),\n",
              " ('products', 'nns'),\n",
              " ('concern', 'nn'),\n",
              " (',', ','),\n",
              " ('*-1', '-none-'),\n",
              " ('succeeding', 'nnp'),\n",
              " ('Delmont', 'nnp'),\n",
              " ('A.', 'nnp'),\n",
              " ('Davis', 'nnp'),\n",
              " (',', ','),\n",
              " ('who', 'wp'),\n",
              " ('*T*-3', '-none-'),\n",
              " ('was', 'vbd'),\n",
              " ('named', 'vbn'),\n",
              " ('*-2', '-none-'),\n",
              " ('president', 'nn'),\n",
              " ('and', 'cc'),\n",
              " ('chief', 'nn'),\n",
              " ('operating', 'nn'),\n",
              " ('officer', 'nn'),\n",
              " ('in', 'in'),\n",
              " ('August', 'nnp'),\n",
              " ('.', '.')]"
            ]
          },
          "metadata": {
            "tags": []
          },
          "execution_count": 102
        }
      ]
    }
  ]
}