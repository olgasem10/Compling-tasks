{
  "nbformat": 4,
  "nbformat_minor": 0,
  "metadata": {
    "colab": {
      "name": "BigARTM.ipynb",
      "provenance": [],
      "collapsed_sections": [
        "LhC6RsiCzvMH",
        "CU2VWez56vjt",
        "6Drz_b56DB60",
        "JT0_oH4nFxX9",
        "TV6FSPU2XyJv"
      ],
      "authorship_tag": "ABX9TyP/qpXCtWdbxMxOWvi0Ii+Y",
      "include_colab_link": true
    },
    "kernelspec": {
      "name": "python3",
      "display_name": "Python 3"
    }
  },
  "cells": [
    {
      "cell_type": "markdown",
      "metadata": {
        "id": "view-in-github",
        "colab_type": "text"
      },
      "source": [
        "<a href=\"https://colab.research.google.com/github/olgasem10/Compling-tasks/blob/master/BigARTM.ipynb\" target=\"_parent\"><img src=\"https://colab.research.google.com/assets/colab-badge.svg\" alt=\"Open In Colab\"/></a>"
      ]
    },
    {
      "cell_type": "code",
      "metadata": {
        "id": "gpEm9k6UaglR",
        "colab_type": "code",
        "colab": {
          "base_uri": "https://localhost:8080/",
          "height": 221
        },
        "outputId": "c8f7f174-af6a-4c4f-88e0-f195d998ee51"
      },
      "source": [
        "!apt-get --yes install git make cmake build-essential libboost-all-dev"
      ],
      "execution_count": 3,
      "outputs": [
        {
          "output_type": "stream",
          "text": [
            "Reading package lists... Done\n",
            "Building dependency tree       \n",
            "Reading state information... Done\n",
            "build-essential is already the newest version (12.4ubuntu1).\n",
            "make is already the newest version (4.1-9.1ubuntu1).\n",
            "libboost-all-dev is already the newest version (1.65.1.0ubuntu1).\n",
            "cmake is already the newest version (3.10.2-1ubuntu2.18.04.1).\n",
            "git is already the newest version (1:2.17.1-1ubuntu0.5).\n",
            "The following package was automatically installed and is no longer required:\n",
            "  libnvidia-common-430\n",
            "Use 'apt autoremove' to remove it.\n",
            "0 upgraded, 0 newly installed, 0 to remove and 7 not upgraded.\n"
          ],
          "name": "stdout"
        }
      ]
    },
    {
      "cell_type": "code",
      "metadata": {
        "id": "xZ1bpy_ea0BW",
        "colab_type": "code",
        "colab": {
          "base_uri": "https://localhost:8080/",
          "height": 102
        },
        "outputId": "af2af06f-fc25-4e38-df0b-bb105e36012e"
      },
      "source": [
        "!pip install protobuf tqdm wheel"
      ],
      "execution_count": 4,
      "outputs": [
        {
          "output_type": "stream",
          "text": [
            "Requirement already satisfied: protobuf in /usr/local/lib/python3.6/dist-packages (3.10.0)\n",
            "Requirement already satisfied: tqdm in /usr/local/lib/python3.6/dist-packages (4.28.1)\n",
            "Requirement already satisfied: wheel in /usr/local/lib/python3.6/dist-packages (0.33.6)\n",
            "Requirement already satisfied: six>=1.9 in /usr/local/lib/python3.6/dist-packages (from protobuf) (1.12.0)\n",
            "Requirement already satisfied: setuptools in /usr/local/lib/python3.6/dist-packages (from protobuf) (42.0.2)\n"
          ],
          "name": "stdout"
        }
      ]
    },
    {
      "cell_type": "code",
      "metadata": {
        "id": "8ElS8etWa6AU",
        "colab_type": "code",
        "colab": {
          "base_uri": "https://localhost:8080/",
          "height": 34
        },
        "outputId": "529515e8-1c4e-4cac-be12-2cc0c06380b6"
      },
      "source": [
        "!git clone --branch=stable https://github.com/bigartm/bigartm.git"
      ],
      "execution_count": 5,
      "outputs": [
        {
          "output_type": "stream",
          "text": [
            "fatal: destination path 'bigartm' already exists and is not an empty directory.\n"
          ],
          "name": "stdout"
        }
      ]
    },
    {
      "cell_type": "code",
      "metadata": {
        "id": "KcKLtDyJbB2w",
        "colab_type": "code",
        "colab": {
          "base_uri": "https://localhost:8080/",
          "height": 34
        },
        "outputId": "296ebf17-1e3d-408e-a98b-f02862970e37"
      },
      "source": [
        "cd bigartm"
      ],
      "execution_count": 6,
      "outputs": [
        {
          "output_type": "stream",
          "text": [
            "/content/bigartm\n"
          ],
          "name": "stdout"
        }
      ]
    },
    {
      "cell_type": "code",
      "metadata": {
        "id": "JZSh8i1gbF9K",
        "colab_type": "code",
        "colab": {
          "base_uri": "https://localhost:8080/",
          "height": 34
        },
        "outputId": "3b9f21a9-f8c8-4202-eabb-4bad2d1ae134"
      },
      "source": [
        "mkdir build"
      ],
      "execution_count": 7,
      "outputs": [
        {
          "output_type": "stream",
          "text": [
            "mkdir: cannot create directory ‘build’: File exists\n"
          ],
          "name": "stdout"
        }
      ]
    },
    {
      "cell_type": "code",
      "metadata": {
        "id": "V8zgHoSRbIig",
        "colab_type": "code",
        "colab": {
          "base_uri": "https://localhost:8080/",
          "height": 34
        },
        "outputId": "41b01d5a-95c6-445c-b80f-a6d54c9f23e9"
      },
      "source": [
        "cd build"
      ],
      "execution_count": 6,
      "outputs": [
        {
          "output_type": "stream",
          "text": [
            "/content/bigartm/build\n"
          ],
          "name": "stdout"
        }
      ]
    },
    {
      "cell_type": "code",
      "metadata": {
        "id": "Q775SKXJbLEg",
        "colab_type": "code",
        "colab": {
          "base_uri": "https://localhost:8080/",
          "height": 1000
        },
        "outputId": "d912abe6-f88e-4c77-efd3-86658302f1fe"
      },
      "source": [
        "!cmake .."
      ],
      "execution_count": 7,
      "outputs": [
        {
          "output_type": "stream",
          "text": [
            "-- The C compiler identification is GNU 7.4.0\n",
            "-- The CXX compiler identification is GNU 7.4.0\n",
            "-- Check for working C compiler: /usr/bin/cc\n",
            "-- Check for working C compiler: /usr/bin/cc -- works\n",
            "-- Detecting C compiler ABI info\n",
            "-- Detecting C compiler ABI info - done\n",
            "-- Detecting C compile features\n",
            "-- Detecting C compile features - done\n",
            "-- Check for working CXX compiler: /usr/bin/c++\n",
            "-- Check for working CXX compiler: /usr/bin/c++ -- works\n",
            "-- Detecting CXX compiler ABI info\n",
            "-- Detecting CXX compiler ABI info - done\n",
            "-- Detecting CXX compile features\n",
            "-- Detecting CXX compile features - done\n",
            "-- Build type: Release\n",
            "-- Looking for include file unistd.h\n",
            "-- Looking for include file unistd.h - found\n",
            "-- Boost version: 1.65.1\n",
            "-- Looking for pthread.h\n",
            "-- Looking for pthread.h - found\n",
            "-- Looking for pthread_create\n",
            "-- Looking for pthread_create - not found\n",
            "-- Looking for pthread_create in pthreads\n",
            "-- Looking for pthread_create in pthreads - not found\n",
            "-- Looking for pthread_create in pthread\n",
            "-- Looking for pthread_create in pthread - found\n",
            "-- Found Threads: TRUE  \n",
            "-- Boost version: 1.65.1\n",
            "-- Found the following Boost libraries:\n",
            "--   thread\n",
            "--   program_options\n",
            "--   date_time\n",
            "--   filesystem\n",
            "--   iostreams\n",
            "--   system\n",
            "--   chrono\n",
            "--   timer\n",
            "--   atomic\n",
            "--   regex\n",
            "-- Looking for C++ include stdint.h\n",
            "-- Looking for C++ include stdint.h - found\n",
            "-- Looking for C++ include inttypes.h\n",
            "-- Looking for C++ include inttypes.h - found\n",
            "-- Looking for C++ include sys/types.h\n",
            "-- Looking for C++ include sys/types.h - found\n",
            "-- Looking for C++ include sys/stat.h\n",
            "-- Looking for C++ include sys/stat.h - found\n",
            "-- Looking for C++ include fnmatch.h\n",
            "-- Looking for C++ include fnmatch.h - found\n",
            "-- Looking for strtoll\n",
            "-- Looking for strtoll - found\n",
            "-- Looking for C++ include stddef.h\n",
            "-- Looking for C++ include stddef.h - found\n",
            "-- Check size of pthread_rwlock_t\n",
            "-- Check size of pthread_rwlock_t - done\n",
            "-- Looking for dlfcn.h\n",
            "-- Looking for dlfcn.h - found\n",
            "-- Looking for execinfo.h\n",
            "-- Looking for execinfo.h - found\n",
            "-- Looking for glob.h\n",
            "-- Looking for glob.h - found\n",
            "-- Looking for libunwind.h\n",
            "-- Looking for libunwind.h - not found\n",
            "-- Looking for memory.h\n",
            "-- Looking for memory.h - found\n",
            "-- Looking for pwd.h\n",
            "-- Looking for pwd.h - found\n",
            "-- Looking for stdlib.h\n",
            "-- Looking for stdlib.h - found\n",
            "-- Looking for string.h\n",
            "-- Looking for string.h - found\n",
            "-- Looking for strings.h\n",
            "-- Looking for strings.h - found\n",
            "-- Looking for sys/syscall.h\n",
            "-- Looking for sys/syscall.h - found\n",
            "-- Looking for sys/time.h\n",
            "-- Looking for sys/time.h - found\n",
            "-- Looking for sys/utsname.h\n",
            "-- Looking for sys/utsname.h - found\n",
            "-- Looking for syscall.h\n",
            "-- Looking for syscall.h - found\n",
            "-- Looking for syslog.h\n",
            "-- Looking for syslog.h - found\n",
            "-- Looking for ucontext.h\n",
            "-- Looking for ucontext.h - found\n",
            "-- Looking for unwind.h\n",
            "-- Looking for unwind.h - found\n",
            "-- Looking for C++ include ext/hash_map\n",
            "-- Looking for C++ include ext/hash_map - found\n",
            "-- Looking for C++ include ext/hash_set\n",
            "-- Looking for C++ include ext/hash_set - found\n",
            "-- Looking for C++ include ext/slist\n",
            "-- Looking for C++ include ext/slist - found\n",
            "-- Looking for C++ include tr1/unordered_map\n",
            "-- Looking for C++ include tr1/unordered_map - found\n",
            "-- Looking for C++ include tr1/unordered_set\n",
            "-- Looking for C++ include tr1/unordered_set - found\n",
            "-- Looking for C++ include unordered_map\n",
            "-- Looking for C++ include unordered_map - found\n",
            "-- Looking for C++ include unordered_set\n",
            "-- Looking for C++ include unordered_set - found\n",
            "-- Check size of unsigned __int16\n",
            "-- Check size of unsigned __int16 - failed\n",
            "-- Check size of u_int16_t\n",
            "-- Check size of u_int16_t - done\n",
            "-- Check size of uint16_t\n",
            "-- Check size of uint16_t - done\n",
            "-- Looking for dladdr\n",
            "-- Looking for dladdr - not found\n",
            "-- Looking for fcntl\n",
            "-- Looking for fcntl - found\n",
            "-- Looking for pread\n",
            "-- Looking for pread - found\n",
            "-- Looking for pwrite\n",
            "-- Looking for pwrite - found\n",
            "-- Looking for sigaction\n",
            "-- Looking for sigaction - found\n",
            "-- Looking for sigaltstack\n",
            "-- Looking for sigaltstack - found\n",
            "-- Performing Test HAVE_NO_DEPRECATED\n",
            "-- Performing Test HAVE_NO_DEPRECATED - Success\n",
            "-- Performing Test HAVE_NO_UNNAMED_TYPE_TEMPLATE_ARGS\n",
            "-- Performing Test HAVE_NO_UNNAMED_TYPE_TEMPLATE_ARGS - Failed\n",
            "-- Looking for snprintf\n",
            "-- Looking for snprintf - found\n",
            "-- Looking for get_static_proc_name in unwind\n",
            "-- Looking for get_static_proc_name in unwind - not found\n",
            "-- Performing Test HAVE___ATTRIBUTE__\n",
            "-- Performing Test HAVE___ATTRIBUTE__ - Success\n",
            "-- Performing Test HAVE___ATTRIBUTE__VISIBILITY_DEFAULT\n",
            "-- Performing Test HAVE___ATTRIBUTE__VISIBILITY_DEFAULT - Success\n",
            "-- Performing Test HAVE___ATTRIBUTE__VISIBILITY_HIDDEN\n",
            "-- Performing Test HAVE___ATTRIBUTE__VISIBILITY_HIDDEN - Success\n",
            "-- Performing Test HAVE___BUILTIN_EXPECT\n",
            "-- Performing Test HAVE___BUILTIN_EXPECT - Success\n",
            "-- Performing Test HAVE___SYNC_VAL_COMPARE_AND_SWAP\n",
            "-- Performing Test HAVE___SYNC_VAL_COMPARE_AND_SWAP - Success\n",
            "-- Performing Test HAVE___DECLSPEC\n",
            "-- Performing Test HAVE___DECLSPEC - Failed\n",
            "-- Performing Test STL_NO_NAMESPACE\n",
            "-- Performing Test STL_NO_NAMESPACE - Failed\n",
            "-- Performing Test STL_STD_NAMESPACE\n",
            "-- Performing Test STL_STD_NAMESPACE - Success\n",
            "-- Performing Test HAVE_USING_OPERATOR\n",
            "-- Performing Test HAVE_USING_OPERATOR - Success\n",
            "-- Performing Test HAVE_NAMESPACES\n",
            "-- Performing Test HAVE_NAMESPACES - Success\n",
            "CMake Warning (dev) at 3rdparty/protobuf-3.0.0/cmake/install.cmake:41 (message):\n",
            "  The file\n",
            "  \"/content/bigartm/3rdparty/protobuf-3.0.0/src/google/protobuf/repeated_field_reflection.h\"\n",
            "  is listed in\n",
            "  \"/content/bigartm/3rdparty/protobuf-3.0.0/cmake/cmake/extract_includes.bat.in\"\n",
            "  but there not exists.  The file will not be installed.\n",
            "Call Stack (most recent call first):\n",
            "  3rdparty/protobuf-3.0.0/cmake/CMakeLists.txt:159 (include)\n",
            "This warning is for project developers.  Use -Wno-dev to suppress it.\n",
            "\n",
            "-- Performing Test COMPILER_SUPPORTS_CXX11\n",
            "-- Performing Test COMPILER_SUPPORTS_CXX11 - Success\n",
            "-- Performing Test COMPILER_SUPPORTS_CXX0X\n",
            "-- Performing Test COMPILER_SUPPORTS_CXX0X - Success\n",
            "-- Performing Test COMPILER_HAS_HIDDEN_VISIBILITY\n",
            "-- Performing Test COMPILER_HAS_HIDDEN_VISIBILITY - Success\n",
            "-- Performing Test COMPILER_HAS_HIDDEN_INLINE_VISIBILITY\n",
            "-- Performing Test COMPILER_HAS_HIDDEN_INLINE_VISIBILITY - Success\n",
            "-- Performing Test COMPILER_HAS_DEPRECATED_ATTR\n",
            "-- Performing Test COMPILER_HAS_DEPRECATED_ATTR - Success\n",
            "-- Configuring done\n",
            "-- Generating done\n",
            "-- Build files have been written to: /content/bigartm/build\n"
          ],
          "name": "stdout"
        }
      ]
    },
    {
      "cell_type": "code",
      "metadata": {
        "id": "VgPIU5ihbVGD",
        "colab_type": "code",
        "colab": {
          "base_uri": "https://localhost:8080/",
          "height": 1000
        },
        "outputId": "6600862e-46b3-4db7-b748-8c9f9effee41"
      },
      "source": [
        "!make"
      ],
      "execution_count": 8,
      "outputs": [
        {
          "output_type": "stream",
          "text": [
            "\u001b[35m\u001b[1mScanning dependencies of target libprotobuf\u001b[0m\n",
            "[  0%] \u001b[32mBuilding CXX object 3rdparty/protobuf-3.0.0/cmake/CMakeFiles/libprotobuf.dir/__/src/google/protobuf/arena.cc.o\u001b[0m\n",
            "[  0%] \u001b[32mBuilding CXX object 3rdparty/protobuf-3.0.0/cmake/CMakeFiles/libprotobuf.dir/__/src/google/protobuf/arenastring.cc.o\u001b[0m\n",
            "[  1%] \u001b[32mBuilding CXX object 3rdparty/protobuf-3.0.0/cmake/CMakeFiles/libprotobuf.dir/__/src/google/protobuf/extension_set.cc.o\u001b[0m\n",
            "[  1%] \u001b[32mBuilding CXX object 3rdparty/protobuf-3.0.0/cmake/CMakeFiles/libprotobuf.dir/__/src/google/protobuf/generated_message_util.cc.o\u001b[0m\n",
            "[  1%] \u001b[32mBuilding CXX object 3rdparty/protobuf-3.0.0/cmake/CMakeFiles/libprotobuf.dir/__/src/google/protobuf/io/coded_stream.cc.o\u001b[0m\n",
            "[  2%] \u001b[32mBuilding CXX object 3rdparty/protobuf-3.0.0/cmake/CMakeFiles/libprotobuf.dir/__/src/google/protobuf/io/zero_copy_stream.cc.o\u001b[0m\n",
            "[  2%] \u001b[32mBuilding CXX object 3rdparty/protobuf-3.0.0/cmake/CMakeFiles/libprotobuf.dir/__/src/google/protobuf/io/zero_copy_stream_impl_lite.cc.o\u001b[0m\n",
            "[  2%] \u001b[32mBuilding CXX object 3rdparty/protobuf-3.0.0/cmake/CMakeFiles/libprotobuf.dir/__/src/google/protobuf/message_lite.cc.o\u001b[0m\n",
            "[  3%] \u001b[32mBuilding CXX object 3rdparty/protobuf-3.0.0/cmake/CMakeFiles/libprotobuf.dir/__/src/google/protobuf/repeated_field.cc.o\u001b[0m\n",
            "[  3%] \u001b[32mBuilding CXX object 3rdparty/protobuf-3.0.0/cmake/CMakeFiles/libprotobuf.dir/__/src/google/protobuf/stubs/atomicops_internals_x86_gcc.cc.o\u001b[0m\n",
            "[  3%] \u001b[32mBuilding CXX object 3rdparty/protobuf-3.0.0/cmake/CMakeFiles/libprotobuf.dir/__/src/google/protobuf/stubs/atomicops_internals_x86_msvc.cc.o\u001b[0m\n",
            "[  4%] \u001b[32mBuilding CXX object 3rdparty/protobuf-3.0.0/cmake/CMakeFiles/libprotobuf.dir/__/src/google/protobuf/stubs/bytestream.cc.o\u001b[0m\n",
            "[  4%] \u001b[32mBuilding CXX object 3rdparty/protobuf-3.0.0/cmake/CMakeFiles/libprotobuf.dir/__/src/google/protobuf/stubs/common.cc.o\u001b[0m\n",
            "[  4%] \u001b[32mBuilding CXX object 3rdparty/protobuf-3.0.0/cmake/CMakeFiles/libprotobuf.dir/__/src/google/protobuf/stubs/int128.cc.o\u001b[0m\n",
            "[  5%] \u001b[32mBuilding CXX object 3rdparty/protobuf-3.0.0/cmake/CMakeFiles/libprotobuf.dir/__/src/google/protobuf/stubs/once.cc.o\u001b[0m\n",
            "[  5%] \u001b[32mBuilding CXX object 3rdparty/protobuf-3.0.0/cmake/CMakeFiles/libprotobuf.dir/__/src/google/protobuf/stubs/status.cc.o\u001b[0m\n",
            "[  5%] \u001b[32mBuilding CXX object 3rdparty/protobuf-3.0.0/cmake/CMakeFiles/libprotobuf.dir/__/src/google/protobuf/stubs/statusor.cc.o\u001b[0m\n",
            "[  6%] \u001b[32mBuilding CXX object 3rdparty/protobuf-3.0.0/cmake/CMakeFiles/libprotobuf.dir/__/src/google/protobuf/stubs/stringpiece.cc.o\u001b[0m\n",
            "[  6%] \u001b[32mBuilding CXX object 3rdparty/protobuf-3.0.0/cmake/CMakeFiles/libprotobuf.dir/__/src/google/protobuf/stubs/stringprintf.cc.o\u001b[0m\n",
            "[  6%] \u001b[32mBuilding CXX object 3rdparty/protobuf-3.0.0/cmake/CMakeFiles/libprotobuf.dir/__/src/google/protobuf/stubs/structurally_valid.cc.o\u001b[0m\n",
            "[  7%] \u001b[32mBuilding CXX object 3rdparty/protobuf-3.0.0/cmake/CMakeFiles/libprotobuf.dir/__/src/google/protobuf/stubs/strutil.cc.o\u001b[0m\n",
            "[  7%] \u001b[32mBuilding CXX object 3rdparty/protobuf-3.0.0/cmake/CMakeFiles/libprotobuf.dir/__/src/google/protobuf/stubs/time.cc.o\u001b[0m\n",
            "[  7%] \u001b[32mBuilding CXX object 3rdparty/protobuf-3.0.0/cmake/CMakeFiles/libprotobuf.dir/__/src/google/protobuf/wire_format_lite.cc.o\u001b[0m\n",
            "[  8%] \u001b[32mBuilding CXX object 3rdparty/protobuf-3.0.0/cmake/CMakeFiles/libprotobuf.dir/__/src/google/protobuf/any.cc.o\u001b[0m\n",
            "[  8%] \u001b[32mBuilding CXX object 3rdparty/protobuf-3.0.0/cmake/CMakeFiles/libprotobuf.dir/__/src/google/protobuf/any.pb.cc.o\u001b[0m\n",
            "[  8%] \u001b[32mBuilding CXX object 3rdparty/protobuf-3.0.0/cmake/CMakeFiles/libprotobuf.dir/__/src/google/protobuf/api.pb.cc.o\u001b[0m\n",
            "[  9%] \u001b[32mBuilding CXX object 3rdparty/protobuf-3.0.0/cmake/CMakeFiles/libprotobuf.dir/__/src/google/protobuf/compiler/importer.cc.o\u001b[0m\n",
            "[  9%] \u001b[32mBuilding CXX object 3rdparty/protobuf-3.0.0/cmake/CMakeFiles/libprotobuf.dir/__/src/google/protobuf/compiler/parser.cc.o\u001b[0m\n",
            "[  9%] \u001b[32mBuilding CXX object 3rdparty/protobuf-3.0.0/cmake/CMakeFiles/libprotobuf.dir/__/src/google/protobuf/descriptor.cc.o\u001b[0m\n",
            "[ 10%] \u001b[32mBuilding CXX object 3rdparty/protobuf-3.0.0/cmake/CMakeFiles/libprotobuf.dir/__/src/google/protobuf/descriptor.pb.cc.o\u001b[0m\n",
            "[ 10%] \u001b[32mBuilding CXX object 3rdparty/protobuf-3.0.0/cmake/CMakeFiles/libprotobuf.dir/__/src/google/protobuf/descriptor_database.cc.o\u001b[0m\n",
            "[ 10%] \u001b[32mBuilding CXX object 3rdparty/protobuf-3.0.0/cmake/CMakeFiles/libprotobuf.dir/__/src/google/protobuf/duration.pb.cc.o\u001b[0m\n",
            "[ 11%] \u001b[32mBuilding CXX object 3rdparty/protobuf-3.0.0/cmake/CMakeFiles/libprotobuf.dir/__/src/google/protobuf/dynamic_message.cc.o\u001b[0m\n",
            "[ 11%] \u001b[32mBuilding CXX object 3rdparty/protobuf-3.0.0/cmake/CMakeFiles/libprotobuf.dir/__/src/google/protobuf/empty.pb.cc.o\u001b[0m\n",
            "[ 11%] \u001b[32mBuilding CXX object 3rdparty/protobuf-3.0.0/cmake/CMakeFiles/libprotobuf.dir/__/src/google/protobuf/extension_set_heavy.cc.o\u001b[0m\n",
            "[ 13%] \u001b[32mBuilding CXX object 3rdparty/protobuf-3.0.0/cmake/CMakeFiles/libprotobuf.dir/__/src/google/protobuf/field_mask.pb.cc.o\u001b[0m\n",
            "[ 13%] \u001b[32mBuilding CXX object 3rdparty/protobuf-3.0.0/cmake/CMakeFiles/libprotobuf.dir/__/src/google/protobuf/generated_message_reflection.cc.o\u001b[0m\n",
            "[ 13%] \u001b[32mBuilding CXX object 3rdparty/protobuf-3.0.0/cmake/CMakeFiles/libprotobuf.dir/__/src/google/protobuf/io/gzip_stream.cc.o\u001b[0m\n",
            "[ 14%] \u001b[32mBuilding CXX object 3rdparty/protobuf-3.0.0/cmake/CMakeFiles/libprotobuf.dir/__/src/google/protobuf/io/printer.cc.o\u001b[0m\n",
            "[ 14%] \u001b[32mBuilding CXX object 3rdparty/protobuf-3.0.0/cmake/CMakeFiles/libprotobuf.dir/__/src/google/protobuf/io/strtod.cc.o\u001b[0m\n",
            "[ 14%] \u001b[32mBuilding CXX object 3rdparty/protobuf-3.0.0/cmake/CMakeFiles/libprotobuf.dir/__/src/google/protobuf/io/tokenizer.cc.o\u001b[0m\n",
            "[ 15%] \u001b[32mBuilding CXX object 3rdparty/protobuf-3.0.0/cmake/CMakeFiles/libprotobuf.dir/__/src/google/protobuf/io/zero_copy_stream_impl.cc.o\u001b[0m\n",
            "[ 15%] \u001b[32mBuilding CXX object 3rdparty/protobuf-3.0.0/cmake/CMakeFiles/libprotobuf.dir/__/src/google/protobuf/map_field.cc.o\u001b[0m\n",
            "[ 15%] \u001b[32mBuilding CXX object 3rdparty/protobuf-3.0.0/cmake/CMakeFiles/libprotobuf.dir/__/src/google/protobuf/message.cc.o\u001b[0m\n",
            "[ 16%] \u001b[32mBuilding CXX object 3rdparty/protobuf-3.0.0/cmake/CMakeFiles/libprotobuf.dir/__/src/google/protobuf/reflection_ops.cc.o\u001b[0m\n",
            "[ 16%] \u001b[32mBuilding CXX object 3rdparty/protobuf-3.0.0/cmake/CMakeFiles/libprotobuf.dir/__/src/google/protobuf/service.cc.o\u001b[0m\n",
            "[ 16%] \u001b[32mBuilding CXX object 3rdparty/protobuf-3.0.0/cmake/CMakeFiles/libprotobuf.dir/__/src/google/protobuf/source_context.pb.cc.o\u001b[0m\n",
            "[ 17%] \u001b[32mBuilding CXX object 3rdparty/protobuf-3.0.0/cmake/CMakeFiles/libprotobuf.dir/__/src/google/protobuf/struct.pb.cc.o\u001b[0m\n",
            "[ 17%] \u001b[32mBuilding CXX object 3rdparty/protobuf-3.0.0/cmake/CMakeFiles/libprotobuf.dir/__/src/google/protobuf/stubs/mathlimits.cc.o\u001b[0m\n",
            "[ 17%] \u001b[32mBuilding CXX object 3rdparty/protobuf-3.0.0/cmake/CMakeFiles/libprotobuf.dir/__/src/google/protobuf/stubs/substitute.cc.o\u001b[0m\n",
            "[ 18%] \u001b[32mBuilding CXX object 3rdparty/protobuf-3.0.0/cmake/CMakeFiles/libprotobuf.dir/__/src/google/protobuf/text_format.cc.o\u001b[0m\n",
            "[ 18%] \u001b[32mBuilding CXX object 3rdparty/protobuf-3.0.0/cmake/CMakeFiles/libprotobuf.dir/__/src/google/protobuf/timestamp.pb.cc.o\u001b[0m\n",
            "[ 19%] \u001b[32mBuilding CXX object 3rdparty/protobuf-3.0.0/cmake/CMakeFiles/libprotobuf.dir/__/src/google/protobuf/type.pb.cc.o\u001b[0m\n",
            "[ 19%] \u001b[32mBuilding CXX object 3rdparty/protobuf-3.0.0/cmake/CMakeFiles/libprotobuf.dir/__/src/google/protobuf/unknown_field_set.cc.o\u001b[0m\n",
            "[ 19%] \u001b[32mBuilding CXX object 3rdparty/protobuf-3.0.0/cmake/CMakeFiles/libprotobuf.dir/__/src/google/protobuf/util/field_comparator.cc.o\u001b[0m\n",
            "[ 20%] \u001b[32mBuilding CXX object 3rdparty/protobuf-3.0.0/cmake/CMakeFiles/libprotobuf.dir/__/src/google/protobuf/util/field_mask_util.cc.o\u001b[0m\n",
            "[ 20%] \u001b[32mBuilding CXX object 3rdparty/protobuf-3.0.0/cmake/CMakeFiles/libprotobuf.dir/__/src/google/protobuf/util/internal/datapiece.cc.o\u001b[0m\n",
            "[ 20%] \u001b[32mBuilding CXX object 3rdparty/protobuf-3.0.0/cmake/CMakeFiles/libprotobuf.dir/__/src/google/protobuf/util/internal/default_value_objectwriter.cc.o\u001b[0m\n",
            "[ 21%] \u001b[32mBuilding CXX object 3rdparty/protobuf-3.0.0/cmake/CMakeFiles/libprotobuf.dir/__/src/google/protobuf/util/internal/error_listener.cc.o\u001b[0m\n",
            "[ 21%] \u001b[32mBuilding CXX object 3rdparty/protobuf-3.0.0/cmake/CMakeFiles/libprotobuf.dir/__/src/google/protobuf/util/internal/field_mask_utility.cc.o\u001b[0m\n",
            "[ 21%] \u001b[32mBuilding CXX object 3rdparty/protobuf-3.0.0/cmake/CMakeFiles/libprotobuf.dir/__/src/google/protobuf/util/internal/json_escaping.cc.o\u001b[0m\n",
            "[ 22%] \u001b[32mBuilding CXX object 3rdparty/protobuf-3.0.0/cmake/CMakeFiles/libprotobuf.dir/__/src/google/protobuf/util/internal/json_objectwriter.cc.o\u001b[0m\n",
            "[ 22%] \u001b[32mBuilding CXX object 3rdparty/protobuf-3.0.0/cmake/CMakeFiles/libprotobuf.dir/__/src/google/protobuf/util/internal/json_stream_parser.cc.o\u001b[0m\n",
            "[ 22%] \u001b[32mBuilding CXX object 3rdparty/protobuf-3.0.0/cmake/CMakeFiles/libprotobuf.dir/__/src/google/protobuf/util/internal/object_writer.cc.o\u001b[0m\n",
            "[ 23%] \u001b[32mBuilding CXX object 3rdparty/protobuf-3.0.0/cmake/CMakeFiles/libprotobuf.dir/__/src/google/protobuf/util/internal/proto_writer.cc.o\u001b[0m\n",
            "[ 23%] \u001b[32mBuilding CXX object 3rdparty/protobuf-3.0.0/cmake/CMakeFiles/libprotobuf.dir/__/src/google/protobuf/util/internal/protostream_objectsource.cc.o\u001b[0m\n",
            "[ 23%] \u001b[32mBuilding CXX object 3rdparty/protobuf-3.0.0/cmake/CMakeFiles/libprotobuf.dir/__/src/google/protobuf/util/internal/protostream_objectwriter.cc.o\u001b[0m\n",
            "[ 25%] \u001b[32mBuilding CXX object 3rdparty/protobuf-3.0.0/cmake/CMakeFiles/libprotobuf.dir/__/src/google/protobuf/util/internal/type_info.cc.o\u001b[0m\n",
            "[ 25%] \u001b[32mBuilding CXX object 3rdparty/protobuf-3.0.0/cmake/CMakeFiles/libprotobuf.dir/__/src/google/protobuf/util/internal/type_info_test_helper.cc.o\u001b[0m\n",
            "[ 25%] \u001b[32mBuilding CXX object 3rdparty/protobuf-3.0.0/cmake/CMakeFiles/libprotobuf.dir/__/src/google/protobuf/util/internal/utility.cc.o\u001b[0m\n",
            "[ 26%] \u001b[32mBuilding CXX object 3rdparty/protobuf-3.0.0/cmake/CMakeFiles/libprotobuf.dir/__/src/google/protobuf/util/json_util.cc.o\u001b[0m\n",
            "[ 26%] \u001b[32mBuilding CXX object 3rdparty/protobuf-3.0.0/cmake/CMakeFiles/libprotobuf.dir/__/src/google/protobuf/util/message_differencer.cc.o\u001b[0m\n",
            "[ 26%] \u001b[32mBuilding CXX object 3rdparty/protobuf-3.0.0/cmake/CMakeFiles/libprotobuf.dir/__/src/google/protobuf/util/time_util.cc.o\u001b[0m\n",
            "[ 27%] \u001b[32mBuilding CXX object 3rdparty/protobuf-3.0.0/cmake/CMakeFiles/libprotobuf.dir/__/src/google/protobuf/util/type_resolver_util.cc.o\u001b[0m\n",
            "[ 27%] \u001b[32mBuilding CXX object 3rdparty/protobuf-3.0.0/cmake/CMakeFiles/libprotobuf.dir/__/src/google/protobuf/wire_format.cc.o\u001b[0m\n",
            "[ 27%] \u001b[32mBuilding CXX object 3rdparty/protobuf-3.0.0/cmake/CMakeFiles/libprotobuf.dir/__/src/google/protobuf/wrappers.pb.cc.o\u001b[0m\n",
            "[ 28%] \u001b[32m\u001b[1mLinking CXX static library ../../../lib/libprotobuf.a\u001b[0m\n",
            "[ 28%] Built target libprotobuf\n",
            "\u001b[35m\u001b[1mScanning dependencies of target libprotoc\u001b[0m\n",
            "[ 28%] \u001b[32mBuilding CXX object 3rdparty/protobuf-3.0.0/cmake/CMakeFiles/libprotoc.dir/__/src/google/protobuf/compiler/code_generator.cc.o\u001b[0m\n",
            "[ 28%] \u001b[32mBuilding CXX object 3rdparty/protobuf-3.0.0/cmake/CMakeFiles/libprotoc.dir/__/src/google/protobuf/compiler/command_line_interface.cc.o\u001b[0m\n",
            "[ 29%] \u001b[32mBuilding CXX object 3rdparty/protobuf-3.0.0/cmake/CMakeFiles/libprotoc.dir/__/src/google/protobuf/compiler/cpp/cpp_enum.cc.o\u001b[0m\n",
            "[ 29%] \u001b[32mBuilding CXX object 3rdparty/protobuf-3.0.0/cmake/CMakeFiles/libprotoc.dir/__/src/google/protobuf/compiler/cpp/cpp_enum_field.cc.o\u001b[0m\n",
            "[ 29%] \u001b[32mBuilding CXX object 3rdparty/protobuf-3.0.0/cmake/CMakeFiles/libprotoc.dir/__/src/google/protobuf/compiler/cpp/cpp_extension.cc.o\u001b[0m\n",
            "[ 30%] \u001b[32mBuilding CXX object 3rdparty/protobuf-3.0.0/cmake/CMakeFiles/libprotoc.dir/__/src/google/protobuf/compiler/cpp/cpp_field.cc.o\u001b[0m\n",
            "[ 30%] \u001b[32mBuilding CXX object 3rdparty/protobuf-3.0.0/cmake/CMakeFiles/libprotoc.dir/__/src/google/protobuf/compiler/cpp/cpp_file.cc.o\u001b[0m\n",
            "[ 30%] \u001b[32mBuilding CXX object 3rdparty/protobuf-3.0.0/cmake/CMakeFiles/libprotoc.dir/__/src/google/protobuf/compiler/cpp/cpp_generator.cc.o\u001b[0m\n",
            "[ 31%] \u001b[32mBuilding CXX object 3rdparty/protobuf-3.0.0/cmake/CMakeFiles/libprotoc.dir/__/src/google/protobuf/compiler/cpp/cpp_helpers.cc.o\u001b[0m\n",
            "[ 31%] \u001b[32mBuilding CXX object 3rdparty/protobuf-3.0.0/cmake/CMakeFiles/libprotoc.dir/__/src/google/protobuf/compiler/cpp/cpp_map_field.cc.o\u001b[0m\n",
            "[ 31%] \u001b[32mBuilding CXX object 3rdparty/protobuf-3.0.0/cmake/CMakeFiles/libprotoc.dir/__/src/google/protobuf/compiler/cpp/cpp_message.cc.o\u001b[0m\n",
            "[ 32%] \u001b[32mBuilding CXX object 3rdparty/protobuf-3.0.0/cmake/CMakeFiles/libprotoc.dir/__/src/google/protobuf/compiler/cpp/cpp_message_field.cc.o\u001b[0m\n",
            "[ 32%] \u001b[32mBuilding CXX object 3rdparty/protobuf-3.0.0/cmake/CMakeFiles/libprotoc.dir/__/src/google/protobuf/compiler/cpp/cpp_primitive_field.cc.o\u001b[0m\n",
            "[ 32%] \u001b[32mBuilding CXX object 3rdparty/protobuf-3.0.0/cmake/CMakeFiles/libprotoc.dir/__/src/google/protobuf/compiler/cpp/cpp_service.cc.o\u001b[0m\n",
            "[ 33%] \u001b[32mBuilding CXX object 3rdparty/protobuf-3.0.0/cmake/CMakeFiles/libprotoc.dir/__/src/google/protobuf/compiler/cpp/cpp_string_field.cc.o\u001b[0m\n",
            "[ 33%] \u001b[32mBuilding CXX object 3rdparty/protobuf-3.0.0/cmake/CMakeFiles/libprotoc.dir/__/src/google/protobuf/compiler/csharp/csharp_doc_comment.cc.o\u001b[0m\n",
            "[ 33%] \u001b[32mBuilding CXX object 3rdparty/protobuf-3.0.0/cmake/CMakeFiles/libprotoc.dir/__/src/google/protobuf/compiler/csharp/csharp_enum.cc.o\u001b[0m\n",
            "[ 34%] \u001b[32mBuilding CXX object 3rdparty/protobuf-3.0.0/cmake/CMakeFiles/libprotoc.dir/__/src/google/protobuf/compiler/csharp/csharp_enum_field.cc.o\u001b[0m\n",
            "[ 34%] \u001b[32mBuilding CXX object 3rdparty/protobuf-3.0.0/cmake/CMakeFiles/libprotoc.dir/__/src/google/protobuf/compiler/csharp/csharp_field_base.cc.o\u001b[0m\n",
            "[ 34%] \u001b[32mBuilding CXX object 3rdparty/protobuf-3.0.0/cmake/CMakeFiles/libprotoc.dir/__/src/google/protobuf/compiler/csharp/csharp_generator.cc.o\u001b[0m\n",
            "[ 35%] \u001b[32mBuilding CXX object 3rdparty/protobuf-3.0.0/cmake/CMakeFiles/libprotoc.dir/__/src/google/protobuf/compiler/csharp/csharp_helpers.cc.o\u001b[0m\n",
            "[ 35%] \u001b[32mBuilding CXX object 3rdparty/protobuf-3.0.0/cmake/CMakeFiles/libprotoc.dir/__/src/google/protobuf/compiler/csharp/csharp_map_field.cc.o\u001b[0m\n",
            "[ 35%] \u001b[32mBuilding CXX object 3rdparty/protobuf-3.0.0/cmake/CMakeFiles/libprotoc.dir/__/src/google/protobuf/compiler/csharp/csharp_message.cc.o\u001b[0m\n",
            "[ 36%] \u001b[32mBuilding CXX object 3rdparty/protobuf-3.0.0/cmake/CMakeFiles/libprotoc.dir/__/src/google/protobuf/compiler/csharp/csharp_message_field.cc.o\u001b[0m\n",
            "[ 36%] \u001b[32mBuilding CXX object 3rdparty/protobuf-3.0.0/cmake/CMakeFiles/libprotoc.dir/__/src/google/protobuf/compiler/csharp/csharp_primitive_field.cc.o\u001b[0m\n",
            "[ 38%] \u001b[32mBuilding CXX object 3rdparty/protobuf-3.0.0/cmake/CMakeFiles/libprotoc.dir/__/src/google/protobuf/compiler/csharp/csharp_reflection_class.cc.o\u001b[0m\n",
            "[ 38%] \u001b[32mBuilding CXX object 3rdparty/protobuf-3.0.0/cmake/CMakeFiles/libprotoc.dir/__/src/google/protobuf/compiler/csharp/csharp_repeated_enum_field.cc.o\u001b[0m\n",
            "[ 38%] \u001b[32mBuilding CXX object 3rdparty/protobuf-3.0.0/cmake/CMakeFiles/libprotoc.dir/__/src/google/protobuf/compiler/csharp/csharp_repeated_message_field.cc.o\u001b[0m\n",
            "[ 39%] \u001b[32mBuilding CXX object 3rdparty/protobuf-3.0.0/cmake/CMakeFiles/libprotoc.dir/__/src/google/protobuf/compiler/csharp/csharp_repeated_primitive_field.cc.o\u001b[0m\n",
            "[ 39%] \u001b[32mBuilding CXX object 3rdparty/protobuf-3.0.0/cmake/CMakeFiles/libprotoc.dir/__/src/google/protobuf/compiler/csharp/csharp_source_generator_base.cc.o\u001b[0m\n",
            "[ 39%] \u001b[32mBuilding CXX object 3rdparty/protobuf-3.0.0/cmake/CMakeFiles/libprotoc.dir/__/src/google/protobuf/compiler/csharp/csharp_wrapper_field.cc.o\u001b[0m\n",
            "[ 40%] \u001b[32mBuilding CXX object 3rdparty/protobuf-3.0.0/cmake/CMakeFiles/libprotoc.dir/__/src/google/protobuf/compiler/java/java_context.cc.o\u001b[0m\n",
            "[ 40%] \u001b[32mBuilding CXX object 3rdparty/protobuf-3.0.0/cmake/CMakeFiles/libprotoc.dir/__/src/google/protobuf/compiler/java/java_doc_comment.cc.o\u001b[0m\n",
            "[ 40%] \u001b[32mBuilding CXX object 3rdparty/protobuf-3.0.0/cmake/CMakeFiles/libprotoc.dir/__/src/google/protobuf/compiler/java/java_enum.cc.o\u001b[0m\n",
            "[ 41%] \u001b[32mBuilding CXX object 3rdparty/protobuf-3.0.0/cmake/CMakeFiles/libprotoc.dir/__/src/google/protobuf/compiler/java/java_enum_field.cc.o\u001b[0m\n",
            "[ 41%] \u001b[32mBuilding CXX object 3rdparty/protobuf-3.0.0/cmake/CMakeFiles/libprotoc.dir/__/src/google/protobuf/compiler/java/java_enum_field_lite.cc.o\u001b[0m\n",
            "[ 41%] \u001b[32mBuilding CXX object 3rdparty/protobuf-3.0.0/cmake/CMakeFiles/libprotoc.dir/__/src/google/protobuf/compiler/java/java_enum_lite.cc.o\u001b[0m\n",
            "[ 42%] \u001b[32mBuilding CXX object 3rdparty/protobuf-3.0.0/cmake/CMakeFiles/libprotoc.dir/__/src/google/protobuf/compiler/java/java_extension.cc.o\u001b[0m\n",
            "[ 42%] \u001b[32mBuilding CXX object 3rdparty/protobuf-3.0.0/cmake/CMakeFiles/libprotoc.dir/__/src/google/protobuf/compiler/java/java_extension_lite.cc.o\u001b[0m\n",
            "[ 42%] \u001b[32mBuilding CXX object 3rdparty/protobuf-3.0.0/cmake/CMakeFiles/libprotoc.dir/__/src/google/protobuf/compiler/java/java_field.cc.o\u001b[0m\n",
            "[ 43%] \u001b[32mBuilding CXX object 3rdparty/protobuf-3.0.0/cmake/CMakeFiles/libprotoc.dir/__/src/google/protobuf/compiler/java/java_file.cc.o\u001b[0m\n",
            "[ 43%] \u001b[32mBuilding CXX object 3rdparty/protobuf-3.0.0/cmake/CMakeFiles/libprotoc.dir/__/src/google/protobuf/compiler/java/java_generator.cc.o\u001b[0m\n",
            "[ 43%] \u001b[32mBuilding CXX object 3rdparty/protobuf-3.0.0/cmake/CMakeFiles/libprotoc.dir/__/src/google/protobuf/compiler/java/java_generator_factory.cc.o\u001b[0m\n",
            "[ 44%] \u001b[32mBuilding CXX object 3rdparty/protobuf-3.0.0/cmake/CMakeFiles/libprotoc.dir/__/src/google/protobuf/compiler/java/java_helpers.cc.o\u001b[0m\n",
            "[ 44%] \u001b[32mBuilding CXX object 3rdparty/protobuf-3.0.0/cmake/CMakeFiles/libprotoc.dir/__/src/google/protobuf/compiler/java/java_lazy_message_field.cc.o\u001b[0m\n",
            "[ 44%] \u001b[32mBuilding CXX object 3rdparty/protobuf-3.0.0/cmake/CMakeFiles/libprotoc.dir/__/src/google/protobuf/compiler/java/java_lazy_message_field_lite.cc.o\u001b[0m\n",
            "[ 45%] \u001b[32mBuilding CXX object 3rdparty/protobuf-3.0.0/cmake/CMakeFiles/libprotoc.dir/__/src/google/protobuf/compiler/java/java_map_field.cc.o\u001b[0m\n",
            "[ 45%] \u001b[32mBuilding CXX object 3rdparty/protobuf-3.0.0/cmake/CMakeFiles/libprotoc.dir/__/src/google/protobuf/compiler/java/java_map_field_lite.cc.o\u001b[0m\n",
            "[ 45%] \u001b[32mBuilding CXX object 3rdparty/protobuf-3.0.0/cmake/CMakeFiles/libprotoc.dir/__/src/google/protobuf/compiler/java/java_message.cc.o\u001b[0m\n",
            "[ 46%] \u001b[32mBuilding CXX object 3rdparty/protobuf-3.0.0/cmake/CMakeFiles/libprotoc.dir/__/src/google/protobuf/compiler/java/java_message_builder.cc.o\u001b[0m\n",
            "[ 46%] \u001b[32mBuilding CXX object 3rdparty/protobuf-3.0.0/cmake/CMakeFiles/libprotoc.dir/__/src/google/protobuf/compiler/java/java_message_builder_lite.cc.o\u001b[0m\n",
            "[ 46%] \u001b[32mBuilding CXX object 3rdparty/protobuf-3.0.0/cmake/CMakeFiles/libprotoc.dir/__/src/google/protobuf/compiler/java/java_message_field.cc.o\u001b[0m\n",
            "[ 47%] \u001b[32mBuilding CXX object 3rdparty/protobuf-3.0.0/cmake/CMakeFiles/libprotoc.dir/__/src/google/protobuf/compiler/java/java_message_field_lite.cc.o\u001b[0m\n",
            "[ 47%] \u001b[32mBuilding CXX object 3rdparty/protobuf-3.0.0/cmake/CMakeFiles/libprotoc.dir/__/src/google/protobuf/compiler/java/java_message_lite.cc.o\u001b[0m\n",
            "[ 47%] \u001b[32mBuilding CXX object 3rdparty/protobuf-3.0.0/cmake/CMakeFiles/libprotoc.dir/__/src/google/protobuf/compiler/java/java_name_resolver.cc.o\u001b[0m\n",
            "[ 48%] \u001b[32mBuilding CXX object 3rdparty/protobuf-3.0.0/cmake/CMakeFiles/libprotoc.dir/__/src/google/protobuf/compiler/java/java_primitive_field.cc.o\u001b[0m\n",
            "[ 48%] \u001b[32mBuilding CXX object 3rdparty/protobuf-3.0.0/cmake/CMakeFiles/libprotoc.dir/__/src/google/protobuf/compiler/java/java_primitive_field_lite.cc.o\u001b[0m\n",
            "[ 48%] \u001b[32mBuilding CXX object 3rdparty/protobuf-3.0.0/cmake/CMakeFiles/libprotoc.dir/__/src/google/protobuf/compiler/java/java_service.cc.o\u001b[0m\n",
            "[ 50%] \u001b[32mBuilding CXX object 3rdparty/protobuf-3.0.0/cmake/CMakeFiles/libprotoc.dir/__/src/google/protobuf/compiler/java/java_shared_code_generator.cc.o\u001b[0m\n",
            "[ 50%] \u001b[32mBuilding CXX object 3rdparty/protobuf-3.0.0/cmake/CMakeFiles/libprotoc.dir/__/src/google/protobuf/compiler/java/java_string_field.cc.o\u001b[0m\n",
            "[ 50%] \u001b[32mBuilding CXX object 3rdparty/protobuf-3.0.0/cmake/CMakeFiles/libprotoc.dir/__/src/google/protobuf/compiler/java/java_string_field_lite.cc.o\u001b[0m\n",
            "[ 51%] \u001b[32mBuilding CXX object 3rdparty/protobuf-3.0.0/cmake/CMakeFiles/libprotoc.dir/__/src/google/protobuf/compiler/javanano/javanano_enum.cc.o\u001b[0m\n",
            "[ 51%] \u001b[32mBuilding CXX object 3rdparty/protobuf-3.0.0/cmake/CMakeFiles/libprotoc.dir/__/src/google/protobuf/compiler/javanano/javanano_enum_field.cc.o\u001b[0m\n",
            "[ 51%] \u001b[32mBuilding CXX object 3rdparty/protobuf-3.0.0/cmake/CMakeFiles/libprotoc.dir/__/src/google/protobuf/compiler/javanano/javanano_extension.cc.o\u001b[0m\n",
            "[ 52%] \u001b[32mBuilding CXX object 3rdparty/protobuf-3.0.0/cmake/CMakeFiles/libprotoc.dir/__/src/google/protobuf/compiler/javanano/javanano_field.cc.o\u001b[0m\n",
            "[ 52%] \u001b[32mBuilding CXX object 3rdparty/protobuf-3.0.0/cmake/CMakeFiles/libprotoc.dir/__/src/google/protobuf/compiler/javanano/javanano_file.cc.o\u001b[0m\n",
            "[ 52%] \u001b[32mBuilding CXX object 3rdparty/protobuf-3.0.0/cmake/CMakeFiles/libprotoc.dir/__/src/google/protobuf/compiler/javanano/javanano_generator.cc.o\u001b[0m\n",
            "[ 53%] \u001b[32mBuilding CXX object 3rdparty/protobuf-3.0.0/cmake/CMakeFiles/libprotoc.dir/__/src/google/protobuf/compiler/javanano/javanano_helpers.cc.o\u001b[0m\n",
            "[ 53%] \u001b[32mBuilding CXX object 3rdparty/protobuf-3.0.0/cmake/CMakeFiles/libprotoc.dir/__/src/google/protobuf/compiler/javanano/javanano_map_field.cc.o\u001b[0m\n",
            "[ 53%] \u001b[32mBuilding CXX object 3rdparty/protobuf-3.0.0/cmake/CMakeFiles/libprotoc.dir/__/src/google/protobuf/compiler/javanano/javanano_message.cc.o\u001b[0m\n",
            "[ 54%] \u001b[32mBuilding CXX object 3rdparty/protobuf-3.0.0/cmake/CMakeFiles/libprotoc.dir/__/src/google/protobuf/compiler/javanano/javanano_message_field.cc.o\u001b[0m\n",
            "[ 54%] \u001b[32mBuilding CXX object 3rdparty/protobuf-3.0.0/cmake/CMakeFiles/libprotoc.dir/__/src/google/protobuf/compiler/javanano/javanano_primitive_field.cc.o\u001b[0m\n",
            "[ 54%] \u001b[32mBuilding CXX object 3rdparty/protobuf-3.0.0/cmake/CMakeFiles/libprotoc.dir/__/src/google/protobuf/compiler/js/js_generator.cc.o\u001b[0m\n",
            "[ 55%] \u001b[32mBuilding CXX object 3rdparty/protobuf-3.0.0/cmake/CMakeFiles/libprotoc.dir/__/src/google/protobuf/compiler/objectivec/objectivec_enum.cc.o\u001b[0m\n",
            "[ 55%] \u001b[32mBuilding CXX object 3rdparty/protobuf-3.0.0/cmake/CMakeFiles/libprotoc.dir/__/src/google/protobuf/compiler/objectivec/objectivec_enum_field.cc.o\u001b[0m\n",
            "[ 55%] \u001b[32mBuilding CXX object 3rdparty/protobuf-3.0.0/cmake/CMakeFiles/libprotoc.dir/__/src/google/protobuf/compiler/objectivec/objectivec_extension.cc.o\u001b[0m\n",
            "[ 56%] \u001b[32mBuilding CXX object 3rdparty/protobuf-3.0.0/cmake/CMakeFiles/libprotoc.dir/__/src/google/protobuf/compiler/objectivec/objectivec_field.cc.o\u001b[0m\n",
            "[ 56%] \u001b[32mBuilding CXX object 3rdparty/protobuf-3.0.0/cmake/CMakeFiles/libprotoc.dir/__/src/google/protobuf/compiler/objectivec/objectivec_file.cc.o\u001b[0m\n",
            "[ 56%] \u001b[32mBuilding CXX object 3rdparty/protobuf-3.0.0/cmake/CMakeFiles/libprotoc.dir/__/src/google/protobuf/compiler/objectivec/objectivec_generator.cc.o\u001b[0m\n",
            "[ 57%] \u001b[32mBuilding CXX object 3rdparty/protobuf-3.0.0/cmake/CMakeFiles/libprotoc.dir/__/src/google/protobuf/compiler/objectivec/objectivec_helpers.cc.o\u001b[0m\n",
            "[ 57%] \u001b[32mBuilding CXX object 3rdparty/protobuf-3.0.0/cmake/CMakeFiles/libprotoc.dir/__/src/google/protobuf/compiler/objectivec/objectivec_map_field.cc.o\u001b[0m\n",
            "[ 57%] \u001b[32mBuilding CXX object 3rdparty/protobuf-3.0.0/cmake/CMakeFiles/libprotoc.dir/__/src/google/protobuf/compiler/objectivec/objectivec_message.cc.o\u001b[0m\n",
            "[ 58%] \u001b[32mBuilding CXX object 3rdparty/protobuf-3.0.0/cmake/CMakeFiles/libprotoc.dir/__/src/google/protobuf/compiler/objectivec/objectivec_message_field.cc.o\u001b[0m\n",
            "[ 58%] \u001b[32mBuilding CXX object 3rdparty/protobuf-3.0.0/cmake/CMakeFiles/libprotoc.dir/__/src/google/protobuf/compiler/objectivec/objectivec_oneof.cc.o\u001b[0m\n",
            "[ 58%] \u001b[32mBuilding CXX object 3rdparty/protobuf-3.0.0/cmake/CMakeFiles/libprotoc.dir/__/src/google/protobuf/compiler/objectivec/objectivec_primitive_field.cc.o\u001b[0m\n",
            "[ 59%] \u001b[32mBuilding CXX object 3rdparty/protobuf-3.0.0/cmake/CMakeFiles/libprotoc.dir/__/src/google/protobuf/compiler/plugin.cc.o\u001b[0m\n",
            "[ 59%] \u001b[32mBuilding CXX object 3rdparty/protobuf-3.0.0/cmake/CMakeFiles/libprotoc.dir/__/src/google/protobuf/compiler/plugin.pb.cc.o\u001b[0m\n",
            "[ 59%] \u001b[32mBuilding CXX object 3rdparty/protobuf-3.0.0/cmake/CMakeFiles/libprotoc.dir/__/src/google/protobuf/compiler/python/python_generator.cc.o\u001b[0m\n",
            "[ 60%] \u001b[32mBuilding CXX object 3rdparty/protobuf-3.0.0/cmake/CMakeFiles/libprotoc.dir/__/src/google/protobuf/compiler/ruby/ruby_generator.cc.o\u001b[0m\n",
            "[ 60%] \u001b[32mBuilding CXX object 3rdparty/protobuf-3.0.0/cmake/CMakeFiles/libprotoc.dir/__/src/google/protobuf/compiler/subprocess.cc.o\u001b[0m\n",
            "[ 60%] \u001b[32mBuilding CXX object 3rdparty/protobuf-3.0.0/cmake/CMakeFiles/libprotoc.dir/__/src/google/protobuf/compiler/zip_writer.cc.o\u001b[0m\n",
            "[ 61%] \u001b[32m\u001b[1mLinking CXX static library ../../../lib/libprotoc.a\u001b[0m\n",
            "[ 61%] Built target libprotoc\n",
            "\u001b[35m\u001b[1mScanning dependencies of target protoc\u001b[0m\n",
            "[ 61%] \u001b[32mBuilding CXX object 3rdparty/protobuf-3.0.0/cmake/CMakeFiles/protoc.dir/__/src/google/protobuf/compiler/main.cc.o\u001b[0m\n",
            "[ 63%] \u001b[32m\u001b[1mLinking CXX executable ../../../bin/protoc\u001b[0m\n",
            "[ 63%] Built target protoc\n",
            "\u001b[35m\u001b[1mScanning dependencies of target proto_generation\u001b[0m\n",
            "[ 63%] \u001b[34m\u001b[1mGenerating headers and sources from *.proto files\u001b[0m\n",
            "[ 63%] Built target proto_generation\n",
            "\u001b[35m\u001b[1mScanning dependencies of target internals_proto\u001b[0m\n",
            "[ 63%] \u001b[32mBuilding CXX object src/artm/CMakeFiles/internals_proto.dir/core/internals.pb.cc.o\u001b[0m\n",
            "[ 64%] \u001b[32m\u001b[1mLinking CXX static library ../../lib/libinternals_proto.a\u001b[0m\n",
            "[ 64%] Built target internals_proto\n",
            "\u001b[35m\u001b[1mScanning dependencies of target gflags_static\u001b[0m\n",
            "[ 64%] \u001b[32mBuilding CXX object 3rdparty/gflags/CMakeFiles/gflags_static.dir/src/gflags.cc.o\u001b[0m\n",
            "[ 64%] \u001b[32mBuilding CXX object 3rdparty/gflags/CMakeFiles/gflags_static.dir/src/gflags_reporting.cc.o\u001b[0m\n",
            "[ 65%] \u001b[32mBuilding CXX object 3rdparty/gflags/CMakeFiles/gflags_static.dir/src/gflags_completions.cc.o\u001b[0m\n",
            "[ 65%] \u001b[32m\u001b[1mLinking CXX static library ../../lib/libgflags.a\u001b[0m\n",
            "[ 65%] Built target gflags_static\n",
            "\u001b[35m\u001b[1mScanning dependencies of target glog\u001b[0m\n",
            "[ 65%] \u001b[32mBuilding CXX object 3rdparty/glog/CMakeFiles/glog.dir/src/demangle.cc.o\u001b[0m\n",
            "[ 66%] \u001b[32mBuilding CXX object 3rdparty/glog/CMakeFiles/glog.dir/src/logging.cc.o\u001b[0m\n",
            "[ 66%] \u001b[32mBuilding CXX object 3rdparty/glog/CMakeFiles/glog.dir/src/raw_logging.cc.o\u001b[0m\n",
            "[ 66%] \u001b[32mBuilding CXX object 3rdparty/glog/CMakeFiles/glog.dir/src/symbolize.cc.o\u001b[0m\n",
            "[ 67%] \u001b[32mBuilding CXX object 3rdparty/glog/CMakeFiles/glog.dir/src/utilities.cc.o\u001b[0m\n",
            "[ 67%] \u001b[32mBuilding CXX object 3rdparty/glog/CMakeFiles/glog.dir/src/vlog_is_on.cc.o\u001b[0m\n",
            "[ 67%] \u001b[32mBuilding CXX object 3rdparty/glog/CMakeFiles/glog.dir/src/signalhandler.cc.o\u001b[0m\n",
            "[ 68%] \u001b[32m\u001b[1mLinking CXX static library ../../lib/libglog.a\u001b[0m\n",
            "[ 68%] Built target glog\n",
            "\u001b[35m\u001b[1mScanning dependencies of target messages_proto\u001b[0m\n",
            "[ 68%] \u001b[32mBuilding CXX object src/artm/CMakeFiles/messages_proto.dir/messages.pb.cc.o\u001b[0m\n",
            "[ 69%] \u001b[32m\u001b[1mLinking CXX static library ../../lib/libmessages_proto.a\u001b[0m\n",
            "[ 69%] Built target messages_proto\n",
            "\u001b[35m\u001b[1mScanning dependencies of target artm-static\u001b[0m\n",
            "[ 70%] \u001b[32mBuilding CXX object src/artm/CMakeFiles/artm-static.dir/c_interface.cc.o\u001b[0m\n",
            "In file included from \u001b[01m\u001b[K/content/bigartm/src/artm/c_interface.cc:18:0\u001b[m\u001b[K:\n",
            "\u001b[01m\u001b[K/content/bigartm/src/artm/../artm/core/check_messages.h:\u001b[m\u001b[K In function ‘\u001b[01m\u001b[Kvoid artm::core::FixMessage(T*) [with T = artm::RegularizerConfig]\u001b[m\u001b[K’:\n",
            "\u001b[01m\u001b[K/content/bigartm/src/artm/../artm/core/check_messages.h:553:28:\u001b[m\u001b[K \u001b[01;35m\u001b[Kwarning: \u001b[m\u001b[Ksuggest parentheses around ‘\u001b[01m\u001b[K&&\u001b[m\u001b[K’ within ‘\u001b[01m\u001b[K||\u001b[m\u001b[K’ [\u001b[01;35m\u001b[K-Wparentheses\u001b[m\u001b[K]\n",
            "   if (\u001b[01;35m\u001b[Kmessage->has_gamma() && (message->gamma() < 0)\u001b[m\u001b[K || (message->gamma() > 1)) {\n",
            "       \u001b[01;35m\u001b[K~~~~~~~~~~~~~~~~~~~~~^~~~~~~~~~~~~~~~~~~~~~~~~\u001b[m\u001b[K\n",
            "[ 70%] \u001b[32mBuilding CXX object src/artm/CMakeFiles/artm-static.dir/cpp_interface.cc.o\u001b[0m\n",
            "[ 70%] \u001b[32mBuilding CXX object src/artm/CMakeFiles/artm-static.dir/regularizer_interface.cc.o\u001b[0m\n",
            "[ 71%] \u001b[32mBuilding CXX object src/artm/CMakeFiles/artm-static.dir/score_calculator_interface.cc.o\u001b[0m\n",
            "[ 71%] \u001b[32mBuilding CXX object src/artm/CMakeFiles/artm-static.dir/core/batch_manager.cc.o\u001b[0m\n",
            "[ 71%] \u001b[32mBuilding CXX object src/artm/CMakeFiles/artm-static.dir/core/cache_manager.cc.o\u001b[0m\n",
            "[ 72%] \u001b[32mBuilding CXX object src/artm/CMakeFiles/artm-static.dir/core/collection_parser.cc.o\u001b[0m\n",
            "\u001b[01m\u001b[K/content/bigartm/src/artm/core/collection_parser.cc:\u001b[m\u001b[K In member function ‘\u001b[01m\u001b[Kvoid artm::core::CollectionParser::BatchCollector::RecordTransaction(const std::vector<std::__cxx11::basic_string<char> >&, const std::vector<std::__cxx11::basic_string<char> >&, const std::vector<float>&, const TransactionTypeName&)\u001b[m\u001b[K’:\n",
            "\u001b[01m\u001b[K/content/bigartm/src/artm/core/collection_parser.cc:412:23:\u001b[m\u001b[K \u001b[01;35m\u001b[Kwarning: \u001b[m\u001b[Kcomparison between signed and unsigned integer expressions [\u001b[01;35m\u001b[K-Wsign-compare\u001b[m\u001b[K]\n",
            "     for (int i = 0; \u001b[01;35m\u001b[Ki < class_ids.size()\u001b[m\u001b[K; ++i) {\n",
            "                     \u001b[01;35m\u001b[K~~^~~~~~~~~~~~~~~~~~\u001b[m\u001b[K\n",
            "\u001b[01m\u001b[K/content/bigartm/src/artm/core/collection_parser.cc:\u001b[m\u001b[K In lambda function:\n",
            "\u001b[01m\u001b[K/content/bigartm/src/artm/core/collection_parser.cc:605:35:\u001b[m\u001b[K \u001b[01;35m\u001b[Kwarning: \u001b[m\u001b[Kcomparison between signed and unsigned integer expressions [\u001b[01;35m\u001b[K-Wsign-compare\u001b[m\u001b[K]\n",
            "                 for (int i = 0; \u001b[01;35m\u001b[Ki < tokens.size()\u001b[m\u001b[K; ++i) {\n",
            "                                 \u001b[01;35m\u001b[K~~^~~~~~~~~~~~~~~\u001b[m\u001b[K\n",
            "\u001b[01m\u001b[K/content/bigartm/src/artm/core/collection_parser.cc:729:27:\u001b[m\u001b[K \u001b[01;35m\u001b[Kwarning: \u001b[m\u001b[Kcomparison between signed and unsigned integer expressions [\u001b[01;35m\u001b[K-Wsign-compare\u001b[m\u001b[K]\n",
            "         for (int i = 0; \u001b[01;35m\u001b[Ki < tokens.size()\u001b[m\u001b[K; ++i) {\n",
            "                         \u001b[01;35m\u001b[K~~^~~~~~~~~~~~~~~\u001b[m\u001b[K\n",
            "\u001b[01m\u001b[K/content/bigartm/src/artm/core/collection_parser.cc:\u001b[m\u001b[K At global scope:\n",
            "\u001b[01m\u001b[K/content/bigartm/src/artm/core/collection_parser.cc:81:13:\u001b[m\u001b[K \u001b[01;35m\u001b[Kwarning: \u001b[m\u001b[K‘\u001b[01m\u001b[Kbool artm::core::useClassId(const std::vector<std::__cxx11::basic_string<char> >&, const artm::CollectionParserConfig&)\u001b[m\u001b[K’ defined but not used [\u001b[01;35m\u001b[K-Wunused-function\u001b[m\u001b[K]\n",
            " static bool \u001b[01;35m\u001b[KuseClassId\u001b[m\u001b[K(const std::vector<ClassId>& class_ids, const CollectionParserConfig& config) {\n",
            "             \u001b[01;35m\u001b[K^~~~~~~~~~\u001b[m\u001b[K\n",
            "[ 72%] \u001b[32mBuilding CXX object src/artm/CMakeFiles/artm-static.dir/core/cooccurrence_collector.cc.o\u001b[0m\n",
            "\u001b[01m\u001b[K/content/bigartm/src/artm/core/cooccurrence_collector.cc:\u001b[m\u001b[K In constructor ‘\u001b[01m\u001b[Kartm::core::Vocab::Vocab(const string&)\u001b[m\u001b[K’:\n",
            "\u001b[01m\u001b[K/content/bigartm/src/artm/core/cooccurrence_collector.cc:541:30:\u001b[m\u001b[K \u001b[01;35m\u001b[Kwarning: \u001b[m\u001b[Kcomparison between signed and unsigned integer expressions [\u001b[01;35m\u001b[K-Wsign-compare\u001b[m\u001b[K]\n",
            "       for (; \u001b[01;35m\u001b[Kpos_of_modality < strs.size()\u001b[m\u001b[K && strs[pos_of_modality].empty(); ++pos_of_modality) { }\n",
            "              \u001b[01;35m\u001b[K~~~~~~~~~~~~~~~~^~~~~~~~~~~~~\u001b[m\u001b[K\n",
            "\u001b[01m\u001b[K/content/bigartm/src/artm/core/cooccurrence_collector.cc:542:27:\u001b[m\u001b[K \u001b[01;35m\u001b[Kwarning: \u001b[m\u001b[Kcomparison between signed and unsigned integer expressions [\u001b[01;35m\u001b[K-Wsign-compare\u001b[m\u001b[K]\n",
            "       if (\u001b[01;35m\u001b[Kpos_of_modality != strs.size()\u001b[m\u001b[K) {\n",
            "           \u001b[01;35m\u001b[K~~~~~~~~~~~~~~~~^~~~~~~~~~~~~~\u001b[m\u001b[K\n",
            "[ 72%] \u001b[32mBuilding CXX object src/artm/CMakeFiles/artm-static.dir/core/cuckoo_watch.cc.o\u001b[0m\n",
            "[ 73%] \u001b[32mBuilding CXX object src/artm/CMakeFiles/artm-static.dir/core/dense_phi_matrix.cc.o\u001b[0m\n",
            "\u001b[01m\u001b[K/content/bigartm/src/artm/core/dense_phi_matrix.cc:\u001b[m\u001b[K In constructor ‘\u001b[01m\u001b[Kartm::core::AttachedPhiMatrix::AttachedPhiMatrix(int, float*, artm::core::PhiMatrixFrame*)\u001b[m\u001b[K’:\n",
            "\u001b[01m\u001b[K/content/bigartm/src/artm/core/dense_phi_matrix.cc:406:57:\u001b[m\u001b[K \u001b[01;35m\u001b[Kwarning: \u001b[m\u001b[Kcomparison between signed and unsigned integer expressions [\u001b[01;35m\u001b[K-Wsign-compare\u001b[m\u001b[K]\n",
            "   if (\u001b[01;35m\u001b[K(int64_t) topic_size * token_size * sizeof(float) != address_length\u001b[m\u001b[K) {\n",
            "       \u001b[01;35m\u001b[K~~~~~~~~~~~~~~~~~~~~~~~~~~~~~~~~~~~~~~~~~~~~~~~~~~^~~~~~~~~~~~~~~~~\u001b[m\u001b[K\n",
            "[ 73%] \u001b[32mBuilding CXX object src/artm/CMakeFiles/artm-static.dir/core/dictionary.cc.o\u001b[0m\n",
            "[ 73%] \u001b[32mBuilding CXX object src/artm/CMakeFiles/artm-static.dir/core/dictionary_operations.cc.o\u001b[0m\n",
            "[ 75%] \u001b[32mBuilding CXX object src/artm/CMakeFiles/artm-static.dir/core/helpers.cc.o\u001b[0m\n",
            "In file included from \u001b[01m\u001b[K/content/bigartm/src/artm/core/helpers.cc:16:0\u001b[m\u001b[K:\n",
            "\u001b[01m\u001b[K/content/bigartm/src/artm/../artm/core/check_messages.h:\u001b[m\u001b[K In function ‘\u001b[01m\u001b[Kvoid artm::core::FixMessage(T*) [with T = artm::RegularizerConfig]\u001b[m\u001b[K’:\n",
            "\u001b[01m\u001b[K/content/bigartm/src/artm/../artm/core/check_messages.h:553:28:\u001b[m\u001b[K \u001b[01;35m\u001b[Kwarning: \u001b[m\u001b[Ksuggest parentheses around ‘\u001b[01m\u001b[K&&\u001b[m\u001b[K’ within ‘\u001b[01m\u001b[K||\u001b[m\u001b[K’ [\u001b[01;35m\u001b[K-Wparentheses\u001b[m\u001b[K]\n",
            "   if (\u001b[01;35m\u001b[Kmessage->has_gamma() && (message->gamma() < 0)\u001b[m\u001b[K || (message->gamma() > 1)) {\n",
            "       \u001b[01;35m\u001b[K~~~~~~~~~~~~~~~~~~~~~^~~~~~~~~~~~~~~~~~~~~~~~~\u001b[m\u001b[K\n",
            "[ 75%] \u001b[32mBuilding CXX object src/artm/CMakeFiles/artm-static.dir/core/instance.cc.o\u001b[0m\n",
            "[ 75%] \u001b[32mBuilding CXX object src/artm/CMakeFiles/artm-static.dir/core/master_component.cc.o\u001b[0m\n",
            "In file included from \u001b[01m\u001b[K/content/bigartm/src/artm/core/master_component.cc:31:0\u001b[m\u001b[K:\n",
            "\u001b[01m\u001b[K/content/bigartm/src/artm/../artm/core/check_messages.h:\u001b[m\u001b[K In function ‘\u001b[01m\u001b[Kvoid artm::core::FixMessage(T*) [with T = artm::RegularizerConfig]\u001b[m\u001b[K’:\n",
            "\u001b[01m\u001b[K/content/bigartm/src/artm/../artm/core/check_messages.h:553:28:\u001b[m\u001b[K \u001b[01;35m\u001b[Kwarning: \u001b[m\u001b[Ksuggest parentheses around ‘\u001b[01m\u001b[K&&\u001b[m\u001b[K’ within ‘\u001b[01m\u001b[K||\u001b[m\u001b[K’ [\u001b[01;35m\u001b[K-Wparentheses\u001b[m\u001b[K]\n",
            "   if (\u001b[01;35m\u001b[Kmessage->has_gamma() && (message->gamma() < 0)\u001b[m\u001b[K || (message->gamma() > 1)) {\n",
            "       \u001b[01;35m\u001b[K~~~~~~~~~~~~~~~~~~~~~^~~~~~~~~~~~~~~~~~~~~~~~~\u001b[m\u001b[K\n",
            "\u001b[01m\u001b[K/content/bigartm/src/artm/core/master_component.cc:\u001b[m\u001b[K In member function ‘\u001b[01m\u001b[Kvoid artm::core::MasterComponent::RequestProcessBatchesImpl(const artm::ProcessBatchesArgs&, artm::core::BatchManager*, bool, artm::core::ScoreManager*, artm::ThetaMatrix*)\u001b[m\u001b[K’:\n",
            "\u001b[01m\u001b[K/content/bigartm/src/artm/core/master_component.cc:807:10:\u001b[m\u001b[K \u001b[01;35m\u001b[Kwarning: \u001b[m\u001b[Kenumeration value ‘\u001b[01m\u001b[KThetaMatrixType_None\u001b[m\u001b[K’ not handled in switch [\u001b[01;35m\u001b[K-Wswitch\u001b[m\u001b[K]\n",
            "   switch \u001b[01;35m\u001b[K(\u001b[m\u001b[Kargs.theta_matrix_type()) {\n",
            "          \u001b[01;35m\u001b[K^\u001b[m\u001b[K\n",
            "\u001b[01m\u001b[K/content/bigartm/src/artm/core/master_component.cc:824:34:\u001b[m\u001b[K \u001b[01;35m\u001b[Kwarning: \u001b[m\u001b[Kcomparison between signed and unsigned integer expressions [\u001b[01;35m\u001b[K-Wsign-compare\u001b[m\u001b[K]\n",
            "   if (\u001b[01;35m\u001b[Kargs.batch_filename_size() < instance_->processor_size()\u001b[m\u001b[K) {\n",
            "       \u001b[01;35m\u001b[K~~~~~~~~~~~~~~~~~~~~~~~~~~~^~~~~~~~~~~~~~~~~~~~~~~~~~~~~\u001b[m\u001b[K\n",
            "\u001b[01m\u001b[K/content/bigartm/src/artm/core/master_component.cc:880:10:\u001b[m\u001b[K \u001b[01;35m\u001b[Kwarning: \u001b[m\u001b[Kenumeration value ‘\u001b[01m\u001b[KThetaMatrixType_None\u001b[m\u001b[K’ not handled in switch [\u001b[01;35m\u001b[K-Wswitch\u001b[m\u001b[K]\n",
            "   switch \u001b[01;35m\u001b[K(\u001b[m\u001b[Kargs.theta_matrix_type()) {\n",
            "          \u001b[01;35m\u001b[K^\u001b[m\u001b[K\n",
            "\u001b[01m\u001b[K/content/bigartm/src/artm/core/master_component.cc:880:10:\u001b[m\u001b[K \u001b[01;35m\u001b[Kwarning: \u001b[m\u001b[Kenumeration value ‘\u001b[01m\u001b[KThetaMatrixType_Cache\u001b[m\u001b[K’ not handled in switch [\u001b[01;35m\u001b[K-Wswitch\u001b[m\u001b[K]\n",
            "\u001b[01m\u001b[K/content/bigartm/src/artm/core/master_component.cc:802:8:\u001b[m\u001b[K \u001b[01;35m\u001b[Kwarning: \u001b[m\u001b[Kvariable ‘\u001b[01m\u001b[Kreturn_theta\u001b[m\u001b[K’ set but not used [\u001b[01;35m\u001b[K-Wunused-but-set-variable\u001b[m\u001b[K]\n",
            "   bool \u001b[01;35m\u001b[Kreturn_theta\u001b[m\u001b[K = false;\n",
            "        \u001b[01;35m\u001b[K^~~~~~~~~~~~\u001b[m\u001b[K\n",
            "\u001b[01m\u001b[K/content/bigartm/src/artm/core/master_component.cc:803:8:\u001b[m\u001b[K \u001b[01;35m\u001b[Kwarning: \u001b[m\u001b[Kvariable ‘\u001b[01m\u001b[Kreturn_ptdw\u001b[m\u001b[K’ set but not used [\u001b[01;35m\u001b[K-Wunused-but-set-variable\u001b[m\u001b[K]\n",
            "   bool \u001b[01;35m\u001b[Kreturn_ptdw\u001b[m\u001b[K = false;\n",
            "        \u001b[01;35m\u001b[K^~~~~~~~~~~\u001b[m\u001b[K\n",
            "\u001b[01m\u001b[K/content/bigartm/src/artm/core/master_component.cc:\u001b[m\u001b[K In member function ‘\u001b[01m\u001b[Kbool artm::core::OnlineBatchesIterator::more() const\u001b[m\u001b[K’:\n",
            "\u001b[01m\u001b[K/content/bigartm/src/artm/core/master_component.cc:1198:39:\u001b[m\u001b[K \u001b[01;35m\u001b[Kwarning: \u001b[m\u001b[Kcomparison between signed and unsigned integer expressions [\u001b[01;35m\u001b[K-Wsign-compare\u001b[m\u001b[K]\n",
            "   bool more() const { return \u001b[01;35m\u001b[Kcurrent_ < static_cast<int>(update_after_.size())\u001b[m\u001b[K; }\n",
            "                              \u001b[01;35m\u001b[K~~~~~~~~~^~~~~~~~~~~~~~~~~~~~~~~~~~~~~~~~~~~~~~~~\u001b[m\u001b[K\n",
            "[ 76%] \u001b[32mBuilding CXX object src/artm/CMakeFiles/artm-static.dir/core/processor.cc.o\u001b[0m\n",
            "[ 76%] \u001b[32mBuilding CXX object src/artm/CMakeFiles/artm-static.dir/core/processor_helpers.cc.o\u001b[0m\n",
            "[ 76%] \u001b[32mBuilding CXX object src/artm/CMakeFiles/artm-static.dir/core/processor_transaction_helpers.cc.o\u001b[0m\n",
            "\u001b[01m\u001b[K/content/bigartm/src/artm/core/processor_transaction_helpers.cc:\u001b[m\u001b[K In static member function ‘\u001b[01m\u001b[Kstatic void artm::core::ProcessorTransactionHelpers::TransactionInferThetaAndUpdateNwtSparse(const artm::ProcessBatchesArgs&, const artm::Batch&, float, std::shared_ptr<artm::core::BatchTransactionInfo>, const artm::core::PhiMatrix&, const artm::core::RegularizeThetaAgentCollection&, artm::utility::LocalThetaMatrix<float>*, artm::core::NwtWriteAdapter*, artm::utility::Blas*, artm::ThetaMatrix*)\u001b[m\u001b[K’:\n",
            "\u001b[01m\u001b[K/content/bigartm/src/artm/core/processor_transaction_helpers.cc:166:25:\u001b[m\u001b[K \u001b[01;35m\u001b[Kwarning: \u001b[m\u001b[Kcomparison between signed and unsigned integer expressions [\u001b[01;35m\u001b[K-Wsign-compare\u001b[m\u001b[K]\n",
            "       for (int k = 0; \u001b[01;35m\u001b[Kk < it->second->local_pwt_token_index.size()\u001b[m\u001b[K; ++k) {\n",
            "                       \u001b[01;35m\u001b[K~~^~~~~~~~~~~~~~~~~~~~~~~~~~~~~~~~~~~~~~~~~~\u001b[m\u001b[K\n",
            "[ 77%] \u001b[32mBuilding CXX object src/artm/CMakeFiles/artm-static.dir/core/processor_input.cc.o\u001b[0m\n",
            "[ 77%] \u001b[32mBuilding CXX object src/artm/CMakeFiles/artm-static.dir/core/protobuf_serialization.cc.o\u001b[0m\n",
            "[ 77%] \u001b[32mBuilding CXX object src/artm/CMakeFiles/artm-static.dir/core/phi_matrix_operations.cc.o\u001b[0m\n",
            "In file included from \u001b[01m\u001b[K/content/bigartm/src/artm/core/phi_matrix_operations.cc:14:0\u001b[m\u001b[K:\n",
            "\u001b[01m\u001b[K/content/bigartm/src/artm/../artm/core/check_messages.h:\u001b[m\u001b[K In function ‘\u001b[01m\u001b[Kvoid artm::core::FixMessage(T*) [with T = artm::RegularizerConfig]\u001b[m\u001b[K’:\n",
            "\u001b[01m\u001b[K/content/bigartm/src/artm/../artm/core/check_messages.h:553:28:\u001b[m\u001b[K \u001b[01;35m\u001b[Kwarning: \u001b[m\u001b[Ksuggest parentheses around ‘\u001b[01m\u001b[K&&\u001b[m\u001b[K’ within ‘\u001b[01m\u001b[K||\u001b[m\u001b[K’ [\u001b[01;35m\u001b[K-Wparentheses\u001b[m\u001b[K]\n",
            "   if (\u001b[01;35m\u001b[Kmessage->has_gamma() && (message->gamma() < 0)\u001b[m\u001b[K || (message->gamma() > 1)) {\n",
            "       \u001b[01;35m\u001b[K~~~~~~~~~~~~~~~~~~~~~^~~~~~~~~~~~~~~~~~~~~~~~~\u001b[m\u001b[K\n",
            "\u001b[01m\u001b[K/content/bigartm/src/artm/core/phi_matrix_operations.cc:\u001b[m\u001b[K In static member function ‘\u001b[01m\u001b[Kstatic void artm::core::PhiMatrixOperations::ApplyTopicModelOperation(const artm::TopicModel&, float, bool, artm::core::PhiMatrix*)\u001b[m\u001b[K’:\n",
            "\u001b[01m\u001b[K/content/bigartm/src/artm/core/phi_matrix_operations.cc:156:60:\u001b[m\u001b[K \u001b[01;35m\u001b[Kwarning: \u001b[m\u001b[Kcomparison between signed and unsigned integer expressions [\u001b[01;35m\u001b[K-Wsign-compare\u001b[m\u001b[K]\n",
            "   if ((apply_weight == 1.0f) && (\u001b[01;35m\u001b[Ktarget_topic_index.size() == this_topic_size\u001b[m\u001b[K)) {\n",
            "                                  \u001b[01;35m\u001b[K~~~~~~~~~~~~~~~~~~~~~~~~~~^~~~~~~~~~~~~~~~~~\u001b[m\u001b[K\n",
            "\u001b[01m\u001b[K/content/bigartm/src/artm/core/phi_matrix_operations.cc:159:43:\u001b[m\u001b[K \u001b[01;35m\u001b[Kwarning: \u001b[m\u001b[Kcomparison between signed and unsigned integer expressions [\u001b[01;35m\u001b[K-Wsign-compare\u001b[m\u001b[K]\n",
            "       if (target_topic_index[topic_index] != topic_index) {\n",
            "[ 78%] \u001b[32mBuilding CXX object src/artm/CMakeFiles/artm-static.dir/core/score_manager.cc.o\u001b[0m\n",
            "[ 78%] \u001b[32mBuilding CXX object src/artm/CMakeFiles/artm-static.dir/core/token.cc.o\u001b[0m\n",
            "[ 78%] \u001b[32mBuilding CXX object src/artm/CMakeFiles/artm-static.dir/core/transform_function.cc.o\u001b[0m\n",
            "[ 79%] \u001b[32mBuilding CXX object src/artm/CMakeFiles/artm-static.dir/regularizer/decorrelator_phi.cc.o\u001b[0m\n",
            "[ 79%] \u001b[32mBuilding CXX object src/artm/CMakeFiles/artm-static.dir/regularizer/multilanguage_phi.cc.o\u001b[0m\n",
            "[ 79%] \u001b[32mBuilding CXX object src/artm/CMakeFiles/artm-static.dir/regularizer/smooth_sparse_phi.cc.o\u001b[0m\n",
            "[ 80%] \u001b[32mBuilding CXX object src/artm/CMakeFiles/artm-static.dir/regularizer/label_regularization_phi.cc.o\u001b[0m\n",
            "[ 80%] \u001b[32mBuilding CXX object src/artm/CMakeFiles/artm-static.dir/regularizer/smooth_sparse_theta.cc.o\u001b[0m\n",
            "\u001b[01m\u001b[K/content/bigartm/src/artm/regularizer/smooth_sparse_theta.cc:\u001b[m\u001b[K In member function ‘\u001b[01m\u001b[Kvirtual void artm::regularizer::SmoothSparseThetaAgent::Apply(int, int, int, const float*, float*) const\u001b[m\u001b[K’:\n",
            "\u001b[01m\u001b[K/content/bigartm/src/artm/regularizer/smooth_sparse_theta.cc:22:19:\u001b[m\u001b[K \u001b[01;35m\u001b[Kwarning: \u001b[m\u001b[Kcomparison between signed and unsigned integer expressions [\u001b[01;35m\u001b[K-Wsign-compare\u001b[m\u001b[K]\n",
            "   if (\u001b[01;35m\u001b[Ktopics_size != topic_weight.size()\u001b[m\u001b[K || inner_iter >= alpha_weight.size()) {\n",
            "       \u001b[01;35m\u001b[K~~~~~~~~~~~~^~~~~~~~~~~~~~~~~~~~~~\u001b[m\u001b[K\n",
            "\u001b[01m\u001b[K/content/bigartm/src/artm/regularizer/smooth_sparse_theta.cc:22:56:\u001b[m\u001b[K \u001b[01;35m\u001b[Kwarning: \u001b[m\u001b[Kcomparison between signed and unsigned integer expressions [\u001b[01;35m\u001b[K-Wsign-compare\u001b[m\u001b[K]\n",
            "   if (topics_size != topic_weight.size() || \u001b[01;35m\u001b[Kinner_iter >= alpha_weight.size()\u001b[m\u001b[K) {\n",
            "                                             \u001b[01;35m\u001b[K~~~~~~~~~~~^~~~~~~~~~~~~~~~~~~~~~\u001b[m\u001b[K\n",
            "\u001b[01m\u001b[K/content/bigartm/src/artm/regularizer/smooth_sparse_theta.cc:34:71:\u001b[m\u001b[K \u001b[01;35m\u001b[Kwarning: \u001b[m\u001b[Kcomparison between signed and unsigned integer expressions [\u001b[01;35m\u001b[K-Wsign-compare\u001b[m\u001b[K]\n",
            "   if (use_universal_multiplier && \u001b[01;35m\u001b[Kuniversal_topic_multiplier_->size() != topics_size\u001b[m\u001b[K) {\n",
            "                                   \u001b[01;35m\u001b[K~~~~~~~~~~~~~~~~~~~~~~~~~~~~~~~~~~~~^~~~~~~~~~~~~~\u001b[m\u001b[K\n",
            "\u001b[01m\u001b[K/content/bigartm/src/artm/regularizer/smooth_sparse_theta.cc:46:56:\u001b[m\u001b[K \u001b[01;35m\u001b[Kwarning: \u001b[m\u001b[Kcomparison between signed and unsigned integer expressions [\u001b[01;35m\u001b[K-Wsign-compare\u001b[m\u001b[K]\n",
            "     if (use_specific_multiplier && \u001b[01;35m\u001b[Kiter->second.size() != topics_size\u001b[m\u001b[K) {\n",
            "                                    \u001b[01;35m\u001b[K~~~~~~~~~~~~~~~~~~~~^~~~~~~~~~~~~~\u001b[m\u001b[K\n",
            "[ 80%] \u001b[32mBuilding CXX object src/artm/CMakeFiles/artm-static.dir/regularizer/smooth_ptdw.cc.o\u001b[0m\n",
            "[ 81%] \u001b[32mBuilding CXX object src/artm/CMakeFiles/artm-static.dir/regularizer/specified_sparse_phi.cc.o\u001b[0m\n",
            "\u001b[01m\u001b[K/content/bigartm/src/artm/regularizer/specified_sparse_phi.cc:\u001b[m\u001b[K In member function ‘\u001b[01m\u001b[Kvirtual bool artm::regularizer::SpecifiedSparsePhi::RegularizePhi(const artm::core::PhiMatrix&, const artm::core::PhiMatrix&, artm::core::PhiMatrix*)\u001b[m\u001b[K’:\n",
            "\u001b[01m\u001b[K/content/bigartm/src/artm/regularizer/specified_sparse_phi.cc:79:28:\u001b[m\u001b[K \u001b[01;35m\u001b[Kwarning: \u001b[m\u001b[Kcomparison between signed and unsigned integer expressions [\u001b[01;35m\u001b[K-Wsign-compare\u001b[m\u001b[K]\n",
            "       if (\u001b[01;35m\u001b[Kmax_queue.size() < config_.max_elements_count()\u001b[m\u001b[K) {\n",
            "           \u001b[01;35m\u001b[K~~~~~~~~~~~~~~~~~^~~~~~~~~~~~~~~~~~~~~~~~~~~~~~\u001b[m\u001b[K\n",
            "[ 81%] \u001b[32mBuilding CXX object src/artm/CMakeFiles/artm-static.dir/regularizer/improve_coherence_phi.cc.o\u001b[0m\n",
            "[ 81%] \u001b[32mBuilding CXX object src/artm/CMakeFiles/artm-static.dir/regularizer/topic_selection_theta.cc.o\u001b[0m\n",
            "\u001b[01m\u001b[K/content/bigartm/src/artm/regularizer/topic_selection_theta.cc:\u001b[m\u001b[K In member function ‘\u001b[01m\u001b[Kvirtual void artm::regularizer::TopicSelectionThetaAgent::Apply(int, int, int, const float*, float*) const\u001b[m\u001b[K’:\n",
            "\u001b[01m\u001b[K/content/bigartm/src/artm/regularizer/topic_selection_theta.cc:26:19:\u001b[m\u001b[K \u001b[01;35m\u001b[Kwarning: \u001b[m\u001b[Kcomparison between signed and unsigned integer expressions [\u001b[01;35m\u001b[K-Wsign-compare\u001b[m\u001b[K]\n",
            "   if (\u001b[01;35m\u001b[Ktopics_size != topic_weight.size()\u001b[m\u001b[K || inner_iter >= alpha_weight.size()) {\n",
            "       \u001b[01;35m\u001b[K~~~~~~~~~~~~^~~~~~~~~~~~~~~~~~~~~~\u001b[m\u001b[K\n",
            "\u001b[01m\u001b[K/content/bigartm/src/artm/regularizer/topic_selection_theta.cc:26:56:\u001b[m\u001b[K \u001b[01;35m\u001b[Kwarning: \u001b[m\u001b[Kcomparison between signed and unsigned integer expressions [\u001b[01;35m\u001b[K-Wsign-compare\u001b[m\u001b[K]\n",
            "   if (topics_size != topic_weight.size() || \u001b[01;35m\u001b[Kinner_iter >= alpha_weight.size()\u001b[m\u001b[K) {\n",
            "                                             \u001b[01;35m\u001b[K~~~~~~~~~~~^~~~~~~~~~~~~~~~~~~~~~\u001b[m\u001b[K\n",
            "\u001b[01m\u001b[K/content/bigartm/src/artm/regularizer/topic_selection_theta.cc:\u001b[m\u001b[K In member function ‘\u001b[01m\u001b[Kvirtual void artm::regularizer::TopicSelectionThetaAgent::Apply(int, const artm::utility::LocalThetaMatrix<float>&, artm::utility::LocalThetaMatrix<float>*) const\u001b[m\u001b[K’:\n",
            "\u001b[01m\u001b[K/content/bigartm/src/artm/regularizer/topic_selection_theta.cc:46:18:\u001b[m\u001b[K \u001b[01;35m\u001b[Kwarning: \u001b[m\u001b[Kcomparison between signed and unsigned integer expressions [\u001b[01;35m\u001b[K-Wsign-compare\u001b[m\u001b[K]\n",
            "   if (\u001b[01;35m\u001b[Ktopic_size != topic_weight.size()\u001b[m\u001b[K || inner_iter >= alpha_weight.size()) {\n",
            "       \u001b[01;35m\u001b[K~~~~~~~~~~~^~~~~~~~~~~~~~~~~~~~~~\u001b[m\u001b[K\n",
            "\u001b[01m\u001b[K/content/bigartm/src/artm/regularizer/topic_selection_theta.cc:46:55:\u001b[m\u001b[K \u001b[01;35m\u001b[Kwarning: \u001b[m\u001b[Kcomparison between signed and unsigned integer expressions [\u001b[01;35m\u001b[K-Wsign-compare\u001b[m\u001b[K]\n",
            "   if (topic_size != topic_weight.size() || \u001b[01;35m\u001b[Kinner_iter >= alpha_weight.size()\u001b[m\u001b[K) {\n",
            "                                            \u001b[01;35m\u001b[K~~~~~~~~~~~^~~~~~~~~~~~~~~~~~~~~~\u001b[m\u001b[K\n",
            "[ 82%] \u001b[32mBuilding CXX object src/artm/CMakeFiles/artm-static.dir/regularizer/biterms_phi.cc.o\u001b[0m\n",
            "[ 82%] \u001b[32mBuilding CXX object src/artm/CMakeFiles/artm-static.dir/regularizer/hierarchy_sparsing_theta.cc.o\u001b[0m\n",
            "\u001b[01m\u001b[K/content/bigartm/src/artm/regularizer/hierarchy_sparsing_theta.cc:\u001b[m\u001b[K In member function ‘\u001b[01m\u001b[Kvirtual void artm::regularizer::HierarchySparsingThetaAgent::Apply(int, const artm::utility::LocalThetaMatrix<float>&, artm::utility::LocalThetaMatrix<float>*) const\u001b[m\u001b[K’:\n",
            "\u001b[01m\u001b[K/content/bigartm/src/artm/regularizer/hierarchy_sparsing_theta.cc:54:18:\u001b[m\u001b[K \u001b[01;35m\u001b[Kwarning: \u001b[m\u001b[Kcomparison between signed and unsigned integer expressions [\u001b[01;35m\u001b[K-Wsign-compare\u001b[m\u001b[K]\n",
            "   if (\u001b[01;35m\u001b[Ktopic_size != topic_weight.size()\u001b[m\u001b[K || inner_iter >= alpha_weight.size()) {\n",
            "       \u001b[01;35m\u001b[K~~~~~~~~~~~^~~~~~~~~~~~~~~~~~~~~~\u001b[m\u001b[K\n",
            "\u001b[01m\u001b[K/content/bigartm/src/artm/regularizer/hierarchy_sparsing_theta.cc:54:55:\u001b[m\u001b[K \u001b[01;35m\u001b[Kwarning: \u001b[m\u001b[Kcomparison between signed and unsigned integer expressions [\u001b[01;35m\u001b[K-Wsign-compare\u001b[m\u001b[K]\n",
            "   if (topic_size != topic_weight.size() || \u001b[01;35m\u001b[Kinner_iter >= alpha_weight.size()\u001b[m\u001b[K) {\n",
            "                                            \u001b[01;35m\u001b[K~~~~~~~~~~~^~~~~~~~~~~~~~~~~~~~~~\u001b[m\u001b[K\n",
            "[ 82%] \u001b[32mBuilding CXX object src/artm/CMakeFiles/artm-static.dir/regularizer/topic_segmentation_ptdw.cc.o\u001b[0m\n",
            "[ 83%] \u001b[32mBuilding CXX object src/artm/CMakeFiles/artm-static.dir/regularizer/smooth_time_in_topics_phi.cc.o\u001b[0m\n",
            "[ 83%] \u001b[32mBuilding CXX object src/artm/CMakeFiles/artm-static.dir/regularizer/net_plsa_phi.cc.o\u001b[0m\n",
            "\u001b[01m\u001b[K/content/bigartm/src/artm/regularizer/net_plsa_phi.cc:\u001b[m\u001b[K In member function ‘\u001b[01m\u001b[Kvirtual bool artm::regularizer::NetPlsaPhi::RegularizePhi(const artm::core::PhiMatrix&, const artm::core::PhiMatrix&, artm::core::PhiMatrix*)\u001b[m\u001b[K’:\n",
            "\u001b[01m\u001b[K/content/bigartm/src/artm/regularizer/net_plsa_phi.cc:41:42:\u001b[m\u001b[K \u001b[01;35m\u001b[Kwarning: \u001b[m\u001b[Kcomparison between signed and unsigned integer expressions [\u001b[01;35m\u001b[K-Wsign-compare\u001b[m\u001b[K]\n",
            "   if (has_weights && \u001b[01;35m\u001b[Kvertex_name_.size() != config_.vertex_weight_size()\u001b[m\u001b[K) {\n",
            "                      \u001b[01;35m\u001b[K~~~~~~~~~~~~~~~~~~~~^~~~~~~~~~~~~~~~~~~~~~~~~~~~~~~\u001b[m\u001b[K\n",
            "\u001b[01m\u001b[K/content/bigartm/src/artm/regularizer/net_plsa_phi.cc:55:37:\u001b[m\u001b[K \u001b[01;35m\u001b[Kwarning: \u001b[m\u001b[Kcomparison between signed and unsigned integer expressions [\u001b[01;35m\u001b[K-Wsign-compare\u001b[m\u001b[K]\n",
            "   for (int vertex_id = 0; \u001b[01;35m\u001b[Kvertex_id < vertex_name_.size()\u001b[m\u001b[K; ++vertex_id) {\n",
            "                           \u001b[01;35m\u001b[K~~~~~~~~~~^~~~~~~~~~~~~~~~~~~~~\u001b[m\u001b[K\n",
            "\u001b[01m\u001b[K/content/bigartm/src/artm/regularizer/net_plsa_phi.cc:76:27:\u001b[m\u001b[K \u001b[01;35m\u001b[Kwarning: \u001b[m\u001b[Kcomparison between signed and unsigned integer expressions [\u001b[01;35m\u001b[K-Wsign-compare\u001b[m\u001b[K]\n",
            "         if (\u001b[01;35m\u001b[Kpair_id.first >= vertex_name_.size()\u001b[m\u001b[K || pair_id.first < 0) {\n",
            "             \u001b[01;35m\u001b[K~~~~~~~~~~~~~~^~~~~~~~~~~~~~~~~~~~~~\u001b[m\u001b[K\n",
            "[ 83%] \u001b[32mBuilding CXX object src/artm/CMakeFiles/artm-static.dir/score/class_precision.cc.o\u001b[0m\n",
            "[ 84%] \u001b[32mBuilding CXX object src/artm/CMakeFiles/artm-static.dir/score/items_processed.cc.o\u001b[0m\n",
            "[ 84%] \u001b[32mBuilding CXX object src/artm/CMakeFiles/artm-static.dir/score/peak_memory.cc.o\u001b[0m\n",
            "[ 84%] \u001b[32mBuilding CXX object src/artm/CMakeFiles/artm-static.dir/score/perplexity.cc.o\u001b[0m\n",
            "\u001b[01m\u001b[K/content/bigartm/src/artm/score/perplexity.cc:\u001b[m\u001b[K In member function ‘\u001b[01m\u001b[Kvirtual void artm::score::Perplexity::AppendScore(const artm::Item&, const artm::Batch&, const std::vector<artm::core::Token>&, const artm::core::PhiMatrix&, const artm::ProcessBatchesArgs&, const std::vector<float>&, artm::Score*)\u001b[m\u001b[K’:\n",
            "\u001b[01m\u001b[K/content/bigartm/src/artm/score/perplexity.cc:169:11:\u001b[m\u001b[K \u001b[01;35m\u001b[Kwarning: \u001b[m\u001b[Kvariable ‘\u001b[01m\u001b[Ktt_weight\u001b[m\u001b[K’ set but not used [\u001b[01;35m\u001b[K-Wunused-but-set-variable\u001b[m\u001b[K]\n",
            "     float \u001b[01;35m\u001b[Ktt_weight\u001b[m\u001b[K = 1.0f;\n",
            "           \u001b[01;35m\u001b[K^~~~~~~~~\u001b[m\u001b[K\n",
            "\u001b[01m\u001b[K/content/bigartm/src/artm/score/perplexity.cc:\u001b[m\u001b[K In member function ‘\u001b[01m\u001b[Kvirtual void artm::score::Perplexity::AppendScore(const Score&, artm::Score*)\u001b[m\u001b[K’:\n",
            "\u001b[01m\u001b[K/content/bigartm/src/artm/score/perplexity.cc:292:26:\u001b[m\u001b[K \u001b[01;35m\u001b[Kwarning: \u001b[m\u001b[Kcomparison between signed and unsigned integer expressions [\u001b[01;35m\u001b[K-Wsign-compare\u001b[m\u001b[K]\n",
            "     for (size_t i = 0; \u001b[01;35m\u001b[Ki < perplexity_score->transaction_typename_info_size()\u001b[m\u001b[K; ++i) {\n",
            "                        \u001b[01;35m\u001b[K~~^~~~~~~~~~~~~~~~~~~~~~~~~~~~~~~~~~~~~~~~~~~~~~~~~~~~\u001b[m\u001b[K\n",
            "\u001b[01m\u001b[K/content/bigartm/src/artm/score/perplexity.cc:296:28:\u001b[m\u001b[K \u001b[01;35m\u001b[Kwarning: \u001b[m\u001b[Kcomparison between signed and unsigned integer expressions [\u001b[01;35m\u001b[K-Wsign-compare\u001b[m\u001b[K]\n",
            "       for (size_t j = 0; \u001b[01;35m\u001b[Kj < perplexity_target->transaction_typename_info_size()\u001b[m\u001b[K; ++j) {\n",
            "                          \u001b[01;35m\u001b[K~~^~~~~~~~~~~~~~~~~~~~~~~~~~~~~~~~~~~~~~~~~~~~~~~~~~~~~\u001b[m\u001b[K\n",
            "\u001b[01m\u001b[K/content/bigartm/src/artm/score/perplexity.cc:323:26:\u001b[m\u001b[K \u001b[01;35m\u001b[Kwarning: \u001b[m\u001b[Kcomparison between signed and unsigned integer expressions [\u001b[01;35m\u001b[K-Wsign-compare\u001b[m\u001b[K]\n",
            "     for (size_t j = 0; \u001b[01;35m\u001b[Kj < perplexity_target->transaction_typename_info_size()\u001b[m\u001b[K; ++j) {\n",
            "                        \u001b[01;35m\u001b[K~~^~~~~~~~~~~~~~~~~~~~~~~~~~~~~~~~~~~~~~~~~~~~~~~~~~~~~\u001b[m\u001b[K\n",
            "[ 85%] \u001b[32mBuilding CXX object src/artm/CMakeFiles/artm-static.dir/score/sparsity_phi.cc.o\u001b[0m\n",
            "[ 85%] \u001b[32mBuilding CXX object src/artm/CMakeFiles/artm-static.dir/score/sparsity_theta.cc.o\u001b[0m\n",
            "[ 85%] \u001b[32mBuilding CXX object src/artm/CMakeFiles/artm-static.dir/score/theta_snippet.cc.o\u001b[0m\n",
            "[ 86%] \u001b[32mBuilding CXX object src/artm/CMakeFiles/artm-static.dir/score/top_tokens.cc.o\u001b[0m\n",
            "[ 86%] \u001b[32mBuilding CXX object src/artm/CMakeFiles/artm-static.dir/score/topic_kernel.cc.o\u001b[0m\n",
            "[ 86%] \u001b[32mBuilding CXX object src/artm/CMakeFiles/artm-static.dir/score/topic_mass_phi.cc.o\u001b[0m\n",
            "[ 88%] \u001b[32mBuilding CXX object src/artm/CMakeFiles/artm-static.dir/score/background_tokens_ratio.cc.o\u001b[0m\n",
            "[ 88%] \u001b[32mBuilding CXX object src/artm/CMakeFiles/artm-static.dir/utility/blas.cc.o\u001b[0m\n",
            "[ 88%] \u001b[32mBuilding CXX object src/artm/CMakeFiles/artm-static.dir/utility/progress_printer.cc.o\u001b[0m\n",
            "[ 89%] \u001b[32m\u001b[1mLinking CXX static library ../../lib/libartm-static.a\u001b[0m\n",
            "[ 89%] Built target artm-static\n",
            "\u001b[35m\u001b[1mScanning dependencies of target artm\u001b[0m\n",
            "[ 89%] \u001b[32mBuilding CXX object src/artm/CMakeFiles/artm.dir/c_interface.cc.o\u001b[0m\n",
            "In file included from \u001b[01m\u001b[K/content/bigartm/src/artm/c_interface.cc:18:0\u001b[m\u001b[K:\n",
            "\u001b[01m\u001b[K/content/bigartm/src/artm/../artm/core/check_messages.h:\u001b[m\u001b[K In function ‘\u001b[01m\u001b[Kvoid artm::core::FixMessage(T*) [with T = artm::RegularizerConfig]\u001b[m\u001b[K’:\n",
            "\u001b[01m\u001b[K/content/bigartm/src/artm/../artm/core/check_messages.h:553:28:\u001b[m\u001b[K \u001b[01;35m\u001b[Kwarning: \u001b[m\u001b[Ksuggest parentheses around ‘\u001b[01m\u001b[K&&\u001b[m\u001b[K’ within ‘\u001b[01m\u001b[K||\u001b[m\u001b[K’ [\u001b[01;35m\u001b[K-Wparentheses\u001b[m\u001b[K]\n",
            "   if (\u001b[01;35m\u001b[Kmessage->has_gamma() && (message->gamma() < 0)\u001b[m\u001b[K || (message->gamma() > 1)) {\n",
            "       \u001b[01;35m\u001b[K~~~~~~~~~~~~~~~~~~~~~^~~~~~~~~~~~~~~~~~~~~~~~~\u001b[m\u001b[K\n",
            "[ 90%] \u001b[32mBuilding CXX object src/artm/CMakeFiles/artm.dir/cpp_interface.cc.o\u001b[0m\n",
            "[ 90%] \u001b[32mBuilding CXX object src/artm/CMakeFiles/artm.dir/messages.pb.cc.o\u001b[0m\n",
            "[ 90%] \u001b[32m\u001b[1mLinking CXX shared library ../../lib/libartm.so\u001b[0m\n",
            "[ 90%] Built target artm\n",
            "\u001b[35m\u001b[1mScanning dependencies of target artm_tests\u001b[0m\n",
            "[ 90%] \u001b[32mBuilding CXX object src/artm_tests/CMakeFiles/artm_tests.dir/api.cc.o\u001b[0m\n",
            "[ 90%] \u001b[32mBuilding CXX object src/artm_tests/CMakeFiles/artm_tests.dir/batch_manager_test.cc.o\u001b[0m\n",
            "[ 91%] \u001b[32mBuilding CXX object src/artm_tests/CMakeFiles/artm_tests.dir/blas_test.cc.o\u001b[0m\n",
            "[ 91%] \u001b[32mBuilding CXX object src/artm_tests/CMakeFiles/artm_tests.dir/boost_thread_test.cc.o\u001b[0m\n",
            "[ 91%] \u001b[32mBuilding CXX object src/artm_tests/CMakeFiles/artm_tests.dir/cache_manager_test.cc.o\u001b[0m\n",
            "In file included from \u001b[01m\u001b[K/content/bigartm/src/artm_tests/cache_manager_test.cc:5:0\u001b[m\u001b[K:\n",
            "/content/bigartm/3rdparty/gtest/fused-src/gtest/gtest.h: In instantiation of ‘\u001b[01m\u001b[Ktesting::AssertionResult testing::internal::CmpHelperEQ(const char*, const char*, const T1&, const T2&) [with T1 = long unsigned int; T2 = int]\u001b[m\u001b[K’:\n",
            "\u001b[01m\u001b[K/content/bigartm/3rdparty/gtest/fused-src/gtest/gtest.h:18897:23:\u001b[m\u001b[K   required from ‘\u001b[01m\u001b[Kstatic testing::AssertionResult testing::internal::EqHelper<lhs_is_null_literal>::Compare(const char*, const char*, const T1&, const T2&) [with T1 = long unsigned int; T2 = int; bool lhs_is_null_literal = false]\u001b[m\u001b[K’\n",
            "\u001b[01m\u001b[K/content/bigartm/src/artm_tests/cache_manager_test.cc:27:3:\u001b[m\u001b[K   required from here\n",
            "\u001b[01m\u001b[K/content/bigartm/3rdparty/gtest/fused-src/gtest/gtest.h:18861:16:\u001b[m\u001b[K \u001b[01;35m\u001b[Kwarning: \u001b[m\u001b[Kcomparison between signed and unsigned integer expressions [\u001b[01;35m\u001b[K-Wsign-compare\u001b[m\u001b[K]\n",
            "   if (\u001b[01;35m\u001b[Kexpected == actual\u001b[m\u001b[K) {\n",
            "       \u001b[01;35m\u001b[K~~~~~~~~~^~~~~~~~~\u001b[m\u001b[K\n",
            "[ 92%] \u001b[32mBuilding CXX object src/artm_tests/CMakeFiles/artm_tests.dir/collection_parser_test.cc.o\u001b[0m\n",
            "[ 92%] \u001b[32mBuilding CXX object src/artm_tests/CMakeFiles/artm_tests.dir/cpp_interface_test.cc.o\u001b[0m\n",
            "\u001b[01m\u001b[K/content/bigartm/src/artm_tests/cpp_interface_test.cc:\u001b[m\u001b[K In member function ‘\u001b[01m\u001b[Kvirtual void CppInterface_AsyncProcessBatches_Test::TestBody()\u001b[m\u001b[K’:\n",
            "\u001b[01m\u001b[K/content/bigartm/src/artm_tests/cpp_interface_test.cc:700:26:\u001b[m\u001b[K \u001b[01;35m\u001b[Kwarning: \u001b[m\u001b[Kcomparison between signed and unsigned integer expressions [\u001b[01;35m\u001b[K-Wsign-compare\u001b[m\u001b[K]\n",
            "   for (unsigned i = 0; \u001b[01;35m\u001b[Ki < offlineArgs.batch_filename_size()\u001b[m\u001b[K; ++i) {\n",
            "                        \u001b[01;35m\u001b[K~~^~~~~~~~~~~~~~~~~~~~~~~~~~~~~~~~~~~\u001b[m\u001b[K\n",
            "In file included from \u001b[01m\u001b[K/content/bigartm/src/artm_tests/cpp_interface_test.cc:4:0\u001b[m\u001b[K:\n",
            "/content/bigartm/3rdparty/gtest/fused-src/gtest/gtest.h: In instantiation of ‘\u001b[01m\u001b[Ktesting::AssertionResult testing::internal::CmpHelperGT(const char*, const char*, const T1&, const T2&) [with T1 = long unsigned int; T2 = int]\u001b[m\u001b[K’:\n",
            "\u001b[01m\u001b[K/content/bigartm/src/artm_tests/cpp_interface_test.cc:31:3:\u001b[m\u001b[K   required from here\n",
            "\u001b[01m\u001b[K/content/bigartm/3rdparty/gtest/fused-src/gtest/gtest.h:18998:28:\u001b[m\u001b[K \u001b[01;35m\u001b[Kwarning: \u001b[m\u001b[Kcomparison between signed and unsigned integer expressions [\u001b[01;35m\u001b[K-Wsign-compare\u001b[m\u001b[K]\n",
            "\u001b[01m\u001b[K/content/bigartm/3rdparty/gtest/fused-src/gtest/gtest.h:18975:7:\u001b[m\u001b[K\n",
            "   if (\u001b[01;35m\u001b[Kval1 op v\u001b[m\u001b[Kal2) {\\\n",
            "       \u001b[01;35m\u001b[K~~~~~~~~~\u001b[m\u001b[K             \n",
            "\u001b[01m\u001b[K/content/bigartm/3rdparty/gtest/fused-src/gtest/gtest.h:18998:28:\u001b[m\u001b[K\n",
            " GTEST_IMPL_CMP_HELPER_(GT, >);\n",
            "\u001b[01m\u001b[K/content/bigartm/3rdparty/gtest/fused-src/gtest/gtest.h:18975:12:\u001b[m\u001b[K \u001b[01;36m\u001b[Knote: \u001b[m\u001b[Kin definition of macro ‘\u001b[01m\u001b[KGTEST_IMPL_CMP_HELPER_\u001b[m\u001b[K’\n",
            "   if (val1 \u001b[01;36m\u001b[Kop\u001b[m\u001b[K val2) {\\\n",
            "            \u001b[01;36m\u001b[K^~\u001b[m\u001b[K\n",
            "/content/bigartm/3rdparty/gtest/fused-src/gtest/gtest.h: In instantiation of ‘\u001b[01m\u001b[Ktesting::AssertionResult testing::internal::CmpHelperEQ(const char*, const char*, const T1&, const T2&) [with T1 = long unsigned int; T2 = int]\u001b[m\u001b[K’:\n",
            "\u001b[01m\u001b[K/content/bigartm/3rdparty/gtest/fused-src/gtest/gtest.h:18897:23:\u001b[m\u001b[K   required from ‘\u001b[01m\u001b[Kstatic testing::AssertionResult testing::internal::EqHelper<lhs_is_null_literal>::Compare(const char*, const char*, const T1&, const T2&) [with T1 = long unsigned int; T2 = int; bool lhs_is_null_literal = false]\u001b[m\u001b[K’\n",
            "\u001b[01m\u001b[K/content/bigartm/src/artm_tests/cpp_interface_test.cc:342:7:\u001b[m\u001b[K   required from here\n",
            "\u001b[01m\u001b[K/content/bigartm/3rdparty/gtest/fused-src/gtest/gtest.h:18861:16:\u001b[m\u001b[K \u001b[01;35m\u001b[Kwarning: \u001b[m\u001b[Kcomparison between signed and unsigned integer expressions [\u001b[01;35m\u001b[K-Wsign-compare\u001b[m\u001b[K]\n",
            "   if (\u001b[01;35m\u001b[Kexpected == actual\u001b[m\u001b[K) {\n",
            "       \u001b[01;35m\u001b[K~~~~~~~~~^~~~~~~~~\u001b[m\u001b[K\n",
            "[ 92%] \u001b[32mBuilding CXX object src/artm_tests/CMakeFiles/artm_tests.dir/master_model_test.cc.o\u001b[0m\n",
            "\u001b[01m\u001b[K/content/bigartm/src/artm_tests/master_model_test.cc:\u001b[m\u001b[K In function ‘\u001b[01m\u001b[Kvoid testReshapeTokens(bool, bool)\u001b[m\u001b[K’:\n",
            "\u001b[01m\u001b[K/content/bigartm/src/artm_tests/master_model_test.cc:277:9:\u001b[m\u001b[K \u001b[01;35m\u001b[Kwarning: \u001b[m\u001b[Kunused variable ‘\u001b[01m\u001b[Kexpected\u001b[m\u001b[K’ [\u001b[01;35m\u001b[K-Wunused-variable\u001b[m\u001b[K]\n",
            "   float \u001b[01;35m\u001b[Kexpected\u001b[m\u001b[K[] = { 14.3481f, 11.7418f, 10.8133f, 10.3792f };\n",
            "         \u001b[01;35m\u001b[K^~~~~~~~\u001b[m\u001b[K\n",
            "In file included from \u001b[01m\u001b[K/content/bigartm/src/artm_tests/master_model_test.cc:7:0\u001b[m\u001b[K:\n",
            "/content/bigartm/3rdparty/gtest/fused-src/gtest/gtest.h: In instantiation of ‘\u001b[01m\u001b[Ktesting::AssertionResult testing::internal::CmpHelperEQ(const char*, const char*, const T1&, const T2&) [with T1 = long unsigned int; T2 = int]\u001b[m\u001b[K’:\n",
            "\u001b[01m\u001b[K/content/bigartm/3rdparty/gtest/fused-src/gtest/gtest.h:18897:23:\u001b[m\u001b[K   required from ‘\u001b[01m\u001b[Kstatic testing::AssertionResult testing::internal::EqHelper<lhs_is_null_literal>::Compare(const char*, const char*, const T1&, const T2&) [with T1 = long unsigned int; T2 = int; bool lhs_is_null_literal = false]\u001b[m\u001b[K’\n",
            "\u001b[01m\u001b[K/content/bigartm/src/artm_tests/master_model_test.cc:95:5:\u001b[m\u001b[K   required from here\n",
            "\u001b[01m\u001b[K/content/bigartm/3rdparty/gtest/fused-src/gtest/gtest.h:18861:16:\u001b[m\u001b[K \u001b[01;35m\u001b[Kwarning: \u001b[m\u001b[Kcomparison between signed and unsigned integer expressions [\u001b[01;35m\u001b[K-Wsign-compare\u001b[m\u001b[K]\n",
            "   if (\u001b[01;35m\u001b[Kexpected == actual\u001b[m\u001b[K) {\n",
            "       \u001b[01;35m\u001b[K~~~~~~~~~^~~~~~~~~\u001b[m\u001b[K\n",
            "[ 93%] \u001b[32mBuilding CXX object src/artm_tests/CMakeFiles/artm_tests.dir/multiple_classes_test.cc.o\u001b[0m\n",
            "[ 93%] \u001b[32mBuilding CXX object src/artm_tests/CMakeFiles/artm_tests.dir/regularizers_test.cc.o\u001b[0m\n",
            "In file included from \u001b[01m\u001b[K/content/bigartm/src/artm_tests/regularizers_test.cc:6:0\u001b[m\u001b[K:\n",
            "/content/bigartm/3rdparty/gtest/fused-src/gtest/gtest.h: In instantiation of ‘\u001b[01m\u001b[Ktesting::AssertionResult testing::internal::CmpHelperEQ(const char*, const char*, const T1&, const T2&) [with T1 = long unsigned int; T2 = int]\u001b[m\u001b[K’:\n",
            "\u001b[01m\u001b[K/content/bigartm/3rdparty/gtest/fused-src/gtest/gtest.h:18897:23:\u001b[m\u001b[K   required from ‘\u001b[01m\u001b[Kstatic testing::AssertionResult testing::internal::EqHelper<lhs_is_null_literal>::Compare(const char*, const char*, const T1&, const T2&) [with T1 = long unsigned int; T2 = int; bool lhs_is_null_literal = false]\u001b[m\u001b[K’\n",
            "\u001b[01m\u001b[K/content/bigartm/src/artm_tests/regularizers_test.cc:377:5:\u001b[m\u001b[K   required from here\n",
            "\u001b[01m\u001b[K/content/bigartm/3rdparty/gtest/fused-src/gtest/gtest.h:18861:16:\u001b[m\u001b[K \u001b[01;35m\u001b[Kwarning: \u001b[m\u001b[Kcomparison between signed and unsigned integer expressions [\u001b[01;35m\u001b[K-Wsign-compare\u001b[m\u001b[K]\n",
            "   if (\u001b[01;35m\u001b[Kexpected == actual\u001b[m\u001b[K) {\n",
            "       \u001b[01;35m\u001b[K~~~~~~~~~^~~~~~~~~\u001b[m\u001b[K\n",
            "[ 93%] \u001b[32mBuilding CXX object src/artm_tests/CMakeFiles/artm_tests.dir/scores_test.cc.o\u001b[0m\n",
            "\u001b[01m\u001b[K/content/bigartm/src/artm_tests/scores_test.cc:\u001b[m\u001b[K In member function ‘\u001b[01m\u001b[Kvirtual void Scores_ScoreTrackerExportImport_Test::TestBody()\u001b[m\u001b[K’:\n",
            "\u001b[01m\u001b[K/content/bigartm/src/artm_tests/scores_test.cc:197:24:\u001b[m\u001b[K \u001b[01;35m\u001b[Kwarning: \u001b[m\u001b[Kcomparison between signed and unsigned integer expressions [\u001b[01;35m\u001b[K-Wsign-compare\u001b[m\u001b[K]\n",
            "   for (size_t i = 0; \u001b[01;35m\u001b[Ki < nPasses\u001b[m\u001b[K; ++i) {\n",
            "                      \u001b[01;35m\u001b[K~~^~~~~~~~~\u001b[m\u001b[K\n",
            "\u001b[01m\u001b[K/content/bigartm/src/artm_tests/scores_test.cc:204:24:\u001b[m\u001b[K \u001b[01;35m\u001b[Kwarning: \u001b[m\u001b[Kcomparison between signed and unsigned integer expressions [\u001b[01;35m\u001b[K-Wsign-compare\u001b[m\u001b[K]\n",
            "   for (size_t i = 0; \u001b[01;35m\u001b[Ki < nPasses\u001b[m\u001b[K; ++i) {\n",
            "                      \u001b[01;35m\u001b[K~~^~~~~~~~~\u001b[m\u001b[K\n",
            "[ 94%] \u001b[32mBuilding CXX object src/artm_tests/CMakeFiles/artm_tests.dir/repeatable_result_test.cc.o\u001b[0m\n",
            "In file included from \u001b[01m\u001b[K/content/bigartm/src/artm_tests/repeatable_result_test.cc:4:0\u001b[m\u001b[K:\n",
            "/content/bigartm/3rdparty/gtest/fused-src/gtest/gtest.h: In instantiation of ‘\u001b[01m\u001b[Ktesting::AssertionResult testing::internal::CmpHelperEQ(const char*, const char*, const T1&, const T2&) [with T1 = long unsigned int; T2 = int]\u001b[m\u001b[K’:\n",
            "\u001b[01m\u001b[K/content/bigartm/3rdparty/gtest/fused-src/gtest/gtest.h:18897:23:\u001b[m\u001b[K   required from ‘\u001b[01m\u001b[Kstatic testing::AssertionResult testing::internal::EqHelper<lhs_is_null_literal>::Compare(const char*, const char*, const T1&, const T2&) [with T1 = long unsigned int; T2 = int; bool lhs_is_null_literal = false]\u001b[m\u001b[K’\n",
            "\u001b[01m\u001b[K/content/bigartm/src/artm_tests/repeatable_result_test.cc:72:3:\u001b[m\u001b[K   required from here\n",
            "\u001b[01m\u001b[K/content/bigartm/3rdparty/gtest/fused-src/gtest/gtest.h:18861:16:\u001b[m\u001b[K \u001b[01;35m\u001b[Kwarning: \u001b[m\u001b[Kcomparison between signed and unsigned integer expressions [\u001b[01;35m\u001b[K-Wsign-compare\u001b[m\u001b[K]\n",
            "   if (\u001b[01;35m\u001b[Kexpected == actual\u001b[m\u001b[K) {\n",
            "       \u001b[01;35m\u001b[K~~~~~~~~~^~~~~~~~~\u001b[m\u001b[K\n",
            "[ 94%] \u001b[32mBuilding CXX object src/artm_tests/CMakeFiles/artm_tests.dir/supcry_test.cc.o\u001b[0m\n",
            "[ 94%] \u001b[32mBuilding CXX object src/artm_tests/CMakeFiles/artm_tests.dir/template_manager_test.cc.o\u001b[0m\n",
            "In file included from \u001b[01m\u001b[K/content/bigartm/src/artm_tests/template_manager_test.cc:8:0\u001b[m\u001b[K:\n",
            "\u001b[01m\u001b[K/content/bigartm/src/artm_tests/../artm/core/check_messages.h:\u001b[m\u001b[K In function ‘\u001b[01m\u001b[Kvoid artm::core::FixMessage(T*) [with T = artm::RegularizerConfig]\u001b[m\u001b[K’:\n",
            "\u001b[01m\u001b[K/content/bigartm/src/artm_tests/../artm/core/check_messages.h:553:28:\u001b[m\u001b[K \u001b[01;35m\u001b[Kwarning: \u001b[m\u001b[Ksuggest parentheses around ‘\u001b[01m\u001b[K&&\u001b[m\u001b[K’ within ‘\u001b[01m\u001b[K||\u001b[m\u001b[K’ [\u001b[01;35m\u001b[K-Wparentheses\u001b[m\u001b[K]\n",
            "   if (\u001b[01;35m\u001b[Kmessage->has_gamma() && (message->gamma() < 0)\u001b[m\u001b[K || (message->gamma() > 1)) {\n",
            "       \u001b[01;35m\u001b[K~~~~~~~~~~~~~~~~~~~~~^~~~~~~~~~~~~~~~~~~~~~~~~\u001b[m\u001b[K\n",
            "[ 95%] \u001b[32mBuilding CXX object src/artm_tests/CMakeFiles/artm_tests.dir/test_mother.cc.o\u001b[0m\n",
            "[ 95%] \u001b[32mBuilding CXX object src/artm_tests/CMakeFiles/artm_tests.dir/thread_safe_holder_test.cc.o\u001b[0m\n",
            "[ 96%] \u001b[32mBuilding CXX object src/artm_tests/CMakeFiles/artm_tests.dir/topic_seg_test.cc.o\u001b[0m\n",
            "[ 96%] \u001b[32mBuilding CXX object src/artm_tests/CMakeFiles/artm_tests.dir/transactions_test.cc.o\u001b[0m\n",
            "\u001b[01m\u001b[K/content/bigartm/src/artm_tests/transactions_test.cc:\u001b[m\u001b[K In member function ‘\u001b[01m\u001b[Kvirtual void Transactions_BasicTest_Test::TestBody()\u001b[m\u001b[K’:\n",
            "\u001b[01m\u001b[K/content/bigartm/src/artm_tests/transactions_test.cc:166:27:\u001b[m\u001b[K \u001b[01;35m\u001b[Kwarning: \u001b[m\u001b[Kcomparison between signed and unsigned integer expressions [\u001b[01;35m\u001b[K-Wsign-compare\u001b[m\u001b[K]\n",
            "         for (int x = 0; \u001b[01;35m\u001b[Kx < transactions.size()\u001b[m\u001b[K; ++x) {\n",
            "                         \u001b[01;35m\u001b[K~~^~~~~~~~~~~~~~~~~~~~~\u001b[m\u001b[K\n",
            "[ 96%] \u001b[32mBuilding CXX object src/artm_tests/CMakeFiles/artm_tests.dir/__/__/3rdparty/gtest/fused-src/gtest/gtest_main.cc.o\u001b[0m\n",
            "[ 97%] \u001b[32mBuilding CXX object src/artm_tests/CMakeFiles/artm_tests.dir/__/__/3rdparty/gtest/fused-src/gtest/gtest-all.cc.o\u001b[0m\n",
            "[ 97%] \u001b[32m\u001b[1mLinking CXX executable ../../bin/artm_tests\u001b[0m\n",
            "[ 97%] Built target artm_tests\n",
            "\u001b[35m\u001b[1mScanning dependencies of target bigartm\u001b[0m\n",
            "[ 97%] \u001b[32mBuilding CXX object src/bigartm/CMakeFiles/bigartm.dir/srcmain.cc.o\u001b[0m\n",
            "[ 98%] \u001b[32m\u001b[1mLinking CXX executable ../../bin/bigartm\u001b[0m\n",
            "[ 98%] Built target bigartm\n",
            "\u001b[35m\u001b[1mScanning dependencies of target python_bigartm_build\u001b[0m\n",
            "[ 98%] \u001b[34m\u001b[1mBuilding python package bigartm\u001b[0m\n",
            "running build\n",
            "Generating ./artm/wrapper/messages_pb2.py...\n",
            "Executing ['/content/bigartm/build/bin/protoc', '-I../src', '--python_out=./tmpkwhftn41', '../src/./artm/messages.proto']...\n",
            "running build_py\n",
            "creating build\n",
            "creating build/lib\n",
            "creating build/lib/artm\n",
            "copying artm/regularizers.py -> build/lib/artm\n",
            "copying artm/batches_utils.py -> build/lib/artm\n",
            "copying artm/artm_model.py -> build/lib/artm\n",
            "copying artm/lda_model.py -> build/lib/artm\n",
            "copying artm/score_tracker.py -> build/lib/artm\n",
            "copying artm/master_component.py -> build/lib/artm\n",
            "copying artm/dictionary.py -> build/lib/artm\n",
            "copying artm/__init__.py -> build/lib/artm\n",
            "copying artm/scores.py -> build/lib/artm\n",
            "copying artm/hierarchy_utils.py -> build/lib/artm\n",
            "creating build/lib/artm/wrapper\n",
            "copying artm/wrapper/api.py -> build/lib/artm/wrapper\n",
            "copying artm/wrapper/exceptions.py -> build/lib/artm/wrapper\n",
            "copying artm/wrapper/spec.py -> build/lib/artm/wrapper\n",
            "copying artm/wrapper/utils.py -> build/lib/artm/wrapper\n",
            "copying artm/wrapper/__init__.py -> build/lib/artm/wrapper\n",
            "copying artm/wrapper/constants.py -> build/lib/artm/wrapper\n",
            "copying artm/wrapper/messages_pb2.py -> build/lib/artm/wrapper\n",
            "[ 98%] Built target python_bigartm_build\n",
            "\u001b[35m\u001b[1mScanning dependencies of target python_bigartm_wheel\u001b[0m\n",
            "[100%] \u001b[34m\u001b[1mBuilding wheel bigartm\u001b[0m\n",
            "running bdist_wheel\n",
            "running build\n",
            "running build_py\n",
            "running build_ext\n",
            "installing to build/bdist.linux-x86_64/wheel\n",
            "running install\n",
            "running install_lib\n",
            "creating build/bdist.linux-x86_64\n",
            "creating build/bdist.linux-x86_64/wheel\n",
            "creating build/bdist.linux-x86_64/wheel/bigartm-0.10.0.data\n",
            "creating build/bdist.linux-x86_64/wheel/bigartm-0.10.0.data/purelib\n",
            "creating build/bdist.linux-x86_64/wheel/bigartm-0.10.0.data/purelib/artm\n",
            "copying build/lib/artm/regularizers.py -> build/bdist.linux-x86_64/wheel/bigartm-0.10.0.data/purelib/artm\n",
            "copying build/lib/artm/libartm.so -> build/bdist.linux-x86_64/wheel/bigartm-0.10.0.data/purelib/artm\n",
            "copying build/lib/artm/batches_utils.py -> build/bdist.linux-x86_64/wheel/bigartm-0.10.0.data/purelib/artm\n",
            "copying build/lib/artm/artm_model.py -> build/bdist.linux-x86_64/wheel/bigartm-0.10.0.data/purelib/artm\n",
            "copying build/lib/artm/lda_model.py -> build/bdist.linux-x86_64/wheel/bigartm-0.10.0.data/purelib/artm\n",
            "copying build/lib/artm/score_tracker.py -> build/bdist.linux-x86_64/wheel/bigartm-0.10.0.data/purelib/artm\n",
            "copying build/lib/artm/master_component.py -> build/bdist.linux-x86_64/wheel/bigartm-0.10.0.data/purelib/artm\n",
            "copying build/lib/artm/dictionary.py -> build/bdist.linux-x86_64/wheel/bigartm-0.10.0.data/purelib/artm\n",
            "copying build/lib/artm/__init__.py -> build/bdist.linux-x86_64/wheel/bigartm-0.10.0.data/purelib/artm\n",
            "creating build/bdist.linux-x86_64/wheel/bigartm-0.10.0.data/purelib/artm/wrapper\n",
            "copying build/lib/artm/wrapper/api.py -> build/bdist.linux-x86_64/wheel/bigartm-0.10.0.data/purelib/artm/wrapper\n",
            "copying build/lib/artm/wrapper/exceptions.py -> build/bdist.linux-x86_64/wheel/bigartm-0.10.0.data/purelib/artm/wrapper\n",
            "copying build/lib/artm/wrapper/spec.py -> build/bdist.linux-x86_64/wheel/bigartm-0.10.0.data/purelib/artm/wrapper\n",
            "copying build/lib/artm/wrapper/utils.py -> build/bdist.linux-x86_64/wheel/bigartm-0.10.0.data/purelib/artm/wrapper\n",
            "copying build/lib/artm/wrapper/__init__.py -> build/bdist.linux-x86_64/wheel/bigartm-0.10.0.data/purelib/artm/wrapper\n",
            "copying build/lib/artm/wrapper/constants.py -> build/bdist.linux-x86_64/wheel/bigartm-0.10.0.data/purelib/artm/wrapper\n",
            "copying build/lib/artm/wrapper/messages_pb2.py -> build/bdist.linux-x86_64/wheel/bigartm-0.10.0.data/purelib/artm/wrapper\n",
            "copying build/lib/artm/scores.py -> build/bdist.linux-x86_64/wheel/bigartm-0.10.0.data/purelib/artm\n",
            "copying build/lib/artm/hierarchy_utils.py -> build/bdist.linux-x86_64/wheel/bigartm-0.10.0.data/purelib/artm\n",
            "running install_egg_info\n",
            "running egg_info\n",
            "creating bigartm.egg-info\n",
            "writing bigartm.egg-info/PKG-INFO\n",
            "writing dependency_links to bigartm.egg-info/dependency_links.txt\n",
            "writing requirements to bigartm.egg-info/requires.txt\n",
            "writing top-level names to bigartm.egg-info/top_level.txt\n",
            "writing manifest file 'bigartm.egg-info/SOURCES.txt'\n",
            "writing manifest file 'bigartm.egg-info/SOURCES.txt'\n",
            "Copying bigartm.egg-info to build/bdist.linux-x86_64/wheel/bigartm-0.10.0.data/purelib/bigartm-0.10.0-py3.6.egg-info\n",
            "running install_scripts\n",
            "creating build/bdist.linux-x86_64/wheel/bigartm-0.10.0.dist-info/WHEEL\n",
            "creating '/content/bigartm/build/python/bigartm-0.10.0-cp36-cp36m-linux_x86_64.whl' and adding 'build/bdist.linux-x86_64/wheel' to it\n",
            "adding 'bigartm-0.10.0.data/purelib/artm/__init__.py'\n",
            "adding 'bigartm-0.10.0.data/purelib/artm/artm_model.py'\n",
            "adding 'bigartm-0.10.0.data/purelib/artm/batches_utils.py'\n",
            "adding 'bigartm-0.10.0.data/purelib/artm/dictionary.py'\n",
            "adding 'bigartm-0.10.0.data/purelib/artm/hierarchy_utils.py'\n",
            "adding 'bigartm-0.10.0.data/purelib/artm/lda_model.py'\n",
            "adding 'bigartm-0.10.0.data/purelib/artm/libartm.so'\n",
            "adding 'bigartm-0.10.0.data/purelib/artm/master_component.py'\n",
            "adding 'bigartm-0.10.0.data/purelib/artm/regularizers.py'\n",
            "adding 'bigartm-0.10.0.data/purelib/artm/score_tracker.py'\n",
            "adding 'bigartm-0.10.0.data/purelib/artm/scores.py'\n",
            "adding 'bigartm-0.10.0.data/purelib/artm/wrapper/__init__.py'\n",
            "adding 'bigartm-0.10.0.data/purelib/artm/wrapper/api.py'\n",
            "adding 'bigartm-0.10.0.data/purelib/artm/wrapper/constants.py'\n",
            "adding 'bigartm-0.10.0.data/purelib/artm/wrapper/exceptions.py'\n",
            "adding 'bigartm-0.10.0.data/purelib/artm/wrapper/messages_pb2.py'\n",
            "adding 'bigartm-0.10.0.data/purelib/artm/wrapper/spec.py'\n",
            "adding 'bigartm-0.10.0.data/purelib/artm/wrapper/utils.py'\n",
            "adding 'bigartm-0.10.0.dist-info/METADATA'\n",
            "adding 'bigartm-0.10.0.dist-info/WHEEL'\n",
            "adding 'bigartm-0.10.0.dist-info/top_level.txt'\n",
            "adding 'bigartm-0.10.0.dist-info/RECORD'\n",
            "removing build/bdist.linux-x86_64/wheel\n",
            "[100%] Built target python_bigartm_wheel\n"
          ],
          "name": "stdout"
        }
      ]
    },
    {
      "cell_type": "code",
      "metadata": {
        "id": "Gye05Nkjd6NG",
        "colab_type": "code",
        "colab": {
          "base_uri": "https://localhost:8080/",
          "height": 173
        },
        "outputId": "873540d1-703d-440b-dd8f-16743bddb653"
      },
      "source": [
        "!pip install python/bigartm*.whl -U"
      ],
      "execution_count": 9,
      "outputs": [
        {
          "output_type": "stream",
          "text": [
            "Processing ./python/bigartm-0.10.0-cp36-cp36m-linux_x86_64.whl\n",
            "Requirement already satisfied, skipping upgrade: pandas in /usr/local/lib/python3.6/dist-packages (from bigartm==0.10.0) (0.25.3)\n",
            "Requirement already satisfied, skipping upgrade: numpy in /usr/local/lib/python3.6/dist-packages (from bigartm==0.10.0) (1.17.5)\n",
            "Requirement already satisfied, skipping upgrade: python-dateutil>=2.6.1 in /usr/local/lib/python3.6/dist-packages (from pandas->bigartm==0.10.0) (2.6.1)\n",
            "Requirement already satisfied, skipping upgrade: pytz>=2017.2 in /usr/local/lib/python3.6/dist-packages (from pandas->bigartm==0.10.0) (2018.9)\n",
            "Requirement already satisfied, skipping upgrade: six>=1.5 in /usr/local/lib/python3.6/dist-packages (from python-dateutil>=2.6.1->pandas->bigartm==0.10.0) (1.12.0)\n",
            "Installing collected packages: bigartm\n",
            "Successfully installed bigartm-0.10.0\n"
          ],
          "name": "stdout"
        }
      ]
    },
    {
      "cell_type": "code",
      "metadata": {
        "id": "PCaf9JRwd_bO",
        "colab_type": "code",
        "colab": {
          "base_uri": "https://localhost:8080/",
          "height": 34
        },
        "outputId": "9e02bf36-357a-4abe-a3fd-0bad93eff031"
      },
      "source": [
        "cd ../.. "
      ],
      "execution_count": 10,
      "outputs": [
        {
          "output_type": "stream",
          "text": [
            "/content\n"
          ],
          "name": "stdout"
        }
      ]
    },
    {
      "cell_type": "code",
      "metadata": {
        "id": "dYjZkwaCeCkd",
        "colab_type": "code",
        "colab": {
          "base_uri": "https://localhost:8080/",
          "height": 666
        },
        "outputId": "62f845c0-7622-481f-82ac-c338bea9dc89"
      },
      "source": [
        "!pip install pymorphy2[fast] nltk gensim"
      ],
      "execution_count": 11,
      "outputs": [
        {
          "output_type": "stream",
          "text": [
            "Collecting pymorphy2[fast]\n",
            "\u001b[?25l  Downloading https://files.pythonhosted.org/packages/a3/33/fff9675c68b5f6c63ec8c6e6ff57827dda28a1fa5b2c2d727dffff92dd47/pymorphy2-0.8-py2.py3-none-any.whl (46kB)\n",
            "\r\u001b[K     |███████                         | 10kB 16.5MB/s eta 0:00:01\r\u001b[K     |██████████████▏                 | 20kB 857kB/s eta 0:00:01\r\u001b[K     |█████████████████████▎          | 30kB 1.1MB/s eta 0:00:01\r\u001b[K     |████████████████████████████▍   | 40kB 840kB/s eta 0:00:01\r\u001b[K     |████████████████████████████████| 51kB 918kB/s \n",
            "\u001b[?25hRequirement already satisfied: nltk in /usr/local/lib/python3.6/dist-packages (3.2.5)\n",
            "Requirement already satisfied: gensim in /usr/local/lib/python3.6/dist-packages (3.6.0)\n",
            "Collecting dawg-python>=0.7\n",
            "  Downloading https://files.pythonhosted.org/packages/6a/84/ff1ce2071d4c650ec85745766c0047ccc3b5036f1d03559fd46bb38b5eeb/DAWG_Python-0.7.2-py2.py3-none-any.whl\n",
            "Requirement already satisfied: docopt>=0.6 in /usr/local/lib/python3.6/dist-packages (from pymorphy2[fast]) (0.6.2)\n",
            "Collecting pymorphy2-dicts<3.0,>=2.4\n",
            "\u001b[?25l  Downloading https://files.pythonhosted.org/packages/02/51/2465fd4f72328ab50877b54777764d928da8cb15b74e2680fc1bd8cb3173/pymorphy2_dicts-2.4.393442.3710985-py2.py3-none-any.whl (7.1MB)\n",
            "\u001b[K     |████████████████████████████████| 7.1MB 3.1MB/s \n",
            "\u001b[?25hCollecting DAWG>=0.7.3; extra == \"fast\"\n",
            "\u001b[?25l  Downloading https://files.pythonhosted.org/packages/29/c0/d8d967bcaa0b572f9dc1d878bbf5a7bfd5afa2102a5ae426731f6ce3bc26/DAWG-0.7.8.tar.gz (255kB)\n",
            "\u001b[K     |████████████████████████████████| 256kB 22.3MB/s \n",
            "\u001b[?25hRequirement already satisfied: six in /usr/local/lib/python3.6/dist-packages (from nltk) (1.12.0)\n",
            "Requirement already satisfied: numpy>=1.11.3 in /usr/local/lib/python3.6/dist-packages (from gensim) (1.17.5)\n",
            "Requirement already satisfied: scipy>=0.18.1 in /usr/local/lib/python3.6/dist-packages (from gensim) (1.4.1)\n",
            "Requirement already satisfied: smart-open>=1.2.1 in /usr/local/lib/python3.6/dist-packages (from gensim) (1.9.0)\n",
            "Requirement already satisfied: boto>=2.32 in /usr/local/lib/python3.6/dist-packages (from smart-open>=1.2.1->gensim) (2.49.0)\n",
            "Requirement already satisfied: boto3 in /usr/local/lib/python3.6/dist-packages (from smart-open>=1.2.1->gensim) (1.10.47)\n",
            "Requirement already satisfied: requests in /usr/local/lib/python3.6/dist-packages (from smart-open>=1.2.1->gensim) (2.21.0)\n",
            "Requirement already satisfied: s3transfer<0.3.0,>=0.2.0 in /usr/local/lib/python3.6/dist-packages (from boto3->smart-open>=1.2.1->gensim) (0.2.1)\n",
            "Requirement already satisfied: botocore<1.14.0,>=1.13.47 in /usr/local/lib/python3.6/dist-packages (from boto3->smart-open>=1.2.1->gensim) (1.13.47)\n",
            "Requirement already satisfied: jmespath<1.0.0,>=0.7.1 in /usr/local/lib/python3.6/dist-packages (from boto3->smart-open>=1.2.1->gensim) (0.9.4)\n",
            "Requirement already satisfied: urllib3<1.25,>=1.21.1 in /usr/local/lib/python3.6/dist-packages (from requests->smart-open>=1.2.1->gensim) (1.24.3)\n",
            "Requirement already satisfied: certifi>=2017.4.17 in /usr/local/lib/python3.6/dist-packages (from requests->smart-open>=1.2.1->gensim) (2019.11.28)\n",
            "Requirement already satisfied: chardet<3.1.0,>=3.0.2 in /usr/local/lib/python3.6/dist-packages (from requests->smart-open>=1.2.1->gensim) (3.0.4)\n",
            "Requirement already satisfied: idna<2.9,>=2.5 in /usr/local/lib/python3.6/dist-packages (from requests->smart-open>=1.2.1->gensim) (2.8)\n",
            "Requirement already satisfied: docutils<0.16,>=0.10 in /usr/local/lib/python3.6/dist-packages (from botocore<1.14.0,>=1.13.47->boto3->smart-open>=1.2.1->gensim) (0.15.2)\n",
            "Requirement already satisfied: python-dateutil<3.0.0,>=2.1; python_version >= \"2.7\" in /usr/local/lib/python3.6/dist-packages (from botocore<1.14.0,>=1.13.47->boto3->smart-open>=1.2.1->gensim) (2.6.1)\n",
            "Building wheels for collected packages: DAWG\n",
            "  Building wheel for DAWG (setup.py) ... \u001b[?25l\u001b[?25hdone\n",
            "  Created wheel for DAWG: filename=DAWG-0.7.8-cp36-cp36m-linux_x86_64.whl size=768166 sha256=4f10cecbba94d4a21480c9b87f2b33bbaab1effefda4288b6b7634041ad7fd3c\n",
            "  Stored in directory: /root/.cache/pip/wheels/d4/88/d0/4e4abc83eb8f59a71e8dbd8ba99fd5615a3af1fac1ef7f8825\n",
            "Successfully built DAWG\n",
            "Installing collected packages: dawg-python, pymorphy2-dicts, DAWG, pymorphy2\n",
            "Successfully installed DAWG-0.7.8 dawg-python-0.7.2 pymorphy2-0.8 pymorphy2-dicts-2.4.393442.3710985\n"
          ],
          "name": "stdout"
        }
      ]
    },
    {
      "cell_type": "code",
      "metadata": {
        "id": "KHvBZg9EeL-U",
        "colab_type": "code",
        "colab": {
          "base_uri": "https://localhost:8080/",
          "height": 68
        },
        "outputId": "244b0792-b2dd-438f-ad77-cbaeaf30831d"
      },
      "source": [
        "import artm\n",
        "%matplotlib inline\n",
        "import glob\n",
        "import os, re\n",
        "import matplotlib.pyplot as plt\n",
        "from collections import defaultdict, Counter\n",
        "from nltk.corpus import stopwords\n",
        "import numpy as np\n",
        "from pymorphy2 import MorphAnalyzer\n",
        "import gensim, nltk\n",
        "import string\n",
        "morph = MorphAnalyzer()\n",
        "from nltk.tokenize import word_tokenize"
      ],
      "execution_count": 8,
      "outputs": [
        {
          "output_type": "stream",
          "text": [
            "/usr/local/lib/python3.6/dist-packages/scipy/sparse/sparsetools.py:21: DeprecationWarning: `scipy.sparse.sparsetools` is deprecated!\n",
            "scipy.sparse.sparsetools is a private module for scipy.sparse, and should not be used.\n",
            "  _deprecated()\n"
          ],
          "name": "stderr"
        }
      ]
    },
    {
      "cell_type": "code",
      "metadata": {
        "id": "-rklrT5FePBG",
        "colab_type": "code",
        "colab": {
          "base_uri": "https://localhost:8080/",
          "height": 102
        },
        "outputId": "77f4724d-7eac-446d-b4d5-d1710b2ae5c3"
      },
      "source": [
        "nltk.download('punkt');nltk.download('stopwords')"
      ],
      "execution_count": 9,
      "outputs": [
        {
          "output_type": "stream",
          "text": [
            "[nltk_data] Downloading package punkt to /root/nltk_data...\n",
            "[nltk_data]   Package punkt is already up-to-date!\n",
            "[nltk_data] Downloading package stopwords to /root/nltk_data...\n",
            "[nltk_data]   Package stopwords is already up-to-date!\n"
          ],
          "name": "stdout"
        },
        {
          "output_type": "execute_result",
          "data": {
            "text/plain": [
              "True"
            ]
          },
          "metadata": {
            "tags": []
          },
          "execution_count": 9
        }
      ]
    },
    {
      "cell_type": "code",
      "metadata": {
        "id": "GqT68IdFtyaX",
        "colab_type": "code",
        "colab": {}
      },
      "source": [
        "string.punctuation += '«»—–…“”•№→’€'\n",
        "symbols = string.punctuation + '1234567890'"
      ],
      "execution_count": 0,
      "outputs": []
    },
    {
      "cell_type": "code",
      "metadata": {
        "id": "dja4BOmzt7CL",
        "colab_type": "code",
        "colab": {
          "base_uri": "https://localhost:8080/",
          "height": 34
        },
        "outputId": "0a83def5-88ad-4984-926c-1140a2b12d19"
      },
      "source": [
        "symbols"
      ],
      "execution_count": 17,
      "outputs": [
        {
          "output_type": "execute_result",
          "data": {
            "text/plain": [
              "'!\"#$%&\\'()*+,-./:;<=>?@[\\\\]^_`{|}~«»—–…“”•№→’€1234567890'"
            ]
          },
          "metadata": {
            "tags": []
          },
          "execution_count": 17
        }
      ]
    },
    {
      "cell_type": "code",
      "metadata": {
        "id": "9EDp4eYytxYf",
        "colab_type": "code",
        "colab": {}
      },
      "source": [
        "stops = set(stopwords.words('russian')) | {'gt', 'который', 'это'}\n",
        "\n",
        "def remove_tags(text):\n",
        "    text = re.sub(r'<[^>]+>', '', text)\n",
        "    return text\n",
        "\n",
        "def tokenize(text):\n",
        "    words = [word.strip(symbols) for word in text.split()]\n",
        "    words = [word for word in words if word and not ';' in word]\n",
        "    return words\n",
        "\n",
        "def opt_normalize(texts, top=None):\n",
        "    uniq = Counter()\n",
        "    for text in texts:\n",
        "        uniq.update(text)\n",
        "    \n",
        "    norm_uniq = {word:morph.parse(word.replace(':', ''))[0].normal_form for word, _ in uniq.most_common(top)}\n",
        "    \n",
        "    norm_texts = []\n",
        "    for text in texts:\n",
        "        norm_words = [norm_uniq.get(word) for word in text]\n",
        "        norm_words = [word for word in norm_words if word and word not in stops]\n",
        "        norm_texts.append(norm_words)\n",
        "        \n",
        "    return norm_texts"
      ],
      "execution_count": 0,
      "outputs": []
    },
    {
      "cell_type": "markdown",
      "metadata": {
        "id": "SFxh4pj9sK20",
        "colab_type": "text"
      },
      "source": [
        "Обучение модели"
      ]
    },
    {
      "cell_type": "code",
      "metadata": {
        "id": "ajrGKUeZsNaS",
        "colab_type": "code",
        "colab": {
          "base_uri": "https://localhost:8080/",
          "height": 289
        },
        "outputId": "da691a61-99f1-47e4-aad1-d176e44cc6ae"
      },
      "source": [
        "!wget https://github.com/mannefedov/compling_nlp_hse_course/raw/master/data/habr_texts.txt.zip"
      ],
      "execution_count": 14,
      "outputs": [
        {
          "output_type": "stream",
          "text": [
            "--2020-02-03 13:36:26--  https://github.com/mannefedov/compling_nlp_hse_course/raw/master/data/habr_texts.txt.zip\n",
            "Resolving github.com (github.com)... 140.82.113.3\n",
            "Connecting to github.com (github.com)|140.82.113.3|:443... connected.\n",
            "HTTP request sent, awaiting response... 302 Found\n",
            "Location: https://raw.githubusercontent.com/mannefedov/compling_nlp_hse_course/master/data/habr_texts.txt.zip [following]\n",
            "--2020-02-03 13:36:27--  https://raw.githubusercontent.com/mannefedov/compling_nlp_hse_course/master/data/habr_texts.txt.zip\n",
            "Resolving raw.githubusercontent.com (raw.githubusercontent.com)... 151.101.0.133, 151.101.64.133, 151.101.128.133, ...\n",
            "Connecting to raw.githubusercontent.com (raw.githubusercontent.com)|151.101.0.133|:443... connected.\n",
            "HTTP request sent, awaiting response... 200 OK\n",
            "Length: 18645068 (18M) [application/zip]\n",
            "Saving to: ‘habr_texts.txt.zip’\n",
            "\n",
            "habr_texts.txt.zip  100%[===================>]  17.78M   109MB/s    in 0.2s    \n",
            "\n",
            "2020-02-03 13:36:30 (109 MB/s) - ‘habr_texts.txt.zip’ saved [18645068/18645068]\n",
            "\n"
          ],
          "name": "stdout"
        }
      ]
    },
    {
      "cell_type": "code",
      "metadata": {
        "id": "U-9-4WjXsl82",
        "colab_type": "code",
        "colab": {
          "base_uri": "https://localhost:8080/",
          "height": 51
        },
        "outputId": "489753ec-875a-4f4d-8569-e317dd7960fc"
      },
      "source": [
        "!unzip habr_texts.txt.zip"
      ],
      "execution_count": 15,
      "outputs": [
        {
          "output_type": "stream",
          "text": [
            "Archive:  habr_texts.txt.zip\n",
            "  inflating: habr_texts.txt          \n"
          ],
          "name": "stdout"
        }
      ]
    },
    {
      "cell_type": "code",
      "metadata": {
        "id": "kJmgeVDduBPg",
        "colab_type": "code",
        "colab": {}
      },
      "source": [
        "texts = open('habr_texts.txt').read().splitlines()\n",
        "texts = opt_normalize([tokenize(remove_tags(text.lower())) for text in texts], 30000)"
      ],
      "execution_count": 0,
      "outputs": []
    },
    {
      "cell_type": "code",
      "metadata": {
        "id": "t02RAY75ugH6",
        "colab_type": "code",
        "colab": {}
      },
      "source": [
        "ph = gensim.models.Phrases(texts, scoring='npmi', threshold=0.3, common_terms = stops) \n",
        "p = gensim.models.phrases.Phraser(ph)\n",
        "ngrammed_habr_texts = p[texts]"
      ],
      "execution_count": 0,
      "outputs": []
    },
    {
      "cell_type": "code",
      "metadata": {
        "id": "czP__c1_vjtH",
        "colab_type": "code",
        "colab": {}
      },
      "source": [
        "f = open('habr_texts.vw', 'w')\n",
        "\n",
        "for i, text in enumerate(ngrammed_habr_texts):\n",
        "    c = Counter(text)\n",
        "    doc = 'doc_'+ str(i) + ' '\n",
        "    vw_text = ' '.join([x+':'+str(c[x]) for x in c])\n",
        "    \n",
        "    f.write(doc + vw_text  + '\\n')\n",
        "f.close()"
      ],
      "execution_count": 0,
      "outputs": []
    },
    {
      "cell_type": "code",
      "metadata": {
        "id": "K_9fNLU6wajs",
        "colab_type": "code",
        "colab": {}
      },
      "source": [
        "#from google.colab import files\n",
        "#files.download('habr_texts.vw') "
      ],
      "execution_count": 0,
      "outputs": []
    },
    {
      "cell_type": "code",
      "metadata": {
        "id": "_yMDrMPHwDmw",
        "colab_type": "code",
        "colab": {}
      },
      "source": [
        "def print_measures(model_artm):\n",
        "    print('Sparsity Phi: {0:.3f} ARTM)'.format(\n",
        "        model_artm.score_tracker['SparsityPhiScore'].last_value)\n",
        ")\n",
        "    print('Sparsity Theta: {0:.3f} (ARTM)'.format(\n",
        "        model_artm.score_tracker['SparsityThetaScore'].last_value))\n",
        "\n",
        "    print('Kernel contrast: {0:.3f} (ARTM)'.format(\n",
        "        model_artm.score_tracker['TopicKernelScore'].last_average_contrast))\n",
        "\n",
        "    print('Kernel purity: {0:.3f} (ARTM)'.format(\n",
        "        model_artm.score_tracker['TopicKernelScore'].last_average_purity))\n",
        "\n",
        "    print('Perplexity: {0:.3f} (ARTM)'.format(\n",
        "        model_artm.score_tracker['PerplexityScore'].last_value)\n",
        ")\n",
        "    plt.plot(range(model_artm.num_phi_updates), model_artm.score_tracker['PerplexityScore'].value, 'r--', linewidth=2)\n",
        "    plt.xlabel('Iterations count')\n",
        "    plt.ylabel(' ARTM perp. (red)')\n",
        "    plt.grid(True)\n",
        "    plt.show()"
      ],
      "execution_count": 0,
      "outputs": []
    },
    {
      "cell_type": "code",
      "metadata": {
        "id": "F9H10dX_wNVr",
        "colab_type": "code",
        "colab": {}
      },
      "source": [
        "batch_vectorizer = artm.BatchVectorizer(data_path='habr_texts.vw',  # название файла\n",
        "                                        data_format='vowpal_wabbit', # формат файла, у нас vw\n",
        "                                        target_folder='batches', # название папки в которую положаться батчи\n",
        "                                       batch_size=1000) # размер батча, подбирайте под свою память"
      ],
      "execution_count": 0,
      "outputs": []
    },
    {
      "cell_type": "code",
      "metadata": {
        "id": "yGu-tqebycgA",
        "colab_type": "code",
        "colab": {}
      },
      "source": [
        "batch_vectorizer = artm.BatchVectorizer(data_path='batches', # название папки с батчами\n",
        "                                        data_format='batches') # указываем формат - батчи"
      ],
      "execution_count": 0,
      "outputs": []
    },
    {
      "cell_type": "code",
      "metadata": {
        "id": "vx5C6NWnyfQO",
        "colab_type": "code",
        "colab": {}
      },
      "source": [
        "# инициализируем словарь, чтобы сделать модель\n",
        "dictionary = artm.Dictionary()"
      ],
      "execution_count": 0,
      "outputs": []
    },
    {
      "cell_type": "code",
      "metadata": {
        "id": "q9gmLtWVyj1l",
        "colab_type": "code",
        "colab": {
          "base_uri": "https://localhost:8080/",
          "height": 34
        },
        "outputId": "1e5dbd87-5aaf-4304-9f9a-cabdba0ae78a"
      },
      "source": [
        "dictionary.gather(data_path='batches')\n",
        "dictionary.filter(class_id='@default_class',\n",
        "                  min_df=10, max_df=2000)"
      ],
      "execution_count": 23,
      "outputs": [
        {
          "output_type": "execute_result",
          "data": {
            "text/plain": [
              "artm.Dictionary(name=c93b1ce3-4a42-417f-9727-e266e59a510f, num_entries=13961)"
            ]
          },
          "metadata": {
            "tags": []
          },
          "execution_count": 23
        }
      ]
    },
    {
      "cell_type": "code",
      "metadata": {
        "id": "VVA1XbxMyrKO",
        "colab_type": "code",
        "colab": {}
      },
      "source": [
        "dictionary.save_text('dict.txt')"
      ],
      "execution_count": 0,
      "outputs": []
    },
    {
      "cell_type": "code",
      "metadata": {
        "id": "KAEZTwLbyuJm",
        "colab_type": "code",
        "colab": {}
      },
      "source": [
        "from google.colab import files\n",
        "files.download('dict.txt')"
      ],
      "execution_count": 0,
      "outputs": []
    },
    {
      "cell_type": "markdown",
      "metadata": {
        "id": "LhC6RsiCzvMH",
        "colab_type": "text"
      },
      "source": [
        "# Модель 1\n"
      ]
    },
    {
      "cell_type": "code",
      "metadata": {
        "id": "xYKoodxMzyAW",
        "colab_type": "code",
        "colab": {}
      },
      "source": [
        "model_artm = artm.ARTM(topic_names=['topic_{}'.format(i) for i in range(200)],\n",
        "                       \n",
        "                       regularizers=[\n",
        "                           artm.DecorrelatorPhiRegularizer(\n",
        "                                            name='Decorr', tau=0.25, \n",
        "                                            class_ids=['@default_class'],\n",
        "                                            topic_names=['topic_{}'.format(i) for i in range(0, 200)]),\n",
        "                           \n",
        "                           artm.SmoothSparsePhiRegularizer(\n",
        "                                            name='SmoothPhi_1', \n",
        "                                            class_ids=['@default_class'],\n",
        "                                            tau=0.15, \n",
        "                                            topic_names=['topic_{}'.format(i) for i in range(0, 200)])\n",
        "                                    ]\n",
        "                        )"
      ],
      "execution_count": 0,
      "outputs": []
    },
    {
      "cell_type": "code",
      "metadata": {
        "id": "51clXQxM18l2",
        "colab_type": "code",
        "colab": {}
      },
      "source": [
        "model_artm.initialize(dictionary=dictionary, )"
      ],
      "execution_count": 0,
      "outputs": []
    },
    {
      "cell_type": "code",
      "metadata": {
        "id": "U_qjZnDj2CzT",
        "colab_type": "code",
        "colab": {}
      },
      "source": [
        "model_artm.scores.add(artm.PerplexityScore(name='PerplexityScore',\n",
        "                                                    dictionary=dictionary))\n",
        "model_artm.scores.add(artm.SparsityPhiScore(name='SparsityPhiScore')) \n",
        "model_artm.scores.add(artm.SparsityThetaScore(name='SparsityThetaScore')) \n",
        "model_artm.scores.add(artm.TopicKernelScore(name='TopicKernelScore', probability_mass_threshold=0.1)) \n",
        "model_artm.scores.add(artm.TopTokensScore(class_id='@default_class', name='TopTokensScore_1', num_tokens=10)) "
      ],
      "execution_count": 0,
      "outputs": []
    },
    {
      "cell_type": "code",
      "metadata": {
        "id": "beX6E-ft2PTg",
        "colab_type": "code",
        "colab": {}
      },
      "source": [
        "model_artm.num_document_passes = 2\n",
        "model_artm.fit_offline(batch_vectorizer=batch_vectorizer, num_collection_passes=3)"
      ],
      "execution_count": 0,
      "outputs": []
    },
    {
      "cell_type": "markdown",
      "metadata": {
        "id": "SocwEXLL4d5S",
        "colab_type": "text"
      },
      "source": [
        "Регуляризаторы"
      ]
    },
    {
      "cell_type": "code",
      "metadata": {
        "id": "fZU5SdAJ4ghj",
        "colab_type": "code",
        "colab": {}
      },
      "source": [
        "model_artm.regularizers.add(artm.SmoothSparsePhiRegularizer(name='SparsePhi', tau=-0.15, \n",
        "                                                            topic_names=['topic_{}'.format(i) for i in range(1, 200)],\n",
        "                                                            ))\n",
        "model_artm.regularizers.add(artm.SmoothSparseThetaRegularizer(name='SparseTheta', tau=-0.15, \n",
        "                                                              topic_names=['topic_{}'.format(i) for i in range(1, 200)]))"
      ],
      "execution_count": 0,
      "outputs": []
    },
    {
      "cell_type": "code",
      "metadata": {
        "id": "2T3AImUt4ltL",
        "colab_type": "code",
        "colab": {}
      },
      "source": [
        "model_artm.fit_offline(batch_vectorizer=batch_vectorizer,num_collection_passes=1)"
      ],
      "execution_count": 0,
      "outputs": []
    },
    {
      "cell_type": "code",
      "metadata": {
        "id": "RpmGmLsE4ryI",
        "colab_type": "code",
        "colab": {}
      },
      "source": [
        "phi_tau = model_artm.regularizers['SparsePhi'].tau\n",
        "theta_tau = model_artm.regularizers['SparseTheta'].tau\n",
        "\n",
        "for i in range(10):\n",
        "    model_artm.regularizers['SparsePhi'].tau = (phi_tau + (phi_tau*0.5))\n",
        "    model_artm.regularizers['SparseTheta'].tau = (theta_tau + (theta_tau*0.1))\n",
        "    \n",
        "    model_artm.fit_offline(batch_vectorizer=batch_vectorizer,num_collection_passes=1)\n",
        "    "
      ],
      "execution_count": 0,
      "outputs": []
    },
    {
      "cell_type": "markdown",
      "metadata": {
        "id": "CU2VWez56vjt",
        "colab_type": "text"
      },
      "source": [
        "# Модель 2\n",
        "\n"
      ]
    },
    {
      "cell_type": "code",
      "metadata": {
        "id": "28hnXJbW6xag",
        "colab_type": "code",
        "colab": {}
      },
      "source": [
        "model_artm2 = artm.ARTM(topic_names=['topic_{}'.format(i) for i in range(100)],\n",
        "                       \n",
        "                       regularizers=[\n",
        "                           artm.DecorrelatorPhiRegularizer(\n",
        "                                            name='Decorr', tau=0.5, \n",
        "                                            class_ids=['@default_class'],\n",
        "                                            topic_names=['topic_{}'.format(i) for i in range(0, 100)]),\n",
        "                           \n",
        "                           artm.SmoothSparsePhiRegularizer(\n",
        "                                            name='SmoothPhi_1', \n",
        "                                            class_ids=['@default_class'],\n",
        "                                            tau=0.3, \n",
        "                                            topic_names=['topic_{}'.format(i) for i in range(0, 100)])\n",
        "                                    ]\n",
        "                        )"
      ],
      "execution_count": 0,
      "outputs": []
    },
    {
      "cell_type": "code",
      "metadata": {
        "colab_type": "code",
        "id": "pEZJac_o8WBQ",
        "colab": {}
      },
      "source": [
        "model_artm2.initialize(dictionary=dictionary, )"
      ],
      "execution_count": 0,
      "outputs": []
    },
    {
      "cell_type": "code",
      "metadata": {
        "colab_type": "code",
        "id": "NmDtIsej8WBe",
        "colab": {}
      },
      "source": [
        "model_artm2.scores.add(artm.PerplexityScore(name='PerplexityScore',\n",
        "                                                    dictionary=dictionary))\n",
        "model_artm2.scores.add(artm.SparsityPhiScore(name='SparsityPhiScore')) \n",
        "model_artm2.scores.add(artm.SparsityThetaScore(name='SparsityThetaScore')) \n",
        "model_artm2.scores.add(artm.TopicKernelScore(name='TopicKernelScore', probability_mass_threshold=0.1)) \n",
        "model_artm2.scores.add(artm.TopTokensScore(class_id='@default_class', name='TopTokensScore_1', num_tokens=10)) "
      ],
      "execution_count": 0,
      "outputs": []
    },
    {
      "cell_type": "code",
      "metadata": {
        "colab_type": "code",
        "id": "xnyftDjY8goT",
        "colab": {}
      },
      "source": [
        "model_artm2.num_document_passes = 2\n",
        "model_artm2.fit_offline(batch_vectorizer=batch_vectorizer, num_collection_passes=3)"
      ],
      "execution_count": 0,
      "outputs": []
    },
    {
      "cell_type": "code",
      "metadata": {
        "colab_type": "code",
        "id": "y9dkN7cU-_eL",
        "colab": {}
      },
      "source": [
        "model_artm2.regularizers.add(artm.SmoothSparsePhiRegularizer(name='SparsePhi', tau=-0.15, \n",
        "                                                            topic_names=['topic_{}'.format(i) for i in range(1, 100)],\n",
        "                                                            ))\n",
        "model_artm2.regularizers.add(artm.SmoothSparseThetaRegularizer(name='SparseTheta', tau=-0.15, \n",
        "                                                              topic_names=['topic_{}'.format(i) for i in range(1, 100)]))"
      ],
      "execution_count": 0,
      "outputs": []
    },
    {
      "cell_type": "code",
      "metadata": {
        "colab_type": "code",
        "id": "oLXvf_M7-_e4",
        "colab": {}
      },
      "source": [
        "model_artm2.fit_offline(batch_vectorizer=batch_vectorizer,num_collection_passes=1)"
      ],
      "execution_count": 0,
      "outputs": []
    },
    {
      "cell_type": "code",
      "metadata": {
        "colab_type": "code",
        "id": "FnV_MfHl-_e-",
        "colab": {}
      },
      "source": [
        "phi_tau = model_artm2.regularizers['SparsePhi'].tau\n",
        "theta_tau = model_artm2.regularizers['SparseTheta'].tau\n",
        "\n",
        "for i in range(10):\n",
        "    model_artm2.regularizers['SparsePhi'].tau = (phi_tau + (phi_tau*0.5))\n",
        "    model_artm2.regularizers['SparseTheta'].tau = (theta_tau + (theta_tau*0.1))\n",
        "    \n",
        "    model_artm2.fit_offline(batch_vectorizer=batch_vectorizer,num_collection_passes=1)\n",
        "    "
      ],
      "execution_count": 0,
      "outputs": []
    },
    {
      "cell_type": "code",
      "metadata": {
        "id": "o5PAf5YP_W-M",
        "colab_type": "code",
        "colab": {
          "base_uri": "https://localhost:8080/",
          "height": 364
        },
        "outputId": "7e3daf82-ba93-4af1-c718-9a9526628cbf"
      },
      "source": [
        "print_measures(model_artm2)"
      ],
      "execution_count": 117,
      "outputs": [
        {
          "output_type": "stream",
          "text": [
            "Sparsity Phi: 0.950 ARTM)\n",
            "Sparsity Theta: 0.212 (ARTM)\n",
            "Kernel contrast: 0.394 (ARTM)\n",
            "Kernel purity: 0.802 (ARTM)\n",
            "Perplexity: 545.200 (ARTM)\n"
          ],
          "name": "stdout"
        },
        {
          "output_type": "display_data",
          "data": {
            "image/png": "[encoded data removed]",
            "text/plain": [
              "<Figure size 432x288 with 1 Axes>"
            ]
          },
          "metadata": {
            "tags": []
          }
        }
      ]
    },
    {
      "cell_type": "markdown",
      "metadata": {
        "colab_type": "text",
        "id": "6Drz_b56DB60"
      },
      "source": [
        "# Модель 3"
      ]
    },
    {
      "cell_type": "code",
      "metadata": {
        "colab_type": "code",
        "id": "SY4tB-tzDB7O",
        "colab": {}
      },
      "source": [
        "model_artm3 = artm.ARTM(topic_names=['topic_{}'.format(i) for i in range(200)],\n",
        "                       \n",
        "                       regularizers=[\n",
        "                           artm.DecorrelatorPhiRegularizer(\n",
        "                                            name='Decorr', tau=0.5, \n",
        "                                            class_ids=['@default_class'],\n",
        "                                            topic_names=['topic_{}'.format(i) for i in range(0, 200)]),\n",
        "                           \n",
        "                           artm.SmoothSparsePhiRegularizer(\n",
        "                                            name='SmoothPhi_1', \n",
        "                                            class_ids=['@default_class'],\n",
        "                                            tau=0.3, \n",
        "                                            topic_names=['topic_{}'.format(i) for i in range(0, 200)])\n",
        "                                    ]\n",
        "                        )"
      ],
      "execution_count": 0,
      "outputs": []
    },
    {
      "cell_type": "code",
      "metadata": {
        "colab_type": "code",
        "id": "cweO8s_oDB7Z",
        "colab": {}
      },
      "source": [
        "model_artm3.initialize(dictionary=dictionary, )"
      ],
      "execution_count": 0,
      "outputs": []
    },
    {
      "cell_type": "code",
      "metadata": {
        "colab_type": "code",
        "id": "mQKn1ACsDB7f",
        "colab": {}
      },
      "source": [
        "model_artm3.scores.add(artm.PerplexityScore(name='PerplexityScore',\n",
        "                                                    dictionary=dictionary))\n",
        "model_artm3.scores.add(artm.SparsityPhiScore(name='SparsityPhiScore')) \n",
        "model_artm3.scores.add(artm.SparsityThetaScore(name='SparsityThetaScore')) \n",
        "model_artm3.scores.add(artm.TopicKernelScore(name='TopicKernelScore', probability_mass_threshold=0.1)) \n",
        "model_artm3.scores.add(artm.TopTokensScore(class_id='@default_class', name='TopTokensScore_1', num_tokens=10)) "
      ],
      "execution_count": 0,
      "outputs": []
    },
    {
      "cell_type": "code",
      "metadata": {
        "colab_type": "code",
        "id": "n04HUHrMDB7n",
        "colab": {}
      },
      "source": [
        "model_artm3.num_document_passes = 2\n",
        "model_artm3.fit_offline(batch_vectorizer=batch_vectorizer, num_collection_passes=3)"
      ],
      "execution_count": 0,
      "outputs": []
    },
    {
      "cell_type": "code",
      "metadata": {
        "colab_type": "code",
        "id": "8VI_-bXzDB7z",
        "colab": {}
      },
      "source": [
        "model_artm3.regularizers.add(artm.SmoothSparsePhiRegularizer(name='SparsePhi', tau=-0.15, \n",
        "                                                            topic_names=['topic_{}'.format(i) for i in range(1, 200)],\n",
        "                                                            ))\n",
        "model_artm3.regularizers.add(artm.SmoothSparseThetaRegularizer(name='SparseTheta', tau=-0.15, \n",
        "                                                              topic_names=['topic_{}'.format(i) for i in range(1, 200)]))"
      ],
      "execution_count": 0,
      "outputs": []
    },
    {
      "cell_type": "code",
      "metadata": {
        "colab_type": "code",
        "id": "F5uLCxGIDB74",
        "colab": {}
      },
      "source": [
        "model_artm3.fit_offline(batch_vectorizer=batch_vectorizer,num_collection_passes=1)"
      ],
      "execution_count": 0,
      "outputs": []
    },
    {
      "cell_type": "code",
      "metadata": {
        "colab_type": "code",
        "id": "qAJId48PDB78",
        "colab": {}
      },
      "source": [
        "phi_tau = model_artm3.regularizers['SparsePhi'].tau\n",
        "theta_tau = model_artm3.regularizers['SparseTheta'].tau\n",
        "\n",
        "for i in range(10):\n",
        "    model_artm3.regularizers['SparsePhi'].tau = (phi_tau + (phi_tau*0.5))\n",
        "    model_artm3.regularizers['SparseTheta'].tau = (theta_tau + (theta_tau*0.1))\n",
        "    \n",
        "    model_artm3.fit_offline(batch_vectorizer=batch_vectorizer,num_collection_passes=1)\n",
        "    "
      ],
      "execution_count": 0,
      "outputs": []
    },
    {
      "cell_type": "code",
      "metadata": {
        "colab_type": "code",
        "outputId": "17e14acb-03ae-409b-ad3b-26604572cefe",
        "id": "WwLTRsbxDB8B",
        "colab": {
          "base_uri": "https://localhost:8080/",
          "height": 364
        }
      },
      "source": [
        "print_measures(model_artm3)"
      ],
      "execution_count": 165,
      "outputs": [
        {
          "output_type": "stream",
          "text": [
            "Sparsity Phi: 0.975 ARTM)\n",
            "Sparsity Theta: 0.418 (ARTM)\n",
            "Kernel contrast: 0.470 (ARTM)\n",
            "Kernel purity: 0.862 (ARTM)\n",
            "Perplexity: 482.459 (ARTM)\n"
          ],
          "name": "stdout"
        },
        {
          "output_type": "display_data",
          "data": {
            "image/png": "[encoded data removed]",
            "text/plain": [
              "<Figure size 432x288 with 1 Axes>"
            ]
          },
          "metadata": {
            "tags": []
          }
        }
      ]
    },
    {
      "cell_type": "markdown",
      "metadata": {
        "id": "JT0_oH4nFxX9",
        "colab_type": "text"
      },
      "source": [
        "# Модель 4"
      ]
    },
    {
      "cell_type": "code",
      "metadata": {
        "colab_type": "code",
        "id": "6vDTWo5hOPdK",
        "colab": {}
      },
      "source": [
        "model_artm4 = artm.ARTM(topic_names=['topic_{}'.format(i) for i in range(200)],\n",
        "                       \n",
        "                       regularizers=[\n",
        "                           artm.DecorrelatorPhiRegularizer(\n",
        "                                            name='Decorr', tau=0.2, \n",
        "                                            class_ids=['@default_class'],\n",
        "                                            topic_names=['topic_{}'.format(i) for i in range(0, 200)]),\n",
        "                           \n",
        "                           artm.SmoothSparsePhiRegularizer(\n",
        "                                            name='SmoothPhi_1', \n",
        "                                            class_ids=['@default_class'],\n",
        "                                            tau=0.1, \n",
        "                                            topic_names=['topic_{}'.format(i) for i in range(0, 200)])\n",
        "                                    ]\n",
        "                        )"
      ],
      "execution_count": 0,
      "outputs": []
    },
    {
      "cell_type": "code",
      "metadata": {
        "colab_type": "code",
        "id": "8VQw3UczOPdY",
        "colab": {}
      },
      "source": [
        "model_artm4.initialize(dictionary=dictionary, )"
      ],
      "execution_count": 0,
      "outputs": []
    },
    {
      "cell_type": "code",
      "metadata": {
        "colab_type": "code",
        "id": "d7IxRSrROPde",
        "colab": {}
      },
      "source": [
        "model_artm4.scores.add(artm.PerplexityScore(name='PerplexityScore',\n",
        "                                                    dictionary=dictionary))\n",
        "model_artm4.scores.add(artm.SparsityPhiScore(name='SparsityPhiScore')) \n",
        "model_artm4.scores.add(artm.SparsityThetaScore(name='SparsityThetaScore')) \n",
        "model_artm4.scores.add(artm.TopicKernelScore(name='TopicKernelScore', probability_mass_threshold=0.1)) \n",
        "model_artm4.scores.add(artm.TopTokensScore(class_id='@default_class', name='TopTokensScore_1', num_tokens=10)) "
      ],
      "execution_count": 0,
      "outputs": []
    },
    {
      "cell_type": "code",
      "metadata": {
        "colab_type": "code",
        "id": "OndROYmNOPdk",
        "colab": {}
      },
      "source": [
        "model_artm4.num_document_passes = 2\n",
        "model_artm4.fit_offline(batch_vectorizer=batch_vectorizer, num_collection_passes=3)"
      ],
      "execution_count": 0,
      "outputs": []
    },
    {
      "cell_type": "code",
      "metadata": {
        "colab_type": "code",
        "id": "SQ1KMQhoOPd-",
        "colab": {}
      },
      "source": [
        "model_artm4.regularizers.add(artm.SmoothSparsePhiRegularizer(name='SparsePhi', tau=-0.15, \n",
        "                                                            topic_names=['topic_{}'.format(i) for i in range(1, 200)],\n",
        "                                                            ))\n",
        "model_artm4.regularizers.add(artm.SmoothSparseThetaRegularizer(name='SparseTheta', tau=-0.15, \n",
        "                                                              topic_names=['topic_{}'.format(i) for i in range(1, 200)]))"
      ],
      "execution_count": 0,
      "outputs": []
    },
    {
      "cell_type": "code",
      "metadata": {
        "colab_type": "code",
        "id": "ICSWBE5-OPeF",
        "colab": {}
      },
      "source": [
        "model_artm4.fit_offline(batch_vectorizer=batch_vectorizer,num_collection_passes=1)"
      ],
      "execution_count": 0,
      "outputs": []
    },
    {
      "cell_type": "code",
      "metadata": {
        "colab_type": "code",
        "id": "g4NLlIUiOPeO",
        "colab": {}
      },
      "source": [
        "phi_tau = model_artm4.regularizers['SparsePhi'].tau\n",
        "theta_tau = model_artm4.regularizers['SparseTheta'].tau\n",
        "\n",
        "for i in range(10):\n",
        "    model_artm4.regularizers['SparsePhi'].tau = (phi_tau + (phi_tau*0.5))\n",
        "    model_artm4.regularizers['SparseTheta'].tau = (theta_tau + (theta_tau*0.1))\n",
        "    \n",
        "    model_artm4.fit_offline(batch_vectorizer=batch_vectorizer,num_collection_passes=1)\n",
        "    "
      ],
      "execution_count": 0,
      "outputs": []
    },
    {
      "cell_type": "markdown",
      "metadata": {
        "id": "TV6FSPU2XyJv",
        "colab_type": "text"
      },
      "source": [
        "# Лучшая модель"
      ]
    },
    {
      "cell_type": "code",
      "metadata": {
        "id": "IF3qDfHUYGvk",
        "colab_type": "code",
        "colab": {
          "base_uri": "https://localhost:8080/",
          "height": 221
        },
        "outputId": "18ed5791-c614-4d04-bd92-d9aadc914900"
      },
      "source": [
        "for i in [13, 60, 103]:\n",
        "    print(model_artm4.topic_names[i])\n",
        "    print(model_artm4.score_tracker['TopTokensScore_1'].last_tokens[model_artm4.topic_names[i]])\n",
        "    print('\\n')"
      ],
      "execution_count": 73,
      "outputs": [
        {
          "output_type": "stream",
          "text": [
            "topic_13\n",
            "['товар', 'покупка', 'магазин', 'заказ', 'покупатель', 'скидка', 'продажа', 'предложение', 'акция', 'цена']\n",
            "\n",
            "\n",
            "topic_60\n",
            "['земля', 'спутник', 'аппарат', 'космический', 'планета', 'полёт', 'космос', 'луна', 'марс', 'орбита']\n",
            "\n",
            "\n",
            "topic_103\n",
            "['пациент', 'клетка', 'животное', 'врач', 'болезнь', 'заболевание', 'организм', 'ген', 'лечение', 'бактерия']\n",
            "\n",
            "\n"
          ],
          "name": "stdout"
        }
      ]
    },
    {
      "cell_type": "code",
      "metadata": {
        "id": "4xr1EWRPZKcB",
        "colab_type": "code",
        "colab": {
          "base_uri": "https://localhost:8080/",
          "height": 364
        },
        "outputId": "c6d7274a-903a-47f3-8b43-35e4e9fcbf35"
      },
      "source": [
        "print_measures(model_artm4)"
      ],
      "execution_count": 74,
      "outputs": [
        {
          "output_type": "stream",
          "text": [
            "Sparsity Phi: 0.970 ARTM)\n",
            "Sparsity Theta: 0.398 (ARTM)\n",
            "Kernel contrast: 0.390 (ARTM)\n",
            "Kernel purity: 0.816 (ARTM)\n",
            "Perplexity: 461.088 (ARTM)\n"
          ],
          "name": "stdout"
        },
        {
          "output_type": "display_data",
          "data": {
            "image/png": "[encoded data removed]",
            "text/plain": [
              "<Figure size 432x288 with 1 Axes>"
            ]
          },
          "metadata": {
            "tags": []
          }
        }
      ]
    },
    {
      "cell_type": "markdown",
      "metadata": {
        "id": "mNNYM1dpZq2D",
        "colab_type": "text"
      },
      "source": [
        "Параметры модели:\n",
        "\n",
        "200 тем, использованы регуляризатор декоррелляции (tau = 0,2) и сглаживания (tau = 0,1)\n",
        "\n",
        "Перплексия снижалась до 42 итераций\n",
        "\n",
        "После этого одновременно добавлены регуляризаторы разреженности тем и документов(tau = -0.15)\n",
        "\n",
        "Перплексия снижалась до 70 итераций"
      ]
    }
  ]
}