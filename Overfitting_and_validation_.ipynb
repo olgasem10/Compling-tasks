{
 "cells": [
  {
   "cell_type": "code",
   "execution_count": 161,
   "metadata": {
    "colab": {},
    "colab_type": "code",
    "id": "n9b4gzsd1j3v"
   },
   "outputs": [],
   "source": [
    "import numpy as np\n",
    "from sklearn import datasets\n",
    "from sklearn.datasets import fetch_20newsgroups\n",
    "from sklearn.feature_extraction.text import CountVectorizer\n",
    "from sklearn.model_selection import train_test_split, StratifiedKFold, cross_val_score, GridSearchCV\n",
    "from sklearn.naive_bayes import MultinomialNB\n",
    "from sklearn.neighbors import KNeighborsClassifier\n",
    "from sklearn.tree import DecisionTreeClassifier\n",
    "from sklearn.svm import SVC\n",
    "from sklearn.metrics import *\n",
    "from sklearn.linear_model import LogisticRegression"
   ]
  },
  {
   "cell_type": "code",
   "execution_count": 2,
   "metadata": {
    "colab": {},
    "colab_type": "code",
    "id": "B6g5pu2b1pbE"
   },
   "outputs": [],
   "source": [
    "categories = ['comp.graphics', 'comp.sys.ibm.pc.hardware', 'comp.windows.x', 'sci.electronics']"
   ]
  },
  {
   "cell_type": "code",
   "execution_count": 3,
   "metadata": {
    "colab": {
     "base_uri": "https://localhost:8080/",
     "height": 51
    },
    "colab_type": "code",
    "id": "tGKAxRpf1tR1",
    "outputId": "67f694d9-7ad2-4139-8d1c-af092dd6494f"
   },
   "outputs": [],
   "source": [
    "twenty_train = fetch_20newsgroups(subset='train', categories=categories, shuffle=True, random_state=42)\n",
    "twenty_test = fetch_20newsgroups(subset='test', categories=categories, shuffle=True, random_state=42)"
   ]
  },
  {
   "cell_type": "code",
   "execution_count": 163,
   "metadata": {
    "colab": {},
    "colab_type": "code",
    "id": "S9M6AdYH2DIi"
   },
   "outputs": [],
   "source": [
    "count_vect = CountVectorizer()"
   ]
  },
  {
   "cell_type": "code",
   "execution_count": 164,
   "metadata": {
    "colab": {},
    "colab_type": "code",
    "id": "bEc_5XzG2GL8"
   },
   "outputs": [],
   "source": [
    "X_train_counts = count_vect.fit_transform(twenty_train.data)\n",
    "X_test = count_vect.transform(twenty_test.data)"
   ]
  },
  {
   "cell_type": "code",
   "execution_count": 100,
   "metadata": {
    "colab": {},
    "colab_type": "code",
    "id": "wA1ojCLt_Ej8"
   },
   "outputs": [],
   "source": [
    "n_fold = 20\n",
    "stratified_folds = StratifiedKFold(n_splits=n_fold, shuffle=True, random_state=42)"
   ]
  },
  {
   "cell_type": "code",
   "execution_count": 165,
   "metadata": {},
   "outputs": [],
   "source": [
    "def grid(model, parameter_grid):\n",
    "    grid_search = GridSearchCV(model, param_grid=parameter_grid, cv=stratified_folds, scoring = 'f1_macro')\n",
    "    grid_search.fit(X_train_counts, twenty_train.target)\n",
    "    print('Best score: {}'.format(grid_search.best_score_))\n",
    "    print('Best parameters: {}'.format(grid_search.best_params_))"
   ]
  },
  {
   "cell_type": "markdown",
   "metadata": {
    "colab_type": "text",
    "id": "4QJ1Uar4_z7W"
   },
   "source": [
    "MultinomialNB"
   ]
  },
  {
   "cell_type": "code",
   "execution_count": 166,
   "metadata": {
    "colab": {},
    "colab_type": "code",
    "id": "Sm3g94EE_08E"
   },
   "outputs": [],
   "source": [
    "multi_nb = MultinomialNB()\n",
    "\n",
    "parameter_grid = {'alpha': [1e-06, 1e-04, 0.001, 0.1, 2, 10]}"
   ]
  },
  {
   "cell_type": "code",
   "execution_count": 167,
   "metadata": {},
   "outputs": [
    {
     "name": "stdout",
     "output_type": "stream",
     "text": [
      "Best score: 0.9186216140596164\n",
      "Best parameters: {'alpha': 0.1}\n"
     ]
    }
   ],
   "source": [
    "grid(multi_nb, parameter_grid)"
   ]
  },
  {
   "cell_type": "markdown",
   "metadata": {
    "colab_type": "text",
    "id": "4w7na5pmqTXU"
   },
   "source": [
    "LogisticRegression"
   ]
  },
  {
   "cell_type": "code",
   "execution_count": 7,
   "metadata": {
    "colab": {},
    "colab_type": "code",
    "id": "nkN3PweAc9Oz"
   },
   "outputs": [],
   "source": [
    "log_reg = LogisticRegression(multi_class = 'auto', max_iter = 1500)\n",
    "parameter_grid = {'class_weight' : ['balanced', None],\n",
    "                  'solver' : ['lbfgs', 'newton-cg'],\n",
    "                  'C' : [0.001, 0.01, 0.08, 0.1, 0.15, 1.0, 10.0, 100.0]\n",
    "                 }"
   ]
  },
  {
   "cell_type": "code",
   "execution_count": 11,
   "metadata": {
    "colab": {
     "base_uri": "https://localhost:8080/",
     "height": 51
    },
    "colab_type": "code",
    "id": "gP65v7L1HykG",
    "outputId": "716267a8-9887-4aa0-f6c9-8b0dc12ae961"
   },
   "outputs": [
    {
     "name": "stdout",
     "output_type": "stream",
     "text": [
      "Best score: 0.8806094269589704\n",
      "Best parameters: {'C': 100.0, 'class_weight': 'balanced', 'solver': 'lbfgs'}\n"
     ]
    }
   ],
   "source": [
    "grid(log_reg, parameter_grid)"
   ]
  },
  {
   "cell_type": "markdown",
   "metadata": {
    "colab_type": "text",
    "id": "c9uur0XDIh-K"
   },
   "source": [
    "DecisionTreeClassifier\n"
   ]
  },
  {
   "cell_type": "code",
   "execution_count": 151,
   "metadata": {
    "colab": {},
    "colab_type": "code",
    "id": "_Bas4UelIiQA"
   },
   "outputs": [],
   "source": [
    "dtc = DecisionTreeClassifier()\n",
    "\n",
    "parameter_grid = {'splitter' : ['best', 'random'],\n",
    "                  'max_depth' : [10, 20, 30, 40]}"
   ]
  },
  {
   "cell_type": "code",
   "execution_count": 0,
   "metadata": {
    "colab": {
     "base_uri": "https://localhost:8080/",
     "height": 51
    },
    "colab_type": "code",
    "id": "njQlb_RTIyuW",
    "outputId": "4c3aa93d-1db5-488e-a2e9-381f7909a5d3"
   },
   "outputs": [
    {
     "name": "stdout",
     "output_type": "stream",
     "text": [
      "Best score: 0.6994560036808652\n",
      "Best parameters: {'max_depth': 40, 'splitter': 'best'}\n"
     ]
    }
   ],
   "source": [
    "grid(dtc, parameter_grid)"
   ]
  },
  {
   "cell_type": "markdown",
   "metadata": {
    "colab_type": "text",
    "id": "o9C_INStSRBo"
   },
   "source": [
    "Обучаем с оптимальными параметрами"
   ]
  },
  {
   "cell_type": "code",
   "execution_count": 8,
   "metadata": {},
   "outputs": [],
   "source": [
    "def cross_val(model, n):\n",
    "    scores = cross_val_score(model, X_train_counts, twenty_train.target, cv=n, scoring='f1_macro')\n",
    "    print('macro F1={0:1.4f}'.format(np.mean(scores)))"
   ]
  },
  {
   "cell_type": "code",
   "execution_count": 9,
   "metadata": {},
   "outputs": [],
   "source": [
    "def model_test(model):\n",
    "    model.fit(X_train_counts, twenty_train.target)\n",
    "    predicted = model.predict(X_test)\n",
    "    macro_f1 = f1_score(twenty_test.target, predicted, average = 'macro')\n",
    "    print('macro F1={0:1.4f}'.format(macro_f1))"
   ]
  },
  {
   "cell_type": "code",
   "execution_count": 172,
   "metadata": {
    "colab": {},
    "colab_type": "code",
    "id": "D4fhrJtMSUdK"
   },
   "outputs": [],
   "source": [
    "multi_nb = MultinomialNB(alpha = 0.1)\n",
    "log_reg = LogisticRegression(multi_class = 'auto', solver = 'lbfgs', max_iter = 1500, class_weight = 'balanced', C = 100)\n",
    "dtc = DecisionTreeClassifier(max_depth = 40, splitter = 'best')"
   ]
  },
  {
   "cell_type": "code",
   "execution_count": 169,
   "metadata": {},
   "outputs": [
    {
     "name": "stdout",
     "output_type": "stream",
     "text": [
      "Кросс-валидация:\n",
      "macro F1=0.9195\n",
      "Результат на тесте:\n",
      "macro F1=0.8311\n"
     ]
    }
   ],
   "source": [
    "print('Кросс-валидация:')\n",
    "cross_val(multi_nb, 20)\n",
    "print('Результат на тесте:')\n",
    "model_test(multi_nb)"
   ]
  },
  {
   "cell_type": "code",
   "execution_count": 173,
   "metadata": {},
   "outputs": [
    {
     "name": "stdout",
     "output_type": "stream",
     "text": [
      "Кросс-валидация:\n",
      "macro F1=0.8801\n",
      "Результат на тесте:\n",
      "macro F1=0.8086\n"
     ]
    }
   ],
   "source": [
    "print('Кросс-валидация:')\n",
    "cross_val(log_reg, 20)\n",
    "print('Результат на тесте:')\n",
    "model_test(log_reg)"
   ]
  },
  {
   "cell_type": "code",
   "execution_count": 174,
   "metadata": {},
   "outputs": [
    {
     "name": "stdout",
     "output_type": "stream",
     "text": [
      "Кросс-валидация:\n",
      "macro F1=0.7004\n",
      "Результат на тесте:\n",
      "macro F1=0.6504\n"
     ]
    }
   ],
   "source": [
    "print('Кросс-валидация:')\n",
    "cross_val(dtc, 20)\n",
    "print('Результат на тесте:')\n",
    "model_test(dtc)"
   ]
  },
  {
   "cell_type": "markdown",
   "metadata": {
    "colab_type": "text",
    "id": "I0aYLNY6XyHP"
   },
   "source": [
    "Разница при кросс-валидации и оценке на тесте:\n",
    "\n",
    "multi_nb  0.08\n",
    "\n",
    "log_reg  0.079\n",
    "\n",
    "dtc  0.05"
   ]
  },
  {
   "cell_type": "markdown",
   "metadata": {
    "colab_type": "text",
    "id": "_aSEX8A9X15U"
   },
   "source": [
    "## Отбор признаков"
   ]
  },
  {
   "cell_type": "code",
   "execution_count": 158,
   "metadata": {},
   "outputs": [],
   "source": [
    "index_to_word = {v:k for k,v in count_vect.vocabulary_.items()}"
   ]
  },
  {
   "cell_type": "code",
   "execution_count": 159,
   "metadata": {},
   "outputs": [],
   "source": [
    "def analyze_features(model, n):\n",
    "    for i in range(model.coef_.shape[0]):\n",
    "        print('\\nClass {}'.format(categories[i]))\n",
    "        feats = []\n",
    "        for j in range(model.coef_.shape[1]):\n",
    "            feats.append((model.coef_[i][j], index_to_word[j]))\n",
    "        for f in sorted(feats, reverse = True)[:n]:\n",
    "            print(f)"
   ]
  },
  {
   "cell_type": "code",
   "execution_count": 162,
   "metadata": {},
   "outputs": [
    {
     "name": "stdout",
     "output_type": "stream",
     "text": [
      "\n",
      "Class comp.graphics\n",
      "(-3.396320433316946, 'the')\n",
      "(-3.887921692166975, 'to')\n",
      "(-4.00434983910181, 'of')\n",
      "(-4.0406260231720905, 'and')\n",
      "(-4.3483643128564085, 'is')\n",
      "(-4.393332767312525, 'in')\n",
      "(-4.439793051143201, 'for')\n",
      "(-4.530103548226745, 'it')\n",
      "(-4.737937860699033, 'from')\n",
      "(-4.865453204438198, 'you')\n",
      "(-4.872180118138575, 'edu')\n",
      "(-4.9025270044362586, 'that')\n",
      "(-5.008318318901138, 'on')\n",
      "(-5.0804649816983165, 'this')\n",
      "(-5.206879748758175, 'or')\n",
      "(-5.231434249339488, 'be')\n",
      "(-5.258024117009269, 'with')\n",
      "(-5.317931013187596, 'have')\n",
      "(-5.346958410196067, 'lines')\n",
      "(-5.359437124611821, 'can')\n",
      "\n",
      "Class comp.sys.ibm.pc.hardware\n",
      "(-3.232958248022854, 'the')\n",
      "(-3.93343775313184, 'to')\n",
      "(-4.139901461116846, 'and')\n",
      "(-4.287930433379346, 'of')\n",
      "(-4.360012972415311, 'is')\n",
      "(-4.435663397374319, 'it')\n",
      "(-4.592289871652685, 'in')\n",
      "(-4.651029534728877, 'for')\n",
      "(-4.7685920250071545, 'that')\n",
      "(-4.802229638032376, 'with')\n",
      "(-4.812051934857639, 'from')\n",
      "(-4.88153140891626, 'on')\n",
      "(-4.908339791128955, 'edu')\n",
      "(-4.98043495916883, 'you')\n",
      "(-5.035664454080825, 'have')\n",
      "(-5.036899632103476, 'this')\n",
      "(-5.136905034264673, 'scsi')\n",
      "(-5.177323021712155, 'drive')\n",
      "(-5.2774663672325115, 'or')\n",
      "(-5.291716133368295, 'com')\n",
      "\n",
      "Class comp.windows.x\n",
      "(-3.1404285037533857, 'the')\n",
      "(-3.731650175645459, 'to')\n",
      "(-4.120552162657697, 'of')\n",
      "(-4.15641202387271, 'and')\n",
      "(-4.210674223563037, 'is')\n",
      "(-4.339506627609252, 'in')\n",
      "(-4.666977735534784, 'for')\n",
      "(-4.766899560347263, 'it')\n",
      "(-4.878655173809908, 'on')\n",
      "(-4.903783981074122, 'that')\n",
      "(-4.90528199648421, 'from')\n",
      "(-4.923435433509346, 'this')\n",
      "(-4.972718047742269, 'you')\n",
      "(-5.111866755042809, 'be')\n",
      "(-5.184480059198488, 'with')\n",
      "(-5.208551023807337, 'are')\n",
      "(-5.221835502841947, 'if')\n",
      "(-5.221835502841947, 'edu')\n",
      "(-5.298788314405932, 'or')\n",
      "(-5.305476556927698, 'com')\n",
      "\n",
      "Class sci.electronics\n",
      "(-3.136559542560347, 'the')\n",
      "(-3.7739202723680583, 'to')\n",
      "(-4.051828560669578, 'of')\n",
      "(-4.226130308591773, 'and')\n",
      "(-4.29343024565851, 'is')\n",
      "(-4.3508560595423615, 'in')\n",
      "(-4.609491983423082, 'it')\n",
      "(-4.637502777597321, 'for')\n",
      "(-4.670506350503988, 'you')\n",
      "(-4.692557960701657, 'that')\n",
      "(-4.856172139099475, 'from')\n",
      "(-4.962644271263058, 'edu')\n",
      "(-5.016892512299314, 'on')\n",
      "(-5.063011593922009, 'are')\n",
      "(-5.093274904611692, 'be')\n",
      "(-5.12580444466372, 'this')\n",
      "(-5.149898770451937, 'with')\n",
      "(-5.170430562047038, 'or')\n",
      "(-5.1732002633052305, 'have')\n",
      "(-5.248044561439173, 'subject')\n"
     ]
    }
   ],
   "source": [
    "analyze_features(multi_nb, 20)"
   ]
  },
  {
   "cell_type": "markdown",
   "metadata": {},
   "source": [
    "Очень много стоп-слов"
   ]
  },
  {
   "cell_type": "code",
   "execution_count": 164,
   "metadata": {},
   "outputs": [
    {
     "name": "stdout",
     "output_type": "stream",
     "text": [
      "\n",
      "Class comp.graphics\n",
      "(0.6726981286221385, 'graphics')\n",
      "(0.3914723091719991, '3d')\n",
      "(0.3590483356841819, 'image')\n",
      "(0.34134528750797677, 'images')\n",
      "(0.3081967382489525, 'pov')\n",
      "(0.30360072476896144, 'files')\n",
      "(0.27861363396016914, 'vga')\n",
      "(0.26636459206916746, 'tiff')\n",
      "(0.2503519376943796, 'polygon')\n",
      "(0.2415900178984446, 'gif')\n",
      "(0.23881743712538553, 'points')\n",
      "(0.23824765994625854, 'cview')\n",
      "(0.23636365122516712, 'algorithm')\n",
      "(0.23626752982215757, '3do')\n",
      "(0.23358290199431517, 'file')\n",
      "(0.22280017567490315, 'animation')\n",
      "(0.2205709533454828, '24')\n",
      "(0.21714438788391763, 'library')\n",
      "(0.20196439713182668, '42')\n",
      "(0.19948912901646196, 'format')\n",
      "\n",
      "Class comp.sys.ibm.pc.hardware\n",
      "(0.37837235451250084, 'drive')\n",
      "(0.3398221130559374, 'monitor')\n",
      "(0.3347698691192369, 'card')\n",
      "(0.3253611263134171, 'memory')\n",
      "(0.32273610278534304, 'disk')\n",
      "(0.2909147430364155, 'gateway')\n",
      "(0.29082496742541125, 'pc')\n",
      "(0.285146221930094, 'scsi')\n",
      "(0.27096077568678045, 'motherboard')\n",
      "(0.2543378340068293, '486')\n",
      "(0.2462709654561896, 'floppy')\n",
      "(0.24153826115268553, 'ide')\n",
      "(0.23620177741586448, 'port')\n",
      "(0.22672108098716612, 'cpu')\n",
      "(0.226695412662375, 'bios')\n",
      "(0.21332588053396828, 'vlb')\n",
      "(0.2080678229831308, 'controller')\n",
      "(0.20173847388260915, 'modem')\n",
      "(0.1994425092659526, 'mouse')\n",
      "(0.19766835374896483, 'dos')\n",
      "\n",
      "Class comp.windows.x\n",
      "(0.4848703711210876, 'motif')\n",
      "(0.4807820668236135, 'window')\n",
      "(0.46730052856491794, 'server')\n",
      "(0.39673313722913367, 'mit')\n",
      "(0.3896558628414734, 'x11r5')\n",
      "(0.33623354546705536, 'widget')\n",
      "(0.3184796289003313, 'lcs')\n",
      "(0.30086578364869343, 'xterm')\n",
      "(0.2330835612820946, 'expo')\n",
      "(0.22044517998763516, 'internet')\n",
      "(0.2199302900442845, 'terminal')\n",
      "(0.21536134583451028, 'xpert')\n",
      "(0.21498762163426074, 'sun')\n",
      "(0.20778611012546314, 'application')\n",
      "(0.20447842427758067, 'xlib')\n",
      "(0.19441628259601146, 'source')\n",
      "(0.193414593991994, 'an')\n",
      "(0.192445858180426, 'imake')\n",
      "(0.19096577058897315, 'set')\n",
      "(0.1870512000109717, 'christy')\n",
      "\n",
      "Class sci.electronics\n",
      "(0.370254368335299, 'power')\n",
      "(0.3639054389054666, 'circuit')\n",
      "(0.3625735788261817, 'electronics')\n",
      "(0.2649638935795044, 'motorola')\n",
      "(0.2511874691876271, 'tv')\n",
      "(0.24542773541551385, 'low')\n",
      "(0.24421343644102017, 'mhz')\n",
      "(0.24137714319151868, 'radio')\n",
      "(0.23770303517123195, 'design')\n",
      "(0.23611139557558244, 'used')\n",
      "(0.20984215602386147, 'chips')\n",
      "(0.20886773281167806, 'voltage')\n",
      "(0.20803454679345268, 'them')\n",
      "(0.20333042608458568, '8051')\n",
      "(0.20130590332669718, 'anyone')\n",
      "(0.19901921025987898, 'audio')\n",
      "(0.19682273850556342, 'ee')\n",
      "(0.19257299847814102, 'ai')\n",
      "(0.19213921639459308, 'phone')\n",
      "(0.188678006018413, 'radar')\n"
     ]
    }
   ],
   "source": [
    "analyze_features(log_reg, 20)"
   ]
  },
  {
   "cell_type": "markdown",
   "metadata": {},
   "source": [
    "Встречаются цифры"
   ]
  },
  {
   "cell_type": "code",
   "execution_count": 121,
   "metadata": {},
   "outputs": [],
   "source": [
    "def dtc_features(model, n):\n",
    "    feats = []\n",
    "    for i in range(model.feature_importances_.shape[0]):\n",
    "        feats.append((model.feature_importances_[i], index_to_word[i]))\n",
    "    for f in sorted(feats, reverse = True)[:n]:\n",
    "        print(f)"
   ]
  },
  {
   "cell_type": "code",
   "execution_count": 166,
   "metadata": {},
   "outputs": [
    {
     "name": "stdout",
     "output_type": "stream",
     "text": [
      "(0.0734276921852101, 'window')\n",
      "(0.05848350949358611, 'graphics')\n",
      "(0.04896244215508005, 'drive')\n",
      "(0.04262174419224283, 'mit')\n",
      "(0.034374208093933475, 'power')\n",
      "(0.030867846878212424, 'card')\n",
      "(0.029931955498954183, 'motif')\n",
      "(0.029439662982855948, 'circuit')\n",
      "(0.026440857341249152, 'bus')\n",
      "(0.02281868553127265, 'x11r5')\n",
      "(0.017779179892356833, 'image')\n",
      "(0.014742973605610974, 'motherboard')\n",
      "(0.013865964602255514, 'monitor')\n",
      "(0.01370310406124126, 'electronics')\n",
      "(0.013502518518889978, 'monitors')\n",
      "(0.013335758925404553, 'widget')\n",
      "(0.012611408715036989, 'port')\n",
      "(0.01251514075890928, '3d')\n",
      "(0.011276365423020462, 'dos')\n",
      "(0.010303994102023472, 'tiff')\n",
      "(0.01023103144250121, 'server')\n",
      "(0.009725732716514113, 'use')\n",
      "(0.007431242418916751, 'cview')\n",
      "(0.007299596618019035, 'algorithm')\n",
      "(0.00723710880126056, 'gateway')\n",
      "(0.006940690795091781, 'gif')\n",
      "(0.006431734039167531, 'might')\n",
      "(0.006181382475031193, 'ide')\n",
      "(0.006079854654526844, 'xlib')\n",
      "(0.005997766793061355, 'points')\n"
     ]
    }
   ],
   "source": [
    "dtc_features(dtc, 30)"
   ]
  },
  {
   "cell_type": "markdown",
   "metadata": {},
   "source": [
    "## Параметры для CountVectorizer"
   ]
  },
  {
   "cell_type": "code",
   "execution_count": 231,
   "metadata": {},
   "outputs": [],
   "source": [
    "new_count_vect = CountVectorizer(min_df=2, max_df=0.9, stop_words = 'english', token_pattern = '[a-zA-Z][a-zA-Z]+')"
   ]
  },
  {
   "cell_type": "code",
   "execution_count": 228,
   "metadata": {},
   "outputs": [],
   "source": [
    "X_train_counts = new_count_vect.fit_transform(twenty_train.data)\n",
    "X_test = new_count_vect.transform(twenty_test.data)"
   ]
  },
  {
   "cell_type": "markdown",
   "metadata": {},
   "source": [
    "Обучим новые классификаторы"
   ]
  },
  {
   "cell_type": "code",
   "execution_count": 229,
   "metadata": {},
   "outputs": [],
   "source": [
    "multi_nb = MultinomialNB(alpha = 0.1)\n",
    "log_reg = LogisticRegression(multi_class = 'auto', solver = 'lbfgs', max_iter = 1500, class_weight = 'balanced', C = 100)\n",
    "dtc = DecisionTreeClassifier(max_depth = 40, splitter = 'best')"
   ]
  },
  {
   "cell_type": "code",
   "execution_count": 126,
   "metadata": {},
   "outputs": [
    {
     "name": "stdout",
     "output_type": "stream",
     "text": [
      "Кросс-валидация:\n",
      "macro F1=0.9207\n",
      "Результат на тесте:\n",
      "macro F1=0.8338\n"
     ]
    }
   ],
   "source": [
    "print('Кросс-валидация:')\n",
    "cross_val(multi_nb, 20)\n",
    "print('Результат на тесте:')\n",
    "model_test(multi_nb)"
   ]
  },
  {
   "cell_type": "code",
   "execution_count": 225,
   "metadata": {},
   "outputs": [
    {
     "name": "stdout",
     "output_type": "stream",
     "text": [
      "Кросс-валидация:\n",
      "macro F1=0.8874\n",
      "Результат на тесте:\n",
      "macro F1=0.8104\n"
     ]
    }
   ],
   "source": [
    "print('Кросс-валидация:')\n",
    "cross_val(log_reg, 20)\n",
    "print('Результат на тесте:')\n",
    "model_test(log_reg)"
   ]
  },
  {
   "cell_type": "code",
   "execution_count": 198,
   "metadata": {},
   "outputs": [
    {
     "name": "stdout",
     "output_type": "stream",
     "text": [
      "Кросс-валидация:\n",
      "macro F1=0.6973\n",
      "Результат на тесте:\n",
      "macro F1=0.6653\n"
     ]
    }
   ],
   "source": [
    "print('Кросс-валидация:')\n",
    "cross_val(dtc, 20)\n",
    "print('Результат на тесте:')\n",
    "model_test(dtc)"
   ]
  },
  {
   "cell_type": "markdown",
   "metadata": {},
   "source": [
    "При изменении параметров Count Vectorizer (применение стоп-слов, удаление всех цифр, изменение максимальной и минимальной частоты) получались разные результаты:\n",
    "\n",
    "- при парметрах, приведенных выше, несколько улучшается результат моделей на тесте, но при этом сохраняется разрыв с результатами кросс-валидации (кроме деревьев решений)\n",
    "\n",
    "- можно было несколько уменьшить разрыв теста и корсс-валидации, но при этом итоговый результат на тесте меньше, чем был изначально\n",
    "\n",
    "- при некоторых параметрах у одних моделей переобучение уменьшалось, а у других наоборот росло"
   ]
  }
 ],
 "metadata": {
  "colab": {
   "collapsed_sections": [],
   "name": "Overfitting and validation.ipynb",
   "provenance": []
  },
  "kernelspec": {
   "display_name": "Python 3",
   "language": "python",
   "name": "python3"
  },
  "language_info": {
   "codemirror_mode": {
    "name": "ipython",
    "version": 3
   },
   "file_extension": ".py",
   "mimetype": "text/x-python",
   "name": "python",
   "nbconvert_exporter": "python",
   "pygments_lexer": "ipython3",
   "version": "3.7.4"
  }
 },
 "nbformat": 4,
 "nbformat_minor": 1
}
