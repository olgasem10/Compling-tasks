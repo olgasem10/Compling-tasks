{
  "nbformat": 4,
  "nbformat_minor": 0,
  "metadata": {
    "kernelspec": {
      "display_name": "Python 3",
      "language": "python",
      "name": "python3"
    },
    "language_info": {
      "codemirror_mode": {
        "name": "ipython",
        "version": 3
      },
      "file_extension": ".py",
      "mimetype": "text/x-python",
      "name": "python",
      "nbconvert_exporter": "python",
      "pygments_lexer": "ipython3",
      "version": "3.7.4"
    },
    "colab": {
      "name": "Кластеризация.ipynb",
      "provenance": [],
      "collapsed_sections": [],
      "include_colab_link": true
    }
  },
  "cells": [
    {
      "cell_type": "markdown",
      "metadata": {
        "id": "view-in-github",
        "colab_type": "text"
      },
      "source": [
        "<a href=\"https://colab.research.google.com/github/olgasem10/Compling-tasks/blob/master/%D0%9A%D0%BB%D0%B0%D1%81%D1%82%D0%B5%D1%80%D0%B8%D0%B7%D0%B0%D1%86%D0%B8%D1%8F.ipynb\" target=\"_parent\"><img src=\"https://colab.research.google.com/assets/colab-badge.svg\" alt=\"Open In Colab\"/></a>"
      ]
    },
    {
      "cell_type": "code",
      "metadata": {
        "id": "XeYxtKTIMZki",
        "colab_type": "code",
        "colab": {}
      },
      "source": [
        "import pandas as pd\n",
        "from sklearn.cluster import AffinityPropagation, AgglomerativeClustering, DBSCAN, \\\n",
        "                            KMeans, MiniBatchKMeans, Birch, MeanShift, SpectralClustering, OPTICS\n",
        "from sklearn.metrics import adjusted_rand_score, adjusted_mutual_info_score, \\\n",
        "                            silhouette_score\n",
        "\n",
        "from sklearn.feature_extraction.text import CountVectorizer, TfidfVectorizer\n",
        "from sklearn.decomposition import TruncatedSVD, NMF\n",
        "from sklearn import metrics\n",
        "from sklearn.datasets import make_blobs"
      ],
      "execution_count": 0,
      "outputs": []
    },
    {
      "cell_type": "code",
      "metadata": {
        "id": "FlppSunIM-Zf",
        "colab_type": "code",
        "outputId": "b4c285da-978e-42a4-b3bc-5c3fb632d399",
        "colab": {
          "base_uri": "https://localhost:8080/",
          "height": 122
        }
      },
      "source": [
        "from google.colab import drive\n",
        "drive.mount('/content/drive')"
      ],
      "execution_count": 0,
      "outputs": [
        {
          "output_type": "stream",
          "text": [
            "Go to this URL in a browser: https://accounts.google.com/o/oauth2/auth?client_id=947318989803-6bn6qk8qdgf4n4g3pfee6491hc0brc4i.apps.googleusercontent.com&redirect_uri=urn%3aietf%3awg%3aoauth%3a2.0%3aoob&response_type=code&scope=email%20https%3a%2f%2fwww.googleapis.com%2fauth%2fdocs.test%20https%3a%2f%2fwww.googleapis.com%2fauth%2fdrive%20https%3a%2f%2fwww.googleapis.com%2fauth%2fdrive.photos.readonly%20https%3a%2f%2fwww.googleapis.com%2fauth%2fpeopleapi.readonly\n",
            "\n",
            "Enter your authorization code:\n",
            "··········\n",
            "Mounted at /content/drive\n"
          ],
          "name": "stdout"
        }
      ]
    },
    {
      "cell_type": "code",
      "metadata": {
        "id": "q37YqaFMMZkv",
        "colab_type": "code",
        "colab": {}
      },
      "source": [
        "data = pd.read_csv('/content/drive/My Drive/data.csv', usecols = ['category_name', 'title'])"
      ],
      "execution_count": 0,
      "outputs": []
    },
    {
      "cell_type": "code",
      "metadata": {
        "id": "15AshzhAMZk1",
        "colab_type": "code",
        "outputId": "673aa9cf-ae55-489f-8fd0-2baec1533316",
        "colab": {
          "base_uri": "https://localhost:8080/",
          "height": 419
        }
      },
      "source": [
        "data"
      ],
      "execution_count": 0,
      "outputs": [
        {
          "output_type": "execute_result",
          "data": {
            "text/html": [
              "<div>\n",
              "<style scoped>\n",
              "    .dataframe tbody tr th:only-of-type {\n",
              "        vertical-align: middle;\n",
              "    }\n",
              "\n",
              "    .dataframe tbody tr th {\n",
              "        vertical-align: top;\n",
              "    }\n",
              "\n",
              "    .dataframe thead th {\n",
              "        text-align: right;\n",
              "    }\n",
              "</style>\n",
              "<table border=\"1\" class=\"dataframe\">\n",
              "  <thead>\n",
              "    <tr style=\"text-align: right;\">\n",
              "      <th></th>\n",
              "      <th>category_name</th>\n",
              "      <th>title</th>\n",
              "    </tr>\n",
              "  </thead>\n",
              "  <tbody>\n",
              "    <tr>\n",
              "      <th>0</th>\n",
              "      <td>Детская одежда и обувь</td>\n",
              "      <td>Платье праздничное для девочки</td>\n",
              "    </tr>\n",
              "    <tr>\n",
              "      <th>1</th>\n",
              "      <td>Мебель и интерьер</td>\n",
              "      <td>Кровать двухспальная</td>\n",
              "    </tr>\n",
              "    <tr>\n",
              "      <th>2</th>\n",
              "      <td>Телефоны</td>\n",
              "      <td>Samsung S3 mini gt-i8190</td>\n",
              "    </tr>\n",
              "    <tr>\n",
              "      <th>3</th>\n",
              "      <td>Одежда, обувь, аксессуары</td>\n",
              "      <td>Красивое платье на одно плечо, в идеале размер м</td>\n",
              "    </tr>\n",
              "    <tr>\n",
              "      <th>4</th>\n",
              "      <td>Детская одежда и обувь</td>\n",
              "      <td>Стильная панама</td>\n",
              "    </tr>\n",
              "    <tr>\n",
              "      <th>...</th>\n",
              "      <td>...</td>\n",
              "      <td>...</td>\n",
              "    </tr>\n",
              "    <tr>\n",
              "      <th>254214</th>\n",
              "      <td>Посуда и товары для кухни</td>\n",
              "      <td>Устройство для перепелиных яиц</td>\n",
              "    </tr>\n",
              "    <tr>\n",
              "      <th>254215</th>\n",
              "      <td>Ремонт и строительство</td>\n",
              "      <td>Гибкая черепица от производителя</td>\n",
              "    </tr>\n",
              "    <tr>\n",
              "      <th>254216</th>\n",
              "      <td>Детская одежда и обувь</td>\n",
              "      <td>Ботинки 33 размер</td>\n",
              "    </tr>\n",
              "    <tr>\n",
              "      <th>254217</th>\n",
              "      <td>Детская одежда и обувь</td>\n",
              "      <td>Комбинезон демисизонный</td>\n",
              "    </tr>\n",
              "    <tr>\n",
              "      <th>254218</th>\n",
              "      <td>Детская одежда и обувь</td>\n",
              "      <td>Кеды кроссовки zara</td>\n",
              "    </tr>\n",
              "  </tbody>\n",
              "</table>\n",
              "<p>254219 rows × 2 columns</p>\n",
              "</div>"
            ],
            "text/plain": [
              "                    category_name                                             title\n",
              "0          Детская одежда и обувь                    Платье праздничное для девочки\n",
              "1               Мебель и интерьер                              Кровать двухспальная\n",
              "2                        Телефоны                          Samsung S3 mini gt-i8190\n",
              "3       Одежда, обувь, аксессуары  Красивое платье на одно плечо, в идеале размер м\n",
              "4          Детская одежда и обувь                                   Стильная панама\n",
              "...                           ...                                               ...\n",
              "254214  Посуда и товары для кухни                    Устройство для перепелиных яиц\n",
              "254215     Ремонт и строительство                  Гибкая черепица от производителя\n",
              "254216     Детская одежда и обувь                                 Ботинки 33 размер\n",
              "254217     Детская одежда и обувь                           Комбинезон демисизонный\n",
              "254218     Детская одежда и обувь                               Кеды кроссовки zara\n",
              "\n",
              "[254219 rows x 2 columns]"
            ]
          },
          "metadata": {
            "tags": []
          },
          "execution_count": 5
        }
      ]
    },
    {
      "cell_type": "code",
      "metadata": {
        "id": "wfVcdvFmMZlC",
        "colab_type": "code",
        "outputId": "7e5f0f26-0249-4b83-d567-66839bb667d3",
        "colab": {
          "base_uri": "https://localhost:8080/",
          "height": 34
        }
      },
      "source": [
        "sample = data.sample(frac=0.01)\n",
        "sample.shape"
      ],
      "execution_count": 0,
      "outputs": [
        {
          "output_type": "execute_result",
          "data": {
            "text/plain": [
              "(2542, 2)"
            ]
          },
          "metadata": {
            "tags": []
          },
          "execution_count": 7
        }
      ]
    },
    {
      "cell_type": "markdown",
      "metadata": {
        "id": "8c1naMIbbFKW",
        "colab_type": "text"
      },
      "source": [
        "## Count or tfidf?"
      ]
    },
    {
      "cell_type": "markdown",
      "metadata": {
        "id": "z7g9q3YHTUyJ",
        "colab_type": "text"
      },
      "source": [
        "### Kmeans\n"
      ]
    },
    {
      "cell_type": "code",
      "metadata": {
        "id": "9b7yf050dSx0",
        "colab_type": "code",
        "colab": {}
      },
      "source": [
        "sample = data.sample(frac=0.05)"
      ],
      "execution_count": 0,
      "outputs": []
    },
    {
      "cell_type": "markdown",
      "metadata": {
        "id": "NFG4438Jbmdk",
        "colab_type": "text"
      },
      "source": [
        "Count Vectorizer:"
      ]
    },
    {
      "cell_type": "code",
      "metadata": {
        "id": "7lIXhpBIZj8-",
        "colab_type": "code",
        "outputId": "53153f7f-b319-4750-a899-19b0dafd5eb0",
        "colab": {
          "base_uri": "https://localhost:8080/",
          "height": 34
        }
      },
      "source": [
        "cv = CountVectorizer(max_features = 100, max_df=1.0, min_df=8, ngram_range=(1, 3))\n",
        "X = cv.fit_transform(sample['title'])\n",
        "y = sample['category_name']\n",
        "X.shape"
      ],
      "execution_count": 0,
      "outputs": [
        {
          "output_type": "execute_result",
          "data": {
            "text/plain": [
              "(12711, 100)"
            ]
          },
          "metadata": {
            "tags": []
          },
          "execution_count": 140
        }
      ]
    },
    {
      "cell_type": "code",
      "metadata": {
        "id": "95CDsG5ZTYMr",
        "colab_type": "code",
        "outputId": "58f25fbd-33ca-4af3-fe8e-3adf4c291c1b",
        "colab": {
          "base_uri": "https://localhost:8080/",
          "height": 68
        }
      },
      "source": [
        "cluster = KMeans(n_clusters=200, algorithm = 'full')\n",
        "cluster.fit(X)"
      ],
      "execution_count": 0,
      "outputs": [
        {
          "output_type": "execute_result",
          "data": {
            "text/plain": [
              "KMeans(algorithm='full', copy_x=True, init='k-means++', max_iter=300,\n",
              "       n_clusters=200, n_init=10, n_jobs=None, precompute_distances='auto',\n",
              "       random_state=None, tol=0.0001, verbose=0)"
            ]
          },
          "metadata": {
            "tags": []
          },
          "execution_count": 478
        }
      ]
    },
    {
      "cell_type": "code",
      "metadata": {
        "id": "-f3kp4zxTkJc",
        "colab_type": "code",
        "outputId": "9420ea7d-7cf3-4ebf-a609-8061e3ed5d10",
        "colab": {
          "base_uri": "https://localhost:8080/",
          "height": 34
        }
      },
      "source": [
        "labels = cluster.labels_\n",
        "len(set(cluster.labels_))"
      ],
      "execution_count": 0,
      "outputs": [
        {
          "output_type": "execute_result",
          "data": {
            "text/plain": [
              "200"
            ]
          },
          "metadata": {
            "tags": []
          },
          "execution_count": 269
        }
      ]
    },
    {
      "cell_type": "code",
      "metadata": {
        "id": "sufdlDzyTxcr",
        "colab_type": "code",
        "outputId": "a88e3fb7-ee53-4d90-c554-7a663224e969",
        "colab": {
          "base_uri": "https://localhost:8080/",
          "height": 51
        }
      },
      "source": [
        "print(\"Silhouette Coefficient: %0.3f\" % metrics.silhouette_score(X, labels))\n",
        "print(\"V-measure: %0.3f\" % metrics.v_measure_score(y, labels))"
      ],
      "execution_count": 0,
      "outputs": [
        {
          "output_type": "stream",
          "text": [
            "Silhouette Coefficient: 0.852\n",
            "V-measure: 0.354\n"
          ],
          "name": "stdout"
        }
      ]
    },
    {
      "cell_type": "markdown",
      "metadata": {
        "id": "514eLrYCbqOB",
        "colab_type": "text"
      },
      "source": [
        "Tfidf Vectorizer:"
      ]
    },
    {
      "cell_type": "code",
      "metadata": {
        "id": "U1fyGCI1T2uq",
        "colab_type": "code",
        "outputId": "6ec80d25-e151-4bd5-f362-d35607d9f05e",
        "colab": {
          "base_uri": "https://localhost:8080/",
          "height": 34
        }
      },
      "source": [
        "tf = TfidfVectorizer(max_features = 400, ngram_range=(1, 4), max_df=0.8, min_df=6)\n",
        "X = tf.fit_transform(sample['title'])\n",
        "y = sample['category_name']\n",
        "X.shape"
      ],
      "execution_count": 0,
      "outputs": [
        {
          "output_type": "execute_result",
          "data": {
            "text/plain": [
              "(12711, 400)"
            ]
          },
          "metadata": {
            "tags": []
          },
          "execution_count": 480
        }
      ]
    },
    {
      "cell_type": "code",
      "metadata": {
        "colab_type": "code",
        "outputId": "838e14d7-e27d-4888-a316-1e13deb7f027",
        "id": "1eF3C4C_byKv",
        "colab": {
          "base_uri": "https://localhost:8080/",
          "height": 68
        }
      },
      "source": [
        "cluster = KMeans(n_clusters=200, algorithm = 'full')\n",
        "cluster.fit(X)"
      ],
      "execution_count": 0,
      "outputs": [
        {
          "output_type": "execute_result",
          "data": {
            "text/plain": [
              "KMeans(algorithm='full', copy_x=True, init='k-means++', max_iter=300,\n",
              "       n_clusters=200, n_init=10, n_jobs=None, precompute_distances='auto',\n",
              "       random_state=None, tol=0.0001, verbose=0)"
            ]
          },
          "metadata": {
            "tags": []
          },
          "execution_count": 481
        }
      ]
    },
    {
      "cell_type": "code",
      "metadata": {
        "colab_type": "code",
        "outputId": "61bd3b0f-db5b-4946-f1a4-68f83824791a",
        "id": "F2DJ5QuFbyK3",
        "colab": {
          "base_uri": "https://localhost:8080/",
          "height": 34
        }
      },
      "source": [
        "labels = cluster.labels_\n",
        "len(set(cluster.labels_))"
      ],
      "execution_count": 0,
      "outputs": [
        {
          "output_type": "execute_result",
          "data": {
            "text/plain": [
              "200"
            ]
          },
          "metadata": {
            "tags": []
          },
          "execution_count": 254
        }
      ]
    },
    {
      "cell_type": "code",
      "metadata": {
        "colab_type": "code",
        "outputId": "a7c43ecc-0611-4cf2-c94e-7b7b5c979787",
        "id": "DeMD5e-RbyK9",
        "colab": {
          "base_uri": "https://localhost:8080/",
          "height": 51
        }
      },
      "source": [
        "print(\"Silhouette Coefficient: %0.3f\" % metrics.silhouette_score(X, labels))\n",
        "print(\"V-measure: %0.3f\" % metrics.v_measure_score(y, labels))"
      ],
      "execution_count": 0,
      "outputs": [
        {
          "output_type": "stream",
          "text": [
            "Silhouette Coefficient: 0.581\n",
            "V-measure: 0.410\n"
          ],
          "name": "stdout"
        }
      ]
    },
    {
      "cell_type": "markdown",
      "metadata": {
        "id": "1UgWxldJrZUr",
        "colab_type": "text"
      },
      "source": [
        "### Birch"
      ]
    },
    {
      "cell_type": "markdown",
      "metadata": {
        "id": "m3r56AUxvhZ4",
        "colab_type": "text"
      },
      "source": [
        "Count Vectorizer:"
      ]
    },
    {
      "cell_type": "code",
      "metadata": {
        "colab_type": "code",
        "id": "CdDdw3BRvmkI",
        "colab": {}
      },
      "source": [
        "tf = CountVectorizer(max_features = 100, max_df=0.9, min_df=5, ngram_range=(1,4))\n",
        "X = tf.fit_transform(sample['title'])\n"
      ],
      "execution_count": 0,
      "outputs": []
    },
    {
      "cell_type": "code",
      "metadata": {
        "colab_type": "code",
        "outputId": "4b734f5d-758d-449d-c6c2-b2e74329157b",
        "id": "3_ddh4WvvmkU",
        "colab": {
          "base_uri": "https://localhost:8080/",
          "height": 51
        }
      },
      "source": [
        "cluster = Birch(n_clusters=67, threshold = 0.5, branching_factor = 40)\n",
        "cluster.fit(X)\n"
      ],
      "execution_count": 0,
      "outputs": [
        {
          "output_type": "execute_result",
          "data": {
            "text/plain": [
              "Birch(branching_factor=40, compute_labels=True, copy=True, n_clusters=67,\n",
              "      threshold=0.5)"
            ]
          },
          "metadata": {
            "tags": []
          },
          "execution_count": 317
        }
      ]
    },
    {
      "cell_type": "code",
      "metadata": {
        "colab_type": "code",
        "outputId": "f101a5c7-a1eb-4768-a72d-f51c51a360c6",
        "id": "V29eae76vmka",
        "colab": {
          "base_uri": "https://localhost:8080/",
          "height": 51
        }
      },
      "source": [
        "labels = cluster.labels_\n",
        "print(\"Silhouette Coefficient: %0.3f\" % metrics.silhouette_score(X, labels))\n",
        "print(\"V-measure: %0.3f\" % metrics.v_measure_score(y, labels))"
      ],
      "execution_count": 0,
      "outputs": [
        {
          "output_type": "stream",
          "text": [
            "Silhouette Coefficient: 0.626\n",
            "V-measure: 0.326\n"
          ],
          "name": "stdout"
        }
      ]
    },
    {
      "cell_type": "markdown",
      "metadata": {
        "id": "n3ZNX1FLvchi",
        "colab_type": "text"
      },
      "source": [
        "Tfidf Vectorizer:"
      ]
    },
    {
      "cell_type": "code",
      "metadata": {
        "id": "RYALyFEBrdP1",
        "colab_type": "code",
        "colab": {}
      },
      "source": [
        "tf = TfidfVectorizer(max_features = 100, max_df=0.7, min_df=6, ngram_range=(1,3))\n",
        "X = tf.fit_transform(sample['title'])\n"
      ],
      "execution_count": 0,
      "outputs": []
    },
    {
      "cell_type": "code",
      "metadata": {
        "id": "o85JA_hFtIoj",
        "colab_type": "code",
        "outputId": "665536f2-041d-437e-ccd3-094d0829424f",
        "colab": {
          "base_uri": "https://localhost:8080/",
          "height": 51
        }
      },
      "source": [
        "cluster = Birch(n_clusters=67, threshold = 0.5, branching_factor = 40)\n",
        "cluster.fit(X)\n"
      ],
      "execution_count": 0,
      "outputs": [
        {
          "output_type": "execute_result",
          "data": {
            "text/plain": [
              "Birch(branching_factor=40, compute_labels=True, copy=True, n_clusters=67,\n",
              "      threshold=0.5)"
            ]
          },
          "metadata": {
            "tags": []
          },
          "execution_count": 300
        }
      ]
    },
    {
      "cell_type": "code",
      "metadata": {
        "id": "At1idefItKNS",
        "colab_type": "code",
        "outputId": "53a1c7f5-80bd-423b-efb0-603bfe3e6876",
        "colab": {
          "base_uri": "https://localhost:8080/",
          "height": 51
        }
      },
      "source": [
        "labels = cluster.labels_\n",
        "print(\"Silhouette Coefficient: %0.3f\" % metrics.silhouette_score(X, labels))\n",
        "print(\"V-measure: %0.3f\" % metrics.v_measure_score(y, labels))"
      ],
      "execution_count": 0,
      "outputs": [
        {
          "output_type": "stream",
          "text": [
            "Silhouette Coefficient: 0.729\n",
            "V-measure: 0.347\n"
          ],
          "name": "stdout"
        }
      ]
    },
    {
      "cell_type": "markdown",
      "metadata": {
        "id": "0NEr5judUcu0",
        "colab_type": "text"
      },
      "source": [
        "### DBSCAN"
      ]
    },
    {
      "cell_type": "markdown",
      "metadata": {
        "colab_type": "text",
        "id": "u99oJTcxv82_"
      },
      "source": [
        "Count Vectorizer:"
      ]
    },
    {
      "cell_type": "code",
      "metadata": {
        "colab_type": "code",
        "id": "qvKNh9jVv83F",
        "colab": {}
      },
      "source": [
        "tf = CountVectorizer(max_features = 100, max_df=0.8, min_df=5, ngram_range=(1,4))\n",
        "X = tf.fit_transform(sample['title'])\n"
      ],
      "execution_count": 0,
      "outputs": []
    },
    {
      "cell_type": "code",
      "metadata": {
        "colab_type": "code",
        "outputId": "54e0dd0c-eacf-4052-db99-4a0a9ec3d170",
        "id": "J2EJzqHRv83O",
        "colab": {
          "base_uri": "https://localhost:8080/",
          "height": 51
        }
      },
      "source": [
        "cluster = DBSCAN(min_samples = 3, eps=0.4)\n",
        "cluster.fit(X)\n"
      ],
      "execution_count": 0,
      "outputs": [
        {
          "output_type": "execute_result",
          "data": {
            "text/plain": [
              "DBSCAN(algorithm='auto', eps=0.4, leaf_size=30, metric='euclidean',\n",
              "       metric_params=None, min_samples=3, n_jobs=None, p=None)"
            ]
          },
          "metadata": {
            "tags": []
          },
          "execution_count": 484
        }
      ]
    },
    {
      "cell_type": "code",
      "metadata": {
        "colab_type": "code",
        "outputId": "9896589b-9abc-4d0a-fcaf-8336593a61da",
        "id": "3lqhVNV-v83T",
        "colab": {
          "base_uri": "https://localhost:8080/",
          "height": 51
        }
      },
      "source": [
        "labels = cluster.labels_\n",
        "print(\"Silhouette Coefficient: %0.3f\" % metrics.silhouette_score(X, labels))\n",
        "print(\"V-measure: %0.3f\" % metrics.v_measure_score(y, labels))"
      ],
      "execution_count": 0,
      "outputs": [
        {
          "output_type": "stream",
          "text": [
            "Silhouette Coefficient: 0.911\n",
            "V-measure: 0.341\n"
          ],
          "name": "stdout"
        }
      ]
    },
    {
      "cell_type": "markdown",
      "metadata": {
        "colab_type": "text",
        "id": "ZO5CLsvyv83X"
      },
      "source": [
        "Tfidf Vectorizer:"
      ]
    },
    {
      "cell_type": "code",
      "metadata": {
        "colab_type": "code",
        "id": "fEBcsX2wv83a",
        "colab": {}
      },
      "source": [
        "tf = TfidfVectorizer(max_features = 90, max_df=0.8, min_df=5, ngram_range=(1,4))\n",
        "X = tf.fit_transform(sample['title'])\n"
      ],
      "execution_count": 0,
      "outputs": []
    },
    {
      "cell_type": "code",
      "metadata": {
        "colab_type": "code",
        "outputId": "34a7fad5-cb33-419a-ae59-d2c3c30cb2eb",
        "id": "xiQQH3c_v83g",
        "colab": {
          "base_uri": "https://localhost:8080/",
          "height": 51
        }
      },
      "source": [
        "cluster = DBSCAN(min_samples = 3, eps=0.4)\n",
        "cluster.fit(X)\n"
      ],
      "execution_count": 0,
      "outputs": [
        {
          "output_type": "execute_result",
          "data": {
            "text/plain": [
              "DBSCAN(algorithm='auto', eps=0.4, leaf_size=30, metric='euclidean',\n",
              "       metric_params=None, min_samples=3, n_jobs=None, p=None)"
            ]
          },
          "metadata": {
            "tags": []
          },
          "execution_count": 345
        }
      ]
    },
    {
      "cell_type": "code",
      "metadata": {
        "colab_type": "code",
        "outputId": "749579fc-e83c-4cd5-f0ec-70c8f003ce0b",
        "id": "ZFPKpk5Wv83l",
        "colab": {
          "base_uri": "https://localhost:8080/",
          "height": 51
        }
      },
      "source": [
        "labels = cluster.labels_\n",
        "print(\"Silhouette Coefficient: %0.3f\" % metrics.silhouette_score(X, labels))\n",
        "print(\"V-measure: %0.3f\" % metrics.v_measure_score(y, labels))"
      ],
      "execution_count": 0,
      "outputs": [
        {
          "output_type": "stream",
          "text": [
            "Silhouette Coefficient: 0.924\n",
            "V-measure: 0.344\n"
          ],
          "name": "stdout"
        }
      ]
    },
    {
      "cell_type": "markdown",
      "metadata": {
        "id": "rloEp8_ib2wl",
        "colab_type": "text"
      },
      "source": [
        "В большинстве алгоритмов с векторизацией через tfidf удалось добиться лучших результатов"
      ]
    },
    {
      "cell_type": "markdown",
      "metadata": {
        "id": "hdSJ6-RicC97",
        "colab_type": "text"
      },
      "source": [
        "### Метод локтя"
      ]
    },
    {
      "cell_type": "code",
      "metadata": {
        "id": "BbuX0j_1W6LE",
        "colab_type": "code",
        "colab": {}
      },
      "source": [
        "from tqdm import tqdm\n",
        "import numpy as np\n",
        "%matplotlib inline\n",
        "import matplotlib.pyplot as plt"
      ],
      "execution_count": 0,
      "outputs": []
    },
    {
      "cell_type": "code",
      "metadata": {
        "id": "qtgUm9RAwAft",
        "colab_type": "code",
        "outputId": "59f4cdeb-a0ba-4ec9-9f4c-e33cef64d053",
        "colab": {
          "base_uri": "https://localhost:8080/",
          "height": 34
        }
      },
      "source": [
        "sample = data.sample(frac=0.05)\n",
        "sample.shape"
      ],
      "execution_count": 0,
      "outputs": [
        {
          "output_type": "execute_result",
          "data": {
            "text/plain": [
              "(12711, 2)"
            ]
          },
          "metadata": {
            "tags": []
          },
          "execution_count": 149
        }
      ]
    },
    {
      "cell_type": "code",
      "metadata": {
        "id": "9y-0pFbyro9F",
        "colab_type": "code",
        "colab": {}
      },
      "source": [
        "tf = CountVectorizer(max_features = 100, max_df=0.9, min_df=5, ngram_range=(1,4))\n",
        "X = tf.fit_transform(sample['title'])\n"
      ],
      "execution_count": 0,
      "outputs": []
    },
    {
      "cell_type": "code",
      "metadata": {
        "id": "uKyh5bzEWxEB",
        "colab_type": "code",
        "outputId": "79064053-f9aa-4754-df7c-75d01d549278",
        "colab": {
          "base_uri": "https://localhost:8080/",
          "height": 34
        }
      },
      "source": [
        "scores = []\n",
        "tqdm._instances.clear()\n",
        "for i in tqdm(range(5, 1000, 50)):\n",
        "    cluster = MiniBatchKMeans(n_clusters=i, init_size=i*3)\n",
        "    cluster.fit(X)\n",
        "    scores.append(metrics.silhouette_score(X, cluster.labels_))"
      ],
      "execution_count": 0,
      "outputs": [
        {
          "output_type": "stream",
          "text": [
            "100%|██████████| 20/20 [01:15<00:00,  5.08s/it]\n"
          ],
          "name": "stderr"
        }
      ]
    },
    {
      "cell_type": "code",
      "metadata": {
        "id": "PfV06NgSYP9N",
        "colab_type": "code",
        "outputId": "54aeac8a-6584-469f-830c-ba54ab89ef4e",
        "colab": {
          "base_uri": "https://localhost:8080/",
          "height": 337
        }
      },
      "source": [
        "plt.figure(figsize=(12, 5))\n",
        "plt.plot(list(range(5, 1000, 50)), scores)"
      ],
      "execution_count": 0,
      "outputs": [
        {
          "output_type": "execute_result",
          "data": {
            "text/plain": [
              "[<matplotlib.lines.Line2D at 0x7f401c1715f8>]"
            ]
          },
          "metadata": {
            "tags": []
          },
          "execution_count": 169
        },
        {
          "output_type": "display_data",
          "data": {
            "image/png": "[encoded data removed]",
            "text/plain": [
              "<Figure size 864x360 with 1 Axes>"
            ]
          },
          "metadata": {
            "tags": []
          }
        }
      ]
    },
    {
      "cell_type": "markdown",
      "metadata": {
        "id": "u54ryLput6UH",
        "colab_type": "text"
      },
      "source": [
        "После ~400 кластеров качество растет мало, поэтому можно принять это количество за оптимальное"
      ]
    },
    {
      "cell_type": "code",
      "metadata": {
        "id": "VNPQXerxyW6Z",
        "colab_type": "code",
        "outputId": "eebeaea8-896a-45b0-b248-37327d0ae207",
        "colab": {
          "base_uri": "https://localhost:8080/",
          "height": 34
        }
      },
      "source": [
        "sample = data.sample(frac=0.01)\n",
        "sample.shape"
      ],
      "execution_count": 0,
      "outputs": [
        {
          "output_type": "execute_result",
          "data": {
            "text/plain": [
              "(2542, 2)"
            ]
          },
          "metadata": {
            "tags": []
          },
          "execution_count": 170
        }
      ]
    },
    {
      "cell_type": "code",
      "metadata": {
        "id": "mv9q2UbPyH2p",
        "colab_type": "code",
        "colab": {}
      },
      "source": [
        "tf = TfidfVectorizer(max_features = 200, max_df=0.8, min_df=5, ngram_range=(1,3))\n",
        "svd = TruncatedSVD(100, n_iter = 10)\n",
        "X = tf.fit_transform(sample['title'])\n",
        "X_svd = svd.fit_transform(X)"
      ],
      "execution_count": 0,
      "outputs": []
    },
    {
      "cell_type": "code",
      "metadata": {
        "id": "yPDrNBwc1Bg7",
        "colab_type": "code",
        "outputId": "4e74ac70-b244-4f35-d1cb-2b56fd5c235b",
        "colab": {
          "base_uri": "https://localhost:8080/",
          "height": 34
        }
      },
      "source": [
        "scores = []\n",
        "tqdm._instances.clear()\n",
        "for i in tqdm(range(5, 500, 20)):\n",
        "    cluster = AgglomerativeClustering(n_clusters=i)\n",
        "    cluster.fit(X_svd)\n",
        "    scores.append(metrics.silhouette_score(X, cluster.labels_))"
      ],
      "execution_count": 0,
      "outputs": [
        {
          "output_type": "stream",
          "text": [
            "100%|██████████| 25/25 [00:11<00:00,  2.08it/s]\n"
          ],
          "name": "stderr"
        }
      ]
    },
    {
      "cell_type": "code",
      "metadata": {
        "id": "Yd9oLv6_2zvw",
        "colab_type": "code",
        "outputId": "223d4c4d-1e3a-4ba7-9811-c72e0c5e5d42",
        "colab": {
          "base_uri": "https://localhost:8080/",
          "height": 337
        }
      },
      "source": [
        "plt.figure(figsize=(12, 5))\n",
        "plt.plot(list(range(5, 500, 20)), scores)"
      ],
      "execution_count": 0,
      "outputs": [
        {
          "output_type": "execute_result",
          "data": {
            "text/plain": [
              "[<matplotlib.lines.Line2D at 0x7f401c4a1208>]"
            ]
          },
          "metadata": {
            "tags": []
          },
          "execution_count": 185
        },
        {
          "output_type": "display_data",
          "data": {
            "image/png": "[encoded data removed]",
            "text/plain": [
              "<Figure size 864x360 with 1 Axes>"
            ]
          },
          "metadata": {
            "tags": []
          }
        }
      ]
    },
    {
      "cell_type": "markdown",
      "metadata": {
        "id": "joLbTH6Qy8fk",
        "colab_type": "text"
      },
      "source": [
        "Сложно точно выбрать значение по правилу локтя, но оно должно находится где-то между 130-170"
      ]
    },
    {
      "cell_type": "markdown",
      "metadata": {
        "id": "Qp68FK5Jy_bc",
        "colab_type": "text"
      },
      "source": [
        "##SVD или NMF?"
      ]
    },
    {
      "cell_type": "markdown",
      "metadata": {
        "id": "tzS34wWY8kfT",
        "colab_type": "text"
      },
      "source": [
        "### Agglomerative Clustering"
      ]
    },
    {
      "cell_type": "markdown",
      "metadata": {
        "id": "Z7n8zFoP3jgc",
        "colab_type": "text"
      },
      "source": [
        "SVD\n"
      ]
    },
    {
      "cell_type": "code",
      "metadata": {
        "id": "El0vJ-K0y_D2",
        "colab_type": "code",
        "colab": {}
      },
      "source": [
        "tf = TfidfVectorizer(max_features = 100, max_df=0.8, min_df=5, ngram_range=(1,3))\n",
        "svd = TruncatedSVD(90, n_iter = 10)\n",
        "X = tf.fit_transform(sample['title'])\n",
        "X_svd = svd.fit_transform(X)\n",
        "y = sample['category_name']"
      ],
      "execution_count": 0,
      "outputs": []
    },
    {
      "cell_type": "code",
      "metadata": {
        "id": "obhA15jH0RnT",
        "colab_type": "code",
        "outputId": "93c42f7f-f84f-40e3-c117-1c863bbfe4cd",
        "colab": {
          "base_uri": "https://localhost:8080/",
          "height": 34
        }
      },
      "source": [
        "X_svd.shape"
      ],
      "execution_count": 0,
      "outputs": [
        {
          "output_type": "execute_result",
          "data": {
            "text/plain": [
              "(12711, 90)"
            ]
          },
          "metadata": {
            "tags": []
          },
          "execution_count": 441
        }
      ]
    },
    {
      "cell_type": "code",
      "metadata": {
        "id": "EUzYikno0Y73",
        "colab_type": "code",
        "outputId": "5d3b2417-06af-4e63-e5cf-ac4862764e8a",
        "colab": {
          "base_uri": "https://localhost:8080/",
          "height": 68
        }
      },
      "source": [
        "cluster = AgglomerativeClustering(n_clusters=170, linkage = 'ward')\n",
        "cluster.fit(X_svd)"
      ],
      "execution_count": 0,
      "outputs": [
        {
          "output_type": "execute_result",
          "data": {
            "text/plain": [
              "AgglomerativeClustering(affinity='euclidean', compute_full_tree='auto',\n",
              "                        connectivity=None, distance_threshold=None,\n",
              "                        linkage='ward', memory=None, n_clusters=170)"
            ]
          },
          "metadata": {
            "tags": []
          },
          "execution_count": 442
        }
      ]
    },
    {
      "cell_type": "code",
      "metadata": {
        "id": "1y_2wK4H0gmw",
        "colab_type": "code",
        "outputId": "c9b5c746-829e-4447-9c92-45b0254d698d",
        "colab": {
          "base_uri": "https://localhost:8080/",
          "height": 51
        }
      },
      "source": [
        "labels = cluster.labels_\n",
        "print(\"Silhouette Coefficient: %0.3f\" % metrics.silhouette_score(X, labels))\n",
        "print(\"V-measure: %0.3f\" % metrics.v_measure_score(y, labels))"
      ],
      "execution_count": 0,
      "outputs": [
        {
          "output_type": "stream",
          "text": [
            "Silhouette Coefficient: 0.866\n",
            "V-measure: 0.360\n"
          ],
          "name": "stdout"
        }
      ]
    },
    {
      "cell_type": "markdown",
      "metadata": {
        "id": "Dqx-6PZQ4fvF",
        "colab_type": "text"
      },
      "source": [
        "NMF"
      ]
    },
    {
      "cell_type": "code",
      "metadata": {
        "id": "Fq7MU2zf4fBK",
        "colab_type": "code",
        "colab": {}
      },
      "source": [
        "nmf = NMF(100, init = 'nndsvd')\n",
        "X_nmf = nmf.fit_transform(X)"
      ],
      "execution_count": 0,
      "outputs": []
    },
    {
      "cell_type": "code",
      "metadata": {
        "id": "N8jFW6-k50mX",
        "colab_type": "code",
        "outputId": "1e89fb62-9597-4ac5-c7fe-3936125e7dbc",
        "colab": {
          "base_uri": "https://localhost:8080/",
          "height": 51
        }
      },
      "source": [
        "cluster = AgglomerativeClustering(n_clusters=170, linkage = 'ward')\n",
        "cluster.fit(X_nmf)\n",
        "labels = cluster.labels_\n",
        "print(\"Silhouette Coefficient: %0.3f\" % metrics.silhouette_score(X, labels))\n",
        "print(\"V-measure: %0.3f\" % metrics.v_measure_score(y, labels))"
      ],
      "execution_count": 0,
      "outputs": [
        {
          "output_type": "stream",
          "text": [
            "Silhouette Coefficient: 0.859\n",
            "V-measure: 0.357\n"
          ],
          "name": "stdout"
        }
      ]
    },
    {
      "cell_type": "markdown",
      "metadata": {
        "id": "JU3wv51m8nI0",
        "colab_type": "text"
      },
      "source": [
        "### MiniBatchKMeans"
      ]
    },
    {
      "cell_type": "code",
      "metadata": {
        "id": "tVKIN0g59kAh",
        "colab_type": "code",
        "outputId": "48deb9a0-af02-4793-c28b-450221625406",
        "colab": {
          "base_uri": "https://localhost:8080/",
          "height": 34
        }
      },
      "source": [
        "sample = data.sample(frac=0.05)\n",
        "sample.shape"
      ],
      "execution_count": 0,
      "outputs": [
        {
          "output_type": "execute_result",
          "data": {
            "text/plain": [
              "(12711, 2)"
            ]
          },
          "metadata": {
            "tags": []
          },
          "execution_count": 160
        }
      ]
    },
    {
      "cell_type": "markdown",
      "metadata": {
        "colab_type": "text",
        "id": "jMp1occo8uBT"
      },
      "source": [
        "SVD\n"
      ]
    },
    {
      "cell_type": "code",
      "metadata": {
        "colab_type": "code",
        "id": "GYPI2zN58uBf",
        "colab": {}
      },
      "source": [
        "tf = TfidfVectorizer(max_features = 100, max_df=0.8, min_df=5, ngram_range=(1,3))\n",
        "svd = TruncatedSVD(90, n_iter = 10)\n",
        "X = tf.fit_transform(sample['title'])\n",
        "X_svd = svd.fit_transform(X)\n",
        "y = sample['category_name']"
      ],
      "execution_count": 0,
      "outputs": []
    },
    {
      "cell_type": "code",
      "metadata": {
        "colab_type": "code",
        "outputId": "44deb368-1282-4fd2-9b35-daa6944dd6fe",
        "id": "IVJvVGrS8uBs",
        "colab": {
          "base_uri": "https://localhost:8080/",
          "height": 34
        }
      },
      "source": [
        "X_svd.shape"
      ],
      "execution_count": 0,
      "outputs": [
        {
          "output_type": "execute_result",
          "data": {
            "text/plain": [
              "(12711, 90)"
            ]
          },
          "metadata": {
            "tags": []
          },
          "execution_count": 459
        }
      ]
    },
    {
      "cell_type": "code",
      "metadata": {
        "colab_type": "code",
        "outputId": "50fc487d-1c62-4f25-804c-bbcfa2bd5e7d",
        "id": "fT_WMN4c8uB1",
        "colab": {
          "base_uri": "https://localhost:8080/",
          "height": 187
        }
      },
      "source": [
        "cluster = MiniBatchKMeans(n_clusters=750)\n",
        "cluster.fit(X_svd)"
      ],
      "execution_count": 0,
      "outputs": [
        {
          "output_type": "stream",
          "text": [
            "/usr/local/lib/python3.6/dist-packages/sklearn/cluster/_kmeans.py:1576: RuntimeWarning: init_size=300 should be larger than k=750. Setting it to 3*k\n",
            "  init_size=init_size)\n",
            "/usr/local/lib/python3.6/dist-packages/sklearn/cluster/_kmeans.py:1576: RuntimeWarning: init_size=300 should be larger than k=750. Setting it to 3*k\n",
            "  init_size=init_size)\n",
            "/usr/local/lib/python3.6/dist-packages/sklearn/cluster/_kmeans.py:1576: RuntimeWarning: init_size=300 should be larger than k=750. Setting it to 3*k\n",
            "  init_size=init_size)\n"
          ],
          "name": "stderr"
        },
        {
          "output_type": "execute_result",
          "data": {
            "text/plain": [
              "MiniBatchKMeans(batch_size=100, compute_labels=True, init='k-means++',\n",
              "                init_size=None, max_iter=100, max_no_improvement=10,\n",
              "                n_clusters=750, n_init=3, random_state=None,\n",
              "                reassignment_ratio=0.01, tol=0.0, verbose=0)"
            ]
          },
          "metadata": {
            "tags": []
          },
          "execution_count": 162
        }
      ]
    },
    {
      "cell_type": "code",
      "metadata": {
        "colab_type": "code",
        "outputId": "cca1531a-e1fb-4eba-bab8-1cd9ee8a828e",
        "id": "NkOda4Hq8uB5",
        "colab": {
          "base_uri": "https://localhost:8080/",
          "height": 51
        }
      },
      "source": [
        "labels = cluster.labels_\n",
        "print(\"Silhouette Coefficient: %0.3f\" % metrics.silhouette_score(X, labels))\n",
        "print(\"V-measure: %0.3f\" % metrics.v_measure_score(y, labels))"
      ],
      "execution_count": 0,
      "outputs": [
        {
          "output_type": "stream",
          "text": [
            "Silhouette Coefficient: 0.893\n",
            "V-measure: 0.360\n"
          ],
          "name": "stdout"
        }
      ]
    },
    {
      "cell_type": "markdown",
      "metadata": {
        "colab_type": "text",
        "id": "ifkRaJNC8uB-"
      },
      "source": [
        "NMF"
      ]
    },
    {
      "cell_type": "code",
      "metadata": {
        "colab_type": "code",
        "id": "Flmpuj-L8uB_",
        "colab": {}
      },
      "source": [
        "nmf = NMF(100, init = 'nndsvd')\n",
        "X_nmf = nmf.fit_transform(X)"
      ],
      "execution_count": 0,
      "outputs": []
    },
    {
      "cell_type": "code",
      "metadata": {
        "colab_type": "code",
        "outputId": "b1d02d47-d1d9-43a4-99ea-1f030279cc98",
        "id": "N-gRdRik8uCD",
        "colab": {
          "base_uri": "https://localhost:8080/",
          "height": 153
        }
      },
      "source": [
        "cluster = MiniBatchKMeans(n_clusters=750)\n",
        "cluster.fit(X_nmf)\n",
        "labels = cluster.labels_\n",
        "print(\"Silhouette Coefficient: %0.3f\" % metrics.silhouette_score(X, labels))\n",
        "print(\"V-measure: %0.3f\" % metrics.v_measure_score(y, labels))"
      ],
      "execution_count": 0,
      "outputs": [
        {
          "output_type": "stream",
          "text": [
            "/usr/local/lib/python3.6/dist-packages/sklearn/cluster/_kmeans.py:1576: RuntimeWarning: init_size=300 should be larger than k=750. Setting it to 3*k\n",
            "  init_size=init_size)\n",
            "/usr/local/lib/python3.6/dist-packages/sklearn/cluster/_kmeans.py:1576: RuntimeWarning: init_size=300 should be larger than k=750. Setting it to 3*k\n",
            "  init_size=init_size)\n",
            "/usr/local/lib/python3.6/dist-packages/sklearn/cluster/_kmeans.py:1576: RuntimeWarning: init_size=300 should be larger than k=750. Setting it to 3*k\n",
            "  init_size=init_size)\n"
          ],
          "name": "stderr"
        },
        {
          "output_type": "stream",
          "text": [
            "Silhouette Coefficient: 0.919\n",
            "V-measure: 0.359\n"
          ],
          "name": "stdout"
        }
      ]
    },
    {
      "cell_type": "markdown",
      "metadata": {
        "id": "NW6YQ0jqAXtK",
        "colab_type": "text"
      },
      "source": [
        "### Spectural clastering"
      ]
    },
    {
      "cell_type": "markdown",
      "metadata": {
        "id": "zesRNZArcpcA",
        "colab_type": "text"
      },
      "source": [
        "SVD"
      ]
    },
    {
      "cell_type": "code",
      "metadata": {
        "colab_type": "code",
        "outputId": "583e959b-15db-4b89-bfca-f697d5a53369",
        "id": "BiIFV76eAeBM",
        "colab": {
          "base_uri": "https://localhost:8080/",
          "height": 85
        }
      },
      "source": [
        "cluster = SpectralClustering(n_clusters=50, n_init = 15)\n",
        "cluster.fit(X_svd)"
      ],
      "execution_count": 0,
      "outputs": [
        {
          "output_type": "execute_result",
          "data": {
            "text/plain": [
              "SpectralClustering(affinity='rbf', assign_labels='kmeans', coef0=1, degree=3,\n",
              "                   eigen_solver=None, eigen_tol=0.0, gamma=1.0,\n",
              "                   kernel_params=None, n_clusters=50, n_components=None,\n",
              "                   n_init=15, n_jobs=None, n_neighbors=10, random_state=None)"
            ]
          },
          "metadata": {
            "tags": []
          },
          "execution_count": 474
        }
      ]
    },
    {
      "cell_type": "code",
      "metadata": {
        "colab_type": "code",
        "outputId": "4feeec4f-bf87-4516-d207-8e5da9fe5aad",
        "id": "WV5j6Y7vAeBU",
        "colab": {
          "base_uri": "https://localhost:8080/",
          "height": 51
        }
      },
      "source": [
        "labels = cluster.labels_\n",
        "print(\"Silhouette Coefficient: %0.3f\" % metrics.silhouette_score(X, labels))\n",
        "print(\"V-measure: %0.3f\" % metrics.v_measure_score(y, labels))"
      ],
      "execution_count": 0,
      "outputs": [
        {
          "output_type": "stream",
          "text": [
            "Silhouette Coefficient: 0.701\n",
            "V-measure: 0.331\n"
          ],
          "name": "stdout"
        }
      ]
    },
    {
      "cell_type": "markdown",
      "metadata": {
        "colab_type": "text",
        "id": "GcX3SfJUAeBZ"
      },
      "source": [
        "NMF"
      ]
    },
    {
      "cell_type": "code",
      "metadata": {
        "colab_type": "code",
        "outputId": "500eeef5-4f58-47d2-da08-0d09e228e494",
        "id": "d2MOvX1bAeBe",
        "colab": {
          "base_uri": "https://localhost:8080/",
          "height": 51
        }
      },
      "source": [
        "cluster = SpectralClustering(n_clusters=50, n_init = 15)\n",
        "cluster.fit(X_nmf)\n",
        "labels = cluster.labels_\n",
        "print(\"Silhouette Coefficient: %0.3f\" % metrics.silhouette_score(X, labels))\n",
        "print(\"V-measure: %0.3f\" % metrics.v_measure_score(y, labels))"
      ],
      "execution_count": 0,
      "outputs": [
        {
          "output_type": "stream",
          "text": [
            "Silhouette Coefficient: 0.699\n",
            "V-measure: 0.332\n"
          ],
          "name": "stdout"
        }
      ]
    },
    {
      "cell_type": "markdown",
      "metadata": {
        "id": "kXf2t1qjctEE",
        "colab_type": "text"
      },
      "source": [
        "В большинстве алгоритмов SVD показал лучший результат, но разрыв с MNF был не очень значительный"
      ]
    },
    {
      "cell_type": "markdown",
      "metadata": {
        "id": "pHwA9MhIGhHx",
        "colab_type": "text"
      },
      "source": [
        "##Выборсы"
      ]
    },
    {
      "cell_type": "markdown",
      "metadata": {
        "id": "O-wjH5oMMkcV",
        "colab_type": "text"
      },
      "source": [
        "1) Пробуем вместо слов использовать символьные нграммы\n"
      ]
    },
    {
      "cell_type": "code",
      "metadata": {
        "id": "IWD3vTLUDRej",
        "colab_type": "code",
        "colab": {}
      },
      "source": [
        "#tf = TfidfVectorizer(max_df=0.9, min_df=10, ngram_range=(1,4))\n",
        "tf = TfidfVectorizer(analyzer = 'char_wb', max_df=0.6, min_df=10, ngram_range=(10,15))\n",
        "X = tf.fit_transform(sample['title'])"
      ],
      "execution_count": 0,
      "outputs": []
    },
    {
      "cell_type": "code",
      "metadata": {
        "id": "0I2WN6SKIqyH",
        "colab_type": "code",
        "outputId": "213fbaf4-794f-498e-95d7-0c71ccfdbef9",
        "colab": {
          "base_uri": "https://localhost:8080/",
          "height": 34
        }
      },
      "source": [
        "X.shape"
      ],
      "execution_count": 0,
      "outputs": [
        {
          "output_type": "execute_result",
          "data": {
            "text/plain": [
              "(2542, 133)"
            ]
          },
          "metadata": {
            "tags": []
          },
          "execution_count": 85
        }
      ]
    },
    {
      "cell_type": "code",
      "metadata": {
        "id": "n5J26DO1JCfS",
        "colab_type": "code",
        "colab": {}
      },
      "source": [
        "tf.vocabulary_"
      ],
      "execution_count": 0,
      "outputs": []
    },
    {
      "cell_type": "code",
      "metadata": {
        "id": "RZ6CpsEtIFVH",
        "colab_type": "code",
        "outputId": "b239f5fd-33d1-41b1-fa79-52611b3ca75d",
        "colab": {
          "base_uri": "https://localhost:8080/",
          "height": 51
        }
      },
      "source": [
        "cluster = DBSCAN(min_samples = 2)\n",
        "cluster.fit(X)"
      ],
      "execution_count": 0,
      "outputs": [
        {
          "output_type": "execute_result",
          "data": {
            "text/plain": [
              "DBSCAN(algorithm='auto', eps=0.5, leaf_size=30, metric='euclidean',\n",
              "       metric_params=None, min_samples=2, n_jobs=None, p=None)"
            ]
          },
          "metadata": {
            "tags": []
          },
          "execution_count": 86
        }
      ]
    },
    {
      "cell_type": "code",
      "metadata": {
        "id": "OQi_HtODGj1A",
        "colab_type": "code",
        "outputId": "3b8d3002-0ca2-4477-9042-4e2ef982a1fb",
        "colab": {
          "base_uri": "https://localhost:8080/",
          "height": 376
        }
      },
      "source": [
        "sample['cluster'] = cluster.labels_\n",
        "print(len(sample[sample.cluster==-1]))\n",
        "sample[sample.cluster==-1][:10]"
      ],
      "execution_count": 0,
      "outputs": [
        {
          "output_type": "stream",
          "text": [
            "216\n"
          ],
          "name": "stdout"
        },
        {
          "output_type": "execute_result",
          "data": {
            "text/html": [
              "<div>\n",
              "<style scoped>\n",
              "    .dataframe tbody tr th:only-of-type {\n",
              "        vertical-align: middle;\n",
              "    }\n",
              "\n",
              "    .dataframe tbody tr th {\n",
              "        vertical-align: top;\n",
              "    }\n",
              "\n",
              "    .dataframe thead th {\n",
              "        text-align: right;\n",
              "    }\n",
              "</style>\n",
              "<table border=\"1\" class=\"dataframe\">\n",
              "  <thead>\n",
              "    <tr style=\"text-align: right;\">\n",
              "      <th></th>\n",
              "      <th>category_name</th>\n",
              "      <th>title</th>\n",
              "      <th>cluster</th>\n",
              "    </tr>\n",
              "  </thead>\n",
              "  <tbody>\n",
              "    <tr>\n",
              "      <th>23501</th>\n",
              "      <td>Ноутбуки</td>\n",
              "      <td>Ноутбук Asus 4 ядра 3 Гб озу 500 HDD</td>\n",
              "      <td>-1</td>\n",
              "    </tr>\n",
              "    <tr>\n",
              "      <th>6494</th>\n",
              "      <td>Одежда, обувь, аксессуары</td>\n",
              "      <td>Ветровка Adidas Neo</td>\n",
              "      <td>-1</td>\n",
              "    </tr>\n",
              "    <tr>\n",
              "      <th>195696</th>\n",
              "      <td>Детская одежда и обувь</td>\n",
              "      <td>Кеды для мальчика</td>\n",
              "      <td>-1</td>\n",
              "    </tr>\n",
              "    <tr>\n",
              "      <th>182723</th>\n",
              "      <td>Детская одежда и обувь</td>\n",
              "      <td>Комплект на девочку</td>\n",
              "      <td>-1</td>\n",
              "    </tr>\n",
              "    <tr>\n",
              "      <th>63682</th>\n",
              "      <td>Ноутбуки</td>\n",
              "      <td>Продам отличный ноутбук Acer 5250</td>\n",
              "      <td>-1</td>\n",
              "    </tr>\n",
              "    <tr>\n",
              "      <th>207410</th>\n",
              "      <td>Одежда, обувь, аксессуары</td>\n",
              "      <td>Продам сапоги</td>\n",
              "      <td>-1</td>\n",
              "    </tr>\n",
              "    <tr>\n",
              "      <th>50442</th>\n",
              "      <td>Аудио и видео</td>\n",
              "      <td>В продаже б/у телевизор LG</td>\n",
              "      <td>-1</td>\n",
              "    </tr>\n",
              "    <tr>\n",
              "      <th>184598</th>\n",
              "      <td>Одежда, обувь, аксессуары</td>\n",
              "      <td>Кофта женская</td>\n",
              "      <td>-1</td>\n",
              "    </tr>\n",
              "    <tr>\n",
              "      <th>211049</th>\n",
              "      <td>Мебель и интерьер</td>\n",
              "      <td>Продам часы</td>\n",
              "      <td>-1</td>\n",
              "    </tr>\n",
              "    <tr>\n",
              "      <th>70265</th>\n",
              "      <td>Мебель и интерьер</td>\n",
              "      <td>Часы настенные под стеклом</td>\n",
              "      <td>-1</td>\n",
              "    </tr>\n",
              "  </tbody>\n",
              "</table>\n",
              "</div>"
            ],
            "text/plain": [
              "                    category_name  ... cluster\n",
              "23501                    Ноутбуки  ...      -1\n",
              "6494    Одежда, обувь, аксессуары  ...      -1\n",
              "195696     Детская одежда и обувь  ...      -1\n",
              "182723     Детская одежда и обувь  ...      -1\n",
              "63682                    Ноутбуки  ...      -1\n",
              "207410  Одежда, обувь, аксессуары  ...      -1\n",
              "50442               Аудио и видео  ...      -1\n",
              "184598  Одежда, обувь, аксессуары  ...      -1\n",
              "211049          Мебель и интерьер  ...      -1\n",
              "70265           Мебель и интерьер  ...      -1\n",
              "\n",
              "[10 rows x 3 columns]"
            ]
          },
          "metadata": {
            "tags": []
          },
          "execution_count": 88
        }
      ]
    },
    {
      "cell_type": "code",
      "metadata": {
        "id": "GJu6rxXmFdSf",
        "colab_type": "code",
        "colab": {}
      },
      "source": [
        "nmf = NMF(100, init = 'nndsvd')\n",
        "X_nmf = nmf.fit_transform(X)"
      ],
      "execution_count": 0,
      "outputs": []
    },
    {
      "cell_type": "code",
      "metadata": {
        "id": "n1q_zLRoDdOR",
        "colab_type": "code",
        "outputId": "bf00458f-2bba-47d1-ef72-5a82a7914127",
        "colab": {
          "base_uri": "https://localhost:8080/",
          "height": 119
        }
      },
      "source": [
        "cluster = OPTICS(min_samples = 3)\n",
        "cluster.fit(X_nmf)"
      ],
      "execution_count": 0,
      "outputs": [
        {
          "output_type": "stream",
          "text": [
            "/usr/local/lib/python3.6/dist-packages/sklearn/cluster/_optics.py:802: RuntimeWarning: divide by zero encountered in true_divide\n",
            "  ratio = reachability_plot[:-1] / reachability_plot[1:]\n"
          ],
          "name": "stderr"
        },
        {
          "output_type": "execute_result",
          "data": {
            "text/plain": [
              "OPTICS(algorithm='auto', cluster_method='xi', eps=None, leaf_size=30,\n",
              "       max_eps=inf, metric='minkowski', metric_params=None,\n",
              "       min_cluster_size=None, min_samples=3, n_jobs=None, p=2,\n",
              "       predecessor_correction=True, xi=0.05)"
            ]
          },
          "metadata": {
            "tags": []
          },
          "execution_count": 112
        }
      ]
    },
    {
      "cell_type": "code",
      "metadata": {
        "id": "dwCf8HpDNTc1",
        "colab_type": "code",
        "outputId": "a37aa993-0bc2-45a7-9715-7b0d03a84dc8",
        "colab": {
          "base_uri": "https://localhost:8080/",
          "height": 221
        }
      },
      "source": [
        "sample['cluster'] = cluster.labels_\n",
        "print(len(sample[sample.cluster==-1]))\n",
        "sample[sample.cluster==-1][:5]"
      ],
      "execution_count": 0,
      "outputs": [
        {
          "output_type": "stream",
          "text": [
            "159\n"
          ],
          "name": "stdout"
        },
        {
          "output_type": "execute_result",
          "data": {
            "text/html": [
              "<div>\n",
              "<style scoped>\n",
              "    .dataframe tbody tr th:only-of-type {\n",
              "        vertical-align: middle;\n",
              "    }\n",
              "\n",
              "    .dataframe tbody tr th {\n",
              "        vertical-align: top;\n",
              "    }\n",
              "\n",
              "    .dataframe thead th {\n",
              "        text-align: right;\n",
              "    }\n",
              "</style>\n",
              "<table border=\"1\" class=\"dataframe\">\n",
              "  <thead>\n",
              "    <tr style=\"text-align: right;\">\n",
              "      <th></th>\n",
              "      <th>category_name</th>\n",
              "      <th>title</th>\n",
              "      <th>cluster</th>\n",
              "    </tr>\n",
              "  </thead>\n",
              "  <tbody>\n",
              "    <tr>\n",
              "      <th>6494</th>\n",
              "      <td>Одежда, обувь, аксессуары</td>\n",
              "      <td>Ветровка Adidas Neo</td>\n",
              "      <td>-1</td>\n",
              "    </tr>\n",
              "    <tr>\n",
              "      <th>195696</th>\n",
              "      <td>Детская одежда и обувь</td>\n",
              "      <td>Кеды для мальчика</td>\n",
              "      <td>-1</td>\n",
              "    </tr>\n",
              "    <tr>\n",
              "      <th>182723</th>\n",
              "      <td>Детская одежда и обувь</td>\n",
              "      <td>Комплект на девочку</td>\n",
              "      <td>-1</td>\n",
              "    </tr>\n",
              "    <tr>\n",
              "      <th>50442</th>\n",
              "      <td>Аудио и видео</td>\n",
              "      <td>В продаже б/у телевизор LG</td>\n",
              "      <td>-1</td>\n",
              "    </tr>\n",
              "    <tr>\n",
              "      <th>184598</th>\n",
              "      <td>Одежда, обувь, аксессуары</td>\n",
              "      <td>Кофта женская</td>\n",
              "      <td>-1</td>\n",
              "    </tr>\n",
              "  </tbody>\n",
              "</table>\n",
              "</div>"
            ],
            "text/plain": [
              "                    category_name                       title  cluster\n",
              "6494    Одежда, обувь, аксессуары         Ветровка Adidas Neo       -1\n",
              "195696     Детская одежда и обувь           Кеды для мальчика       -1\n",
              "182723     Детская одежда и обувь         Комплект на девочку       -1\n",
              "50442               Аудио и видео  В продаже б/у телевизор LG       -1\n",
              "184598  Одежда, обувь, аксессуары               Кофта женская       -1"
            ]
          },
          "metadata": {
            "tags": []
          },
          "execution_count": 113
        }
      ]
    },
    {
      "cell_type": "markdown",
      "metadata": {
        "id": "l-Vf9wJRNZ_t",
        "colab_type": "text"
      },
      "source": [
        "Размер \"мусорного\" кластера сокращается, но при этом в него по-прежнему попадают обычные объявления"
      ]
    },
    {
      "cell_type": "markdown",
      "metadata": {
        "id": "KyLzc6lwNh6c",
        "colab_type": "text"
      },
      "source": [
        "2) Пробуем менять количество признаков"
      ]
    },
    {
      "cell_type": "code",
      "metadata": {
        "id": "vPFetZRaNlou",
        "colab_type": "code",
        "colab": {}
      },
      "source": [
        "tf = TfidfVectorizer(max_df=0.9, min_df=2, ngram_range=(1,5))\n",
        "X = tf.fit_transform(sample['title'])"
      ],
      "execution_count": 0,
      "outputs": []
    },
    {
      "cell_type": "code",
      "metadata": {
        "id": "6Nk8M8GJR4aK",
        "colab_type": "code",
        "outputId": "20fe62d7-cf9d-4004-86a3-a878c3ac3a37",
        "colab": {
          "base_uri": "https://localhost:8080/",
          "height": 34
        }
      },
      "source": [
        "X.shape"
      ],
      "execution_count": 0,
      "outputs": [
        {
          "output_type": "execute_result",
          "data": {
            "text/plain": [
              "(2542, 1515)"
            ]
          },
          "metadata": {
            "tags": []
          },
          "execution_count": 115
        }
      ]
    },
    {
      "cell_type": "code",
      "metadata": {
        "id": "YKJOaW7dR99m",
        "colab_type": "code",
        "outputId": "a7696a97-d092-4dba-b013-8c1f3df793f0",
        "colab": {
          "base_uri": "https://localhost:8080/",
          "height": 221
        }
      },
      "source": [
        "cluster = DBSCAN(min_samples = 2)\n",
        "cluster.fit(X)\n",
        "sample['cluster'] = cluster.labels_\n",
        "print(len(sample[sample.cluster==-1]))\n",
        "sample[sample.cluster==-1][:5]"
      ],
      "execution_count": 0,
      "outputs": [
        {
          "output_type": "stream",
          "text": [
            "1255\n"
          ],
          "name": "stdout"
        },
        {
          "output_type": "execute_result",
          "data": {
            "text/html": [
              "<div>\n",
              "<style scoped>\n",
              "    .dataframe tbody tr th:only-of-type {\n",
              "        vertical-align: middle;\n",
              "    }\n",
              "\n",
              "    .dataframe tbody tr th {\n",
              "        vertical-align: top;\n",
              "    }\n",
              "\n",
              "    .dataframe thead th {\n",
              "        text-align: right;\n",
              "    }\n",
              "</style>\n",
              "<table border=\"1\" class=\"dataframe\">\n",
              "  <thead>\n",
              "    <tr style=\"text-align: right;\">\n",
              "      <th></th>\n",
              "      <th>category_name</th>\n",
              "      <th>title</th>\n",
              "      <th>cluster</th>\n",
              "    </tr>\n",
              "  </thead>\n",
              "  <tbody>\n",
              "    <tr>\n",
              "      <th>39170</th>\n",
              "      <td>Оборудование для бизнеса</td>\n",
              "      <td>Рохля гидравлическая lema 2WLO до 2000 кг</td>\n",
              "      <td>-1</td>\n",
              "    </tr>\n",
              "    <tr>\n",
              "      <th>187615</th>\n",
              "      <td>Одежда, обувь, аксессуары</td>\n",
              "      <td>Костюм спортивный,женский Demix</td>\n",
              "      <td>-1</td>\n",
              "    </tr>\n",
              "    <tr>\n",
              "      <th>11804</th>\n",
              "      <td>Коллекционирование</td>\n",
              "      <td>Дендритический кварц 14,52 карат</td>\n",
              "      <td>-1</td>\n",
              "    </tr>\n",
              "    <tr>\n",
              "      <th>161015</th>\n",
              "      <td>Одежда, обувь, аксессуары</td>\n",
              "      <td>Женские туфли</td>\n",
              "      <td>-1</td>\n",
              "    </tr>\n",
              "    <tr>\n",
              "      <th>23501</th>\n",
              "      <td>Ноутбуки</td>\n",
              "      <td>Ноутбук Asus 4 ядра 3 Гб озу 500 HDD</td>\n",
              "      <td>-1</td>\n",
              "    </tr>\n",
              "  </tbody>\n",
              "</table>\n",
              "</div>"
            ],
            "text/plain": [
              "                    category_name  ... cluster\n",
              "39170    Оборудование для бизнеса  ...      -1\n",
              "187615  Одежда, обувь, аксессуары  ...      -1\n",
              "11804          Коллекционирование  ...      -1\n",
              "161015  Одежда, обувь, аксессуары  ...      -1\n",
              "23501                    Ноутбуки  ...      -1\n",
              "\n",
              "[5 rows x 3 columns]"
            ]
          },
          "metadata": {
            "tags": []
          },
          "execution_count": 116
        }
      ]
    },
    {
      "cell_type": "code",
      "metadata": {
        "id": "ERHjSi9gTGOP",
        "colab_type": "code",
        "colab": {}
      },
      "source": [
        "nmf = NMF(200, init = 'nndsvd')\n",
        "X_nmf = nmf.fit_transform(X)"
      ],
      "execution_count": 0,
      "outputs": []
    },
    {
      "cell_type": "code",
      "metadata": {
        "id": "s8t2mIExTXUN",
        "colab_type": "code",
        "outputId": "b44d480c-71ba-4530-d302-0198188ddf53",
        "colab": {
          "base_uri": "https://localhost:8080/",
          "height": 255
        }
      },
      "source": [
        "cluster = OPTICS(min_samples = 3)\n",
        "cluster.fit(X_nmf)\n",
        "sample['cluster'] = cluster.labels_\n",
        "print(len(sample[sample.cluster==-1]))\n",
        "sample[sample.cluster==-1][:5]"
      ],
      "execution_count": 0,
      "outputs": [
        {
          "output_type": "stream",
          "text": [
            "720\n"
          ],
          "name": "stdout"
        },
        {
          "output_type": "stream",
          "text": [
            "/usr/local/lib/python3.6/dist-packages/sklearn/cluster/_optics.py:802: RuntimeWarning: divide by zero encountered in true_divide\n",
            "  ratio = reachability_plot[:-1] / reachability_plot[1:]\n"
          ],
          "name": "stderr"
        },
        {
          "output_type": "execute_result",
          "data": {
            "text/html": [
              "<div>\n",
              "<style scoped>\n",
              "    .dataframe tbody tr th:only-of-type {\n",
              "        vertical-align: middle;\n",
              "    }\n",
              "\n",
              "    .dataframe tbody tr th {\n",
              "        vertical-align: top;\n",
              "    }\n",
              "\n",
              "    .dataframe thead th {\n",
              "        text-align: right;\n",
              "    }\n",
              "</style>\n",
              "<table border=\"1\" class=\"dataframe\">\n",
              "  <thead>\n",
              "    <tr style=\"text-align: right;\">\n",
              "      <th></th>\n",
              "      <th>category_name</th>\n",
              "      <th>title</th>\n",
              "      <th>cluster</th>\n",
              "    </tr>\n",
              "  </thead>\n",
              "  <tbody>\n",
              "    <tr>\n",
              "      <th>39170</th>\n",
              "      <td>Оборудование для бизнеса</td>\n",
              "      <td>Рохля гидравлическая lema 2WLO до 2000 кг</td>\n",
              "      <td>-1</td>\n",
              "    </tr>\n",
              "    <tr>\n",
              "      <th>187615</th>\n",
              "      <td>Одежда, обувь, аксессуары</td>\n",
              "      <td>Костюм спортивный,женский Demix</td>\n",
              "      <td>-1</td>\n",
              "    </tr>\n",
              "    <tr>\n",
              "      <th>11804</th>\n",
              "      <td>Коллекционирование</td>\n",
              "      <td>Дендритический кварц 14,52 карат</td>\n",
              "      <td>-1</td>\n",
              "    </tr>\n",
              "    <tr>\n",
              "      <th>87124</th>\n",
              "      <td>Одежда, обувь, аксессуары</td>\n",
              "      <td>Туника</td>\n",
              "      <td>-1</td>\n",
              "    </tr>\n",
              "    <tr>\n",
              "      <th>6494</th>\n",
              "      <td>Одежда, обувь, аксессуары</td>\n",
              "      <td>Ветровка Adidas Neo</td>\n",
              "      <td>-1</td>\n",
              "    </tr>\n",
              "  </tbody>\n",
              "</table>\n",
              "</div>"
            ],
            "text/plain": [
              "                    category_name  ... cluster\n",
              "39170    Оборудование для бизнеса  ...      -1\n",
              "187615  Одежда, обувь, аксессуары  ...      -1\n",
              "11804          Коллекционирование  ...      -1\n",
              "87124   Одежда, обувь, аксессуары  ...      -1\n",
              "6494    Одежда, обувь, аксессуары  ...      -1\n",
              "\n",
              "[5 rows x 3 columns]"
            ]
          },
          "metadata": {
            "tags": []
          },
          "execution_count": 120
        }
      ]
    },
    {
      "cell_type": "code",
      "metadata": {
        "id": "wnB1L7dBSkEx",
        "colab_type": "code",
        "colab": {}
      },
      "source": [
        "tf = TfidfVectorizer(max_df=0.8, min_df=6, ngram_range=(1,3))\n",
        "X = tf.fit_transform(sample['title'])"
      ],
      "execution_count": 0,
      "outputs": []
    },
    {
      "cell_type": "code",
      "metadata": {
        "id": "hss4-SGoSrWq",
        "colab_type": "code",
        "outputId": "68d33d5b-0ac9-4080-c0e7-c22a825cae10",
        "colab": {
          "base_uri": "https://localhost:8080/",
          "height": 34
        }
      },
      "source": [
        "X.shape"
      ],
      "execution_count": 0,
      "outputs": [
        {
          "output_type": "execute_result",
          "data": {
            "text/plain": [
              "(2542, 252)"
            ]
          },
          "metadata": {
            "tags": []
          },
          "execution_count": 124
        }
      ]
    },
    {
      "cell_type": "code",
      "metadata": {
        "id": "J_0WFFglSpAX",
        "colab_type": "code",
        "outputId": "9c04671d-d767-4211-e6eb-cdef72bc32f9",
        "colab": {
          "base_uri": "https://localhost:8080/",
          "height": 221
        }
      },
      "source": [
        "cluster = DBSCAN(min_samples = 2)\n",
        "cluster.fit(X)\n",
        "sample['cluster'] = cluster.labels_\n",
        "print(len(sample[sample.cluster==-1]))\n",
        "sample[sample.cluster==-1][:5]"
      ],
      "execution_count": 0,
      "outputs": [
        {
          "output_type": "stream",
          "text": [
            "419\n"
          ],
          "name": "stdout"
        },
        {
          "output_type": "execute_result",
          "data": {
            "text/html": [
              "<div>\n",
              "<style scoped>\n",
              "    .dataframe tbody tr th:only-of-type {\n",
              "        vertical-align: middle;\n",
              "    }\n",
              "\n",
              "    .dataframe tbody tr th {\n",
              "        vertical-align: top;\n",
              "    }\n",
              "\n",
              "    .dataframe thead th {\n",
              "        text-align: right;\n",
              "    }\n",
              "</style>\n",
              "<table border=\"1\" class=\"dataframe\">\n",
              "  <thead>\n",
              "    <tr style=\"text-align: right;\">\n",
              "      <th></th>\n",
              "      <th>category_name</th>\n",
              "      <th>title</th>\n",
              "      <th>cluster</th>\n",
              "    </tr>\n",
              "  </thead>\n",
              "  <tbody>\n",
              "    <tr>\n",
              "      <th>187615</th>\n",
              "      <td>Одежда, обувь, аксессуары</td>\n",
              "      <td>Костюм спортивный,женский Demix</td>\n",
              "      <td>-1</td>\n",
              "    </tr>\n",
              "    <tr>\n",
              "      <th>11804</th>\n",
              "      <td>Коллекционирование</td>\n",
              "      <td>Дендритический кварц 14,52 карат</td>\n",
              "      <td>-1</td>\n",
              "    </tr>\n",
              "    <tr>\n",
              "      <th>68438</th>\n",
              "      <td>Телефоны</td>\n",
              "      <td>iPhone 6 16gb gold</td>\n",
              "      <td>-1</td>\n",
              "    </tr>\n",
              "    <tr>\n",
              "      <th>6494</th>\n",
              "      <td>Одежда, обувь, аксессуары</td>\n",
              "      <td>Ветровка Adidas Neo</td>\n",
              "      <td>-1</td>\n",
              "    </tr>\n",
              "    <tr>\n",
              "      <th>195696</th>\n",
              "      <td>Детская одежда и обувь</td>\n",
              "      <td>Кеды для мальчика</td>\n",
              "      <td>-1</td>\n",
              "    </tr>\n",
              "  </tbody>\n",
              "</table>\n",
              "</div>"
            ],
            "text/plain": [
              "                    category_name                             title  cluster\n",
              "187615  Одежда, обувь, аксессуары   Костюм спортивный,женский Demix       -1\n",
              "11804          Коллекционирование  Дендритический кварц 14,52 карат       -1\n",
              "68438                    Телефоны                iPhone 6 16gb gold       -1\n",
              "6494    Одежда, обувь, аксессуары               Ветровка Adidas Neo       -1\n",
              "195696     Детская одежда и обувь                 Кеды для мальчика       -1"
            ]
          },
          "metadata": {
            "tags": []
          },
          "execution_count": 125
        }
      ]
    },
    {
      "cell_type": "code",
      "metadata": {
        "id": "Uz5PfFCcVHwK",
        "colab_type": "code",
        "outputId": "286f2dda-f0cf-4b47-d536-d12c4703ba85",
        "colab": {
          "base_uri": "https://localhost:8080/",
          "height": 255
        }
      },
      "source": [
        "nmf = NMF(100, init = 'nndsvd')\n",
        "X_nmf = nmf.fit_transform(X)\n",
        "cluster = OPTICS(min_samples = 3)\n",
        "cluster.fit(X_nmf)\n",
        "sample['cluster'] = cluster.labels_\n",
        "print(len(sample[sample.cluster==-1]))\n",
        "sample[sample.cluster==-1][:5]"
      ],
      "execution_count": 0,
      "outputs": [
        {
          "output_type": "stream",
          "text": [
            "310\n"
          ],
          "name": "stdout"
        },
        {
          "output_type": "stream",
          "text": [
            "/usr/local/lib/python3.6/dist-packages/sklearn/cluster/_optics.py:802: RuntimeWarning: divide by zero encountered in true_divide\n",
            "  ratio = reachability_plot[:-1] / reachability_plot[1:]\n"
          ],
          "name": "stderr"
        },
        {
          "output_type": "execute_result",
          "data": {
            "text/html": [
              "<div>\n",
              "<style scoped>\n",
              "    .dataframe tbody tr th:only-of-type {\n",
              "        vertical-align: middle;\n",
              "    }\n",
              "\n",
              "    .dataframe tbody tr th {\n",
              "        vertical-align: top;\n",
              "    }\n",
              "\n",
              "    .dataframe thead th {\n",
              "        text-align: right;\n",
              "    }\n",
              "</style>\n",
              "<table border=\"1\" class=\"dataframe\">\n",
              "  <thead>\n",
              "    <tr style=\"text-align: right;\">\n",
              "      <th></th>\n",
              "      <th>category_name</th>\n",
              "      <th>title</th>\n",
              "      <th>cluster</th>\n",
              "    </tr>\n",
              "  </thead>\n",
              "  <tbody>\n",
              "    <tr>\n",
              "      <th>39170</th>\n",
              "      <td>Оборудование для бизнеса</td>\n",
              "      <td>Рохля гидравлическая lema 2WLO до 2000 кг</td>\n",
              "      <td>-1</td>\n",
              "    </tr>\n",
              "    <tr>\n",
              "      <th>182723</th>\n",
              "      <td>Детская одежда и обувь</td>\n",
              "      <td>Комплект на девочку</td>\n",
              "      <td>-1</td>\n",
              "    </tr>\n",
              "    <tr>\n",
              "      <th>63682</th>\n",
              "      <td>Ноутбуки</td>\n",
              "      <td>Продам отличный ноутбук Acer 5250</td>\n",
              "      <td>-1</td>\n",
              "    </tr>\n",
              "    <tr>\n",
              "      <th>207410</th>\n",
              "      <td>Одежда, обувь, аксессуары</td>\n",
              "      <td>Продам сапоги</td>\n",
              "      <td>-1</td>\n",
              "    </tr>\n",
              "    <tr>\n",
              "      <th>176282</th>\n",
              "      <td>Телефоны</td>\n",
              "      <td>Очки Виртуальной Реальности Samsung</td>\n",
              "      <td>-1</td>\n",
              "    </tr>\n",
              "  </tbody>\n",
              "</table>\n",
              "</div>"
            ],
            "text/plain": [
              "                    category_name  ... cluster\n",
              "39170    Оборудование для бизнеса  ...      -1\n",
              "182723     Детская одежда и обувь  ...      -1\n",
              "63682                    Ноутбуки  ...      -1\n",
              "207410  Одежда, обувь, аксессуары  ...      -1\n",
              "176282                   Телефоны  ...      -1\n",
              "\n",
              "[5 rows x 3 columns]"
            ]
          },
          "metadata": {
            "tags": []
          },
          "execution_count": 126
        }
      ]
    },
    {
      "cell_type": "markdown",
      "metadata": {
        "id": "CA_vbKFMS-pC",
        "colab_type": "text"
      },
      "source": [
        " Чем больше признаков, тем больше объявлений попадают в -1 кластер"
      ]
    },
    {
      "cell_type": "markdown",
      "metadata": {
        "id": "KBcYVyIfVaaY",
        "colab_type": "text"
      },
      "source": [
        "3) Пробуем менять параметры алгоритмов кластеризации"
      ]
    },
    {
      "cell_type": "code",
      "metadata": {
        "id": "oS3SDlvnVgVg",
        "colab_type": "code",
        "outputId": "ab547840-ab81-40d1-d69c-d493e3bdd631",
        "colab": {
          "base_uri": "https://localhost:8080/",
          "height": 221
        }
      },
      "source": [
        "cluster = DBSCAN(min_samples = 2, eps = 0.8)\n",
        "cluster.fit(X)\n",
        "sample['cluster'] = cluster.labels_\n",
        "print(len(sample[sample.cluster==-1]))\n",
        "sample[sample.cluster==-1][:5]"
      ],
      "execution_count": 0,
      "outputs": [
        {
          "output_type": "stream",
          "text": [
            "63\n"
          ],
          "name": "stdout"
        },
        {
          "output_type": "execute_result",
          "data": {
            "text/html": [
              "<div>\n",
              "<style scoped>\n",
              "    .dataframe tbody tr th:only-of-type {\n",
              "        vertical-align: middle;\n",
              "    }\n",
              "\n",
              "    .dataframe tbody tr th {\n",
              "        vertical-align: top;\n",
              "    }\n",
              "\n",
              "    .dataframe thead th {\n",
              "        text-align: right;\n",
              "    }\n",
              "</style>\n",
              "<table border=\"1\" class=\"dataframe\">\n",
              "  <thead>\n",
              "    <tr style=\"text-align: right;\">\n",
              "      <th></th>\n",
              "      <th>category_name</th>\n",
              "      <th>title</th>\n",
              "      <th>cluster</th>\n",
              "    </tr>\n",
              "  </thead>\n",
              "  <tbody>\n",
              "    <tr>\n",
              "      <th>28300</th>\n",
              "      <td>Детская одежда и обувь</td>\n",
              "      <td>Жилет для девочки HM, р.140</td>\n",
              "      <td>-1</td>\n",
              "    </tr>\n",
              "    <tr>\n",
              "      <th>33393</th>\n",
              "      <td>Детская одежда и обувь</td>\n",
              "      <td>Фирменный зимний костюм Adidas и шапка на 10-1...</td>\n",
              "      <td>-1</td>\n",
              "    </tr>\n",
              "    <tr>\n",
              "      <th>125854</th>\n",
              "      <td>Бытовая техника</td>\n",
              "      <td>Машинка Стиральная</td>\n",
              "      <td>-1</td>\n",
              "    </tr>\n",
              "    <tr>\n",
              "      <th>156567</th>\n",
              "      <td>Квартиры</td>\n",
              "      <td>1-к квартира, 42.9 м², 18/18 эт.</td>\n",
              "      <td>-1</td>\n",
              "    </tr>\n",
              "    <tr>\n",
              "      <th>86856</th>\n",
              "      <td>Детская одежда и обувь</td>\n",
              "      <td>Обувь весенняя р.37</td>\n",
              "      <td>-1</td>\n",
              "    </tr>\n",
              "  </tbody>\n",
              "</table>\n",
              "</div>"
            ],
            "text/plain": [
              "                 category_name  ... cluster\n",
              "28300   Детская одежда и обувь  ...      -1\n",
              "33393   Детская одежда и обувь  ...      -1\n",
              "125854         Бытовая техника  ...      -1\n",
              "156567                Квартиры  ...      -1\n",
              "86856   Детская одежда и обувь  ...      -1\n",
              "\n",
              "[5 rows x 3 columns]"
            ]
          },
          "metadata": {
            "tags": []
          },
          "execution_count": 131
        }
      ]
    },
    {
      "cell_type": "code",
      "metadata": {
        "id": "xguu3FKdYFC6",
        "colab_type": "code",
        "outputId": "892abfeb-7b23-4dc2-89f7-b954cdb7125c",
        "colab": {
          "base_uri": "https://localhost:8080/",
          "height": 255
        }
      },
      "source": [
        "cluster = OPTICS(min_samples = 2, max_eps = 0.8)\n",
        "cluster.fit(X_nmf)\n",
        "sample['cluster'] = cluster.labels_\n",
        "print(len(sample[sample.cluster==-1]))\n",
        "sample[sample.cluster==-1][:5]"
      ],
      "execution_count": 0,
      "outputs": [
        {
          "output_type": "stream",
          "text": [
            "204\n"
          ],
          "name": "stdout"
        },
        {
          "output_type": "stream",
          "text": [
            "/usr/local/lib/python3.6/dist-packages/sklearn/cluster/_optics.py:802: RuntimeWarning: divide by zero encountered in true_divide\n",
            "  ratio = reachability_plot[:-1] / reachability_plot[1:]\n"
          ],
          "name": "stderr"
        },
        {
          "output_type": "execute_result",
          "data": {
            "text/html": [
              "<div>\n",
              "<style scoped>\n",
              "    .dataframe tbody tr th:only-of-type {\n",
              "        vertical-align: middle;\n",
              "    }\n",
              "\n",
              "    .dataframe tbody tr th {\n",
              "        vertical-align: top;\n",
              "    }\n",
              "\n",
              "    .dataframe thead th {\n",
              "        text-align: right;\n",
              "    }\n",
              "</style>\n",
              "<table border=\"1\" class=\"dataframe\">\n",
              "  <thead>\n",
              "    <tr style=\"text-align: right;\">\n",
              "      <th></th>\n",
              "      <th>category_name</th>\n",
              "      <th>title</th>\n",
              "      <th>cluster</th>\n",
              "    </tr>\n",
              "  </thead>\n",
              "  <tbody>\n",
              "    <tr>\n",
              "      <th>195696</th>\n",
              "      <td>Детская одежда и обувь</td>\n",
              "      <td>Кеды для мальчика</td>\n",
              "      <td>-1</td>\n",
              "    </tr>\n",
              "    <tr>\n",
              "      <th>182723</th>\n",
              "      <td>Детская одежда и обувь</td>\n",
              "      <td>Комплект на девочку</td>\n",
              "      <td>-1</td>\n",
              "    </tr>\n",
              "    <tr>\n",
              "      <th>63682</th>\n",
              "      <td>Ноутбуки</td>\n",
              "      <td>Продам отличный ноутбук Acer 5250</td>\n",
              "      <td>-1</td>\n",
              "    </tr>\n",
              "    <tr>\n",
              "      <th>207410</th>\n",
              "      <td>Одежда, обувь, аксессуары</td>\n",
              "      <td>Продам сапоги</td>\n",
              "      <td>-1</td>\n",
              "    </tr>\n",
              "    <tr>\n",
              "      <th>176282</th>\n",
              "      <td>Телефоны</td>\n",
              "      <td>Очки Виртуальной Реальности Samsung</td>\n",
              "      <td>-1</td>\n",
              "    </tr>\n",
              "  </tbody>\n",
              "</table>\n",
              "</div>"
            ],
            "text/plain": [
              "                    category_name                                title  cluster\n",
              "195696     Детская одежда и обувь                    Кеды для мальчика       -1\n",
              "182723     Детская одежда и обувь                  Комплект на девочку       -1\n",
              "63682                    Ноутбуки    Продам отличный ноутбук Acer 5250       -1\n",
              "207410  Одежда, обувь, аксессуары                        Продам сапоги       -1\n",
              "176282                   Телефоны  Очки Виртуальной Реальности Samsung       -1"
            ]
          },
          "metadata": {
            "tags": []
          },
          "execution_count": 136
        }
      ]
    },
    {
      "cell_type": "markdown",
      "metadata": {
        "id": "fVrp-QiwXZUs",
        "colab_type": "text"
      },
      "source": [
        "При уменьшении min_samples (минимальное количество объектов в одном кластере) и увеличении eps (максимальное расстояние между двумя объектами в одном кластере), количество объявлений в -1 кластере удается еще сократить, но они по-прежнему не представляют собой ничего странного "
      ]
    },
    {
      "cell_type": "markdown",
      "metadata": {
        "id": "OhkkEnBdNp2_",
        "colab_type": "text"
      },
      "source": [
        "Просматривая выдачи -1 кластера при разных параметрах, удалось найти несколько более-менее необычных объявлений, которые содержат ошибки, сокращения или в которых без указания категории было бы сложно определить о чем идет речь:"
      ]
    },
    {
      "cell_type": "code",
      "metadata": {
        "id": "BL9fZ6GqOp_L",
        "colab_type": "code",
        "outputId": "9bd001ca-cc32-486a-e9ea-fe8794498697",
        "colab": {
          "base_uri": "https://localhost:8080/",
          "height": 483
        }
      },
      "source": [
        "mist = data.loc[[253676, 133710, 199734, 225816, 11609, 99125, 80259, 115733, 71978, 251272, 206242, 138690, 112509, 186029\t], : ]\n",
        "mist"
      ],
      "execution_count": 0,
      "outputs": [
        {
          "output_type": "execute_result",
          "data": {
            "text/html": [
              "<div>\n",
              "<style scoped>\n",
              "    .dataframe tbody tr th:only-of-type {\n",
              "        vertical-align: middle;\n",
              "    }\n",
              "\n",
              "    .dataframe tbody tr th {\n",
              "        vertical-align: top;\n",
              "    }\n",
              "\n",
              "    .dataframe thead th {\n",
              "        text-align: right;\n",
              "    }\n",
              "</style>\n",
              "<table border=\"1\" class=\"dataframe\">\n",
              "  <thead>\n",
              "    <tr style=\"text-align: right;\">\n",
              "      <th></th>\n",
              "      <th>category_name</th>\n",
              "      <th>title</th>\n",
              "    </tr>\n",
              "  </thead>\n",
              "  <tbody>\n",
              "    <tr>\n",
              "      <th>253676</th>\n",
              "      <td>Одежда, обувь, аксессуары</td>\n",
              "      <td>Продаю новые</td>\n",
              "    </tr>\n",
              "    <tr>\n",
              "      <th>133710</th>\n",
              "      <td>Товары для детей и игрушки</td>\n",
              "      <td>Продам велик колеса на 12</td>\n",
              "    </tr>\n",
              "    <tr>\n",
              "      <th>199734</th>\n",
              "      <td>Книги и журналы</td>\n",
              "      <td>Пособие для детей от 1 г</td>\n",
              "    </tr>\n",
              "    <tr>\n",
              "      <th>225816</th>\n",
              "      <td>Детская одежда и обувь</td>\n",
              "      <td>Демары 20-21 размер</td>\n",
              "    </tr>\n",
              "    <tr>\n",
              "      <th>11609</th>\n",
              "      <td>Охота и рыбалка</td>\n",
              "      <td>Спиннин штекерный из 2х колен,10-30гр</td>\n",
              "    </tr>\n",
              "    <tr>\n",
              "      <th>99125</th>\n",
              "      <td>Собаки</td>\n",
              "      <td>Годовалый кабель ищет девочку</td>\n",
              "    </tr>\n",
              "    <tr>\n",
              "      <th>80259</th>\n",
              "      <td>Телефоны</td>\n",
              "      <td>Новый сот тел</td>\n",
              "    </tr>\n",
              "    <tr>\n",
              "      <th>115733</th>\n",
              "      <td>Товары для компьютера</td>\n",
              "      <td>Продам комплект материнка + проц</td>\n",
              "    </tr>\n",
              "    <tr>\n",
              "      <th>71978</th>\n",
              "      <td>Одежда, обувь, аксессуары</td>\n",
              "      <td>Новое на весну</td>\n",
              "    </tr>\n",
              "    <tr>\n",
              "      <th>251272</th>\n",
              "      <td>Телефоны</td>\n",
              "      <td>Продам 5s</td>\n",
              "    </tr>\n",
              "    <tr>\n",
              "      <th>206242</th>\n",
              "      <td>Товары для детей и игрушки</td>\n",
              "      <td>Качеля детская новая</td>\n",
              "    </tr>\n",
              "    <tr>\n",
              "      <th>138690</th>\n",
              "      <td>Собаки</td>\n",
              "      <td>Отдам девочек и дам денег на стерилизацию</td>\n",
              "    </tr>\n",
              "    <tr>\n",
              "      <th>112509</th>\n",
              "      <td>Фототехника</td>\n",
              "      <td>Индустар-50, 3.5/50, Ломо F 110, 1/9, F30</td>\n",
              "    </tr>\n",
              "    <tr>\n",
              "      <th>186029</th>\n",
              "      <td>Детская одежда и обувь</td>\n",
              "      <td>Куома 22р</td>\n",
              "    </tr>\n",
              "  </tbody>\n",
              "</table>\n",
              "</div>"
            ],
            "text/plain": [
              "                     category_name                                      title\n",
              "253676   Одежда, обувь, аксессуары                               Продаю новые\n",
              "133710  Товары для детей и игрушки                  Продам велик колеса на 12\n",
              "199734             Книги и журналы                   Пособие для детей от 1 г\n",
              "225816      Детская одежда и обувь                        Демары 20-21 размер\n",
              "11609              Охота и рыбалка      Спиннин штекерный из 2х колен,10-30гр\n",
              "99125                       Собаки              Годовалый кабель ищет девочку\n",
              "80259                     Телефоны                              Новый сот тел\n",
              "115733       Товары для компьютера           Продам комплект материнка + проц\n",
              "71978    Одежда, обувь, аксессуары                             Новое на весну\n",
              "251272                    Телефоны                                  Продам 5s\n",
              "206242  Товары для детей и игрушки                       Качеля детская новая\n",
              "138690                      Собаки  Отдам девочек и дам денег на стерилизацию\n",
              "112509                 Фототехника  Индустар-50, 3.5/50, Ломо F 110, 1/9, F30\n",
              "186029      Детская одежда и обувь                                  Куома 22р"
            ]
          },
          "metadata": {
            "tags": []
          },
          "execution_count": 122
        }
      ]
    },
    {
      "cell_type": "markdown",
      "metadata": {
        "id": "Bou8ilRqP8he",
        "colab_type": "text"
      },
      "source": [
        "Остальные объявления, попадающие в noisy cluster, по-видимому просто содержат относительно редкие слова, из-за чего алгоритм не может объединить их в кластер с другими объявлениями"
      ]
    }
  ]
}