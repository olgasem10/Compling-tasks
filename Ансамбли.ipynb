{
  "nbformat": 4,
  "nbformat_minor": 0,
  "metadata": {
    "colab": {
      "name": "Ансамбли.ipynb",
      "provenance": [],
      "collapsed_sections": [],
      "authorship_tag": "ABX9TyMmAt7JyNHfELlnzA2J9NsB",
      "include_colab_link": true
    },
    "kernelspec": {
      "name": "python3",
      "display_name": "Python 3"
    }
  },
  "cells": [
    {
      "cell_type": "markdown",
      "metadata": {
        "id": "view-in-github",
        "colab_type": "text"
      },
      "source": [
        "<a href=\"https://colab.research.google.com/github/olgasem10/Compling-tasks/blob/master/%D0%90%D0%BD%D1%81%D0%B0%D0%BC%D0%B1%D0%BB%D0%B8.ipynb\" target=\"_parent\"><img src=\"https://colab.research.google.com/assets/colab-badge.svg\" alt=\"Open In Colab\"/></a>"
      ]
    },
    {
      "cell_type": "code",
      "metadata": {
        "id": "j3kAfAuxTCZn",
        "colab_type": "code",
        "colab": {}
      },
      "source": [
        "import numpy as np\n",
        "import pandas as pd\n",
        "import re\n",
        "from sklearn.pipeline import Pipeline\n",
        "from sklearn.ensemble import ExtraTreesClassifier\n",
        "from sklearn.feature_extraction.text import *\n",
        "from sklearn.metrics import *\n",
        "from sklearn.pipeline import Pipeline, FeatureUnion\n",
        "from sklearn.naive_bayes import MultinomialNB, GaussianNB\n",
        "from sklearn.linear_model import SGDClassifier, LogisticRegression, LinearRegression, LogisticRegressionCV\n",
        "from sklearn.ensemble import RandomForestClassifier, VotingClassifier,  BaggingClassifier, BaggingRegressor, RandomTreesEmbedding,GradientBoostingClassifier\n",
        "from sklearn.decomposition import TruncatedSVD\n",
        "from sklearn.preprocessing import FunctionTransformer\n",
        "from sklearn.svm import SVC, LinearSVC\n",
        "from sklearn.tree import DecisionTreeClassifier, ExtraTreeClassifier\n",
        "from sklearn.model_selection import train_test_split\n",
        "from sklearn.feature_extraction.text import CountVectorizer, TfidfTransformer\n",
        "from nltk import word_tokenize\n",
        "from sklearn.model_selection import GridSearchCV\n",
        "from sklearn.ensemble import AdaBoostClassifier\n",
        "import xgboost as xgb"
      ],
      "execution_count": 0,
      "outputs": []
    },
    {
      "cell_type": "code",
      "metadata": {
        "id": "H5SwSg52UEYa",
        "colab_type": "code",
        "outputId": "144292ee-6f59-4bc2-b2a7-91b00f3084d3",
        "colab": {
          "base_uri": "https://localhost:8080/",
          "height": 68
        }
      },
      "source": [
        "import nltk\n",
        "nltk.download('punkt')"
      ],
      "execution_count": 0,
      "outputs": [
        {
          "output_type": "stream",
          "text": [
            "[nltk_data] Downloading package punkt to /root/nltk_data...\n",
            "[nltk_data]   Unzipping tokenizers/punkt.zip.\n"
          ],
          "name": "stdout"
        },
        {
          "output_type": "execute_result",
          "data": {
            "text/plain": [
              "True"
            ]
          },
          "metadata": {
            "tags": []
          },
          "execution_count": 16
        }
      ]
    },
    {
      "cell_type": "code",
      "metadata": {
        "id": "WdeyRRVgTfxm",
        "colab_type": "code",
        "colab": {}
      },
      "source": [
        "data_url = 'https://raw.githubusercontent.com/TatianaShavrina/hse_ml_m1/master/ensembles/complaints.csv'\n",
        "data = pd.read_csv(data_url, sep='\\t')"
      ],
      "execution_count": 0,
      "outputs": []
    },
    {
      "cell_type": "code",
      "metadata": {
        "id": "49bUeg0gTg-x",
        "colab_type": "code",
        "outputId": "7cf135a6-556a-48fb-be8b-da6b4c5d1242",
        "colab": {
          "base_uri": "https://localhost:8080/",
          "height": 204
        }
      },
      "source": [
        "data.head(5)"
      ],
      "execution_count": 0,
      "outputs": [
        {
          "output_type": "execute_result",
          "data": {
            "text/html": [
              "<div>\n",
              "<style scoped>\n",
              "    .dataframe tbody tr th:only-of-type {\n",
              "        vertical-align: middle;\n",
              "    }\n",
              "\n",
              "    .dataframe tbody tr th {\n",
              "        vertical-align: top;\n",
              "    }\n",
              "\n",
              "    .dataframe thead th {\n",
              "        text-align: right;\n",
              "    }\n",
              "</style>\n",
              "<table border=\"1\" class=\"dataframe\">\n",
              "  <thead>\n",
              "    <tr style=\"text-align: right;\">\n",
              "      <th></th>\n",
              "      <th>COMPLAINT_ID</th>\n",
              "      <th>DATE</th>\n",
              "      <th>PRODUCT_ID</th>\n",
              "      <th>ISSUE_ID</th>\n",
              "      <th>cleaned_text</th>\n",
              "    </tr>\n",
              "  </thead>\n",
              "  <tbody>\n",
              "    <tr>\n",
              "      <th>0</th>\n",
              "      <td>3178905</td>\n",
              "      <td>03/13/2019</td>\n",
              "      <td>44</td>\n",
              "      <td>318</td>\n",
              "      <td>go year . contact advis never took loan . advi...</td>\n",
              "    </tr>\n",
              "    <tr>\n",
              "      <th>1</th>\n",
              "      <td>3175952</td>\n",
              "      <td>03/12/2019</td>\n",
              "      <td>44</td>\n",
              "      <td>349</td>\n",
              "      <td>mail valid debt xx/xx/19 valid receiv , receiv...</td>\n",
              "    </tr>\n",
              "    <tr>\n",
              "      <th>2</th>\n",
              "      <td>3174747</td>\n",
              "      <td>03/09/2019</td>\n",
              "      <td>44</td>\n",
              "      <td>16</td>\n",
              "      <td>xx/xx/xxxx appli receiv onlin loan bluechip fi...</td>\n",
              "    </tr>\n",
              "    <tr>\n",
              "      <th>3</th>\n",
              "      <td>3173291</td>\n",
              "      <td>03/08/2019</td>\n",
              "      <td>44</td>\n",
              "      <td>16</td>\n",
              "      <td>xx/xx/xxxx appli receiv onlin loan . loan amou...</td>\n",
              "    </tr>\n",
              "    <tr>\n",
              "      <th>4</th>\n",
              "      <td>3172221</td>\n",
              "      <td>03/07/2019</td>\n",
              "      <td>44</td>\n",
              "      <td>48</td>\n",
              "      <td>told husband left bill . debt would pay within...</td>\n",
              "    </tr>\n",
              "  </tbody>\n",
              "</table>\n",
              "</div>"
            ],
            "text/plain": [
              "   COMPLAINT_ID  ...                                       cleaned_text\n",
              "0       3178905  ...  go year . contact advis never took loan . advi...\n",
              "1       3175952  ...  mail valid debt xx/xx/19 valid receiv , receiv...\n",
              "2       3174747  ...  xx/xx/xxxx appli receiv onlin loan bluechip fi...\n",
              "3       3173291  ...  xx/xx/xxxx appli receiv onlin loan . loan amou...\n",
              "4       3172221  ...  told husband left bill . debt would pay within...\n",
              "\n",
              "[5 rows x 5 columns]"
            ]
          },
          "metadata": {
            "tags": []
          },
          "execution_count": 136
        }
      ]
    },
    {
      "cell_type": "code",
      "metadata": {
        "id": "2f8EvSm8TlRC",
        "colab_type": "code",
        "colab": {}
      },
      "source": [
        "y = data[\"PRODUCT_ID\"]\n",
        "X = data[\"cleaned_text\"]\n",
        "X_train, X_test, y_train, y_test = train_test_split(X, y, test_size=0.1, random_state=42)"
      ],
      "execution_count": 0,
      "outputs": []
    },
    {
      "cell_type": "markdown",
      "metadata": {
        "id": "Zl_Rn0ZVS1XE",
        "colab_type": "text"
      },
      "source": [
        "## Задание 1"
      ]
    },
    {
      "cell_type": "code",
      "metadata": {
        "id": "AQqZD420RFGO",
        "colab_type": "code",
        "outputId": "228a1cb1-f6aa-449b-fe5f-e46f04b6e5b3",
        "colab": {
          "base_uri": "https://localhost:8080/",
          "height": 85
        }
      },
      "source": [
        "clf1 = LogisticRegression(multi_class='multinomial', solver='sag')\n",
        "clf2 = RandomForestClassifier(n_estimators=150)\n",
        "clf3 = GaussianNB()\n",
        "clf4 = LinearSVC(max_iter = 500)\n",
        "\n",
        "eclf = VotingClassifier(estimators=[\n",
        "        ('lr', clf1), \n",
        "        ('rf', clf2), ('gnb', clf3), ('svc', clf4)], voting='hard')\n",
        "\n",
        "voting = Pipeline([\n",
        "                   ('feats', FeatureUnion([\n",
        "                                           ('count', CountVectorizer(min_df = 7, max_df = 0.7)),\n",
        "                                           ('tfidf', TfidfVectorizer(min_df = 30, max_df = 0.2))                                           \n",
        "                                           ])),\n",
        "                   ('to_dense', FunctionTransformer(lambda x: x.todense(), accept_sparse=True)),\n",
        "    ('clf', eclf)\n",
        "    ])\n",
        "voting = voting.fit(X_train, y_train)"
      ],
      "execution_count": 0,
      "outputs": [
        {
          "output_type": "stream",
          "text": [
            "/usr/local/lib/python3.6/dist-packages/sklearn/linear_model/_sag.py:330: ConvergenceWarning: The max_iter was reached which means the coef_ did not converge\n",
            "  \"the coef_ did not converge\", ConvergenceWarning)\n",
            "/usr/local/lib/python3.6/dist-packages/sklearn/svm/_base.py:947: ConvergenceWarning: Liblinear failed to converge, increase the number of iterations.\n",
            "  \"the number of iterations.\", ConvergenceWarning)\n"
          ],
          "name": "stderr"
        }
      ]
    },
    {
      "cell_type": "code",
      "metadata": {
        "id": "HHjaakblpYzM",
        "colab_type": "code",
        "outputId": "22dcf65e-0964-49b7-991a-3812c93d12f4",
        "colab": {
          "base_uri": "https://localhost:8080/",
          "height": 85
        }
      },
      "source": [
        "predictions = voting.predict(X_test)\n",
        "print(\"Precision: {0:6.2f}\".format(precision_score(y_test, predictions, average='macro')))\n",
        "print(\"Recall: {0:6.2f}\".format(recall_score(y_test, predictions, average='macro')))\n",
        "print(\"F1-measure: {0:6.2f}\".format(f1_score(y_test, predictions, average='macro')))\n",
        "print(\"Accuracy: {0:6.2f}\".format(accuracy_score(y_test, predictions)))"
      ],
      "execution_count": 0,
      "outputs": [
        {
          "output_type": "stream",
          "text": [
            "Precision:   0.71\n",
            "Recall:   0.70\n",
            "F1-measure:   0.70\n",
            "Accuracy:   0.70\n"
          ],
          "name": "stdout"
        }
      ]
    },
    {
      "cell_type": "markdown",
      "metadata": {
        "id": "pj9A1bWCPSRt",
        "colab_type": "text"
      },
      "source": [
        "## Задание 2"
      ]
    },
    {
      "cell_type": "code",
      "metadata": {
        "id": "ez-xtyWcUxPI",
        "colab_type": "code",
        "colab": {}
      },
      "source": [
        "clf1 = LogisticRegression(multi_class='multinomial', solver='sag')\n",
        "clf2 = RandomForestClassifier(n_estimators=150)\n",
        "clf3 = GaussianNB()\n",
        "clf4 = LinearSVC(max_iter = 500)\n",
        "clf5 = DecisionTreeClassifier()\n",
        "bagging1 = BaggingClassifier(base_estimator=clf5, n_estimators=20, max_samples=0.8, max_features=0.8)\n",
        "\n",
        "clf6 = DecisionTreeClassifier(criterion='entropy', max_depth=2)\n",
        "boosting = AdaBoostClassifier(base_estimator=clf6, n_estimators=20)\n",
        "\n",
        "boosting2 = xgb.XGBClassifier(objective='multi:softmax', n_jobs=-1, max_depth=6)\n",
        "\n",
        "all_voting = VotingClassifier(estimators=[\n",
        "        ('clf1', clf1), \n",
        "        ('clf2', clf2), \n",
        "        ('clf3', clf3), \n",
        "        ('clf4', clf4), \n",
        "        ('bag', bagging1), \n",
        "        ('boo1', boosting), \n",
        "        ('boo2', boosting2)\n",
        "        ], \n",
        "        voting='hard')"
      ],
      "execution_count": 0,
      "outputs": []
    },
    {
      "cell_type": "code",
      "metadata": {
        "id": "NELd85wPH0tU",
        "colab_type": "code",
        "outputId": "e2a7bfd2-c197-4627-c8f9-8c9cadc6693c",
        "colab": {
          "base_uri": "https://localhost:8080/",
          "height": 85
        }
      },
      "source": [
        "pipe = Pipeline([\n",
        "                 ('feats', FeatureUnion([\n",
        "                                         ('count', CountVectorizer(min_df = 7, max_df = 0.7)),\n",
        "                                         ('tfidf', TfidfVectorizer(min_df = 30, max_df = 0.2))\n",
        "                                         ])),\n",
        "                 ('to_dense', FunctionTransformer(lambda x: x.todense(), accept_sparse=True)),\n",
        "                 ('clf', all_voting)\n",
        "                 ])\n",
        "pipe = pipe.fit(X_train, y_train)"
      ],
      "execution_count": 0,
      "outputs": [
        {
          "output_type": "stream",
          "text": [
            "/usr/local/lib/python3.6/dist-packages/sklearn/linear_model/_sag.py:330: ConvergenceWarning: The max_iter was reached which means the coef_ did not converge\n",
            "  \"the coef_ did not converge\", ConvergenceWarning)\n",
            "/usr/local/lib/python3.6/dist-packages/sklearn/svm/_base.py:947: ConvergenceWarning: Liblinear failed to converge, increase the number of iterations.\n",
            "  \"the number of iterations.\", ConvergenceWarning)\n"
          ],
          "name": "stderr"
        }
      ]
    },
    {
      "cell_type": "code",
      "metadata": {
        "id": "cFqMcv0GjbgH",
        "colab_type": "code",
        "outputId": "fb67b96f-2dd9-43c2-ab95-fe74caad003c",
        "colab": {
          "base_uri": "https://localhost:8080/",
          "height": 85
        }
      },
      "source": [
        "predictions = pipe.predict(X_test)\n",
        "print(\"Precision: {0:6.2f}\".format(precision_score(y_test, predictions, average='macro')))\n",
        "print(\"Recall: {0:6.2f}\".format(recall_score(y_test, predictions, average='macro')))\n",
        "print(\"F1-measure: {0:6.2f}\".format(f1_score(y_test, predictions, average='macro')))\n",
        "print(\"Accuracy: {0:6.2f}\".format(accuracy_score(y_test, predictions)))"
      ],
      "execution_count": 0,
      "outputs": [
        {
          "output_type": "stream",
          "text": [
            "Precision:   0.74\n",
            "Recall:   0.72\n",
            "F1-measure:   0.73\n",
            "Accuracy:   0.72\n"
          ],
          "name": "stdout"
        }
      ]
    }
  ]
}