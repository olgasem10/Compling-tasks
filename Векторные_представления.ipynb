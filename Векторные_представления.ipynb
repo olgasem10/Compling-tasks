{
 "cells": [
  {
   "cell_type": "code",
   "execution_count": 4,
   "metadata": {
    "colab": {
     "base_uri": "https://localhost:8080/",
     "height": 51
    },
    "colab_type": "code",
    "id": "VVmY6fnHPbUV",
    "outputId": "1ab1c568-b02a-4ebe-cbf7-8414e2b0fa6c"
   },
   "outputs": [],
   "source": [
    "import pandas as pd\n",
    "import gensim\n",
    "import numpy as np\n",
    "from collections import Counter\n",
    "from sklearn.model_selection import train_test_split\n",
    "from sklearn.ensemble import RandomForestClassifier\n",
    "from sklearn.svm import LinearSVC\n",
    "from nltk.corpus import stopwords\n",
    "from pymorphy2 import MorphAnalyzer\n",
    "from string import punctuation\n",
    "from sklearn.model_selection import cross_val_score\n",
    "from sklearn.feature_extraction.text import CountVectorizer, TfidfVectorizer\n",
    "from sklearn.decomposition import TruncatedSVD, NMF\n",
    "from sklearn.metrics.pairwise import cosine_distances\n",
    "from gensim.models.wrappers import FastText\n",
    "from sklearn.linear_model import LogisticRegression"
   ]
  },
  {
   "cell_type": "code",
   "execution_count": 7,
   "metadata": {
    "colab": {},
    "colab_type": "code",
    "id": "oci6VxcaPbUs"
   },
   "outputs": [],
   "source": [
    "def opener(fname):\n",
    "    f = open(fname, encoding = 'utf-8')\n",
    "    text = f.read()\n",
    "    f.close()\n",
    "    return text\n",
    "\n",
    "morph = MorphAnalyzer()\n",
    "punct = punctuation+'«»—…“”*№–'\n",
    "stops = set(stopwords.words('russian'))\n",
    "\n",
    "def tokenize(text):\n",
    "    words = [word.strip(punct).lower() for word in text.split()]\n",
    "    words = [word for word in words if word]\n",
    "    return words\n",
    "\n",
    "def opt_normalize(texts):\n",
    "    uniq = set()\n",
    "    for text in texts:\n",
    "        uniq.update(text)\n",
    "    uniq = list(uniq)\n",
    "    \n",
    "    norm_uniq = {word:morph.parse(word)[0].normal_form for word in uniq}\n",
    "    \n",
    "    norm_texts = []\n",
    "    for text in texts:\n",
    "        norm_words = [norm_uniq.get(word) for word in text]\n",
    "        norm_words = [word for word in norm_words if word and word not in stops]\n",
    "        norm_texts.append(norm_words)\n",
    "        \n",
    "    return norm_texts\n",
    "\n",
    "def cleaner(text):\n",
    "    text = text.split()\n",
    "    clean = []\n",
    "    for word in text:\n",
    "        word = word.split('_')[0]\n",
    "        clean.append(word)\n",
    "    return ' '.join(clean)"
   ]
  },
  {
   "cell_type": "code",
   "execution_count": 8,
   "metadata": {
    "colab": {},
    "colab_type": "code",
    "id": "PCQkXjAEPbU1"
   },
   "outputs": [],
   "source": [
    "data = pd.read_csv('data_paraphraser_norm.csv')"
   ]
  },
  {
   "cell_type": "code",
   "execution_count": 9,
   "metadata": {
    "colab": {},
    "colab_type": "code",
    "id": "tTDJLN0wPbU-"
   },
   "outputs": [],
   "source": [
    "data['text_1_norm1'] = data['text_1_norm'].apply(cleaner)\n",
    "data['text_2_norm1'] = data['text_2_norm'].apply(cleaner)"
   ]
  },
  {
   "cell_type": "code",
   "execution_count": 9,
   "metadata": {
    "colab": {
     "base_uri": "https://localhost:8080/",
     "height": 114
    },
    "colab_type": "code",
    "id": "e1Mpw1mXPbVH",
    "outputId": "5fe98612-c8cf-496c-c362-c119d5c4b9f3"
   },
   "outputs": [
    {
     "data": {
      "text/html": [
       "<div>\n",
       "<style scoped>\n",
       "    .dataframe tbody tr th:only-of-type {\n",
       "        vertical-align: middle;\n",
       "    }\n",
       "\n",
       "    .dataframe tbody tr th {\n",
       "        vertical-align: top;\n",
       "    }\n",
       "\n",
       "    .dataframe thead th {\n",
       "        text-align: right;\n",
       "    }\n",
       "</style>\n",
       "<table border=\"1\" class=\"dataframe\">\n",
       "  <thead>\n",
       "    <tr style=\"text-align: right;\">\n",
       "      <th></th>\n",
       "      <th>label</th>\n",
       "      <th>text_1</th>\n",
       "      <th>text_2</th>\n",
       "      <th>text_1_norm</th>\n",
       "      <th>text_2_norm</th>\n",
       "      <th>text_1_norm1</th>\n",
       "      <th>text_2_norm1</th>\n",
       "    </tr>\n",
       "  </thead>\n",
       "  <tbody>\n",
       "    <tr>\n",
       "      <th>0</th>\n",
       "      <td>0</td>\n",
       "      <td>Полицейским разрешат стрелять на поражение по ...</td>\n",
       "      <td>Полиции могут разрешить стрелять по хулиганам ...</td>\n",
       "      <td>полицейский_NOUN разрешать_VERB стрелять_VERB ...</td>\n",
       "      <td>полиция_NOUN мочь_VERB разрешать_VERB стрелять...</td>\n",
       "      <td>полицейский разрешать стрелять на поражение по...</td>\n",
       "      <td>полиция мочь разрешать стрелять по хулиган с т...</td>\n",
       "    </tr>\n",
       "  </tbody>\n",
       "</table>\n",
       "</div>"
      ],
      "text/plain": [
       "   label  ...                                       text_2_norm1\n",
       "0      0  ...  полиция мочь разрешать стрелять по хулиган с т...\n",
       "\n",
       "[1 rows x 7 columns]"
      ]
     },
     "execution_count": 9,
     "metadata": {
      "tags": []
     },
     "output_type": "execute_result"
    }
   ],
   "source": [
    "data.head(1)"
   ]
  },
  {
   "cell_type": "markdown",
   "metadata": {
    "colab_type": "text",
    "id": "q5UR_JK9PbVb"
   },
   "source": [
    "## Предобученная word2vec модель"
   ]
  },
  {
   "cell_type": "code",
   "execution_count": 5,
   "metadata": {
    "colab": {
     "base_uri": "https://localhost:8080/",
     "height": 360
    },
    "colab_type": "code",
    "id": "85aNWGYpPbVd",
    "outputId": "20748065-5142-4d4c-8c2f-8bf1b2083f84"
   },
   "outputs": [],
   "source": [
    "pretrained_model = gensim.models.KeyedVectors.load_word2vec_format('184/model.bin', binary=True)"
   ]
  },
  {
   "cell_type": "code",
   "execution_count": 6,
   "metadata": {
    "colab": {},
    "colab_type": "code",
    "id": "BIVHm50mPbVr"
   },
   "outputs": [],
   "source": [
    "def get_embedding(text, model, dim):\n",
    "    text = text.split()\n",
    "    \n",
    "    # чтобы не доставать одно слово несколько раз\n",
    "    # сделаем счетчик, а потом векторы домножим на частоту\n",
    "    words = Counter(text)\n",
    "    total = len(text)\n",
    "    vectors = np.zeros((len(words), dim))\n",
    "    \n",
    "    for i,word in enumerate(words):\n",
    "        try:\n",
    "            v = model[word]\n",
    "            vectors[i] = v*(words[word]/total) # просто умножаем вектор на частоту\n",
    "        except (KeyError, ValueError):\n",
    "            continue\n",
    "    \n",
    "    if vectors.any():\n",
    "        vector = np.average(vectors, axis=0)\n",
    "    else:\n",
    "        vector = np.zeros((dim))\n",
    "    \n",
    "    return vector"
   ]
  },
  {
   "cell_type": "code",
   "execution_count": 0,
   "metadata": {
    "colab": {},
    "colab_type": "code",
    "id": "r9TwyHb1PbVx"
   },
   "outputs": [],
   "source": [
    "dim = 300\n",
    "X_text_1_w2v = np.zeros((len(data['text_1_norm']), dim))\n",
    "X_text_2_w2v = np.zeros((len(data['text_2_norm']), dim))\n",
    "\n",
    "for i, text in enumerate(data['text_1_norm'].values):\n",
    "    X_text_1_w2v[i] = get_embedding(text, pretrained_model, dim)\n",
    "    \n",
    "for i, text in enumerate(data['text_2_norm'].values):\n",
    "    X_text_2_w2v[i] = get_embedding(text, pretrained_model, dim)"
   ]
  },
  {
   "cell_type": "code",
   "execution_count": 0,
   "metadata": {
    "colab": {},
    "colab_type": "code",
    "id": "Bh2ZCFauPbV6"
   },
   "outputs": [],
   "source": [
    "X_text_w2v = np.concatenate([X_text_1_w2v, X_text_2_w2v], axis=1)\n",
    "y = data['label'].values"
   ]
  },
  {
   "cell_type": "code",
   "execution_count": 0,
   "metadata": {
    "colab": {},
    "colab_type": "code",
    "id": "oeByFYStPbWM"
   },
   "outputs": [],
   "source": [
    "clf = RandomForestClassifier(n_estimators=100, max_depth=7, min_samples_leaf=15,\n",
    "                             class_weight='balanced')"
   ]
  },
  {
   "cell_type": "code",
   "execution_count": 0,
   "metadata": {
    "colab": {},
    "colab_type": "code",
    "id": "PxMAuSCVPbWT"
   },
   "outputs": [],
   "source": [
    "scores = cross_val_score(clf, X_text_w2v, y, cv=5, scoring='f1_macro')"
   ]
  },
  {
   "cell_type": "code",
   "execution_count": 0,
   "metadata": {
    "colab": {},
    "colab_type": "code",
    "id": "IXTIPWzWPbWb",
    "outputId": "8008ec4d-7a9d-4f73-f269-0f4a7af0fc01"
   },
   "outputs": [
    {
     "name": "stdout",
     "output_type": "stream",
     "text": [
      "Macro f1-score\n",
      "0.4622166050852432\n",
      "0.48773401791635845\n",
      "0.4585686319597005\n",
      "0.3561232968732524\n",
      "0.3641705559374478\n",
      "\n",
      "Mean score\n",
      "0.4257626215544005\n"
     ]
    }
   ],
   "source": [
    "print('Macro f1-score')\n",
    "for score in scores:\n",
    "    print(score)\n",
    "print('\\nMean score')\n",
    "print(np.mean(scores))"
   ]
  },
  {
   "cell_type": "markdown",
   "metadata": {
    "colab_type": "text",
    "id": "TJVVgBpCPbWi"
   },
   "source": [
    "## Моя word2vec модель"
   ]
  },
  {
   "cell_type": "markdown",
   "metadata": {},
   "source": [
    "Корпус - 25000  текстов из Лента.ру"
   ]
  },
  {
   "cell_type": "code",
   "execution_count": 0,
   "metadata": {
    "colab": {},
    "colab_type": "code",
    "id": "rbK_0bgBPbWk"
   },
   "outputs": [],
   "source": [
    "corpus = opener('some_corpus.txt').split('.')"
   ]
  },
  {
   "cell_type": "code",
   "execution_count": 0,
   "metadata": {
    "colab": {},
    "colab_type": "code",
    "id": "OrHnL6vUPbWv"
   },
   "outputs": [],
   "source": [
    "norm_corpus = opt_normalize([tokenize(text)for text in corpus])"
   ]
  },
  {
   "cell_type": "code",
   "execution_count": 0,
   "metadata": {
    "colab": {},
    "colab_type": "code",
    "id": "z1s7NLxOPbW6"
   },
   "outputs": [],
   "source": [
    "my_w2v = gensim.models.Word2Vec(norm_corpus, size=300, sg=1)"
   ]
  },
  {
   "cell_type": "code",
   "execution_count": 15,
   "metadata": {
    "colab": {
     "base_uri": "https://localhost:8080/",
     "height": 71
    },
    "colab_type": "code",
    "id": "pydSXaRVPbXY",
    "outputId": "d55fe0d9-a7b7-4c0d-9e15-6c999dcef6b3"
   },
   "outputs": [
    {
     "name": "stderr",
     "output_type": "stream",
     "text": [
      "/usr/local/lib/python3.6/dist-packages/ipykernel_launcher.py:12: DeprecationWarning: Call to deprecated `__getitem__` (Method will be removed in 4.0.0, use self.wv.__getitem__() instead).\n",
      "  if sys.path[0] == '':\n"
     ]
    }
   ],
   "source": [
    "dim = 300\n",
    "X_text_1_w2v_my = np.zeros((len(data['text_1_norm1']), dim))\n",
    "X_text_2_w2v_my = np.zeros((len(data['text_2_norm1']), dim))\n",
    "\n",
    "for i, text in enumerate(data['text_1_norm1'].values):\n",
    "    X_text_1_w2v_my[i] = get_embedding(text, my_w2v, dim)\n",
    "    \n",
    "for i, text in enumerate(data['text_2_norm1'].values):\n",
    "    X_text_2_w2v_my[i] = get_embedding(text, my_w2v, dim)"
   ]
  },
  {
   "cell_type": "code",
   "execution_count": 0,
   "metadata": {
    "colab": {},
    "colab_type": "code",
    "id": "Y9qyBl5JPbXe"
   },
   "outputs": [],
   "source": [
    "X_text_w2v_my = np.concatenate([X_text_1_w2v_my, X_text_2_w2v_my], axis=1)"
   ]
  },
  {
   "cell_type": "code",
   "execution_count": 0,
   "metadata": {
    "colab": {},
    "colab_type": "code",
    "id": "1WhoYcVCPbXk"
   },
   "outputs": [],
   "source": [
    "clf2 = RandomForestClassifier(n_estimators=100, max_depth=7, min_samples_leaf=15,\n",
    "                             class_weight='balanced')"
   ]
  },
  {
   "cell_type": "code",
   "execution_count": 0,
   "metadata": {
    "colab": {},
    "colab_type": "code",
    "id": "e6oLAKLOPbX3"
   },
   "outputs": [],
   "source": [
    "scores2 = cross_val_score(clf2, X_text_w2v_my, y, cv=5, scoring='f1_macro')"
   ]
  },
  {
   "cell_type": "code",
   "execution_count": 0,
   "metadata": {
    "colab": {},
    "colab_type": "code",
    "id": "0JSHUBkzPbX_",
    "outputId": "f90855de-6b6d-4d15-e607-bc6657827e6f"
   },
   "outputs": [
    {
     "name": "stdout",
     "output_type": "stream",
     "text": [
      "Macro f1-score\n",
      "0.4496111957436166\n",
      "0.4812633364731411\n",
      "0.47000590697285655\n",
      "0.3607766732863378\n",
      "0.36493711732395245\n",
      "\n",
      "Mean score\n",
      "0.42531884595998093\n"
     ]
    }
   ],
   "source": [
    "print('Macro f1-score')\n",
    "for score in scores2:\n",
    "    print(score)\n",
    "print('\\nMean score')\n",
    "print(np.mean(scores2))"
   ]
  },
  {
   "cell_type": "markdown",
   "metadata": {
    "colab_type": "text",
    "id": "Vzsoi3XtPbYE"
   },
   "source": [
    "Классификатор, обученный на векторах модели с rusvectores показывает macro F-score 0.4257626215544005\n",
    "\n",
    "Классификатор, обученный на векторах собственной модели показывает macro F-score 0.42531884595998093"
   ]
  },
  {
   "cell_type": "markdown",
   "metadata": {},
   "source": [
    "## Cosine distances"
   ]
  },
  {
   "cell_type": "code",
   "execution_count": 0,
   "metadata": {
    "colab": {},
    "colab_type": "code",
    "id": "17aXu9e4PbYu"
   },
   "outputs": [],
   "source": [
    "new_train = np.zeros((7227, 5))"
   ]
  },
  {
   "cell_type": "markdown",
   "metadata": {
    "colab_type": "text",
    "id": "CmY6vJi1PbZB"
   },
   "source": [
    "SVD"
   ]
  },
  {
   "cell_type": "code",
   "execution_count": 0,
   "metadata": {
    "colab": {},
    "colab_type": "code",
    "id": "n_MLNFksPbZC"
   },
   "outputs": [],
   "source": [
    "svd = TruncatedSVD(100, n_iter = 8, random_state = 1)"
   ]
  },
  {
   "cell_type": "code",
   "execution_count": 0,
   "metadata": {
    "colab": {},
    "colab_type": "code",
    "id": "4yDG5ZwmPbZV"
   },
   "outputs": [],
   "source": [
    "tfidf1 = TfidfVectorizer(min_df=3, max_df=0.4, max_features=1000)\n",
    "tfidf1.fit(data['text_1_norm'])\n",
    "X_text_1 = svd.fit_transform(tfidf1.transform(data['text_1_norm']))"
   ]
  },
  {
   "cell_type": "code",
   "execution_count": 0,
   "metadata": {
    "colab": {},
    "colab_type": "code",
    "id": "zosaERc6PbZs"
   },
   "outputs": [],
   "source": [
    "tfidf2 = TfidfVectorizer(min_df=3, max_df=0.4, max_features=1000)\n",
    "tfidf2.fit(data['text_2_norm'])\n",
    "X_text_2 = svd.fit_transform(tfidf2.transform(data['text_2_norm']))"
   ]
  },
  {
   "cell_type": "code",
   "execution_count": 0,
   "metadata": {
    "colab": {},
    "colab_type": "code",
    "id": "Csx7TYAHPbZ3"
   },
   "outputs": [],
   "source": [
    "for i in range(X_text_1.shape[0]):\n",
    "    cs = cosine_distances([X_text_1[i]], [X_text_2[i]])\n",
    "    new_train[i][0] = cs"
   ]
  },
  {
   "cell_type": "markdown",
   "metadata": {
    "colab_type": "text",
    "id": "u_Q8SiH-PbaX"
   },
   "source": [
    "NMF"
   ]
  },
  {
   "cell_type": "code",
   "execution_count": 0,
   "metadata": {
    "colab": {},
    "colab_type": "code",
    "id": "N5_32j4cPbaa"
   },
   "outputs": [],
   "source": [
    "nmf = NMF(50, solver='mu', max_iter = 200, random_state = 1)"
   ]
  },
  {
   "cell_type": "code",
   "execution_count": 0,
   "metadata": {
    "colab": {},
    "colab_type": "code",
    "id": "HEttvQU1Pbaf"
   },
   "outputs": [],
   "source": [
    "tfidf1 = TfidfVectorizer(min_df=3, max_df=0.4, max_features=1000)\n",
    "tfidf1.fit(data['text_1_norm'])\n",
    "X_text_1_nmf = nmf.fit_transform(tfidf1.transform(data['text_1_norm']))"
   ]
  },
  {
   "cell_type": "code",
   "execution_count": 0,
   "metadata": {
    "colab": {},
    "colab_type": "code",
    "id": "wf86IR6_Pba7"
   },
   "outputs": [],
   "source": [
    "tfidf2 = TfidfVectorizer(min_df=3, max_df=0.4, max_features=1000)\n",
    "tfidf2.fit(data['text_2_norm'])\n",
    "X_text_2_nmf = nmf.transform(tfidf2.transform(data['text_2_norm']))"
   ]
  },
  {
   "cell_type": "code",
   "execution_count": 0,
   "metadata": {
    "colab": {},
    "colab_type": "code",
    "id": "AG6HjTcePbb4"
   },
   "outputs": [],
   "source": [
    "for i in range(X_text_1_nmf.shape[0]):\n",
    "    cs = cosine_distances([X_text_1_nmf[i]], [X_text_2_nmf[i]])\n",
    "    new_train[i][1] = cs"
   ]
  },
  {
   "cell_type": "markdown",
   "metadata": {
    "colab_type": "text",
    "id": "kOzdmzqxPbcH"
   },
   "source": [
    "Готовый W2V"
   ]
  },
  {
   "cell_type": "code",
   "execution_count": 0,
   "metadata": {
    "colab": {},
    "colab_type": "code",
    "id": "k0MzFHWwPbcI"
   },
   "outputs": [],
   "source": [
    "for i in range(X_text_1_w2v.shape[0]):\n",
    "    cs = cosine_distances([X_text_1_w2v[i]], [X_text_2_w2v[i]])\n",
    "    new_train[i][2] = cs"
   ]
  },
  {
   "cell_type": "markdown",
   "metadata": {
    "colab_type": "text",
    "id": "RCudQH4dPbcU"
   },
   "source": [
    "Мой W2V"
   ]
  },
  {
   "cell_type": "code",
   "execution_count": 0,
   "metadata": {
    "colab": {},
    "colab_type": "code",
    "id": "B3e5ZFBnPbcn"
   },
   "outputs": [],
   "source": [
    "for i in range(X_text_1_w2v_my.shape[0]):\n",
    "    cs = cosine_distances([X_text_1_w2v_my[i]], [X_text_2_w2v_my[i]])\n",
    "    new_train[i][3] = cs"
   ]
  },
  {
   "cell_type": "markdown",
   "metadata": {
    "colab_type": "text",
    "id": "tr_NwKDlaRyL"
   },
   "source": [
    "FastText"
   ]
  },
  {
   "cell_type": "code",
   "execution_count": 0,
   "metadata": {
    "colab": {},
    "colab_type": "code",
    "id": "xqcEB_1WPbYN"
   },
   "outputs": [],
   "source": [
    "fast_text = gensim.models.FastText(norm_corpus, size=300, min_n=4, max_n=8) "
   ]
  },
  {
   "cell_type": "code",
   "execution_count": 29,
   "metadata": {
    "colab": {
     "base_uri": "https://localhost:8080/",
     "height": 71
    },
    "colab_type": "code",
    "id": "iRr14C9huoR-",
    "outputId": "6be9be4b-c6a8-456c-ec92-79f430471ccb"
   },
   "outputs": [
    {
     "name": "stderr",
     "output_type": "stream",
     "text": [
      "/usr/local/lib/python3.6/dist-packages/ipykernel_launcher.py:12: DeprecationWarning: Call to deprecated `__getitem__` (Method will be removed in 4.0.0, use self.wv.__getitem__() instead).\n",
      "  if sys.path[0] == '':\n"
     ]
    }
   ],
   "source": [
    "dim = 300\n",
    "X_text_1_ft = np.zeros((len(data['text_1_norm']), dim))\n",
    "X_text_2_ft = np.zeros((len(data['text_2_norm']), dim))\n",
    "\n",
    "for i, text in enumerate(data['text_1_norm'].values):\n",
    "    X_text_1_ft[i] = get_embedding(text, fast_text, dim)\n",
    "    \n",
    "for i, text in enumerate(data['text_2_norm'].values):\n",
    "    X_text_2_ft[i] = get_embedding(text, fast_text, dim)"
   ]
  },
  {
   "cell_type": "code",
   "execution_count": 0,
   "metadata": {
    "colab": {},
    "colab_type": "code",
    "id": "IDPSy887cjBc"
   },
   "outputs": [],
   "source": [
    "for i in range(X_text_1_ft.shape[0]):\n",
    "    cs = cosine_distances([X_text_1_ft[i]], [X_text_2_ft[i]])\n",
    "    new_train[i][4] = cs"
   ]
  },
  {
   "cell_type": "markdown",
   "metadata": {
    "colab_type": "text",
    "id": "FzEEd-tBdsXE"
   },
   "source": [
    "Классификатор"
   ]
  },
  {
   "cell_type": "code",
   "execution_count": 0,
   "metadata": {
    "colab": {},
    "colab_type": "code",
    "id": "fUXQCbpNdrpG"
   },
   "outputs": [],
   "source": [
    "clf3 = LogisticRegression(C=1000)"
   ]
  },
  {
   "cell_type": "code",
   "execution_count": 0,
   "metadata": {
    "colab": {},
    "colab_type": "code",
    "id": "k4NO5WXdePvE"
   },
   "outputs": [],
   "source": [
    "y = data['label'].values"
   ]
  },
  {
   "cell_type": "code",
   "execution_count": null,
   "metadata": {
    "colab": {
     "base_uri": "https://localhost:8080/",
     "height": 153
    },
    "colab_type": "code",
    "id": "L5VZUgHfeA-3",
    "outputId": "e6b97c32-22e7-4693-a286-448ee17ea17d"
   },
   "outputs": [],
   "source": [
    "scores3 = cross_val_score(clf3, new_train, y, cv=5, scoring='f1_micro')"
   ]
  },
  {
   "cell_type": "code",
   "execution_count": 77,
   "metadata": {
    "colab": {
     "base_uri": "https://localhost:8080/",
     "height": 170
    },
    "colab_type": "code",
    "id": "WDX-elw-ecSS",
    "outputId": "0d56cc4c-3f33-4917-9bed-ad18268e5e79"
   },
   "outputs": [
    {
     "name": "stdout",
     "output_type": "stream",
     "text": [
      "Micro f1-score\n",
      "0.5712309820193637\n",
      "0.6203319502074689\n",
      "0.6221453287197232\n",
      "0.48304498269896196\n",
      "0.5169550173010381\n",
      "\n",
      "Mean score\n",
      "0.5627416521893112\n"
     ]
    }
   ],
   "source": [
    "print('Micro f1-score')\n",
    "for score in scores3:\n",
    "    print(score)\n",
    "print('\\nMean score')\n",
    "print(np.mean(scores3))"
   ]
  },
  {
   "cell_type": "markdown",
   "metadata": {},
   "source": [
    "Удалось немного повысить значение F-score увеличив размерность для SVD и NMF, количество итераций для SVD. Увеличение количества признаков в tfidf векторайзере ухудшало результат"
   ]
  }
 ],
 "metadata": {
  "colab": {
   "collapsed_sections": [],
   "name": "Векторные представления.ipynb",
   "provenance": []
  },
  "kernelspec": {
   "display_name": "Python 3",
   "language": "python",
   "name": "python3"
  },
  "language_info": {
   "codemirror_mode": {
    "name": "ipython",
    "version": 3
   },
   "file_extension": ".py",
   "mimetype": "text/x-python",
   "name": "python",
   "nbconvert_exporter": "python",
   "pygments_lexer": "ipython3",
   "version": "3.7.4"
  }
 },
 "nbformat": 4,
 "nbformat_minor": 1
}
