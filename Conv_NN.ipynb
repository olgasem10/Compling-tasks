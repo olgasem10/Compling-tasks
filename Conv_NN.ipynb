{
  "nbformat": 4,
  "nbformat_minor": 0,
  "metadata": {
    "colab": {
      "name": "Conv NN.ipynb",
      "provenance": [],
      "collapsed_sections": [],
      "authorship_tag": "ABX9TyOFo00TWDvbevt78kvzAWLO",
      "include_colab_link": true
    },
    "kernelspec": {
      "name": "python3",
      "display_name": "Python 3"
    }
  },
  "cells": [
    {
      "cell_type": "markdown",
      "metadata": {
        "id": "view-in-github",
        "colab_type": "text"
      },
      "source": [
        "<a href=\"https://colab.research.google.com/github/olgasem10/Compling-tasks/blob/master/Conv_NN.ipynb\" target=\"_parent\"><img src=\"https://colab.research.google.com/assets/colab-badge.svg\" alt=\"Open In Colab\"/></a>"
      ]
    },
    {
      "cell_type": "code",
      "metadata": {
        "id": "IJFww7De4reo",
        "colab_type": "code",
        "colab": {}
      },
      "source": [
        "import tensorflow as tf\n",
        "import pandas as pd\n",
        "import numpy as np\n",
        "from string import punctuation\n",
        "from sklearn.model_selection import train_test_split\n",
        "from collections import Counter\n",
        "import matplotlib.pyplot as plt\n",
        "%matplotlib inline"
      ],
      "execution_count": 0,
      "outputs": []
    },
    {
      "cell_type": "code",
      "metadata": {
        "id": "67r-YZ3O6ThB",
        "colab_type": "code",
        "outputId": "b849c535-90e8-4eb2-bcbd-251905bcc9ee",
        "colab": {
          "base_uri": "https://localhost:8080/",
          "height": 34
        }
      },
      "source": [
        "from google.colab import drive\n",
        "drive.mount('/content/drive')"
      ],
      "execution_count": 0,
      "outputs": [
        {
          "output_type": "stream",
          "text": [
            "Drive already mounted at /content/drive; to attempt to forcibly remount, call drive.mount(\"/content/drive\", force_remount=True).\n"
          ],
          "name": "stdout"
        }
      ]
    },
    {
      "cell_type": "code",
      "metadata": {
        "id": "pPBTeDvx6t9c",
        "colab_type": "code",
        "colab": {}
      },
      "source": [
        "quora = pd.read_csv('/content/drive/My Drive/quora.csv')"
      ],
      "execution_count": 0,
      "outputs": []
    },
    {
      "cell_type": "code",
      "metadata": {
        "id": "5qLv54BE6yXF",
        "colab_type": "code",
        "outputId": "2a65af38-d6db-4fac-d254-c77f34908f9a",
        "colab": {
          "base_uri": "https://localhost:8080/",
          "height": 419
        }
      },
      "source": [
        "quora"
      ],
      "execution_count": 0,
      "outputs": [
        {
          "output_type": "execute_result",
          "data": {
            "text/html": [
              "<div>\n",
              "<style scoped>\n",
              "    .dataframe tbody tr th:only-of-type {\n",
              "        vertical-align: middle;\n",
              "    }\n",
              "\n",
              "    .dataframe tbody tr th {\n",
              "        vertical-align: top;\n",
              "    }\n",
              "\n",
              "    .dataframe thead th {\n",
              "        text-align: right;\n",
              "    }\n",
              "</style>\n",
              "<table border=\"1\" class=\"dataframe\">\n",
              "  <thead>\n",
              "    <tr style=\"text-align: right;\">\n",
              "      <th></th>\n",
              "      <th>qid</th>\n",
              "      <th>question_text</th>\n",
              "      <th>target</th>\n",
              "    </tr>\n",
              "  </thead>\n",
              "  <tbody>\n",
              "    <tr>\n",
              "      <th>0</th>\n",
              "      <td>00002165364db923c7e6</td>\n",
              "      <td>How did Quebec nationalists see their province...</td>\n",
              "      <td>0</td>\n",
              "    </tr>\n",
              "    <tr>\n",
              "      <th>1</th>\n",
              "      <td>000032939017120e6e44</td>\n",
              "      <td>Do you have an adopted dog, how would you enco...</td>\n",
              "      <td>0</td>\n",
              "    </tr>\n",
              "    <tr>\n",
              "      <th>2</th>\n",
              "      <td>0000412ca6e4628ce2cf</td>\n",
              "      <td>Why does velocity affect time? Does velocity a...</td>\n",
              "      <td>0</td>\n",
              "    </tr>\n",
              "    <tr>\n",
              "      <th>3</th>\n",
              "      <td>000042bf85aa498cd78e</td>\n",
              "      <td>How did Otto von Guericke used the Magdeburg h...</td>\n",
              "      <td>0</td>\n",
              "    </tr>\n",
              "    <tr>\n",
              "      <th>4</th>\n",
              "      <td>0000455dfa3e01eae3af</td>\n",
              "      <td>Can I convert montra helicon D to a mountain b...</td>\n",
              "      <td>0</td>\n",
              "    </tr>\n",
              "    <tr>\n",
              "      <th>...</th>\n",
              "      <td>...</td>\n",
              "      <td>...</td>\n",
              "      <td>...</td>\n",
              "    </tr>\n",
              "    <tr>\n",
              "      <th>1306117</th>\n",
              "      <td>ffffcc4e2331aaf1e41e</td>\n",
              "      <td>What other technical skills do you need as a c...</td>\n",
              "      <td>0</td>\n",
              "    </tr>\n",
              "    <tr>\n",
              "      <th>1306118</th>\n",
              "      <td>ffffd431801e5a2f4861</td>\n",
              "      <td>Does MS in ECE have good job prospects in USA ...</td>\n",
              "      <td>0</td>\n",
              "    </tr>\n",
              "    <tr>\n",
              "      <th>1306119</th>\n",
              "      <td>ffffd48fb36b63db010c</td>\n",
              "      <td>Is foam insulation toxic?</td>\n",
              "      <td>0</td>\n",
              "    </tr>\n",
              "    <tr>\n",
              "      <th>1306120</th>\n",
              "      <td>ffffec519fa37cf60c78</td>\n",
              "      <td>How can one start a research project based on ...</td>\n",
              "      <td>0</td>\n",
              "    </tr>\n",
              "    <tr>\n",
              "      <th>1306121</th>\n",
              "      <td>ffffed09fedb5088744a</td>\n",
              "      <td>Who wins in a battle between a Wolverine and a...</td>\n",
              "      <td>0</td>\n",
              "    </tr>\n",
              "  </tbody>\n",
              "</table>\n",
              "<p>1306122 rows × 3 columns</p>\n",
              "</div>"
            ],
            "text/plain": [
              "                          qid  ... target\n",
              "0        00002165364db923c7e6  ...      0\n",
              "1        000032939017120e6e44  ...      0\n",
              "2        0000412ca6e4628ce2cf  ...      0\n",
              "3        000042bf85aa498cd78e  ...      0\n",
              "4        0000455dfa3e01eae3af  ...      0\n",
              "...                       ...  ...    ...\n",
              "1306117  ffffcc4e2331aaf1e41e  ...      0\n",
              "1306118  ffffd431801e5a2f4861  ...      0\n",
              "1306119  ffffd48fb36b63db010c  ...      0\n",
              "1306120  ffffec519fa37cf60c78  ...      0\n",
              "1306121  ffffed09fedb5088744a  ...      0\n",
              "\n",
              "[1306122 rows x 3 columns]"
            ]
          },
          "metadata": {
            "tags": []
          },
          "execution_count": 4
        }
      ]
    },
    {
      "cell_type": "code",
      "metadata": {
        "id": "4r-z8-gzcITe",
        "colab_type": "code",
        "colab": {}
      },
      "source": [
        "def preprocess(text):\n",
        "  characters = list(text)\n",
        "  return characters"
      ],
      "execution_count": 0,
      "outputs": []
    },
    {
      "cell_type": "code",
      "metadata": {
        "id": "mOWjy_Y5dCye",
        "colab_type": "code",
        "colab": {}
      },
      "source": [
        "# словарь\n",
        "vocab = Counter()\n",
        "\n",
        "for text in quora.question_text:\n",
        "    vocab.update(preprocess(text))"
      ],
      "execution_count": 0,
      "outputs": []
    },
    {
      "cell_type": "code",
      "metadata": {
        "id": "F8gE542mekrd",
        "colab_type": "code",
        "colab": {}
      },
      "source": [
        "# индексируем символы\n",
        "char2id = {'UNK':1, 'PAD':0}\n",
        "\n",
        "for char in vocab:\n",
        "    char2id[char] = len(char2id)"
      ],
      "execution_count": 0,
      "outputs": []
    },
    {
      "cell_type": "code",
      "metadata": {
        "id": "WytREmTJe3E2",
        "colab_type": "code",
        "colab": {}
      },
      "source": [
        "# переводим тексты в последовательности индексов\n",
        "X = []\n",
        "\n",
        "for text in quora.question_text:\n",
        "    chars = preprocess(text)\n",
        "    ids = [char2id.get(char, 1) for char in chars]\n",
        "    X.append(ids)"
      ],
      "execution_count": 0,
      "outputs": []
    },
    {
      "cell_type": "code",
      "metadata": {
        "id": "Cjh5VGoxhwwH",
        "colab_type": "code",
        "colab": {}
      },
      "source": [
        "X = tf.keras.preprocessing.sequence.pad_sequences(X, maxlen=100)"
      ],
      "execution_count": 0,
      "outputs": []
    },
    {
      "cell_type": "code",
      "metadata": {
        "id": "AJNE6TDHiAY3",
        "colab_type": "code",
        "colab": {}
      },
      "source": [
        "y = quora.target.values"
      ],
      "execution_count": 0,
      "outputs": []
    },
    {
      "cell_type": "code",
      "metadata": {
        "id": "6ylVweO3jqbL",
        "colab_type": "code",
        "colab": {}
      },
      "source": [
        "X_train, X_valid, y_train, y_valid = train_test_split(X, y, test_size=0.05, random_state=42, stratify=y)"
      ],
      "execution_count": 0,
      "outputs": []
    },
    {
      "cell_type": "code",
      "metadata": {
        "id": "1XtiInhBj8Wx",
        "colab_type": "code",
        "colab": {}
      },
      "source": [
        "from tensorflow.keras import backend as K\n",
        "def f1(y_true, y_pred):\n",
        "    def recall(y_true, y_pred):\n",
        "        \"\"\"Recall metric.\n",
        "\n",
        "        Only computes a batch-wise average of recall.\n",
        "\n",
        "        Computes the recall, a metric for multi-label classification of\n",
        "        how many relevant items are selected.\n",
        "        \"\"\"\n",
        "        true_positives = K.sum(K.round(K.clip(y_true * y_pred, 0, 1)))\n",
        "        possible_positives = K.sum(K.round(K.clip(y_true, 0, 1)))\n",
        "        recall = true_positives / (possible_positives + K.epsilon())\n",
        "        return recall\n",
        "\n",
        "    def precision(y_true, y_pred):\n",
        "        \"\"\"Precision metric.\n",
        "\n",
        "        Only computes a batch-wise average of precision.\n",
        "\n",
        "        Computes the precision, a metric for multi-label classification of\n",
        "        how many selected items are relevant.\n",
        "        \"\"\"\n",
        "        true_positives = K.sum(K.round(K.clip(y_true * y_pred, 0, 1)))\n",
        "        predicted_positives = K.sum(K.round(K.clip(y_pred, 0, 1)))\n",
        "        precision = true_positives / (predicted_positives + K.epsilon())\n",
        "        return precision\n",
        "    precision = precision(y_true, y_pred)\n",
        "    recall = recall(y_true, y_pred)\n",
        "    return 2*((precision*recall)/(precision+recall+K.epsilon()))"
      ],
      "execution_count": 0,
      "outputs": []
    },
    {
      "cell_type": "code",
      "metadata": {
        "id": "fO-b0XSfUNJN",
        "colab_type": "code",
        "colab": {}
      },
      "source": [
        "# ModelCheckpoint сохраняет лучшие версии моделей\n",
        "checkpoint = tf.keras.callbacks.ModelCheckpoint('/content/drive/My Drive/CNN4/model4.weights', # названия файла \n",
        "                                                monitor='val_f1', # за какой метрикой следить\n",
        "                                                verbose=1, # будет печатать что происходит\n",
        "                                                save_weights_only=True, # если нужно только веса сохранить\n",
        "                                                save_best_only=True, # сохранять только лучшие\n",
        "                                                mode='max', # если метрика должна расти, то тут max и min если наоборот\n",
        "                                                save_freq='epoch' # как часто вызывать\n",
        "                                               )\n",
        "\n",
        "# EarlyStopping позволяет автоматически остановить обучение, если качество не улучшается \n",
        "early_stop = tf.keras.callbacks.EarlyStopping(monitor='val_f1', \n",
        "                                              min_delta=0.01, # какая разница считается как улучшение\n",
        "                                              patience=3, # сколько эпох терпеть отсутствие улучшений\n",
        "                                              verbose=1, \n",
        "                                              mode='max',\n",
        "                                              )"
      ],
      "execution_count": 0,
      "outputs": []
    },
    {
      "cell_type": "markdown",
      "metadata": {
        "id": "WdPiKD0bGNwF",
        "colab_type": "text"
      },
      "source": [
        "## Лучшая модель"
      ]
    },
    {
      "cell_type": "code",
      "metadata": {
        "id": "_MKLLl3t4-uI",
        "colab_type": "code",
        "colab": {}
      },
      "source": [
        "inputs = tf.keras.layers.Input(shape=(100,), name='inputs')\n",
        "embeddings = tf.keras.layers.Embedding(input_dim=len(char2id), output_dim=10, name='embeddings')(inputs, )\n",
        "\n",
        "pad1 = tf.keras.layers.Lambda(lambda x: tf.pad(x, \n",
        "                                               [[0,0], [54,54], [0, 0]], \n",
        "                                               mode='REFLECT'), name='pad1')(embeddings)\n",
        "conv1 = tf.keras.layers.Conv1D(kernel_size=10, filters=16, strides = 2, name='conv1')(pad1)\n",
        "\n",
        "drop1 = tf.keras.layers.Dropout(0.3, name='drop1')(conv1)\n",
        "\n",
        "conv2 = tf.keras.layers.Conv1D(kernel_size=20, filters=32, strides = 2, name='conv2')(drop1)\n",
        "\n",
        "pool1 = tf.keras.layers.MaxPool1D()(conv2)\n",
        "\n",
        "\n",
        "\n",
        "drop2 = tf.keras.layers.Dropout(0.2, name = 'drop2')(embeddings)\n",
        "\n",
        "pad2 = tf.keras.layers.Lambda(lambda x: tf.pad(x, \n",
        "                                               [[0,0], [64,64], [0, 0]], \n",
        "                                               mode='SYMMETRIC'), name='pad2')(drop2)\n",
        "conv3 = tf.keras.layers.Conv1D(kernel_size=30, filters=32, strides = 2, name='conv3')(pad2)\n",
        "\n",
        "pad3 = tf.keras.layers.Lambda(lambda x: tf.pad(x, \n",
        "                                               [[0,0], [64,64], [0, 0]], \n",
        "                                               mode='REFLECT'), name='pad3')(conv3)\n",
        "\n",
        "conv4 = tf.keras.layers.Conv1D(kernel_size=40, filters=64, strides = 6, name='conv4')(pad3)\n",
        "\n",
        "pool2 = tf.keras.layers.MaxPool1D(pool_size=13, strides = 1, name='pool2')(conv4)\n",
        "\n",
        "\n",
        "\n",
        "pad4 = tf.keras.layers.Lambda(lambda x: tf.pad(x, \n",
        "                                               [[0,0], [66,66], [0, 0]], \n",
        "                                               mode='REFLECT'), name='pad4')(embeddings)\n",
        "conv5 = tf.keras.layers.Conv1D(kernel_size=20, filters=8, strides = 2, name='conv5')(pad4)\n",
        "\n",
        "pool3 = tf.keras.layers.MaxPool1D(strides=1, name='pool3')(conv5)\n",
        "\n",
        "drop3 = tf.keras.layers.Dropout(0.1, name = 'drop3')(pool3)\n",
        "\n",
        "conv6 = tf.keras.layers.Conv1D(kernel_size=30, filters=16, strides = 4, name='conv6')(drop3)\n",
        "\n",
        "\n",
        "concat = tf.keras.layers.concatenate([pool1, pool2, conv6], name='concat')\n",
        "dense = tf.keras.layers.Dense(64, activation='relu', name='dense')(concat)\n",
        "outputs = tf.keras.layers.Dense(1, activation='sigmoid', name='outputs')(dense)\n",
        "\n",
        "model6 = tf.keras.Model(inputs=inputs, outputs=outputs)\n",
        "optimizer = tf.keras.optimizers.Adam(learning_rate=0.001)\n",
        "model6.compile(optimizer=optimizer,\n",
        "              loss='binary_crossentropy',\n",
        "              metrics=[f1])"
      ],
      "execution_count": 0,
      "outputs": []
    },
    {
      "cell_type": "code",
      "metadata": {
        "id": "H1K0E_TENKvh",
        "colab_type": "code",
        "outputId": "b682bc63-7154-4791-bf06-6789f09a88e8",
        "colab": {
          "base_uri": "https://localhost:8080/",
          "height": 901
        }
      },
      "source": [
        "model6.summary()"
      ],
      "execution_count": 0,
      "outputs": [
        {
          "output_type": "stream",
          "text": [
            "Model: \"model\"\n",
            "__________________________________________________________________________________________________\n",
            "Layer (type)                    Output Shape         Param #     Connected to                     \n",
            "==================================================================================================\n",
            "inputs (InputLayer)             [(None, 100)]        0                                            \n",
            "__________________________________________________________________________________________________\n",
            "embeddings (Embedding)          (None, 100, 10)      20490       inputs[0][0]                     \n",
            "__________________________________________________________________________________________________\n",
            "drop2 (Dropout)                 (None, 100, 10)      0           embeddings[0][0]                 \n",
            "__________________________________________________________________________________________________\n",
            "pad1 (Lambda)                   (None, 208, 10)      0           embeddings[0][0]                 \n",
            "__________________________________________________________________________________________________\n",
            "pad2 (Lambda)                   (None, 228, 10)      0           drop2[0][0]                      \n",
            "__________________________________________________________________________________________________\n",
            "pad4 (Lambda)                   (None, 232, 10)      0           embeddings[0][0]                 \n",
            "__________________________________________________________________________________________________\n",
            "conv1 (Conv1D)                  (None, 100, 16)      1616        pad1[0][0]                       \n",
            "__________________________________________________________________________________________________\n",
            "conv3 (Conv1D)                  (None, 100, 32)      9632        pad2[0][0]                       \n",
            "__________________________________________________________________________________________________\n",
            "conv5 (Conv1D)                  (None, 107, 8)       1608        pad4[0][0]                       \n",
            "__________________________________________________________________________________________________\n",
            "drop1 (Dropout)                 (None, 100, 16)      0           conv1[0][0]                      \n",
            "__________________________________________________________________________________________________\n",
            "pad3 (Lambda)                   (None, 228, 32)      0           conv3[0][0]                      \n",
            "__________________________________________________________________________________________________\n",
            "pool3 (MaxPooling1D)            (None, 106, 8)       0           conv5[0][0]                      \n",
            "__________________________________________________________________________________________________\n",
            "conv2 (Conv1D)                  (None, 41, 32)       10272       drop1[0][0]                      \n",
            "__________________________________________________________________________________________________\n",
            "conv4 (Conv1D)                  (None, 32, 64)       81984       pad3[0][0]                       \n",
            "__________________________________________________________________________________________________\n",
            "drop3 (Dropout)                 (None, 106, 8)       0           pool3[0][0]                      \n",
            "__________________________________________________________________________________________________\n",
            "max_pooling1d (MaxPooling1D)    (None, 20, 32)       0           conv2[0][0]                      \n",
            "__________________________________________________________________________________________________\n",
            "pool2 (MaxPooling1D)            (None, 20, 64)       0           conv4[0][0]                      \n",
            "__________________________________________________________________________________________________\n",
            "conv6 (Conv1D)                  (None, 20, 16)       3856        drop3[0][0]                      \n",
            "__________________________________________________________________________________________________\n",
            "concat (Concatenate)            (None, 20, 112)      0           max_pooling1d[0][0]              \n",
            "                                                                 pool2[0][0]                      \n",
            "                                                                 conv6[0][0]                      \n",
            "__________________________________________________________________________________________________\n",
            "dense (Dense)                   (None, 20, 64)       7232        concat[0][0]                     \n",
            "__________________________________________________________________________________________________\n",
            "outputs (Dense)                 (None, 20, 1)        65          dense[0][0]                      \n",
            "==================================================================================================\n",
            "Total params: 136,755\n",
            "Trainable params: 136,755\n",
            "Non-trainable params: 0\n",
            "__________________________________________________________________________________________________\n"
          ],
          "name": "stdout"
        }
      ]
    },
    {
      "cell_type": "code",
      "metadata": {
        "id": "Poe3nTbsNU1P",
        "colab_type": "code",
        "outputId": "dba4354c-c535-4470-95b8-b25c0536be4f",
        "colab": {
          "base_uri": "https://localhost:8080/",
          "height": 714
        }
      },
      "source": [
        "model6.fit(X_train, y_train, \n",
        "          validation_data=(X_valid, y_valid),\n",
        "          batch_size=5000,\n",
        "         epochs=10,\n",
        "          callbacks=[checkpoint, early_stop])"
      ],
      "execution_count": 0,
      "outputs": [
        {
          "output_type": "stream",
          "text": [
            "Epoch 1/10\n",
            "249/249 [==============================] - ETA: 0s - loss: 0.2300 - f1: 0.0025\n",
            "Epoch 00001: val_f1 improved from -inf to 0.00000, saving model to /content/drive/My Drive/CNN2/model6.weights\n",
            "249/249 [==============================] - 1417s 6s/step - loss: 0.2300 - f1: 0.0025 - val_loss: 0.2079 - val_f1: 0.0000e+00\n",
            "Epoch 2/10\n",
            "249/249 [==============================] - ETA: 0s - loss: 0.2052 - f1: 0.0020\n",
            "Epoch 00002: val_f1 improved from 0.00000 to 0.00049, saving model to /content/drive/My Drive/CNN2/model6.weights\n",
            "249/249 [==============================] - 1405s 6s/step - loss: 0.2052 - f1: 0.0020 - val_loss: 0.1994 - val_f1: 4.9261e-04\n",
            "Epoch 3/10\n",
            "249/249 [==============================] - ETA: 0s - loss: 0.1973 - f1: 0.0859\n",
            "Epoch 00003: val_f1 improved from 0.00049 to 0.08473, saving model to /content/drive/My Drive/CNN2/model6.weights\n",
            "249/249 [==============================] - 1409s 6s/step - loss: 0.1973 - f1: 0.0859 - val_loss: 0.1932 - val_f1: 0.0847\n",
            "Epoch 4/10\n",
            "249/249 [==============================] - ETA: 0s - loss: 0.1936 - f1: 0.1946\n",
            "Epoch 00004: val_f1 improved from 0.08473 to 0.14508, saving model to /content/drive/My Drive/CNN2/model6.weights\n",
            "249/249 [==============================] - 1418s 6s/step - loss: 0.1936 - f1: 0.1946 - val_loss: 0.1910 - val_f1: 0.1451\n",
            "Epoch 5/10\n",
            "249/249 [==============================] - ETA: 0s - loss: 0.1909 - f1: 0.3190\n",
            "Epoch 00005: val_f1 improved from 0.14508 to 0.39825, saving model to /content/drive/My Drive/CNN2/model6.weights\n",
            "249/249 [==============================] - 1409s 6s/step - loss: 0.1909 - f1: 0.3190 - val_loss: 0.1882 - val_f1: 0.3982\n",
            "Epoch 6/10\n",
            "249/249 [==============================] - ETA: 0s - loss: 0.1881 - f1: 0.4887\n",
            "Epoch 00006: val_f1 improved from 0.39825 to 0.47213, saving model to /content/drive/My Drive/CNN2/model6.weights\n",
            "249/249 [==============================] - 1421s 6s/step - loss: 0.1881 - f1: 0.4887 - val_loss: 0.1849 - val_f1: 0.4721\n",
            "Epoch 7/10\n",
            "249/249 [==============================] - ETA: 0s - loss: 0.1854 - f1: 0.6324\n",
            "Epoch 00007: val_f1 improved from 0.47213 to 0.72565, saving model to /content/drive/My Drive/CNN2/model6.weights\n",
            "249/249 [==============================] - 1414s 6s/step - loss: 0.1854 - f1: 0.6324 - val_loss: 0.1836 - val_f1: 0.7257\n",
            "Epoch 8/10\n",
            "249/249 [==============================] - ETA: 0s - loss: 0.1837 - f1: 0.7074\n",
            "Epoch 00008: val_f1 improved from 0.72565 to 0.83860, saving model to /content/drive/My Drive/CNN2/model6.weights\n",
            "249/249 [==============================] - 1413s 6s/step - loss: 0.1837 - f1: 0.7074 - val_loss: 0.1814 - val_f1: 0.8386\n",
            "Epoch 9/10\n",
            "249/249 [==============================] - ETA: 0s - loss: 0.1822 - f1: 0.7640\n",
            "Epoch 00009: val_f1 did not improve from 0.83860\n",
            "249/249 [==============================] - 1422s 6s/step - loss: 0.1822 - f1: 0.7640 - val_loss: 0.1797 - val_f1: 0.8208\n",
            "Epoch 10/10\n",
            "249/249 [==============================] - ETA: 0s - loss: 0.1806 - f1: 0.8119\n",
            "Epoch 00010: val_f1 improved from 0.83860 to 0.83904, saving model to /content/drive/My Drive/CNN2/model6.weights\n",
            "249/249 [==============================] - 1411s 6s/step - loss: 0.1806 - f1: 0.8119 - val_loss: 0.1791 - val_f1: 0.8390\n"
          ],
          "name": "stdout"
        },
        {
          "output_type": "execute_result",
          "data": {
            "text/plain": [
              "<tensorflow.python.keras.callbacks.History at 0x7f23cee9dac8>"
            ]
          },
          "metadata": {
            "tags": []
          },
          "execution_count": 17
        }
      ]
    },
    {
      "cell_type": "code",
      "metadata": {
        "id": "6vKSKXZIHTaK",
        "colab_type": "code",
        "outputId": "f1adc9e6-a90f-44fa-c9a6-6829eab1a774",
        "colab": {
          "base_uri": "https://localhost:8080/",
          "height": 312
        }
      },
      "source": [
        "print(model6.history.history.keys())\n",
        "plt.plot(model6.history.history['f1'])\n",
        "plt.plot(model6.history.history['val_f1'])\n",
        "plt.title('model f1')\n",
        "plt.ylabel('f1')\n",
        "plt.xlabel('epoch')\n",
        "plt.legend(['train', 'val'], loc='upper left')\n",
        "plt.show()"
      ],
      "execution_count": 0,
      "outputs": [
        {
          "output_type": "stream",
          "text": [
            "dict_keys(['loss', 'f1', 'val_loss', 'val_f1'])\n"
          ],
          "name": "stdout"
        },
        {
          "output_type": "display_data",
          "data": {
            "image/png": "[encoded data removed]",
            "text/plain": [
              "<Figure size 432x288 with 1 Axes>"
            ]
          },
          "metadata": {
            "tags": [],
            "needs_background": "light"
          }
        }
      ]
    },
    {
      "cell_type": "markdown",
      "metadata": {
        "id": "tWXPfrSXGXM0",
        "colab_type": "text"
      },
      "source": [
        "## Тексты приведены к нижнему регистру"
      ]
    },
    {
      "cell_type": "code",
      "metadata": {
        "colab_type": "code",
        "id": "vuvhWqqEGnG0",
        "colab": {}
      },
      "source": [
        "def preprocess(text):\n",
        "  characters = list(text.lower())\n",
        "  return characters"
      ],
      "execution_count": 0,
      "outputs": []
    },
    {
      "cell_type": "code",
      "metadata": {
        "colab_type": "code",
        "id": "BLE4jfrAGnG8",
        "colab": {}
      },
      "source": [
        "# словарь\n",
        "vocab = Counter()\n",
        "\n",
        "for text in quora.question_text:\n",
        "    vocab.update(preprocess(text))"
      ],
      "execution_count": 0,
      "outputs": []
    },
    {
      "cell_type": "code",
      "metadata": {
        "colab_type": "code",
        "id": "vgPd3F_iGsfW",
        "colab": {}
      },
      "source": [
        "# индексируем символы\n",
        "char2id = {'UNK':1, 'PAD':0}\n",
        "\n",
        "for char in vocab:\n",
        "    char2id[char] = len(char2id)"
      ],
      "execution_count": 0,
      "outputs": []
    },
    {
      "cell_type": "code",
      "metadata": {
        "colab_type": "code",
        "id": "yNUNAMvfGsff",
        "colab": {}
      },
      "source": [
        "# переводим тексты в последовательности индексов\n",
        "X = []\n",
        "\n",
        "for text in quora.question_text:\n",
        "    chars = preprocess(text)\n",
        "    ids = [char2id.get(char, 1) for char in chars]\n",
        "    X.append(ids)"
      ],
      "execution_count": 0,
      "outputs": []
    },
    {
      "cell_type": "code",
      "metadata": {
        "colab_type": "code",
        "id": "xl4UwbgRHEC4",
        "colab": {}
      },
      "source": [
        "X = tf.keras.preprocessing.sequence.pad_sequences(X, maxlen=100)"
      ],
      "execution_count": 0,
      "outputs": []
    },
    {
      "cell_type": "code",
      "metadata": {
        "colab_type": "code",
        "id": "ChacjinkHEDK",
        "colab": {}
      },
      "source": [
        "y = quora.target.values"
      ],
      "execution_count": 0,
      "outputs": []
    },
    {
      "cell_type": "code",
      "metadata": {
        "colab_type": "code",
        "id": "cw3ybBxIHEDV",
        "colab": {}
      },
      "source": [
        "X_train, X_valid, y_train, y_valid = train_test_split(X, y, test_size=0.05, random_state=42, stratify=y)"
      ],
      "execution_count": 0,
      "outputs": []
    },
    {
      "cell_type": "code",
      "metadata": {
        "colab_type": "code",
        "id": "3udPpe6NJ0YG",
        "colab": {}
      },
      "source": [
        "inputs = tf.keras.layers.Input(shape=(100,), name='inputs')\n",
        "embeddings = tf.keras.layers.Embedding(input_dim=len(char2id), output_dim=10, name='embeddings')(inputs, )\n",
        "\n",
        "pad1 = tf.keras.layers.Lambda(lambda x: tf.pad(x, \n",
        "                                               [[0,0], [54,54], [0, 0]], \n",
        "                                               mode='REFLECT'), name='pad1')(embeddings)\n",
        "conv1 = tf.keras.layers.Conv1D(kernel_size=10, filters=16, strides = 2, name='conv1')(pad1)\n",
        "\n",
        "drop1 = tf.keras.layers.Dropout(0.3, name='drop1')(conv1)\n",
        "\n",
        "conv2 = tf.keras.layers.Conv1D(kernel_size=20, filters=32, strides = 2, name='conv2')(drop1)\n",
        "\n",
        "pool1 = tf.keras.layers.MaxPool1D()(conv2)\n",
        "\n",
        "\n",
        "\n",
        "drop2 = tf.keras.layers.Dropout(0.2, name = 'drop2')(embeddings)\n",
        "\n",
        "pad2 = tf.keras.layers.Lambda(lambda x: tf.pad(x, \n",
        "                                               [[0,0], [64,64], [0, 0]], \n",
        "                                               mode='SYMMETRIC'), name='pad2')(drop2)\n",
        "conv3 = tf.keras.layers.Conv1D(kernel_size=30, filters=32, strides = 2, name='conv3')(pad2)\n",
        "\n",
        "pad3 = tf.keras.layers.Lambda(lambda x: tf.pad(x, \n",
        "                                               [[0,0], [64,64], [0, 0]], \n",
        "                                               mode='REFLECT'), name='pad3')(conv3)\n",
        "\n",
        "conv4 = tf.keras.layers.Conv1D(kernel_size=40, filters=64, strides = 6, name='conv4')(pad3)\n",
        "\n",
        "pool2 = tf.keras.layers.MaxPool1D(pool_size=13, strides = 1, name='pool2')(conv4)\n",
        "\n",
        "\n",
        "\n",
        "pad4 = tf.keras.layers.Lambda(lambda x: tf.pad(x, \n",
        "                                               [[0,0], [66,66], [0, 0]], \n",
        "                                               mode='REFLECT'), name='pad4')(embeddings)\n",
        "conv5 = tf.keras.layers.Conv1D(kernel_size=20, filters=8, strides = 2, name='conv5')(pad4)\n",
        "\n",
        "pool3 = tf.keras.layers.MaxPool1D(strides=1, name='pool3')(conv5)\n",
        "\n",
        "drop3 = tf.keras.layers.Dropout(0.1, name = 'drop3')(pool3)\n",
        "\n",
        "conv6 = tf.keras.layers.Conv1D(kernel_size=30, filters=16, strides = 4, name='conv6')(drop3)\n",
        "\n",
        "\n",
        "concat = tf.keras.layers.concatenate([pool1, pool2, conv6], name='concat')\n",
        "dense = tf.keras.layers.Dense(64, activation='relu', name='dense')(concat)\n",
        "outputs = tf.keras.layers.Dense(1, activation='sigmoid', name='outputs')(dense)\n",
        "\n",
        "model7 = tf.keras.Model(inputs=inputs, outputs=outputs)\n",
        "optimizer = tf.keras.optimizers.Adam(learning_rate=0.001)\n",
        "model7.compile(optimizer=optimizer,\n",
        "              loss='binary_crossentropy',\n",
        "              metrics=[f1])"
      ],
      "execution_count": 0,
      "outputs": []
    },
    {
      "cell_type": "code",
      "metadata": {
        "id": "usWBsoPBJ99X",
        "colab_type": "code",
        "outputId": "20c35b2b-b950-419f-8faf-6cb630d4bc64",
        "colab": {
          "base_uri": "https://localhost:8080/",
          "height": 374
        }
      },
      "source": [
        "model7.fit(X_train, y_train, \n",
        "          validation_data=(X_valid, y_valid),\n",
        "          batch_size=5000,\n",
        "         epochs=5,\n",
        "          callbacks=[checkpoint, early_stop])"
      ],
      "execution_count": 0,
      "outputs": [
        {
          "output_type": "stream",
          "text": [
            "Epoch 1/5\n",
            "249/249 [==============================] - ETA: 0s - loss: 0.2280 - f1: 0.0000e+00\n",
            "Epoch 00001: val_f1 improved from -inf to 0.00000, saving model to /content/drive/My Drive/CNN2/model7.weights\n",
            "249/249 [==============================] - 1395s 6s/step - loss: 0.2280 - f1: 0.0000e+00 - val_loss: 0.2112 - val_f1: 0.0000e+00\n",
            "Epoch 2/5\n",
            "249/249 [==============================] - ETA: 0s - loss: 0.2067 - f1: 0.0251\n",
            "Epoch 00002: val_f1 improved from 0.00000 to 0.03165, saving model to /content/drive/My Drive/CNN2/model7.weights\n",
            "249/249 [==============================] - 1399s 6s/step - loss: 0.2067 - f1: 0.0251 - val_loss: 0.1999 - val_f1: 0.0316\n",
            "Epoch 3/5\n",
            "249/249 [==============================] - ETA: 0s - loss: 0.1984 - f1: 0.0777\n",
            "Epoch 00003: val_f1 improved from 0.03165 to 0.07842, saving model to /content/drive/My Drive/CNN2/model7.weights\n",
            "249/249 [==============================] - 1397s 6s/step - loss: 0.1984 - f1: 0.0777 - val_loss: 0.1946 - val_f1: 0.0784\n",
            "Epoch 4/5\n",
            "249/249 [==============================] - ETA: 0s - loss: 0.1948 - f1: 0.1071\n",
            "Epoch 00004: val_f1 improved from 0.07842 to 0.11248, saving model to /content/drive/My Drive/CNN2/model7.weights\n",
            "249/249 [==============================] - 1395s 6s/step - loss: 0.1948 - f1: 0.1071 - val_loss: 0.1916 - val_f1: 0.1125\n",
            "Epoch 5/5\n",
            "249/249 [==============================] - ETA: 0s - loss: 0.1922 - f1: 0.2340\n",
            "Epoch 00005: val_f1 improved from 0.11248 to 0.31248, saving model to /content/drive/My Drive/CNN2/model7.weights\n",
            "249/249 [==============================] - 1400s 6s/step - loss: 0.1922 - f1: 0.2340 - val_loss: 0.1893 - val_f1: 0.3125\n"
          ],
          "name": "stdout"
        },
        {
          "output_type": "execute_result",
          "data": {
            "text/plain": [
              "<tensorflow.python.keras.callbacks.History at 0x7f23ca533780>"
            ]
          },
          "metadata": {
            "tags": []
          },
          "execution_count": 40
        }
      ]
    },
    {
      "cell_type": "markdown",
      "metadata": {
        "id": "-61NX_JPH-A8",
        "colab_type": "text"
      },
      "source": [
        "## Оставлены только пробелы и буквы английского алфавита"
      ]
    },
    {
      "cell_type": "code",
      "metadata": {
        "colab_type": "code",
        "id": "K7z_8kdkILZd",
        "colab": {}
      },
      "source": [
        "def preprocess(text):\n",
        "  characters = list(text.lower())\n",
        "  characters = [char for char in characters if char.isalpha() or char == ' ']\n",
        "  return characters"
      ],
      "execution_count": 0,
      "outputs": []
    },
    {
      "cell_type": "code",
      "metadata": {
        "colab_type": "code",
        "id": "OjMYOvwPILZn",
        "colab": {}
      },
      "source": [
        "# словарь\n",
        "vocab = Counter()\n",
        "\n",
        "for text in quora.question_text:\n",
        "    vocab.update(preprocess(text))"
      ],
      "execution_count": 0,
      "outputs": []
    },
    {
      "cell_type": "code",
      "metadata": {
        "id": "8nkJfJfueYLe",
        "colab_type": "code",
        "outputId": "e959732c-923e-4cb1-a62a-06c544323a3c",
        "colab": {
          "base_uri": "https://localhost:8080/",
          "height": 34
        }
      },
      "source": [
        "# отфильтрованный словарь\n",
        "filtered_vocab = set()\n",
        "\n",
        "for word in vocab:\n",
        "    if vocab[word] > 600:\n",
        "        filtered_vocab.add(word)\n",
        "\n",
        "len(filtered_vocab)"
      ],
      "execution_count": 0,
      "outputs": [
        {
          "output_type": "execute_result",
          "data": {
            "text/plain": [
              "28"
            ]
          },
          "metadata": {
            "tags": []
          },
          "execution_count": 9
        }
      ]
    },
    {
      "cell_type": "code",
      "metadata": {
        "colab_type": "code",
        "id": "e3_MHTINIOmr",
        "colab": {}
      },
      "source": [
        "# индексируем символы\n",
        "char2id = {'UNK':1, 'PAD':0}\n",
        "\n",
        "for char in filtered_vocab:\n",
        "    char2id[char] = len(char2id)"
      ],
      "execution_count": 0,
      "outputs": []
    },
    {
      "cell_type": "code",
      "metadata": {
        "colab_type": "code",
        "id": "EcLEmeAMIOmz",
        "colab": {}
      },
      "source": [
        "# переводим тексты в последовательности индексов\n",
        "X = []\n",
        "\n",
        "for text in quora.question_text:\n",
        "    chars = preprocess(text)\n",
        "    ids = [char2id.get(char, 1) for char in chars]\n",
        "    X.append(ids)"
      ],
      "execution_count": 0,
      "outputs": []
    },
    {
      "cell_type": "code",
      "metadata": {
        "colab_type": "code",
        "id": "AkFuXC4bISj7",
        "colab": {}
      },
      "source": [
        "X = tf.keras.preprocessing.sequence.pad_sequences(X, maxlen=100)"
      ],
      "execution_count": 0,
      "outputs": []
    },
    {
      "cell_type": "code",
      "metadata": {
        "colab_type": "code",
        "id": "cr4FEtKzISkB",
        "colab": {}
      },
      "source": [
        "y = quora.target.values"
      ],
      "execution_count": 0,
      "outputs": []
    },
    {
      "cell_type": "code",
      "metadata": {
        "colab_type": "code",
        "id": "oX86VRw_ISkH",
        "colab": {}
      },
      "source": [
        "X_train, X_valid, y_train, y_valid = train_test_split(X, y, test_size=0.05, random_state=42, stratify=y)"
      ],
      "execution_count": 0,
      "outputs": []
    },
    {
      "cell_type": "code",
      "metadata": {
        "colab_type": "code",
        "id": "YyoqLaCPnegS",
        "colab": {}
      },
      "source": [
        "inputs = tf.keras.layers.Input(shape=(100,), name='inputs')\n",
        "embeddings = tf.keras.layers.Embedding(input_dim=len(char2id), output_dim=10, name='embeddings')(inputs, )\n",
        "\n",
        "pad1 = tf.keras.layers.Lambda(lambda x: tf.pad(x, \n",
        "                                               [[0,0], [54,54], [0, 0]], \n",
        "                                               mode='REFLECT'), name='pad1')(embeddings)\n",
        "conv1 = tf.keras.layers.Conv1D(kernel_size=10, filters=16, strides = 2, name='conv1')(pad1)\n",
        "\n",
        "drop1 = tf.keras.layers.Dropout(0.3, name='drop1')(conv1)\n",
        "\n",
        "conv2 = tf.keras.layers.Conv1D(kernel_size=20, filters=32, strides = 2, name='conv2')(drop1)\n",
        "\n",
        "pool1 = tf.keras.layers.MaxPool1D()(conv2)\n",
        "\n",
        "\n",
        "\n",
        "drop2 = tf.keras.layers.Dropout(0.2, name = 'drop2')(embeddings)\n",
        "\n",
        "pad2 = tf.keras.layers.Lambda(lambda x: tf.pad(x, \n",
        "                                               [[0,0], [64,64], [0, 0]], \n",
        "                                               mode='SYMMETRIC'), name='pad2')(drop2)\n",
        "conv3 = tf.keras.layers.Conv1D(kernel_size=30, filters=32, strides = 2, name='conv3')(pad2)\n",
        "\n",
        "pad3 = tf.keras.layers.Lambda(lambda x: tf.pad(x, \n",
        "                                               [[0,0], [64,64], [0, 0]], \n",
        "                                               mode='REFLECT'), name='pad3')(conv3)\n",
        "\n",
        "conv4 = tf.keras.layers.Conv1D(kernel_size=40, filters=64, strides = 6, name='conv4')(pad3)\n",
        "\n",
        "pool2 = tf.keras.layers.MaxPool1D(pool_size=13, strides = 1, name='pool2')(conv4)\n",
        "\n",
        "\n",
        "\n",
        "pad4 = tf.keras.layers.Lambda(lambda x: tf.pad(x, \n",
        "                                               [[0,0], [66,66], [0, 0]], \n",
        "                                               mode='REFLECT'), name='pad4')(embeddings)\n",
        "conv5 = tf.keras.layers.Conv1D(kernel_size=20, filters=8, strides = 2, name='conv5')(pad4)\n",
        "\n",
        "pool3 = tf.keras.layers.MaxPool1D(strides=1, name='pool3')(conv5)\n",
        "\n",
        "drop3 = tf.keras.layers.Dropout(0.1, name = 'drop3')(pool3)\n",
        "\n",
        "conv6 = tf.keras.layers.Conv1D(kernel_size=30, filters=16, strides = 4, name='conv6')(drop3)\n",
        "\n",
        "\n",
        "concat = tf.keras.layers.concatenate([pool1, pool2, conv6], name='concat')\n",
        "dense = tf.keras.layers.Dense(64, activation='relu', name='dense')(concat)\n",
        "outputs = tf.keras.layers.Dense(1, activation='sigmoid', name='outputs')(dense)\n",
        "\n",
        "model8 = tf.keras.Model(inputs=inputs, outputs=outputs)\n",
        "optimizer = tf.keras.optimizers.Adam(learning_rate=0.001)\n",
        "model8.compile(optimizer=optimizer,\n",
        "              loss='binary_crossentropy',\n",
        "              metrics=[f1])"
      ],
      "execution_count": 0,
      "outputs": []
    },
    {
      "cell_type": "code",
      "metadata": {
        "id": "4-CgmrSmLZx1",
        "colab_type": "code",
        "outputId": "91b85d42-a6db-4158-c492-16385086e011",
        "colab": {
          "base_uri": "https://localhost:8080/",
          "height": 374
        }
      },
      "source": [
        "model8.fit(X_train, y_train, \n",
        "          validation_data=(X_valid, y_valid),\n",
        "          batch_size=5000,\n",
        "         epochs=5,\n",
        "          callbacks=[checkpoint, early_stop])"
      ],
      "execution_count": 0,
      "outputs": [
        {
          "output_type": "stream",
          "text": [
            "Epoch 1/5\n",
            "249/249 [==============================] - ETA: 0s - loss: 0.2324 - f1: 0.0018\n",
            "Epoch 00001: val_f1 improved from -inf to 0.00000, saving model to /content/drive/My Drive/CNN3/model8.weights\n",
            "249/249 [==============================] - 1442s 6s/step - loss: 0.2324 - f1: 0.0018 - val_loss: 0.2140 - val_f1: 0.0000e+00\n",
            "Epoch 2/5\n",
            "249/249 [==============================] - ETA: 0s - loss: 0.2094 - f1: 0.0019\n",
            "Epoch 00002: val_f1 improved from 0.00000 to 0.00784, saving model to /content/drive/My Drive/CNN3/model8.weights\n",
            "249/249 [==============================] - 1433s 6s/step - loss: 0.2094 - f1: 0.0019 - val_loss: 0.2092 - val_f1: 0.0078\n",
            "Epoch 3/5\n",
            "249/249 [==============================] - ETA: 0s - loss: 0.2018 - f1: 0.0134\n",
            "Epoch 00003: val_f1 did not improve from 0.00784\n",
            "249/249 [==============================] - 1439s 6s/step - loss: 0.2018 - f1: 0.0134 - val_loss: 0.1981 - val_f1: 0.0013\n",
            "Epoch 4/5\n",
            "249/249 [==============================] - ETA: 0s - loss: 0.1975 - f1: 0.0587\n",
            "Epoch 00004: val_f1 improved from 0.00784 to 0.16340, saving model to /content/drive/My Drive/CNN3/model8.weights\n",
            "249/249 [==============================] - 1436s 6s/step - loss: 0.1975 - f1: 0.0587 - val_loss: 0.1965 - val_f1: 0.1634\n",
            "Epoch 5/5\n",
            "249/249 [==============================] - ETA: 0s - loss: 0.1944 - f1: 0.2055\n",
            "Epoch 00005: val_f1 did not improve from 0.16340\n",
            "249/249 [==============================] - 1432s 6s/step - loss: 0.1944 - f1: 0.2055 - val_loss: 0.1916 - val_f1: 0.1227\n"
          ],
          "name": "stdout"
        },
        {
          "output_type": "execute_result",
          "data": {
            "text/plain": [
              "<tensorflow.python.keras.callbacks.History at 0x7f3517531160>"
            ]
          },
          "metadata": {
            "tags": []
          },
          "execution_count": 16
        }
      ]
    }
  ]
}