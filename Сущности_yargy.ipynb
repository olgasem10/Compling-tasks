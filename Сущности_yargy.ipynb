{
  "nbformat": 4,
  "nbformat_minor": 0,
  "metadata": {
    "colab": {
      "name": "Сущности yargy.ipynb",
      "provenance": [],
      "collapsed_sections": [],
      "authorship_tag": "ABX9TyOO8qiLWz65Vver29gyZ4cu",
      "include_colab_link": true
    },
    "kernelspec": {
      "name": "python3",
      "display_name": "Python 3"
    }
  },
  "cells": [
    {
      "cell_type": "markdown",
      "metadata": {
        "id": "view-in-github",
        "colab_type": "text"
      },
      "source": [
        "<a href=\"https://colab.research.google.com/github/olgasem10/Compling-tasks/blob/master/%D0%A1%D1%83%D1%89%D0%BD%D0%BE%D1%81%D1%82%D0%B8_yargy.ipynb\" target=\"_parent\"><img src=\"https://colab.research.google.com/assets/colab-badge.svg\" alt=\"Open In Colab\"/></a>"
      ]
    },
    {
      "cell_type": "code",
      "metadata": {
        "id": "crn-aNm3XYpm",
        "colab_type": "code",
        "colab": {}
      },
      "source": [
        "import pandas as pd"
      ],
      "execution_count": 0,
      "outputs": []
    },
    {
      "cell_type": "code",
      "metadata": {
        "id": "KaPoB1wrXriP",
        "colab_type": "code",
        "outputId": "a95561ed-c668-4bcf-d209-64def15a329b",
        "colab": {
          "base_uri": "https://localhost:8080/",
          "height": 306
        }
      },
      "source": [
        "!wget = https://raw.githubusercontent.com/mannefedov/compling_nlp_hse_course/master/data/pristavki.csv"
      ],
      "execution_count": 0,
      "outputs": [
        {
          "output_type": "stream",
          "text": [
            "--2020-01-19 14:39:48--  http://=/\n",
            "Resolving = (=)... failed: Name or service not known.\n",
            "wget: unable to resolve host address ‘=’\n",
            "--2020-01-19 14:39:48--  https://raw.githubusercontent.com/mannefedov/compling_nlp_hse_course/master/data/pristavki.csv\n",
            "Resolving raw.githubusercontent.com (raw.githubusercontent.com)... 151.101.0.133, 151.101.64.133, 151.101.128.133, ...\n",
            "Connecting to raw.githubusercontent.com (raw.githubusercontent.com)|151.101.0.133|:443... connected.\n",
            "HTTP request sent, awaiting response... 200 OK\n",
            "Length: 2939556 (2.8M) [text/plain]\n",
            "Saving to: ‘pristavki.csv’\n",
            "\n",
            "\rpristavki.csv         0%[                    ]       0  --.-KB/s               \rpristavki.csv       100%[===================>]   2.80M  16.0MB/s    in 0.2s    \n",
            "\n",
            "2020-01-19 14:39:49 (16.0 MB/s) - ‘pristavki.csv’ saved [2939556/2939556]\n",
            "\n",
            "FINISHED --2020-01-19 14:39:49--\n",
            "Total wall clock time: 0.4s\n",
            "Downloaded: 1 files, 2.8M in 0.2s (16.0 MB/s)\n"
          ],
          "name": "stdout"
        }
      ]
    },
    {
      "cell_type": "code",
      "metadata": {
        "id": "WmVgn3M2YFLo",
        "colab_type": "code",
        "colab": {}
      },
      "source": [
        "pd.set_option('display.max_colwidth', -1)\n",
        "data = pd.read_csv('pristavki.csv', header=None, names=['text'])"
      ],
      "execution_count": 0,
      "outputs": []
    },
    {
      "cell_type": "code",
      "metadata": {
        "id": "3pEVaisqYIYR",
        "colab_type": "code",
        "outputId": "b6460aef-c5be-4d2f-8d52-aca2d94893b4",
        "colab": {
          "base_uri": "https://localhost:8080/",
          "height": 309
        }
      },
      "source": [
        "!pip install yargy\n",
        "from yargy import Parser, rule, or_\n",
        "from yargy.predicates import in_, in_caseless\n",
        "from yargy.tokenizer import MorphTokenizer\n",
        "from yargy.pipelines import morph_pipeline, caseless_pipeline\n",
        "from yargy.interpretation import fact\n",
        "from IPython.display import display"
      ],
      "execution_count": 0,
      "outputs": [
        {
          "output_type": "stream",
          "text": [
            "Collecting yargy\n",
            "\u001b[?25l  Downloading https://files.pythonhosted.org/packages/37/64/d6abf637228bed6b0249b522f588d19dca9f09ab65db13bef41096f51889/yargy-0.12.0-py2.py3-none-any.whl (41kB)\n",
            "\u001b[K     |████████████████████████████████| 51kB 2.3MB/s \n",
            "\u001b[?25hCollecting pymorphy2==0.8\n",
            "\u001b[?25l  Downloading https://files.pythonhosted.org/packages/a3/33/fff9675c68b5f6c63ec8c6e6ff57827dda28a1fa5b2c2d727dffff92dd47/pymorphy2-0.8-py2.py3-none-any.whl (46kB)\n",
            "\u001b[K     |████████████████████████████████| 51kB 4.4MB/s \n",
            "\u001b[?25hCollecting backports.functools-lru-cache==1.3\n",
            "  Downloading https://files.pythonhosted.org/packages/d4/40/0b1db94fdfd71353ae67ec444ff28e0a7ecc25212d1cb94c291b6cd226f9/backports.functools_lru_cache-1.3-py2.py3-none-any.whl\n",
            "Collecting pymorphy2-dicts<3.0,>=2.4\n",
            "\u001b[?25l  Downloading https://files.pythonhosted.org/packages/02/51/2465fd4f72328ab50877b54777764d928da8cb15b74e2680fc1bd8cb3173/pymorphy2_dicts-2.4.393442.3710985-py2.py3-none-any.whl (7.1MB)\n",
            "\u001b[K     |████████████████████████████████| 7.1MB 7.7MB/s \n",
            "\u001b[?25hRequirement already satisfied: docopt>=0.6 in /usr/local/lib/python3.6/dist-packages (from pymorphy2==0.8->yargy) (0.6.2)\n",
            "Collecting dawg-python>=0.7\n",
            "  Downloading https://files.pythonhosted.org/packages/6a/84/ff1ce2071d4c650ec85745766c0047ccc3b5036f1d03559fd46bb38b5eeb/DAWG_Python-0.7.2-py2.py3-none-any.whl\n",
            "Installing collected packages: pymorphy2-dicts, dawg-python, pymorphy2, backports.functools-lru-cache, yargy\n",
            "Successfully installed backports.functools-lru-cache-1.3 dawg-python-0.7.2 pymorphy2-0.8 pymorphy2-dicts-2.4.393442.3710985 yargy-0.12.0\n"
          ],
          "name": "stdout"
        }
      ]
    },
    {
      "cell_type": "code",
      "metadata": {
        "id": "ESnPitvSYdrt",
        "colab_type": "code",
        "colab": {}
      },
      "source": [
        "Game = fact(\n",
        "    'Game',\n",
        "    ['name', 'version']\n",
        ")"
      ],
      "execution_count": 0,
      "outputs": []
    },
    {
      "cell_type": "code",
      "metadata": {
        "id": "B1bDCGs6Yg1m",
        "colab_type": "code",
        "colab": {}
      },
      "source": [
        "mortal = rule(\n",
        "    morph_pipeline(['мортал ', 'мортал комбат', 'mortal combat', 'mortal kombat']).interpretation(Game.name.const(\"Mortal Kombat\")),\n",
        "    morph_pipeline(['X', 'XL', '11']).interpretation(Game.version).optional())\n",
        "\n",
        "assassin = rule(\n",
        "    morph_pipeline(['асасин', 'асассин', 'assassin', 'Assassins Creed', 'Ассассин крид']).interpretation(Game.name.const(\"Assassin's creed\")),\n",
        "    morph_pipeline(['2', '3', '4']).interpretation(Game.version).optional()) \n",
        "\n",
        "GTA_VERSIONS = {\n",
        "    '5': 'V',\n",
        "    'V': 'V',\n",
        "    'v': 'V',\n",
        "    '4': 'IV',\n",
        "}\n",
        "\n",
        "gta = rule(\n",
        "    morph_pipeline(['гта', 'gta', 'gta5', 'гта5']).interpretation(Game.name.const('GTA')),\n",
        "    caseless_pipeline(GTA_VERSIONS).interpretation(Game.version.normalized().custom(GTA_VERSIONS.get)).optional()) \n",
        "\n",
        "fifa = rule(\n",
        "    morph_pipeline(['fifa', 'фифа']).interpretation(Game.name.const(\"FIFA\")),\n",
        "    morph_pipeline(['06', '07', '08', '09', '10', '11', '12', '13', '14', '15', '16', '17', '18', '19']).interpretation(Game.version).optional()) \n",
        "\n",
        "vedmak = rule(\n",
        "    morph_pipeline(['Ведьмак', 'ведьмак2', 'ведьмак3']).interpretation(Game.name.const('Ведьмак')),\n",
        "    morph_pipeline(['1', '2', '3']).interpretation(Game.version).optional()) \n",
        "\n",
        "GAME = or_(gta, assassin, fifa, vedmak, mortal).interpretation(Game)\n",
        "parser = Parser(GAME)"
      ],
      "execution_count": 0,
      "outputs": []
    },
    {
      "cell_type": "code",
      "metadata": {
        "id": "-yPhWpxBYmBs",
        "colab_type": "code",
        "outputId": "702d91a3-da8b-48b5-aa65-58334c405786",
        "colab": {
          "base_uri": "https://localhost:8080/",
          "height": 34
        }
      },
      "source": [
        "matches = []\n",
        "\n",
        "for sent in data.text:\n",
        "    for match in parser.findall(sent):\n",
        "        matches.append(match.fact)\n",
        "\n",
        "print(len(matches))"
      ],
      "execution_count": 0,
      "outputs": [
        {
          "output_type": "stream",
          "text": [
            "1728\n"
          ],
          "name": "stdout"
        }
      ]
    },
    {
      "cell_type": "code",
      "metadata": {
        "id": "0KqOwddEY799",
        "colab_type": "code",
        "outputId": "78f0a59a-d1f1-4ecf-fd6e-113311814a33",
        "colab": {
          "base_uri": "https://localhost:8080/",
          "height": 527
        }
      },
      "source": [
        "for m in matches[:30]:\n",
        "    if m.version:\n",
        "      print(m.name, m.version)\n",
        "    else:\n",
        "      print(m.name)"
      ],
      "execution_count": 0,
      "outputs": [
        {
          "output_type": "stream",
          "text": [
            "FIFA 15\n",
            "GTA V\n",
            "Assassin's creed 4\n",
            "GTA IV\n",
            "Mortal Kombat\n",
            "FIFA 16\n",
            "GTA V\n",
            "FIFA\n",
            "Assassin's creed 4\n",
            "FIFA 11\n",
            "FIFA 15\n",
            "GTA V\n",
            "GTA V\n",
            "FIFA\n",
            "GTA V\n",
            "Mortal Kombat\n",
            "GTA V\n",
            "Ведьмак\n",
            "Assassin's creed\n",
            "GTA V\n",
            "GTA V\n",
            "FIFA\n",
            "GTA V\n",
            "GTA V\n",
            "Mortal Kombat\n",
            "FIFA 16\n",
            "Assassin's creed\n",
            "FIFA 13\n",
            "FIFA 16\n",
            "FIFA\n"
          ],
          "name": "stdout"
        }
      ]
    },
    {
      "cell_type": "markdown",
      "metadata": {
        "id": "fbu_tSBmOOgZ",
        "colab_type": "text"
      },
      "source": [
        "Результаты:\n",
        "\n",
        "1) Наименований игр очень много, одна игра может иметь более 10 версий и перечислить их все в правилах довольно затруднительно, особенно с учетом всех возможных вариантов написания\n",
        "\n",
        "2) Распространенная у авторов объявлений ошибка - слитное написание названия игры и номера версии. Мы можем указать такие случаи в правилах для извлечения названий игр, но номер версии при этом теряется\n",
        "\n",
        "3) Поиск возможных вариантов усложняет частое написание названий на английском языке русскими буквами - в таком случае орфография становится сложно предсказуемой"
      ]
    }
  ]
}