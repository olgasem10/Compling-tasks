{
 "cells": [
  {
   "cell_type": "code",
   "execution_count": 66,
   "metadata": {},
   "outputs": [
    {
     "name": "stderr",
     "output_type": "stream",
     "text": [
      "[nltk_data] Downloading package stopwords to\n",
      "[nltk_data]     C:\\Users\\Ольга\\AppData\\Roaming\\nltk_data...\n",
      "[nltk_data]   Package stopwords is already up-to-date!\n"
     ]
    }
   ],
   "source": [
    "import gensim\n",
    "import json\n",
    "import re\n",
    "import pandas as pd\n",
    "from nltk.tokenize import word_tokenize\n",
    "from nltk.corpus import stopwords\n",
    "import nltk\n",
    "nltk.download('stopwords')\n",
    "from pymorphy2 import MorphAnalyzer\n",
    "import pyLDAvis.gensim\n",
    "import string\n",
    "from collections import Counter\n",
    "import warnings\n",
    "warnings.filterwarnings(\"ignore\")\n",
    "morph = MorphAnalyzer()"
   ]
  },
  {
   "cell_type": "code",
   "execution_count": 67,
   "metadata": {},
   "outputs": [],
   "source": [
    "string.punctuation += '«»—–…“”•№→’€'\n",
    "symbols = string.punctuation + '1234567890'"
   ]
  },
  {
   "cell_type": "code",
   "execution_count": 6,
   "metadata": {},
   "outputs": [],
   "source": [
    "stops = set(stopwords.words('russian')) | {'gt', 'который', 'это'}\n",
    "\n",
    "def remove_tags(text):\n",
    "    text = re.sub(r'<[^>]+>', '', text)\n",
    "    return text\n",
    "\n",
    "def tokenize(text):\n",
    "    words = [word.strip(symbols) for word in text.split()]\n",
    "    words = [word for word in words if word and not ';' in word]\n",
    "    return words\n",
    "\n",
    "def opt_normalize(texts, top=None):\n",
    "    uniq = Counter()\n",
    "    for text in texts:\n",
    "        uniq.update(text)\n",
    "    \n",
    "    norm_uniq = {word:morph.parse(word)[0].normal_form for word, _ in uniq.most_common(top)}\n",
    "    \n",
    "    norm_texts = []\n",
    "    for text in texts:\n",
    "        norm_words = [norm_uniq.get(word) for word in text]\n",
    "        norm_words = [word for word in norm_words if word and word not in stops]\n",
    "        norm_texts.append(norm_words)\n",
    "        \n",
    "    return norm_texts"
   ]
  },
  {
   "cell_type": "code",
   "execution_count": 8,
   "metadata": {},
   "outputs": [],
   "source": [
    "texts = open('habr_texts.txt', encoding = 'utf-8').read().splitlines()"
   ]
  },
  {
   "cell_type": "code",
   "execution_count": 9,
   "metadata": {},
   "outputs": [],
   "source": [
    "texts = opt_normalize([tokenize(remove_tags(text.lower())) for text in texts], 30000)"
   ]
  },
  {
   "cell_type": "markdown",
   "metadata": {},
   "source": [
    "# LDA"
   ]
  },
  {
   "cell_type": "code",
   "execution_count": 41,
   "metadata": {},
   "outputs": [],
   "source": [
    "ph = gensim.models.Phrases(texts, scoring='npmi', threshold=0.4)\n",
    "p = gensim.models.phrases.Phraser(ph)\n",
    "ngrammed_texts = p[texts]"
   ]
  },
  {
   "cell_type": "code",
   "execution_count": 42,
   "metadata": {},
   "outputs": [],
   "source": [
    "dct = gensim.corpora.Dictionary(ngrammed_texts)"
   ]
  },
  {
   "cell_type": "code",
   "execution_count": 43,
   "metadata": {},
   "outputs": [],
   "source": [
    "dct.filter_extremes(no_above=0.1, no_below=20)\n",
    "dct.compactify()"
   ]
  },
  {
   "cell_type": "code",
   "execution_count": 44,
   "metadata": {},
   "outputs": [
    {
     "name": "stdout",
     "output_type": "stream",
     "text": [
      "Dictionary(7139 unique tokens: ['address', 'architecture', 'assembly', 'await', 'azure']...)\n"
     ]
    }
   ],
   "source": [
    "print(dct)"
   ]
  },
  {
   "cell_type": "code",
   "execution_count": 70,
   "metadata": {},
   "outputs": [],
   "source": [
    "corpus = [dct.doc2bow(text) for text in ngrammed_texts]"
   ]
  },
  {
   "cell_type": "code",
   "execution_count": 71,
   "metadata": {},
   "outputs": [],
   "source": [
    "lda2 = gensim.models.LdaModel(corpus, 100, id2word=dct, passes=10)"
   ]
  },
  {
   "cell_type": "code",
   "execution_count": 99,
   "metadata": {},
   "outputs": [
    {
     "name": "stdout",
     "output_type": "stream",
     "text": [
      "[('космический', 0.055904854), ('аппарат', 0.051437534), ('земля', 0.042905286), ('спутник', 0.03724272), ('марс', 0.03693666), ('орбита', 0.036578394), ('полёт', 0.032689083), ('луна', 0.03160382), ('космос', 0.028491067), ('планета', 0.026907949)]\n",
      "\n",
      "\n",
      "[('пациент', 0.03764556), ('кожа', 0.035166435), ('учёный', 0.0325364), ('человеческий', 0.020528192), ('врач', 0.020210983), ('болезнь', 0.019733092), ('лаборатория', 0.017683418), ('организм', 0.016903874), ('лечение', 0.015612155), ('заболевание', 0.015045924)]\n",
      "\n",
      "\n",
      "[('товар', 0.096954726), ('магазин', 0.058286164), ('скидка', 0.048378527), ('покупка', 0.045971315), ('покупатель', 0.043772113), ('amazon', 0.040300988), ('доставка', 0.035668273), ('заказ', 0.031992152), ('потребитель', 0.024883162), ('продавец', 0.024341626)]\n"
     ]
    }
   ],
   "source": [
    "print(lda2.show_topic(4, topn = 10))\n",
    "print('\\n')\n",
    "print(lda2.show_topic(11, topn = 10))\n",
    "print('\\n')\n",
    "print(lda2.show_topic(30, topn = 10))"
   ]
  },
  {
   "cell_type": "markdown",
   "metadata": {},
   "source": [
    "Метрики модели:"
   ]
  },
  {
   "cell_type": "code",
   "execution_count": 74,
   "metadata": {},
   "outputs": [
    {
     "data": {
      "text/plain": [
       "-7.78874924421697"
      ]
     },
     "execution_count": 74,
     "metadata": {},
     "output_type": "execute_result"
    }
   ],
   "source": [
    "lda2.log_perplexity(corpus[:10000])"
   ]
  },
  {
   "cell_type": "code",
   "execution_count": 83,
   "metadata": {},
   "outputs": [],
   "source": [
    "coherence_model_lda2 = gensim.models.CoherenceModel(model=lda2, \n",
    "                                                  texts=texts, \n",
    "                                                   dictionary=dct, coherence='c_v')\n",
    "\n",
    "topics = []\n",
    "for topic_id, topic in lda2.show_topics(num_topics=100, formatted=False):\n",
    "    topic = [word for word, _ in topic]\n",
    "    topics.append(topic)\n",
    "\n",
    "coherence_model_lda2 = gensim.models.CoherenceModel(topics=topics, \n",
    "                                                   texts=texts, \n",
    "                                                   dictionary=dct, coherence='c_v')"
   ]
  },
  {
   "cell_type": "code",
   "execution_count": 84,
   "metadata": {},
   "outputs": [
    {
     "data": {
      "text/plain": [
       "0.5474442339522236"
      ]
     },
     "execution_count": 84,
     "metadata": {},
     "output_type": "execute_result"
    }
   ],
   "source": [
    "coherence_model_lda2.get_coherence()"
   ]
  },
  {
   "cell_type": "markdown",
   "metadata": {},
   "source": [
    "# LDA with tfidf"
   ]
  },
  {
   "cell_type": "code",
   "execution_count": 64,
   "metadata": {},
   "outputs": [],
   "source": [
    "tfidf = gensim.models.TfidfModel(corpus, id2word=dct)\n",
    "corpus = tfidf[corpus]"
   ]
  },
  {
   "cell_type": "code",
   "execution_count": 67,
   "metadata": {},
   "outputs": [],
   "source": [
    "lda3 = gensim.models.LdaModel(corpus, 100, id2word=dct, passes=10)"
   ]
  },
  {
   "cell_type": "code",
   "execution_count": 101,
   "metadata": {},
   "outputs": [
    {
     "name": "stdout",
     "output_type": "stream",
     "text": [
      "[('мозг', 0.08137182), ('клетка', 0.0603882), ('боль', 0.056431685), ('пациент', 0.039696857), ('ген', 0.037584525), ('тело', 0.026724953), ('ткань', 0.02626402), ('учёный', 0.025934309), ('организм', 0.024928559), ('врач', 0.024352267)]\n",
      "\n",
      "\n",
      "[('аккумулятор', 0.11015807), ('батарея', 0.07285596), ('зарядка', 0.056186624), ('ток', 0.0367697), ('напряжение', 0.032325253), ('батарейка', 0.029811667), ('заряд', 0.02496348), ('ячейка', 0.02082715), ('заряжать', 0.018348098), ('передатчик', 0.0142507795)]\n",
      "\n",
      "\n",
      "[('спутник', 0.053409655), ('загадка', 0.04987625), ('орбита', 0.04790644), ('космический', 0.04469892), ('пуск', 0.042350158), ('ракета', 0.035754383), ('луна', 0.028792748), ('аппарат', 0.027439808), ('кольцо', 0.026169492), ('миссия', 0.02456002)]\n"
     ]
    }
   ],
   "source": [
    "print(lda3.show_topic(36, topn = 10))\n",
    "print('\\n')\n",
    "print(lda3.show_topic(52, topn = 10))\n",
    "print('\\n')\n",
    "print(lda3.show_topic(65, topn = 10))"
   ]
  },
  {
   "cell_type": "markdown",
   "metadata": {},
   "source": [
    "Метрики модели:"
   ]
  },
  {
   "cell_type": "code",
   "execution_count": 82,
   "metadata": {},
   "outputs": [
    {
     "data": {
      "text/plain": [
       "-15.047433662573363"
      ]
     },
     "execution_count": 82,
     "metadata": {},
     "output_type": "execute_result"
    }
   ],
   "source": [
    "lda3.log_perplexity(corpus[:10000])"
   ]
  },
  {
   "cell_type": "code",
   "execution_count": 85,
   "metadata": {},
   "outputs": [],
   "source": [
    "coherence_model_lda3 = gensim.models.CoherenceModel(model=lda3, \n",
    "                                                  texts=texts, \n",
    "                                                   dictionary=dct, coherence='c_v')\n",
    "\n",
    "topics = []\n",
    "for topic_id, topic in lda3.show_topics(num_topics=100, formatted=False):\n",
    "    topic = [word for word, _ in topic]\n",
    "    topics.append(topic)\n",
    "\n",
    "coherence_model_lda3 = gensim.models.CoherenceModel(topics=topics, \n",
    "                                                   texts=texts, \n",
    "                                                   dictionary=dct, coherence='c_v')"
   ]
  },
  {
   "cell_type": "code",
   "execution_count": 86,
   "metadata": {},
   "outputs": [
    {
     "data": {
      "text/plain": [
       "0.396010889312874"
      ]
     },
     "execution_count": 86,
     "metadata": {},
     "output_type": "execute_result"
    }
   ],
   "source": [
    "coherence_model_lda3.get_coherence()"
   ]
  },
  {
   "cell_type": "markdown",
   "metadata": {},
   "source": [
    "# Сравнение моделей:\n",
    "\n",
    "Хорошие темы в 1-ой модели: 70: 0.044*\"вселенная\" + 0.032*\"звезда\" + 0.024*\"галактика\" + 0.018*\"солнце\" + 0.017*\"волна\" + 0.016*\"расстояние\" + 0.016*\"теория\" + 0.015*\"энергия\" + 0.015*\"масса\" + 0.015*\"излучение\"\n",
    "\n",
    "Похожая тема во 2-ой, но хуже: 1: 0.053*\"uber\" + 0.045*\"вселенная\" + 0.039*\"звезда\" + 0.037*\"галактика\" + 0.036*\"поездка\" + 0.030*\"переводчик\" + 0.025*\"пассажир\" + 0.019*\"телескоп\" + 0.018*\"выручка\" + 0.014*\"небо\"\n",
    "\n",
    "Темы, появившиеся во 2-ой модели:\n",
    "\n",
    "98: 0.099*\"усилитель\" + 0.087*\"звук\" + 0.049*\"музыка\" + 0.035*\"коннектор\" + 0.028*\"наушник\" + 0.024*\"звучание\" + 0.020*\"музыкальный\" + 0.016*\"нарушать\" + 0.015*\"громкость\" + 0.015*\"создатель\"\n",
    "\n",
    "\n",
    "52: 0.110*\"аккумулятор\" + 0.073*\"батарея\" + 0.056*\"зарядка\" + 0.037*\"ток\" + 0.032*\"напряжение\" + 0.030*\"батарейка\" + 0.025*\"заряд\" + 0.021*\"ячейка\" + 0.018*\"заряжать\" + 0.014*\"передатчик\"\n",
    "\n",
    "Метрики: \n",
    "\n",
    "Без tfidf: перплексия -7.78874924421697, когерентность 0.5474442339522236\n",
    "\n",
    "С tfidf: перплексия -15.047433662573363, когерентность 0.396010889312874\n"
   ]
  },
  {
   "cell_type": "markdown",
   "metadata": {},
   "source": [
    "# NMF"
   ]
  },
  {
   "cell_type": "code",
   "execution_count": 1,
   "metadata": {},
   "outputs": [],
   "source": [
    "from sklearn.decomposition import NMF\n",
    "from sklearn.feature_extraction.text import CountVectorizer, TfidfVectorizer\n",
    "import pandas as pd"
   ]
  },
  {
   "cell_type": "code",
   "execution_count": 10,
   "metadata": {},
   "outputs": [],
   "source": [
    "stexts = [' '.join(text) for text in texts]"
   ]
  },
  {
   "cell_type": "code",
   "execution_count": 56,
   "metadata": {},
   "outputs": [],
   "source": [
    "vectorizer = TfidfVectorizer(max_features=2500, min_df=10, max_df=0.3, ngram_range=(1,3))\n",
    "X = vectorizer.fit_transform(stexts)"
   ]
  },
  {
   "cell_type": "code",
   "execution_count": 57,
   "metadata": {},
   "outputs": [],
   "source": [
    "model = NMF(n_components=100)"
   ]
  },
  {
   "cell_type": "code",
   "execution_count": 58,
   "metadata": {},
   "outputs": [
    {
     "data": {
      "text/plain": [
       "NMF(alpha=0.0, beta_loss='frobenius', init=None, l1_ratio=0.0, max_iter=200,\n",
       "    n_components=100, random_state=None, shuffle=False, solver='cd', tol=0.0001,\n",
       "    verbose=0)"
      ]
     },
     "execution_count": 58,
     "metadata": {},
     "output_type": "execute_result"
    }
   ],
   "source": [
    "model.fit(X)"
   ]
  },
  {
   "cell_type": "code",
   "execution_count": 59,
   "metadata": {},
   "outputs": [
    {
     "data": {
      "text/plain": [
       "(100, 2500)"
      ]
     },
     "execution_count": 59,
     "metadata": {},
     "output_type": "execute_result"
    }
   ],
   "source": [
    "model.components_.shape"
   ]
  },
  {
   "cell_type": "code",
   "execution_count": 60,
   "metadata": {},
   "outputs": [
    {
     "data": {
      "text/plain": [
       "(4121, 100)"
      ]
     },
     "execution_count": 60,
     "metadata": {},
     "output_type": "execute_result"
    }
   ],
   "source": [
    "model.transform(X).shape"
   ]
  },
  {
   "cell_type": "code",
   "execution_count": 61,
   "metadata": {},
   "outputs": [],
   "source": [
    "pd.set_option('display.max_columns', 100)\n",
    "pd.set_option('display.max_rows', 100)"
   ]
  },
  {
   "cell_type": "code",
   "execution_count": 62,
   "metadata": {},
   "outputs": [],
   "source": [
    "feat_names = vectorizer.get_feature_names()"
   ]
  },
  {
   "cell_type": "code",
   "execution_count": 63,
   "metadata": {},
   "outputs": [
    {
     "name": "stdout",
     "output_type": "stream",
     "text": [
      "0 какой то  что то  деньга  думать  вообще  жизнь\n",
      "1 алгоритм  значение  точка  координата  переменный  матрица\n",
      "2 игра  игровой  играть  движок  unity  персонаж\n",
      "3 марс  аппарат  планета  земля  луна  космический\n",
      "4 устройство  умный  мобильный устройство  девайс  гаджет  мобильный\n",
      "5 public  void  public void  private  string  static\n",
      "6 смартфон  экран  аккумулятор  apple  дисплей  ноутбук\n",
      "7 the  to  of  and  in  is\n",
      "8 модель  регистратор  моделирование  линейка  контекст  gps\n",
      "9 уязвимость  обновление  пароль  патч  злоумышленник  безопасность\n",
      "10 ракета  спутник  двигатель  космический  орбита  носитель\n",
      "11 css  javascript  js  angular  html  es\n",
      "12 доклад  конференция  выступление  тема  слайд  рассказать\n",
      "13 браузер  страница  chrome  вкладка  расширение  веб\n",
      "14 процессор  intel  память  ядро  гб  производительность\n",
      "15 обучение  нейросеть  машинный  машинный обучение  нейронный  нейронный сеть\n",
      "16 пакет  sudo  git  install  репозиторий  echo\n",
      "17 книга  читать  чтение  автор  идея  прочитать\n",
      "18 объект  класс  метод  свойство  вызов  значение\n",
      "19 рынок  миллион  инвестор  стартап  миллиард  сделка\n",
      "20 дата центр  центр  дата  оборудование  цод  инфраструктура\n",
      "21 файл  папка  строка  скрипт  директория  формат\n",
      "22 if  else  true  return  false  lt\n",
      "23 бот  telegram  чат  канал  facebook  текст\n",
      "24 вселенная  галактика  звезда  тёмный  теория  миллиард\n",
      "25 ия  интеллект  искусственный интеллект  искусственный  нейросеть  агент\n",
      "26 звук  усилитель  музыка  звуковой  слушать  искажение\n",
      "27 язык  программирование  язык программирование  java  программист  перевод\n",
      "28 российский  страна  россия  закон  рф  территория\n",
      "29 печать  принтер  материал  пластик  деталь  мм\n",
      "30 windows  microsoft  linux  ос  обновление  драйвер\n",
      "31 товар  скидка  магазин  цена  покупатель  покупка\n",
      "32 наушник  мм  звук  метр  музыка  характеристика\n",
      "33 тест  тестирование  тестировать  тестовый  test  баг\n",
      "34 var  function  result  return  case  url\n",
      "35 const  return  function  public function  let  class\n",
      "36 ключ  сертификат  пароль  key  шифрование  подпись\n",
      "37 телефон  номер  звонок  оператор  пароль  связь\n",
      "38 робот  движение  машина  датчик  сборка  скорость\n",
      "39 клиент  crm  услуга  бизнес  клиентский  тз\n",
      "40 атака  безопасность  защита  злоумышленник  вредоносный  хакер\n",
      "41 php  релиз  прислать  фреймворка  go  массив\n",
      "42 сайт  реклама  страница  рекламный  контент  посетитель\n",
      "43 react  компонент  dom  компонента  свойство  состояние\n",
      "44 ребёнок  родитель  школа  программирование  набор  датчик\n",
      "45 int  lt  for int  for  int lt  for int lt\n",
      "46 end  begin  do  end end  then  def\n",
      "47 блокчейн  технология  транзакция  финансовый  банка  банк\n",
      "48 net  visual  visual studio  studio  core  microsoft\n",
      "49 виртуальный реальность  реальность  vr  виртуальный  технология  очки\n",
      "50 null  select  as  from  set  varchar\n",
      "51 облачный  облако  инфраструктура  технология  услуга  cloud\n",
      "52 автомобиль  машина  дорога  технология  безопасность  метр\n",
      "53 android  мобильный  ios  мобильный приложение  app  swift\n",
      "54 сигнал  частота  антенна  связь  канал  диапазон\n",
      "55 пациент  врач  заболевание  болезнь  лечение  вирус\n",
      "56 глаз  лазер  операция  пациент  животное  движение\n",
      "57 часы  профессиональный  предпочитать  слушать  путь  друг\n",
      "58 мозг  сознание  нейрон  активность  область  память\n",
      "59 письмо  рассылка  email  почта  почтовый  электронный\n",
      "60 сервер  нагрузка  выделить  база  gb  конфигурация\n",
      "61 адрес  ip  домен  ip адрес  провайдер  dns\n",
      "62 игрок  игра  игровой  комната  миссия  персонаж\n",
      "63 камера  движение  видео  кадр  фотография  разрешение\n",
      "64 блок  транзакция  позиция  линейный  длина  менять\n",
      "65 сотрудник  офис  бизнес  рабочий  руководитель  crm\n",
      "66 программа  компьютер  программный  программный обеспечение  обеспечение  компьютерный\n",
      "67 продукт  дизайн  дизайнер  интерфейс  инструмент  заказчик\n",
      "68 карта  платёж  банка  sim  страна  оплата\n",
      "69 сообщение  канал  байт  отправка  message  отправлять\n",
      "70 диск  запись  ssd  жёсткий диск  жёсткий  накопитель\n",
      "71 энергия  солнечный  батарея  панель  источник  аккумулятор\n",
      "72 лекция  курс  студент  университет  поведение  школа\n",
      "73 google  поисковый  аккаунт  play  chrome  корпорация\n",
      "74 участник  соревнование  конференция  участие  сообщество  задание\n",
      "75 виртуальный  машина  виртуальный машина  вм  vmware  хост\n",
      "76 pvs  pvs studio  studio  анализатор  ошибка  null\n",
      "77 api  плагин  библиотека  документация  java  поддержка\n",
      "78 резервный  бэкап  резервный копирование  копирование  резервный копия  копия\n",
      "79 сеть  трафик  связь  интернет  социальный  социальный сеть\n",
      "80 доход  налог  рубль  сумма  услуга  деньга\n",
      "81 элемент  px  страница  список  кнопка  текст\n",
      "82 видео  пост  youtube  рассказывать  комментарий  регистратор\n",
      "83 клетка  ген  организм  заболевание  тело  вещество\n",
      "84 new  string  name  object  private  val\n",
      "85 запрос  страница  таблица  ответ  субд  sql\n",
      "86 станок  производство  мм  изделие  рабочий  деталь\n",
      "87 mail ru  ru  mail  group  встреча  офис\n",
      "88 сервис  доступ  amazon  мобильный  запись  облачный\n",
      "89 fi  wi fi  wi  беспроводный  точка  доступ\n",
      "90 температура  датчик  вода  лампа  прибор  измерение\n",
      "91 напряжение  ток  плата  питание  аккумулятор  батарея\n",
      "92 текстура  изображение  пиксель  цвета  цвет  картинка\n",
      "93 квантовый  частица  излучение  пространство  теория  физика\n",
      "94 вакансия  рубль  специалист  удалённый  москва  зарплата\n",
      "95 документ  текст  база  отчёт  перевод  документация\n",
      "96 docker  контейнер  run  nginx  image  настройка\n",
      "97 учёный  исследование  научный  исследователь  университет  наука\n",
      "98 модуль  компонент  поддержка  зависимость  управление  ядро\n",
      "99 import  def  import import  import import import  from  from import\n"
     ]
    }
   ],
   "source": [
    "top_words = model.components_.argsort()[:,:-7:-1]\n",
    "\n",
    "for i in range(top_words.shape[0]):\n",
    "    words = [feat_names[j] for j in top_words[i]]\n",
    "    print(i, \"  \".join(words))"
   ]
  },
  {
   "cell_type": "code",
   "execution_count": 64,
   "metadata": {},
   "outputs": [
    {
     "data": {
      "text/plain": [
       "52.515796643990484"
      ]
     },
     "execution_count": 64,
     "metadata": {},
     "output_type": "execute_result"
    }
   ],
   "source": [
    "model.reconstruction_err_"
   ]
  },
  {
   "cell_type": "markdown",
   "metadata": {},
   "source": [
    "# Сравнение с LDA:\n",
    "\n",
    "В темах чаще появляются n-граммы (wi fi, резервный копия, программный обеспечение, виртуальный реальность и т.д.)\n",
    "\n",
    "Темы, схожие с LDA:\n",
    "\n",
    "3 марс  аппарат  планета  земля  луна  космический\n",
    "\n",
    "93 квантовый  частица  излучение  пространство  теория  физика\n",
    "\n",
    "70 диск  запись  ssd  жёсткий диск  жёсткий  накопитель\n",
    "\n",
    "83 клетка  ген  организм  заболевание  тело  вещество\n",
    "\n",
    "Новые темы:\n",
    "\n",
    "17 книга  читать  чтение  автор  идея  прочитать\n",
    "\n",
    "25 ия  интеллект  искусственный интеллект  искусственный  нейросеть  агент\n",
    "\n",
    "52 автомобиль  машина  дорога  технология  безопасность  метр\n",
    "\n",
    "97 учёный  исследование  научный  исследователь  университет  наука"
   ]
  }
 ],
 "metadata": {
  "kernelspec": {
   "display_name": "Python 3",
   "language": "python",
   "name": "python3"
  },
  "language_info": {
   "codemirror_mode": {
    "name": "ipython",
    "version": 3
   },
   "file_extension": ".py",
   "mimetype": "text/x-python",
   "name": "python",
   "nbconvert_exporter": "python",
   "pygments_lexer": "ipython3",
   "version": "3.7.4"
  }
 },
 "nbformat": 4,
 "nbformat_minor": 2
}
