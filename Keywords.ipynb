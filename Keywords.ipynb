{
  "nbformat": 4,
  "nbformat_minor": 0,
  "metadata": {
    "colab": {
      "name": "Keywords.ipynb",
      "provenance": [],
      "collapsed_sections": [],
      "authorship_tag": "ABX9TyMI7ThgFT4DL/tNXD9Pu2Ar",
      "include_colab_link": true
    },
    "kernelspec": {
      "name": "python3",
      "display_name": "Python 3"
    }
  },
  "cells": [
    {
      "cell_type": "markdown",
      "metadata": {
        "id": "view-in-github",
        "colab_type": "text"
      },
      "source": [
        "<a href=\"https://colab.research.google.com/github/olgasem10/Compling-tasks/blob/master/Keywords.ipynb\" target=\"_parent\"><img src=\"https://colab.research.google.com/assets/colab-badge.svg\" alt=\"Open In Colab\"/></a>"
      ]
    },
    {
      "cell_type": "code",
      "metadata": {
        "id": "he1PWNhdHn-0",
        "colab_type": "code",
        "outputId": "2ffa5598-12ee-4420-c679-076575b8c636",
        "colab": {
          "base_uri": "https://localhost:8080/",
          "height": 204
        }
      },
      "source": [
        "!pip install pymorphy2"
      ],
      "execution_count": 1,
      "outputs": [
        {
          "output_type": "stream",
          "text": [
            "Collecting pymorphy2\n",
            "\u001b[?25l  Downloading https://files.pythonhosted.org/packages/a3/33/fff9675c68b5f6c63ec8c6e6ff57827dda28a1fa5b2c2d727dffff92dd47/pymorphy2-0.8-py2.py3-none-any.whl (46kB)\n",
            "\u001b[K     |████████████████████████████████| 51kB 927kB/s \n",
            "\u001b[?25hCollecting dawg-python>=0.7\n",
            "  Downloading https://files.pythonhosted.org/packages/6a/84/ff1ce2071d4c650ec85745766c0047ccc3b5036f1d03559fd46bb38b5eeb/DAWG_Python-0.7.2-py2.py3-none-any.whl\n",
            "Requirement already satisfied: docopt>=0.6 in /usr/local/lib/python3.6/dist-packages (from pymorphy2) (0.6.2)\n",
            "Collecting pymorphy2-dicts<3.0,>=2.4\n",
            "\u001b[?25l  Downloading https://files.pythonhosted.org/packages/02/51/2465fd4f72328ab50877b54777764d928da8cb15b74e2680fc1bd8cb3173/pymorphy2_dicts-2.4.393442.3710985-py2.py3-none-any.whl (7.1MB)\n",
            "\u001b[K     |████████████████████████████████| 7.1MB 3.3MB/s \n",
            "\u001b[?25hInstalling collected packages: dawg-python, pymorphy2-dicts, pymorphy2\n",
            "Successfully installed dawg-python-0.7.2 pymorphy2-0.8 pymorphy2-dicts-2.4.393442.3710985\n"
          ],
          "name": "stdout"
        }
      ]
    },
    {
      "cell_type": "code",
      "metadata": {
        "id": "llHuTKQfH58S",
        "colab_type": "code",
        "outputId": "28d87469-2e74-4309-b230-6ffb1933be6e",
        "colab": {
          "base_uri": "https://localhost:8080/",
          "height": 51
        }
      },
      "source": [
        "import json, os\n",
        "import pandas as pd\n",
        "import nltk\n",
        "nltk.download('stopwords')\n",
        "from nltk.corpus import stopwords\n",
        "import numpy as np\n",
        "from pymorphy2 import MorphAnalyzer\n",
        "from collections import Counter\n",
        "from sklearn.feature_extraction.text import TfidfVectorizer, CountVectorizer\n",
        "morph = MorphAnalyzer()\n",
        "stops = set(stopwords.words('russian'))"
      ],
      "execution_count": 2,
      "outputs": [
        {
          "output_type": "stream",
          "text": [
            "[nltk_data] Downloading package stopwords to /root/nltk_data...\n",
            "[nltk_data]   Unzipping corpora/stopwords.zip.\n"
          ],
          "name": "stdout"
        }
      ]
    },
    {
      "cell_type": "code",
      "metadata": {
        "id": "NGgSzsydH_iS",
        "colab_type": "code",
        "outputId": "9f2b0dec-8893-421c-8022-85f6cb8bb956",
        "colab": {
          "base_uri": "https://localhost:8080/",
          "height": 122
        }
      },
      "source": [
        "from google.colab import drive\n",
        "drive.mount('/content/drive')"
      ],
      "execution_count": 3,
      "outputs": [
        {
          "output_type": "stream",
          "text": [
            "Go to this URL in a browser: https://accounts.google.com/o/oauth2/auth?client_id=947318989803-6bn6qk8qdgf4n4g3pfee6491hc0brc4i.apps.googleusercontent.com&redirect_uri=urn%3aietf%3awg%3aoauth%3a2.0%3aoob&response_type=code&scope=email%20https%3a%2f%2fwww.googleapis.com%2fauth%2fdocs.test%20https%3a%2f%2fwww.googleapis.com%2fauth%2fdrive%20https%3a%2f%2fwww.googleapis.com%2fauth%2fdrive.photos.readonly%20https%3a%2f%2fwww.googleapis.com%2fauth%2fpeopleapi.readonly\n",
            "\n",
            "Enter your authorization code:\n",
            "··········\n",
            "Mounted at /content/drive\n"
          ],
          "name": "stdout"
        }
      ]
    },
    {
      "cell_type": "code",
      "metadata": {
        "id": "bwVhDceSIFSB",
        "colab_type": "code",
        "outputId": "692b274c-0b1c-425d-f266-88156e4be2f5",
        "colab": {
          "base_uri": "https://localhost:8080/",
          "height": 34
        }
      },
      "source": [
        "%cd /content/drive/My Drive/Keys"
      ],
      "execution_count": 4,
      "outputs": [
        {
          "output_type": "stream",
          "text": [
            "/content/drive/My Drive/Keys\n"
          ],
          "name": "stdout"
        }
      ]
    },
    {
      "cell_type": "code",
      "metadata": {
        "id": "rDomVAqmIIrB",
        "colab_type": "code",
        "outputId": "8942a67e-bed1-434f-c2e2-b184e0319523",
        "colab": {
          "base_uri": "https://localhost:8080/",
          "height": 34
        }
      },
      "source": [
        "data = pd.read_json('All_data_norm.json', orient = 'split')\n",
        "data.shape"
      ],
      "execution_count": 11,
      "outputs": [
        {
          "output_type": "execute_result",
          "data": {
            "text/plain": [
              "(17266, 7)"
            ]
          },
          "metadata": {
            "tags": []
          },
          "execution_count": 11
        }
      ]
    },
    {
      "cell_type": "code",
      "metadata": {
        "id": "w6aM1tlTK_R4",
        "colab_type": "code",
        "colab": {}
      },
      "source": [
        "pd.set_option('display.max_colwidth', 300)"
      ],
      "execution_count": 0,
      "outputs": []
    },
    {
      "cell_type": "code",
      "metadata": {
        "id": "6b9cuztiIYra",
        "colab_type": "code",
        "outputId": "9b074432-f57c-4eab-a7cb-19a995e611e4",
        "colab": {
          "base_uri": "https://localhost:8080/",
          "height": 315
        }
      },
      "source": [
        "data.head(2)"
      ],
      "execution_count": 15,
      "outputs": [
        {
          "output_type": "execute_result",
          "data": {
            "text/html": [
              "<div>\n",
              "<style scoped>\n",
              "    .dataframe tbody tr th:only-of-type {\n",
              "        vertical-align: middle;\n",
              "    }\n",
              "\n",
              "    .dataframe tbody tr th {\n",
              "        vertical-align: top;\n",
              "    }\n",
              "\n",
              "    .dataframe thead th {\n",
              "        text-align: right;\n",
              "    }\n",
              "</style>\n",
              "<table border=\"1\" class=\"dataframe\">\n",
              "  <thead>\n",
              "    <tr style=\"text-align: right;\">\n",
              "      <th></th>\n",
              "      <th>keywords</th>\n",
              "      <th>title</th>\n",
              "      <th>content</th>\n",
              "      <th>low_keywords</th>\n",
              "      <th>content_norm</th>\n",
              "      <th>title_norm</th>\n",
              "    </tr>\n",
              "  </thead>\n",
              "  <tbody>\n",
              "    <tr>\n",
              "      <th>0</th>\n",
              "      <td>[КРАЕОБМЕТОЧНЫЕ ШВЕЙНЫЕ МАШИНЫ, РАСЧЕТ НИТЕПОДАЧИ, ДИАГРАММЫ ПОДАЧИ И ПОТРЕБЛЕНИЯ НИТИ]</td>\n",
              "      <td>Математическая модель рабочего процесса образования стежка на швейной машине</td>\n",
              "      <td>УДК 687.053\\n\\nМАТЕМАТИЧЕСКАЯ МОДЕЛЬ РАБОЧЕГО ПРОЦЕССА ОБРАЗОВАНИЯ\\nСТЕЖКА НА ШВЕЙНОЙ МАШИНЕ\\nЕрмаков А.С.,\\nкандидат технических наук, доцент,\\nФГОУВПО «Московский государственный университет туризма и сервиса», г. Москва.\\nThe method of device design for thread feeding of the upper looper and ...</td>\n",
              "      <td>[краеобметочные швейные машины, расчет нитеподачи, диаграммы подачи и потребления нити]</td>\n",
              "      <td>[модель, рабочий, процесс, образование, стежок, машина, ермаков, кандидат, наука, доцент, университет, туризм, сервис, год, москва, метод, проектирование, устройство, подача, нитка, петлитель, определение, процесс, потребление, основание, использование, диаграмма, согласование, функция, подача, ...</td>\n",
              "      <td>[модель, рабочий, процесс, образование, стежок, машина]</td>\n",
              "    </tr>\n",
              "    <tr>\n",
              "      <th>1</th>\n",
              "      <td>[панель из ячеистого бетона, аварийное состояние, ВЛАЖНОСТЬ, физический износ, Ремонт бетона, инженерная безопасность, cellular concrete panels, emergency condition, moisture, physical wear-out, repair concrete, engineering safety]</td>\n",
              "      <td>Инженерная безопасность эксплуатации жилых зданий со стеновыми панелями из автоклавного газобетона</td>\n",
              "      <td>/84\\n\\nCivil SecurityTechnology, Vol. 8, 2011, No. 3 (29)\\n\\nУДК 699.88 + 692.232.44\\n\\nИнженерная безопасность эксплуатации жилых\\nзданий со стеновыми панелями из автоклавного\\nгазобетона\\nISSN 1996-8493\\n© Технологии гражданской безопасности, 2011\\n\\nВ.Б. Cальников, В.А. Беляков\\nАннотация\\nВ ...</td>\n",
              "      <td>[панель из ячеистого бетона, аварийное состояние, влажность, физический износ, ремонт бетона, инженерная безопасность, cellular concrete panels, emergency condition, moisture, physical wear-out, repair concrete, engineering safety]</td>\n",
              "      <td>[безопасность, эксплуатация, здание, панель, газобетон, технология, безопасность, cальник, беляков, аннотация, статья, метод, оценка, износ, панель, лёгкое, бетон, технология, безопасность, настоящее, время, печать, чаща, статья, авария, обрушение, конструкция, дом, фонд, способность, отсутствие...</td>\n",
              "      <td>[безопасность, эксплуатация, здание, панель, газобетон]</td>\n",
              "    </tr>\n",
              "  </tbody>\n",
              "</table>\n",
              "</div>"
            ],
            "text/plain": [
              "                                                                                                                                                                                                                                  keywords  ...                                               title_norm\n",
              "0                                                                                                                                                  [КРАЕОБМЕТОЧНЫЕ ШВЕЙНЫЕ МАШИНЫ, РАСЧЕТ НИТЕПОДАЧИ, ДИАГРАММЫ ПОДАЧИ И ПОТРЕБЛЕНИЯ НИТИ]  ...  [модель, рабочий, процесс, образование, стежок, машина]\n",
              "1  [панель из ячеистого бетона, аварийное состояние, ВЛАЖНОСТЬ, физический износ, Ремонт бетона, инженерная безопасность, cellular concrete panels, emergency condition, moisture, physical wear-out, repair concrete, engineering safety]  ...  [безопасность, эксплуатация, здание, панель, газобетон]\n",
              "\n",
              "[2 rows x 6 columns]"
            ]
          },
          "metadata": {
            "tags": []
          },
          "execution_count": 15
        }
      ]
    },
    {
      "cell_type": "code",
      "metadata": {
        "id": "F4HQpALAJtnI",
        "colab_type": "code",
        "colab": {}
      },
      "source": [
        "def evaluate(true_kws, predicted_kws):\n",
        "    assert len(true_kws) == len(predicted_kws)\n",
        "    \n",
        "    precisions = []\n",
        "    recalls = []\n",
        "    f1s = []\n",
        "    jaccards = []\n",
        "    \n",
        "    for i in range(len(true_kws)):\n",
        "        true_kw = set(true_kws[i])\n",
        "        predicted_kw = set(predicted_kws[i])\n",
        "        \n",
        "        tp = len(true_kw & predicted_kw)\n",
        "        union = len(true_kw | predicted_kw)\n",
        "        fp = len(predicted_kw - true_kw)\n",
        "        fn = len(true_kw - predicted_kw)\n",
        "        \n",
        "        if (tp+fp) == 0:\n",
        "            prec = 0\n",
        "        else:\n",
        "            prec = tp / (tp + fp)\n",
        "        \n",
        "        if (tp+fn) == 0:\n",
        "            rec = 0\n",
        "        else:\n",
        "            rec = tp / (tp + fn)\n",
        "        if (prec+rec) == 0:\n",
        "            f1 = 0\n",
        "        else:\n",
        "            f1 = (2*(prec*rec))/(prec+rec)\n",
        "            \n",
        "        jac = tp / union\n",
        "        \n",
        "        precisions.append(prec)\n",
        "        recalls.append(rec)\n",
        "        f1s.append(f1)\n",
        "        jaccards.append(jac)\n",
        "    print('Precision - ', round(np.mean(precisions), 5))\n",
        "    print('Recall - ', round(np.mean(recalls), 5))\n",
        "    print('F1 - ', round(np.mean(f1s), 5))\n",
        "    print('Jaccard - ', round(np.mean(jaccards), 5))"
      ],
      "execution_count": 0,
      "outputs": []
    },
    {
      "cell_type": "markdown",
      "metadata": {
        "id": "GfBzvHIlJfAw",
        "colab_type": "text"
      },
      "source": [
        "Пересчитываем tf-idf на всех данных"
      ]
    },
    {
      "cell_type": "code",
      "metadata": {
        "id": "DVn7r1T_J175",
        "colab_type": "code",
        "colab": {}
      },
      "source": [
        "data['content_norm_str'] = data['content_norm'].apply(' '.join)"
      ],
      "execution_count": 0,
      "outputs": []
    },
    {
      "cell_type": "code",
      "metadata": {
        "id": "o_r0_t0rJ304",
        "colab_type": "code",
        "outputId": "b6daccf5-f2a4-49a5-c0b8-bb358b47edf8",
        "colab": {
          "base_uri": "https://localhost:8080/",
          "height": 136
        }
      },
      "source": [
        "tfidf = TfidfVectorizer(ngram_range=(1,2), min_df=5)\n",
        "tfidf.fit(data['content_norm_str'])"
      ],
      "execution_count": 0,
      "outputs": [
        {
          "output_type": "execute_result",
          "data": {
            "text/plain": [
              "TfidfVectorizer(analyzer='word', binary=False, decode_error='strict',\n",
              "                dtype=<class 'numpy.float64'>, encoding='utf-8',\n",
              "                input='content', lowercase=True, max_df=1.0, max_features=None,\n",
              "                min_df=5, ngram_range=(1, 2), norm='l2', preprocessor=None,\n",
              "                smooth_idf=True, stop_words=None, strip_accents=None,\n",
              "                sublinear_tf=False, token_pattern='(?u)\\\\b\\\\w\\\\w+\\\\b',\n",
              "                tokenizer=None, use_idf=True, vocabulary=None)"
            ]
          },
          "metadata": {
            "tags": []
          },
          "execution_count": 11
        }
      ]
    },
    {
      "cell_type": "code",
      "metadata": {
        "id": "ByTszll2J8Ag",
        "colab_type": "code",
        "colab": {}
      },
      "source": [
        "id2word = {i:word for i,word in enumerate(tfidf.get_feature_names())}\n",
        "texts_vectors = tfidf.transform(data['content_norm_str'])"
      ],
      "execution_count": 0,
      "outputs": []
    },
    {
      "cell_type": "code",
      "metadata": {
        "id": "ueCuVLKxJ_tA",
        "colab_type": "code",
        "colab": {}
      },
      "source": [
        "all_keywords = []\n",
        "for i in range(data.shape[0]):\n",
        "    k_words = [id2word[w] for w in texts_vectors[i].toarray().argsort()[:,:-11:-1].tolist()[0]]\n",
        "    all_keywords.append(k_words)"
      ],
      "execution_count": 0,
      "outputs": []
    },
    {
      "cell_type": "code",
      "metadata": {
        "id": "7Mrkl09IKx-g",
        "colab_type": "code",
        "outputId": "b9895f6e-e037-4c0e-a7ba-38d9c1d23b53",
        "colab": {
          "base_uri": "https://localhost:8080/",
          "height": 85
        }
      },
      "source": [
        "evaluate(data['low_keywords'], all_keywords)"
      ],
      "execution_count": 0,
      "outputs": [
        {
          "output_type": "stream",
          "text": [
            "Precision -  0.098\n",
            "Recall -  0.136\n",
            "F1 -  0.106\n",
            "Jaccard -  0.061\n"
          ],
          "name": "stdout"
        }
      ]
    },
    {
      "cell_type": "markdown",
      "metadata": {
        "id": "78clSL3grvGV",
        "colab_type": "text"
      },
      "source": [
        "Превзойти бейзлайн получилось не очень значительно, поэтому оставляю и неудачные попытки тоже"
      ]
    },
    {
      "cell_type": "markdown",
      "metadata": {
        "id": "ijYzgqARLPVy",
        "colab_type": "text"
      },
      "source": [
        "## Попытка 1\n",
        "\n",
        "С помощью tf-idf векторизации мы получаем среди ключевых слов биграммы, но слова в них не согласованы, поэтому они не дают прироста качества. Попробуем ставить второе слово в биграмме в родительный падеж"
      ]
    },
    {
      "cell_type": "code",
      "metadata": {
        "id": "gtsX303SLz14",
        "colab_type": "code",
        "colab": {}
      },
      "source": [
        "def matching(bigr):\n",
        "    if ' ' in bigr:\n",
        "        try:\n",
        "            words = bigr.split()\n",
        "            parsed = [morph.parse(word)[0] for word in words]\n",
        "            first = parsed[0].word\n",
        "            second = parsed[1].inflect({'gent'}).word\n",
        "            strng = '{} {}'.format(first, second)\n",
        "        except:\n",
        "            strng = bigr\n",
        "    else:\n",
        "        strng = bigr\n",
        "    return strng"
      ],
      "execution_count": 0,
      "outputs": []
    },
    {
      "cell_type": "code",
      "metadata": {
        "id": "X5JleRh2MCx4",
        "colab_type": "code",
        "colab": {}
      },
      "source": [
        "conc_keywords = [[matching(line) for line in all_keywords[i]] for i in range(len(all_keywords))]"
      ],
      "execution_count": 0,
      "outputs": []
    },
    {
      "cell_type": "code",
      "metadata": {
        "id": "pvVOPSDBMXqP",
        "colab_type": "code",
        "outputId": "e304d07d-ad4c-428b-89f0-3c677c625272",
        "colab": {
          "base_uri": "https://localhost:8080/",
          "height": 85
        }
      },
      "source": [
        "evaluate(data['low_keywords'], conc_keywords)"
      ],
      "execution_count": 0,
      "outputs": [
        {
          "output_type": "stream",
          "text": [
            "Precision -  0.097\n",
            "Recall -  0.137\n",
            "F1 -  0.106\n",
            "Jaccard -  0.06\n"
          ],
          "name": "stdout"
        }
      ]
    },
    {
      "cell_type": "markdown",
      "metadata": {
        "id": "dyfNGhleMjOe",
        "colab_type": "text"
      },
      "source": [
        "Значения практически не изменились"
      ]
    },
    {
      "cell_type": "markdown",
      "metadata": {
        "id": "u5sX3fUXMmXw",
        "colab_type": "text"
      },
      "source": [
        "## Попытка 2\n",
        "\n",
        "Многие списки ключевых слов содержат помимо существительных прилагательные. Попробуем оставлять при нормализации прилагательные и если они окажутся среди биграм, согласовывать их с существительными по роду"
      ]
    },
    {
      "cell_type": "code",
      "metadata": {
        "id": "q0WNzQa3M9bw",
        "colab_type": "code",
        "outputId": "43c74ee6-23b8-45a9-d0c7-0b0828e3257b",
        "colab": {
          "base_uri": "https://localhost:8080/",
          "height": 34
        }
      },
      "source": [
        "data = pd.read_json('With_adj.json', orient = 'split')\n",
        "data.shape"
      ],
      "execution_count": 16,
      "outputs": [
        {
          "output_type": "execute_result",
          "data": {
            "text/plain": [
              "(17266, 7)"
            ]
          },
          "metadata": {
            "tags": []
          },
          "execution_count": 16
        }
      ]
    },
    {
      "cell_type": "code",
      "metadata": {
        "id": "-qhICPadNFrw",
        "colab_type": "code",
        "outputId": "d893c09c-91ad-46b5-c498-24e84ca6ad40",
        "colab": {
          "base_uri": "https://localhost:8080/",
          "height": 315
        }
      },
      "source": [
        "data.head(2)"
      ],
      "execution_count": 19,
      "outputs": [
        {
          "output_type": "execute_result",
          "data": {
            "text/html": [
              "<div>\n",
              "<style scoped>\n",
              "    .dataframe tbody tr th:only-of-type {\n",
              "        vertical-align: middle;\n",
              "    }\n",
              "\n",
              "    .dataframe tbody tr th {\n",
              "        vertical-align: top;\n",
              "    }\n",
              "\n",
              "    .dataframe thead th {\n",
              "        text-align: right;\n",
              "    }\n",
              "</style>\n",
              "<table border=\"1\" class=\"dataframe\">\n",
              "  <thead>\n",
              "    <tr style=\"text-align: right;\">\n",
              "      <th></th>\n",
              "      <th>keywords</th>\n",
              "      <th>title</th>\n",
              "      <th>content</th>\n",
              "      <th>low_keywords</th>\n",
              "      <th>content_norm</th>\n",
              "      <th>title_norm</th>\n",
              "    </tr>\n",
              "  </thead>\n",
              "  <tbody>\n",
              "    <tr>\n",
              "      <th>0</th>\n",
              "      <td>[КРАЕОБМЕТОЧНЫЕ ШВЕЙНЫЕ МАШИНЫ, РАСЧЕТ НИТЕПОДАЧИ, ДИАГРАММЫ ПОДАЧИ И ПОТРЕБЛЕНИЯ НИТИ]</td>\n",
              "      <td>Математическая модель рабочего процесса образования стежка на швейной машине</td>\n",
              "      <td>УДК 687.053\\n\\nМАТЕМАТИЧЕСКАЯ МОДЕЛЬ РАБОЧЕГО ПРОЦЕССА ОБРАЗОВАНИЯ\\nСТЕЖКА НА ШВЕЙНОЙ МАШИНЕ\\nЕрмаков А.С.,\\nкандидат технических наук, доцент,\\nФГОУВПО «Московский государственный университет туризма и сервиса», г. Москва.\\nThe method of device design for thread feeding of the upper looper and ...</td>\n",
              "      <td>[краеобметочные швейные машины, расчет нитеподачи, диаграммы подачи и потребления нити]</td>\n",
              "      <td>[математический, модель, рабочий, процесс, образование, стежок, швейный, машина, ермаков, кандидат, технический, наука, доцент, московский, государственный, университет, туризм, сервис, год, москва, метод, проектирование, устройство, подача, нитка, верхний, петлитель, определение, рациональный, ...</td>\n",
              "      <td>[математический, модель, рабочий, процесс, образование, стежок, швейный, машина]</td>\n",
              "    </tr>\n",
              "    <tr>\n",
              "      <th>1</th>\n",
              "      <td>[панель из ячеистого бетона, аварийное состояние, ВЛАЖНОСТЬ, физический износ, Ремонт бетона, инженерная безопасность, cellular concrete panels, emergency condition, moisture, physical wear-out, repair concrete, engineering safety]</td>\n",
              "      <td>Инженерная безопасность эксплуатации жилых зданий со стеновыми панелями из автоклавного газобетона</td>\n",
              "      <td>/84\\n\\nCivil SecurityTechnology, Vol. 8, 2011, No. 3 (29)\\n\\nУДК 699.88 + 692.232.44\\n\\nИнженерная безопасность эксплуатации жилых\\nзданий со стеновыми панелями из автоклавного\\nгазобетона\\nISSN 1996-8493\\n© Технологии гражданской безопасности, 2011\\n\\nВ.Б. Cальников, В.А. Беляков\\nАннотация\\nВ ...</td>\n",
              "      <td>[панель из ячеистого бетона, аварийное состояние, влажность, физический износ, ремонт бетона, инженерная безопасность, cellular concrete panels, emergency condition, moisture, physical wear-out, repair concrete, engineering safety]</td>\n",
              "      <td>[инженерный, безопасность, эксплуатация, жилой, здание, стеновый, панель, автоклавный, газобетон, технология, гражданский, безопасность, cальник, беляков, аннотация, статья, исследовательский, метод, оценка, физический, износ, панель, лёгкое, бетон, технология, гражданский, безопасность, настоящ...</td>\n",
              "      <td>[инженерный, безопасность, эксплуатация, жилой, здание, стеновый, панель, автоклавный, газобетон]</td>\n",
              "    </tr>\n",
              "  </tbody>\n",
              "</table>\n",
              "</div>"
            ],
            "text/plain": [
              "                                                                                                                                                                                                                                  keywords  ...                                                                                         title_norm\n",
              "0                                                                                                                                                  [КРАЕОБМЕТОЧНЫЕ ШВЕЙНЫЕ МАШИНЫ, РАСЧЕТ НИТЕПОДАЧИ, ДИАГРАММЫ ПОДАЧИ И ПОТРЕБЛЕНИЯ НИТИ]  ...                   [математический, модель, рабочий, процесс, образование, стежок, швейный, машина]\n",
              "1  [панель из ячеистого бетона, аварийное состояние, ВЛАЖНОСТЬ, физический износ, Ремонт бетона, инженерная безопасность, cellular concrete panels, emergency condition, moisture, physical wear-out, repair concrete, engineering safety]  ...  [инженерный, безопасность, эксплуатация, жилой, здание, стеновый, панель, автоклавный, газобетон]\n",
              "\n",
              "[2 rows x 6 columns]"
            ]
          },
          "metadata": {
            "tags": []
          },
          "execution_count": 19
        }
      ]
    },
    {
      "cell_type": "code",
      "metadata": {
        "id": "dqXpsqWTNSXQ",
        "colab_type": "code",
        "colab": {}
      },
      "source": [
        "data['content_norm_str'] = data['content_norm'].apply(' '.join)"
      ],
      "execution_count": 0,
      "outputs": []
    },
    {
      "cell_type": "code",
      "metadata": {
        "id": "iA1q_uaSNZUX",
        "colab_type": "code",
        "colab": {}
      },
      "source": [
        "def matching(bigr):\n",
        "    if ' ' in bigr:\n",
        "        try:\n",
        "            words = bigr.split()\n",
        "            parsed = [morph.parse(word)[0] for word in words]\n",
        "            if parsed[0].tag.POS == 'ADJF':\n",
        "                first = parsed[0].inflect({parsed[1].tag.gender, 'nomn'}).word\n",
        "                second = parsed[1].word\n",
        "                strng = '{} {}'.format(first, second)\n",
        "            elif parsed[0].tag.POS == 'NOUN' and parsed[1].tag.POS == 'NOUN':\n",
        "                first = parsed[0].word\n",
        "                second = parsed[1].inflect({'gent'}).word\n",
        "                strng = '{} {}'.format(first, second)\n",
        "            else:\n",
        "                strng = bigr\n",
        "        except:\n",
        "            strng = bigr\n",
        "    else:\n",
        "        strng = bigr\n",
        "    return strng"
      ],
      "execution_count": 0,
      "outputs": []
    },
    {
      "cell_type": "code",
      "metadata": {
        "id": "3bA92euqNcPf",
        "colab_type": "code",
        "outputId": "cec27ac7-0e1b-4b88-f30a-49ac1ed1ec2a",
        "colab": {
          "base_uri": "https://localhost:8080/",
          "height": 136
        }
      },
      "source": [
        "tfidf = TfidfVectorizer(ngram_range=(1,2), min_df=5)\n",
        "tfidf.fit(data['content_norm_str'])"
      ],
      "execution_count": 0,
      "outputs": [
        {
          "output_type": "execute_result",
          "data": {
            "text/plain": [
              "TfidfVectorizer(analyzer='word', binary=False, decode_error='strict',\n",
              "                dtype=<class 'numpy.float64'>, encoding='utf-8',\n",
              "                input='content', lowercase=True, max_df=1.0, max_features=None,\n",
              "                min_df=5, ngram_range=(1, 2), norm='l2', preprocessor=None,\n",
              "                smooth_idf=True, stop_words=None, strip_accents=None,\n",
              "                sublinear_tf=False, token_pattern='(?u)\\\\b\\\\w\\\\w+\\\\b',\n",
              "                tokenizer=None, use_idf=True, vocabulary=None)"
            ]
          },
          "metadata": {
            "tags": []
          },
          "execution_count": 36
        }
      ]
    },
    {
      "cell_type": "code",
      "metadata": {
        "id": "kwOIJH5sNz76",
        "colab_type": "code",
        "colab": {}
      },
      "source": [
        "id2word = {i:word for i,word in enumerate(tfidf.get_feature_names())}\n",
        "texts_vectors = tfidf.transform(data['content_norm_str'])"
      ],
      "execution_count": 0,
      "outputs": []
    },
    {
      "cell_type": "code",
      "metadata": {
        "id": "bn9soQ1tN274",
        "colab_type": "code",
        "colab": {}
      },
      "source": [
        "all_keywords = []\n",
        "for i in range(data.shape[0]):\n",
        "    k_words = [id2word[w] for w in texts_vectors[i].toarray().argsort()[:,:-11:-1].tolist()[0]]\n",
        "    all_keywords.append(k_words)"
      ],
      "execution_count": 0,
      "outputs": []
    },
    {
      "cell_type": "code",
      "metadata": {
        "id": "qCb7IGHFN3fy",
        "colab_type": "code",
        "colab": {}
      },
      "source": [
        "conc_keywords = [[matching(line) for line in all_keywords[i]] for i in range(len(all_keywords))]"
      ],
      "execution_count": 0,
      "outputs": []
    },
    {
      "cell_type": "code",
      "metadata": {
        "id": "PEQYhWiTN8br",
        "colab_type": "code",
        "outputId": "4c146904-8245-4056-8cef-b4883f764f5c",
        "colab": {
          "base_uri": "https://localhost:8080/",
          "height": 85
        }
      },
      "source": [
        "evaluate(data['low_keywords'], conc_keywords)"
      ],
      "execution_count": 0,
      "outputs": [
        {
          "output_type": "stream",
          "text": [
            "Precision -  0.096\n",
            "Recall -  0.139\n",
            "F1 -  0.106\n",
            "Jaccard -  0.06\n"
          ],
          "name": "stdout"
        }
      ]
    },
    {
      "cell_type": "markdown",
      "metadata": {
        "id": "99LqxFPmPtOA",
        "colab_type": "text"
      },
      "source": [
        "Немного увеличился только recall"
      ]
    },
    {
      "cell_type": "markdown",
      "metadata": {
        "id": "AFhJKLo9Pyh4",
        "colab_type": "text"
      },
      "source": [
        "## Попытка 3\n",
        "\n",
        "Когда мы добавили прилагательные, они оказались не только среди биграмм, но и в виде отдельных слов. Попробуем их удалить"
      ]
    },
    {
      "cell_type": "code",
      "metadata": {
        "id": "Lbqo3WRMR1Nx",
        "colab_type": "code",
        "colab": {}
      },
      "source": [
        "all_keywords = []\n",
        "for i in range(data.shape[0]):\n",
        "    k_words = [id2word[w] for w in texts_vectors[i].toarray().argsort()[:,:-21:-1].tolist()[0]]\n",
        "    k_words = [word for word in k_words if not morph.parse(word)[0].tag.POS == 'ADJF'][:10]\n",
        "    all_keywords.append(k_words)"
      ],
      "execution_count": 0,
      "outputs": []
    },
    {
      "cell_type": "code",
      "metadata": {
        "id": "beLiDzkGS79n",
        "colab_type": "code",
        "outputId": "eab4899a-c9ca-4855-cbec-38858bfa2839",
        "colab": {
          "base_uri": "https://localhost:8080/",
          "height": 187
        }
      },
      "source": [
        "all_keywords[67]"
      ],
      "execution_count": 0,
      "outputs": [
        {
          "output_type": "execute_result",
          "data": {
            "text/plain": [
              "['информационный культура',\n",
              " 'культура',\n",
              " 'знание',\n",
              " 'субъект',\n",
              " 'свобода',\n",
              " 'знание информация',\n",
              " 'модернизм',\n",
              " 'позитивный свобода',\n",
              " 'эпистемология',\n",
              " 'истина']"
            ]
          },
          "metadata": {
            "tags": []
          },
          "execution_count": 69
        }
      ]
    },
    {
      "cell_type": "code",
      "metadata": {
        "id": "3gVazoAPSx6Y",
        "colab_type": "code",
        "colab": {}
      },
      "source": [
        "conc_keywords = [[matching(line) for line in all_keywords[i]] for i in range(len(all_keywords))]"
      ],
      "execution_count": 0,
      "outputs": []
    },
    {
      "cell_type": "code",
      "metadata": {
        "id": "nsgVn_ntS2q-",
        "colab_type": "code",
        "outputId": "27febc5f-a33a-45fc-e1e0-fd989e51b5cb",
        "colab": {
          "base_uri": "https://localhost:8080/",
          "height": 85
        }
      },
      "source": [
        "evaluate(data['low_keywords'], conc_keywords)"
      ],
      "execution_count": 0,
      "outputs": [
        {
          "output_type": "stream",
          "text": [
            "Precision -  0.104\n",
            "Recall -  0.15\n",
            "F1 -  0.114\n",
            "Jaccard -  0.065\n"
          ],
          "name": "stdout"
        }
      ]
    },
    {
      "cell_type": "markdown",
      "metadata": {
        "id": "8vKu7REYVP3h",
        "colab_type": "text"
      },
      "source": [
        "Получаем некоторое улучшение, хотя не очень значительное\n"
      ]
    },
    {
      "cell_type": "markdown",
      "metadata": {
        "id": "c_s5h1YZVlX_",
        "colab_type": "text"
      },
      "source": [
        "## Попытка 4\n",
        "\n",
        "Собрать фразы генсимом и посчитать их каунтером\n"
      ]
    },
    {
      "cell_type": "code",
      "metadata": {
        "id": "C1fPev01u-c1",
        "colab_type": "code",
        "colab": {}
      },
      "source": [
        "from gensim.models.phrases import Phrases, Phraser"
      ],
      "execution_count": 0,
      "outputs": []
    },
    {
      "cell_type": "code",
      "metadata": {
        "id": "7rY-Lpp4t3Eu",
        "colab_type": "code",
        "colab": {}
      },
      "source": [
        "def phr(words):\n",
        "  phrases = Phrases([words], min_count=4, threshold=6)\n",
        "  bigram = Phraser(phrases)\n",
        "  joined = bigram[words]\n",
        "  joined = [word.replace('_', ' ')for word in joined]\n",
        "  return joined"
      ],
      "execution_count": 0,
      "outputs": []
    },
    {
      "cell_type": "code",
      "metadata": {
        "id": "yDEq9A-puwm5",
        "colab_type": "code",
        "colab": {}
      },
      "source": [
        "data['phrases'] = data['content_norm'].apply(phr)"
      ],
      "execution_count": 0,
      "outputs": []
    },
    {
      "cell_type": "code",
      "metadata": {
        "id": "2qofzIQqwAZ9",
        "colab_type": "code",
        "colab": {}
      },
      "source": [
        "data.to_json('With_adj_and_phrases.json', orient = 'split')"
      ],
      "execution_count": 0,
      "outputs": []
    },
    {
      "cell_type": "code",
      "metadata": {
        "id": "AYWVqhSfzW_0",
        "colab_type": "code",
        "colab": {}
      },
      "source": [
        "key_words = data['phrases'].apply(lambda x: [x[0] for x in Counter(x).most_common(20)])\n",
        "k_words = [[word for word in keyword if not morph.parse(word)[0].tag.POS == 'ADJF'][:10] for keyword in key_words]\n",
        "conc_keywords = [[matching(line) for line in k_words[i]] for i in range(len(k_words))]"
      ],
      "execution_count": 0,
      "outputs": []
    },
    {
      "cell_type": "code",
      "metadata": {
        "id": "34rTSgj9zdMl",
        "colab_type": "code",
        "outputId": "2d8c8cb7-1604-4492-a51b-9375b0c88aae",
        "colab": {
          "base_uri": "https://localhost:8080/",
          "height": 187
        }
      },
      "source": [
        "conc_keywords[89]"
      ],
      "execution_count": 0,
      "outputs": [
        {
          "output_type": "execute_result",
          "data": {
            "text/plain": [
              "['предприятие',\n",
              " 'услуга',\n",
              " 'модернизация',\n",
              " 'качество',\n",
              " 'стратегическая устойчивость',\n",
              " 'гостиничная услуга',\n",
              " 'конкурентоспособность',\n",
              " 'организация',\n",
              " 'устойчивость',\n",
              " 'условие']"
            ]
          },
          "metadata": {
            "tags": []
          },
          "execution_count": 25
        }
      ]
    },
    {
      "cell_type": "code",
      "metadata": {
        "id": "09AoGTHtxx-t",
        "colab_type": "code",
        "outputId": "cb3b5886-6405-49f7-88f1-68b9670a8b6f",
        "colab": {
          "base_uri": "https://localhost:8080/",
          "height": 85
        }
      },
      "source": [
        "evaluate(data['low_keywords'], conc_keywords)"
      ],
      "execution_count": 0,
      "outputs": [
        {
          "output_type": "stream",
          "text": [
            "Precision -  0.114\n",
            "Recall -  0.16\n",
            "F1 -  0.125\n",
            "Jaccard -  0.072\n"
          ],
          "name": "stdout"
        }
      ]
    },
    {
      "cell_type": "markdown",
      "metadata": {
        "id": "OMPTtgcetsBZ",
        "colab_type": "text"
      },
      "source": [
        "## Попытка 5\n",
        "\n",
        "Поставим тот же текст с биграммами в граф"
      ]
    },
    {
      "cell_type": "code",
      "metadata": {
        "id": "LJA4_-0a6HAq",
        "colab_type": "code",
        "colab": {}
      },
      "source": [
        "from itertools import combinations"
      ],
      "execution_count": 0,
      "outputs": []
    },
    {
      "cell_type": "code",
      "metadata": {
        "id": "Rb-K4IC_6H2U",
        "colab_type": "code",
        "colab": {}
      },
      "source": [
        "import networkx as nx"
      ],
      "execution_count": 0,
      "outputs": []
    },
    {
      "cell_type": "code",
      "metadata": {
        "id": "trj54e7s55_E",
        "colab_type": "code",
        "colab": {}
      },
      "source": [
        "def build_matrix(text, window_size=5):\n",
        "    vocab = set(text)\n",
        "    word2id = {w:i for i, w in enumerate(vocab)}\n",
        "    id2word = {i:w for i, w in enumerate(vocab)}\n",
        "    # преобразуем слова в индексы для удобства\n",
        "    ids = [word2id[word] for word in text]\n",
        "\n",
        "    # создадим матрицу совстречаемости\n",
        "    m = np.zeros((len(vocab), len(vocab)))\n",
        "\n",
        "    # пройдемся окном по всему тексту\n",
        "    for i in range(0, len(ids), window_size):\n",
        "        window = ids[i:i+window_size]\n",
        "        # добавим единичку всем парам слов в этом окне\n",
        "        for j, k in combinations(window, 2):\n",
        "            # чтобы граф был ненаправленный \n",
        "            m[j][k] += 1\n",
        "            m[k][j] += 1\n",
        "    \n",
        "    return m, id2word\n",
        "\n",
        "def some_centrality_measure(text, window_size=5, topn=5):\n",
        "    \n",
        "    matrix, id2word = build_matrix(text, window_size)\n",
        "    G = nx.from_numpy_array(matrix)\n",
        "    # тут можно поставить любую метрику\n",
        "    #\n",
        "    node2measure = dict(nx.pagerank(G))\n",
        "    \n",
        "    return [id2word[index] for index,measure in sorted(node2measure.items(), key=lambda x: -x[1])[:topn]]"
      ],
      "execution_count": 0,
      "outputs": []
    },
    {
      "cell_type": "code",
      "metadata": {
        "id": "u_8VoIMM6AXi",
        "colab_type": "code",
        "outputId": "7806cbb0-e6d0-43c5-b7ce-6fe00ed0db70",
        "colab": {
          "base_uri": "https://localhost:8080/",
          "height": 51
        }
      },
      "source": [
        "%%time\n",
        "keyword_nx = data['phrases'].apply(lambda x: some_centrality_measure(x, 10, 20))"
      ],
      "execution_count": 0,
      "outputs": [
        {
          "output_type": "stream",
          "text": [
            "CPU times: user 34min 55s, sys: 4.09 s, total: 34min 59s\n",
            "Wall time: 35min 2s\n"
          ],
          "name": "stdout"
        }
      ]
    },
    {
      "cell_type": "code",
      "metadata": {
        "id": "9RERYYAGGosM",
        "colab_type": "code",
        "outputId": "18309a8c-dc9e-4a60-fc96-5cf3b912564a",
        "colab": {
          "base_uri": "https://localhost:8080/",
          "height": 187
        }
      },
      "source": [
        "conc_keywords[222]"
      ],
      "execution_count": 0,
      "outputs": [
        {
          "output_type": "execute_result",
          "data": {
            "text/plain": [
              "['модель',\n",
              " 'грунт',\n",
              " 'уравнение',\n",
              " 'решение',\n",
              " 'анализ',\n",
              " 'классификация',\n",
              " 'атрибут',\n",
              " 'изменение знака',\n",
              " 'разработка',\n",
              " 'зона']"
            ]
          },
          "metadata": {
            "tags": []
          },
          "execution_count": 35
        }
      ]
    },
    {
      "cell_type": "code",
      "metadata": {
        "id": "Ptq9MKP0G_Dj",
        "colab_type": "code",
        "colab": {}
      },
      "source": [
        "k_words = [[word for word in keyword if not morph.parse(word)[0].tag.POS == 'ADJF'][:10] for keyword in keyword_nx]\n",
        "conc_keywords = [[matching(line) for line in k_words[i]] for i in range(len(k_words))]"
      ],
      "execution_count": 0,
      "outputs": []
    },
    {
      "cell_type": "code",
      "metadata": {
        "id": "-34MqNUzHahH",
        "colab_type": "code",
        "outputId": "50871021-78da-4817-d701-c92578adbe65",
        "colab": {
          "base_uri": "https://localhost:8080/",
          "height": 85
        }
      },
      "source": [
        "evaluate(data['low_keywords'], conc_keywords)"
      ],
      "execution_count": 0,
      "outputs": [
        {
          "output_type": "stream",
          "text": [
            "Precision -  0.112\n",
            "Recall -  0.157\n",
            "F1 -  0.122\n",
            "Jaccard -  0.07\n"
          ],
          "name": "stdout"
        }
      ]
    },
    {
      "cell_type": "markdown",
      "metadata": {
        "id": "I5gMeQVD5zmV",
        "colab_type": "text"
      },
      "source": [
        "## Попытка 6\n",
        "\n",
        "Попробуем готовый пакет summa для саммаризации и извлечения ключевых слов"
      ]
    },
    {
      "cell_type": "code",
      "metadata": {
        "id": "YSUukzXDtnzE",
        "colab_type": "code",
        "outputId": "589890d1-484a-4c8f-c181-45546be63c25",
        "colab": {
          "base_uri": "https://localhost:8080/",
          "height": 221
        }
      },
      "source": [
        "pip install summa"
      ],
      "execution_count": 0,
      "outputs": [
        {
          "output_type": "stream",
          "text": [
            "Collecting summa\n",
            "\u001b[?25l  Downloading https://files.pythonhosted.org/packages/45/3b/1c7dc435d05aef474c4137328400f1e11787b9bffab1f87a3f160c1fef54/summa-1.2.0.tar.gz (54kB)\n",
            "\r\u001b[K     |██████                          | 10kB 16.0MB/s eta 0:00:01\r\u001b[K     |████████████                    | 20kB 1.8MB/s eta 0:00:01\r\u001b[K     |██████████████████              | 30kB 2.1MB/s eta 0:00:01\r\u001b[K     |███████████████████████▉        | 40kB 1.7MB/s eta 0:00:01\r\u001b[K     |█████████████████████████████▉  | 51kB 2.0MB/s eta 0:00:01\r\u001b[K     |████████████████████████████████| 61kB 1.9MB/s \n",
            "\u001b[?25hRequirement already satisfied: scipy>=0.19 in /usr/local/lib/python3.6/dist-packages (from summa) (1.4.1)\n",
            "Requirement already satisfied: numpy>=1.13.3 in /usr/local/lib/python3.6/dist-packages (from scipy>=0.19->summa) (1.18.2)\n",
            "Building wheels for collected packages: summa\n",
            "  Building wheel for summa (setup.py) ... \u001b[?25l\u001b[?25hdone\n",
            "  Created wheel for summa: filename=summa-1.2.0-cp36-none-any.whl size=54411 sha256=06116d5a3e56dd04b72de1e95e7dbc88e73a713d9cfb4c136d34a67b406969e6\n",
            "  Stored in directory: /root/.cache/pip/wheels/6a/09/68/e2f2861c01d86407c3fa5220826ed7eed2abaa56b001be5970\n",
            "Successfully built summa\n",
            "Installing collected packages: summa\n",
            "Successfully installed summa-1.2.0\n"
          ],
          "name": "stdout"
        }
      ]
    },
    {
      "cell_type": "code",
      "metadata": {
        "id": "G0Lj_9bpthHd",
        "colab_type": "code",
        "colab": {}
      },
      "source": [
        "from summa import keywords"
      ],
      "execution_count": 0,
      "outputs": []
    },
    {
      "cell_type": "code",
      "metadata": {
        "id": "1raB2PRyEncS",
        "colab_type": "code",
        "colab": {}
      },
      "source": [
        "from tqdm import tqdm"
      ],
      "execution_count": 0,
      "outputs": []
    },
    {
      "cell_type": "code",
      "metadata": {
        "id": "W-w6ezQ4CycH",
        "colab_type": "code",
        "outputId": "e9f39de2-1630-4628-947c-89daad8cd35a",
        "colab": {
          "base_uri": "https://localhost:8080/",
          "height": 34
        }
      },
      "source": [
        "summa_keywords = []\n",
        "for text in tqdm(data['content_norm_str']):\n",
        "  try:\n",
        "    kwords = keywords.keywords(text, words=20, language='russian').split('\\n')\n",
        "    \n",
        "  except:\n",
        "    kwords = ['']\n",
        "  summa_keywords.append(kwords)"
      ],
      "execution_count": 0,
      "outputs": [
        {
          "output_type": "stream",
          "text": [
            "100%|██████████| 17266/17266 [2:07:58<00:00,  2.25it/s]\n"
          ],
          "name": "stderr"
        }
      ]
    },
    {
      "cell_type": "code",
      "metadata": {
        "id": "wc8c1tvRj-9g",
        "colab_type": "code",
        "outputId": "c273db0b-3892-42c1-cb8a-5d288fe874a5",
        "colab": {
          "base_uri": "https://localhost:8080/",
          "height": 306
        }
      },
      "source": [
        "summa_keywords[23]"
      ],
      "execution_count": 0,
      "outputs": [
        {
          "output_type": "execute_result",
          "data": {
            "text/plain": [
              "['метод',\n",
              " 'погрешность',\n",
              " 'рис',\n",
              " 'время измерение',\n",
              " 'напряжение',\n",
              " 'определение параметр',\n",
              " 'цепь мгновенный значение',\n",
              " 'определённый',\n",
              " 'который',\n",
              " 'сопротивление',\n",
              " 'выражение',\n",
              " 'образцовый',\n",
              " 'мелентьев',\n",
              " 'технический',\n",
              " 'сигнал',\n",
              " 'индуктивность',\n",
              " 'отношение']"
            ]
          },
          "metadata": {
            "tags": []
          },
          "execution_count": 37
        }
      ]
    },
    {
      "cell_type": "markdown",
      "metadata": {
        "id": "aicdHVqikHD1",
        "colab_type": "text"
      },
      "source": [
        "Удалим отдельные прилагательные"
      ]
    },
    {
      "cell_type": "code",
      "metadata": {
        "id": "nN3xTBUjkFM0",
        "colab_type": "code",
        "colab": {}
      },
      "source": [
        "s_words = [[word for word in keyword if not morph.parse(word)[0].tag.POS == 'ADJF'] for keyword in summa_keywords]"
      ],
      "execution_count": 0,
      "outputs": []
    },
    {
      "cell_type": "markdown",
      "metadata": {
        "id": "9M7YxbCtk39K",
        "colab_type": "text"
      },
      "source": [
        "Согласуем словосочетания"
      ]
    },
    {
      "cell_type": "code",
      "metadata": {
        "id": "sZ_pUiZsk3R0",
        "colab_type": "code",
        "colab": {}
      },
      "source": [
        "t_words = [[matching(line) for line in s_words[i]][:10] for i in range(len(s_words))]"
      ],
      "execution_count": 0,
      "outputs": []
    },
    {
      "cell_type": "code",
      "metadata": {
        "id": "-fRdTVQ5lY8F",
        "colab_type": "code",
        "outputId": "3604a1e9-c103-4459-8ed1-751445184481",
        "colab": {
          "base_uri": "https://localhost:8080/",
          "height": 85
        }
      },
      "source": [
        "evaluate(data['low_keywords'], t_words)"
      ],
      "execution_count": 0,
      "outputs": [
        {
          "output_type": "stream",
          "text": [
            "Precision -  0.072\n",
            "Recall -  0.098\n",
            "F1 -  0.077\n",
            "Jaccard -  0.043\n"
          ],
          "name": "stdout"
        }
      ]
    },
    {
      "cell_type": "markdown",
      "metadata": {
        "id": "zeEr5gkVmLK9",
        "colab_type": "text"
      },
      "source": [
        "Получилось хуже, чем бейзлайн("
      ]
    },
    {
      "cell_type": "markdown",
      "metadata": {
        "id": "SOajq2atmVBb",
        "colab_type": "text"
      },
      "source": [
        "## Попытка 7\n",
        "\n",
        "Попробуем другую метрику для определения центральности"
      ]
    },
    {
      "cell_type": "code",
      "metadata": {
        "id": "OyKAmfijuQbq",
        "colab_type": "code",
        "colab": {}
      },
      "source": [
        "def other_centrality_measure(text, window_size=5, topn=5):\n",
        "    \n",
        "    matrix, id2word = build_matrix(text, window_size)\n",
        "    G = nx.from_numpy_array(matrix)\n",
        "    # тут можно поставить любую метрику\n",
        "    #\n",
        "    node2measure = dict(nx.load_centrality(G))\n",
        "    \n",
        "    return [id2word[index] for index,measure in sorted(node2measure.items(), key=lambda x: -x[1])[:topn]]"
      ],
      "execution_count": 0,
      "outputs": []
    },
    {
      "cell_type": "code",
      "metadata": {
        "id": "BkEfX4C_vKSK",
        "colab_type": "code",
        "outputId": "24f30e08-2e77-4394-d96d-9fe81d0be784",
        "colab": {
          "base_uri": "https://localhost:8080/",
          "height": 51
        }
      },
      "source": [
        "%%time\n",
        "keyword_nx = data['phrases'][:10].apply(lambda x: some_centrality_measure(x, 10, 20))"
      ],
      "execution_count": 0,
      "outputs": [
        {
          "output_type": "stream",
          "text": [
            "CPU times: user 2.77 s, sys: 24.9 ms, total: 2.79 s\n",
            "Wall time: 2.8 s\n"
          ],
          "name": "stdout"
        }
      ]
    },
    {
      "cell_type": "code",
      "metadata": {
        "id": "lGNRBJP3us7G",
        "colab_type": "code",
        "outputId": "368c9d0b-6799-4e57-ceda-61f3fad3abad",
        "colab": {
          "base_uri": "https://localhost:8080/",
          "height": 51
        }
      },
      "source": [
        "%%time\n",
        "keyword_nx2 = data['phrases'].apply(lambda x: other_centrality_measure(x, 10, 20))"
      ],
      "execution_count": 0,
      "outputs": [
        {
          "output_type": "stream",
          "text": [
            "CPU times: user 3h 12min 4s, sys: 3.94 s, total: 3h 12min 8s\n",
            "Wall time: 3h 12min 32s\n"
          ],
          "name": "stdout"
        }
      ]
    },
    {
      "cell_type": "code",
      "metadata": {
        "id": "kssooWtDqX2G",
        "colab_type": "code",
        "colab": {}
      },
      "source": [
        "k_words = [[word for word in keyword if not morph.parse(word)[0].tag.POS == 'ADJF'][:10] for keyword in keyword_nx2]\n",
        "conc_keywords = [[matching(line) for line in k_words[i]] for i in range(len(k_words))]"
      ],
      "execution_count": 0,
      "outputs": []
    },
    {
      "cell_type": "code",
      "metadata": {
        "id": "Es9d97BYvfg_",
        "colab_type": "code",
        "outputId": "c5220550-011e-48df-97f3-55f67550aacb",
        "colab": {
          "base_uri": "https://localhost:8080/",
          "height": 85
        }
      },
      "source": [
        "evaluate(data['low_keywords'], conc_keywords)"
      ],
      "execution_count": 0,
      "outputs": [
        {
          "output_type": "stream",
          "text": [
            "Precision -  0.10592\n",
            "Recall -  0.14832\n",
            "F1 -  0.11536\n",
            "Jaccard -  0.0659\n"
          ],
          "name": "stdout"
        }
      ]
    },
    {
      "cell_type": "markdown",
      "metadata": {
        "id": "eAc31Czrt56-",
        "colab_type": "text"
      },
      "source": [
        "Больше чем бейзлайн, но меньше чем мы получали при другой метрике"
      ]
    },
    {
      "cell_type": "markdown",
      "metadata": {
        "id": "d-iTalC_bLIC",
        "colab_type": "text"
      },
      "source": [
        "## Попытка 8\n",
        "Попробуем обычный counter на существительных"
      ]
    },
    {
      "cell_type": "code",
      "metadata": {
        "id": "3FVeMgWMbp_Y",
        "colab_type": "code",
        "colab": {
          "base_uri": "https://localhost:8080/",
          "height": 85
        },
        "outputId": "d2720d99-887d-4109-db56-c96e828b608f"
      },
      "source": [
        "evaluate(data['low_keywords'], data['content_norm'].apply(lambda x: [x[0] for x in Counter(x).most_common(10)]))"
      ],
      "execution_count": 13,
      "outputs": [
        {
          "output_type": "stream",
          "text": [
            "Precision -  0.10751\n",
            "Recall -  0.14691\n",
            "F1 -  0.11609\n",
            "Jaccard -  0.06686\n"
          ],
          "name": "stdout"
        }
      ]
    }
  ]
}