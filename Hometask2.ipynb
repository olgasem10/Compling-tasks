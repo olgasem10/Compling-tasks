{
  "nbformat": 4,
  "nbformat_minor": 0,
  "metadata": {
    "colab": {
      "name": "Hometask2.ipynb",
      "provenance": [],
      "collapsed_sections": [],
      "machine_shape": "hm",
      "include_colab_link": true
    },
    "kernelspec": {
      "name": "python3",
      "display_name": "Python 3"
    }
  },
  "cells": [
    {
      "cell_type": "markdown",
      "metadata": {
        "id": "view-in-github",
        "colab_type": "text"
      },
      "source": [
        "<a href=\"https://colab.research.google.com/github/olgasem10/Compling-tasks/blob/master/Hometask2.ipynb\" target=\"_parent\"><img src=\"https://colab.research.google.com/assets/colab-badge.svg\" alt=\"Open In Colab\"/></a>"
      ]
    },
    {
      "cell_type": "markdown",
      "metadata": {
        "id": "YGsWozQtgfKC",
        "colab_type": "text"
      },
      "source": [
        "# Триграммная модель\n"
      ]
    },
    {
      "cell_type": "code",
      "metadata": {
        "id": "4lSmeMqWbSe-",
        "colab_type": "code",
        "outputId": "cccc85a8-3033-4bd4-b8c1-c5ed2fc5f5c7",
        "colab": {
          "base_uri": "https://localhost:8080/",
          "height": 224
        }
      },
      "source": [
        "!wget https://raw.githubusercontent.com/olgasem10/Compling-tasks/master/%D0%91%D0%B5%D0%BB%D0%B0%D1%8F%20%D0%B3%D0%B2%D0%B0%D1%80%D0%B4%D0%B8%D1%8F.txt"
      ],
      "execution_count": 132,
      "outputs": [
        {
          "output_type": "stream",
          "text": [
            "--2019-10-22 12:57:56--  https://raw.githubusercontent.com/olgasem10/Compling-tasks/master/%D0%91%D0%B5%D0%BB%D0%B0%D1%8F%20%D0%B3%D0%B2%D0%B0%D1%80%D0%B4%D0%B8%D1%8F.txt\n",
            "Resolving raw.githubusercontent.com (raw.githubusercontent.com)... 151.101.0.133, 151.101.64.133, 151.101.128.133, ...\n",
            "Connecting to raw.githubusercontent.com (raw.githubusercontent.com)|151.101.0.133|:443... connected.\n",
            "HTTP request sent, awaiting response... 200 OK\n",
            "Length: 888054 (867K) [text/plain]\n",
            "Saving to: ‘Белая гвардия.txt’\n",
            "\n",
            "\rБелая гвардия.txt     0%[                    ]       0  --.-KB/s               \rБелая гвардия.txt   100%[===================>] 867.24K  --.-KB/s    in 0.05s   \n",
            "\n",
            "2019-10-22 12:57:56 (16.5 MB/s) - ‘Белая гвардия.txt’ saved [888054/888054]\n",
            "\n"
          ],
          "name": "stdout"
        }
      ]
    },
    {
      "cell_type": "code",
      "metadata": {
        "id": "jwvu6YzppK61",
        "colab_type": "code",
        "colab": {}
      },
      "source": [
        "bulgakov = open('Белая гвардия.txt').read()"
      ],
      "execution_count": 0,
      "outputs": []
    },
    {
      "cell_type": "markdown",
      "metadata": {
        "id": "nK12xZNNc2Wm",
        "colab_type": "text"
      },
      "source": [
        "Задаем функцию для нормализации:"
      ]
    },
    {
      "cell_type": "code",
      "metadata": {
        "id": "tB_fzsonc6Q9",
        "colab_type": "code",
        "colab": {}
      },
      "source": [
        "from string import punctuation\n",
        "punctuation += '«»—–…“”'\n",
        "\n",
        "\n",
        "def normalize(text):\n",
        "    normalized_text = [word.strip(punctuation) for word in text.lower().split()]\n",
        "    normalized_text = [word for word in normalized_text if word]\n",
        "    return normalized_text"
      ],
      "execution_count": 0,
      "outputs": []
    },
    {
      "cell_type": "markdown",
      "metadata": {
        "id": "rrPSA5kScLiP",
        "colab_type": "text"
      },
      "source": [
        "Задаем функцию для выявления нграмм:"
      ]
    },
    {
      "cell_type": "code",
      "metadata": {
        "id": "Ol5yc6KPcKn-",
        "colab_type": "code",
        "colab": {}
      },
      "source": [
        "def ngrammer(tokens, n):\n",
        "    ngrams = []\n",
        "    for i in range(0,len(tokens)-n+1):\n",
        "        ngrams.append(' '.join(tokens[i:i+n]))\n",
        "    return ngrams"
      ],
      "execution_count": 0,
      "outputs": []
    },
    {
      "cell_type": "markdown",
      "metadata": {
        "id": "Itod_hWpcdMd",
        "colab_type": "text"
      },
      "source": [
        "Делим текст на предложения и добавляем теги начала и конца предложения:"
      ]
    },
    {
      "cell_type": "code",
      "metadata": {
        "id": "a3oWsX2aci4m",
        "colab_type": "code",
        "colab": {}
      },
      "source": [
        "import nltk\n",
        "nltk.download('punkt')\n",
        "from nltk.tokenize import sent_tokenize\n",
        "sentences = [['<start>'] + normalize(text) + ['<end>'] for text in sent_tokenize(bulgakov)]\n"
      ],
      "execution_count": 0,
      "outputs": []
    },
    {
      "cell_type": "markdown",
      "metadata": {
        "id": "uvL1xAAidlqh",
        "colab_type": "text"
      },
      "source": [
        "Создаем списки униграм, биграм и триграм:"
      ]
    },
    {
      "cell_type": "code",
      "metadata": {
        "id": "pqxt8-cid8BU",
        "colab_type": "code",
        "colab": {}
      },
      "source": [
        "from collections import Counter"
      ],
      "execution_count": 0,
      "outputs": []
    },
    {
      "cell_type": "code",
      "metadata": {
        "id": "YY2-cJStdrkW",
        "colab_type": "code",
        "colab": {}
      },
      "source": [
        "unigrams = Counter()\n",
        "bigrams = Counter()\n",
        "trigrams = Counter()\n",
        "for sentence in sentences:\n",
        "    unigrams.update(sentence)\n",
        "    bigrams.update(ngrammer(sentence, 2))\n",
        "    trigrams.update(ngrammer(sentence, 3))"
      ],
      "execution_count": 0,
      "outputs": []
    },
    {
      "cell_type": "markdown",
      "metadata": {
        "id": "aNF9mszPiCCV",
        "colab_type": "text"
      },
      "source": [
        "Чтобы в дальнейшем сравнить результаты работы биграммной и триграммной модели, сначала реализуем биграммную модель"
      ]
    },
    {
      "cell_type": "markdown",
      "metadata": {
        "id": "2ljUjOw9iQK1",
        "colab_type": "text"
      },
      "source": [
        "Создаем матрицу вероятностей перейти из одного слова в другое:"
      ]
    },
    {
      "cell_type": "code",
      "metadata": {
        "id": "RxhEsv0Fe-Cp",
        "colab_type": "code",
        "colab": {}
      },
      "source": [
        "import numpy as np"
      ],
      "execution_count": 0,
      "outputs": []
    },
    {
      "cell_type": "code",
      "metadata": {
        "id": "SeByE_O7eUgu",
        "colab_type": "code",
        "colab": {}
      },
      "source": [
        "matrix = np.zeros((len(unigrams), \n",
        "                   len(unigrams)))\n",
        "id2word = list(unigrams)\n",
        "word2id = {word:i for i, word in enumerate(id2word)}\n",
        "\n",
        "\n",
        "for ngram in bigrams:\n",
        "    word1, word2 = ngram.split()\n",
        "    matrix[word2id[word1]][word2id[word2]] = (bigrams[ngram]/unigrams[word1])"
      ],
      "execution_count": 0,
      "outputs": []
    },
    {
      "cell_type": "markdown",
      "metadata": {
        "id": "YRhAZhWefA0q",
        "colab_type": "text"
      },
      "source": [
        "Задаем генерирующую функцию:"
      ]
    },
    {
      "cell_type": "code",
      "metadata": {
        "id": "abXZ4MKFfH5a",
        "colab_type": "code",
        "colab": {}
      },
      "source": [
        "def generate(matrix, id2word, word2id, n=100, start='<start>'):\n",
        "    text = []\n",
        "    current_idx = word2id[start]\n",
        "    \n",
        "    for i in range(n):\n",
        "        \n",
        "        chosen = np.random.choice(matrix.shape[1], p=matrix[current_idx])\n",
        "        text.append(id2word[chosen])\n",
        "        \n",
        "        if id2word[chosen] == '<end>':\n",
        "            chosen = word2id['<start>']\n",
        "        current_idx = chosen\n",
        "    \n",
        "    return ' '.join(text)"
      ],
      "execution_count": 0,
      "outputs": []
    },
    {
      "cell_type": "markdown",
      "metadata": {
        "id": "PMRlOX7sfTOB",
        "colab_type": "text"
      },
      "source": [
        "Генерируем текст:"
      ]
    },
    {
      "cell_type": "code",
      "metadata": {
        "id": "-SK2WxF0fVaz",
        "colab_type": "code",
        "outputId": "05ec5578-2595-4f61-fc04-92e19b3c3564",
        "colab": {
          "base_uri": "https://localhost:8080/",
          "height": 238
        }
      },
      "source": [
        "print(generate(matrix, id2word, word2id).replace('<end>', '\\n'))"
      ],
      "execution_count": 142,
      "outputs": [
        {
          "output_type": "stream",
          "text": [
            "огне-е-е-е-е-е-ем зазвенело в тысяча человек водрузивший сверх серого неба продырявленного черным и слабо но вся суть \n",
            " за его \n",
            " дай мне туда поехать \n",
            " студзинский залился густейшей краской \n",
            " в руки и сон стал \n",
            " паровоз нес и задохнешься \n",
            " зачем это доктор алексей турбин прищурившись огляделся и желтые длинные пульманы окна \n",
            " братики сестрички обратите внимание на лариосиковой стороне от анюты николка \n",
            " вовсе \n",
            " грудь \n",
            " зачем турбин больше не слушал \n",
            " с утра сегодня что ты боже мой \n",
            " формируется армия которая взрывами доносилась откуда-то со времен крестовых походов службы и не подвергать опасности себя вину\n"
          ],
          "name": "stdout"
        }
      ]
    },
    {
      "cell_type": "markdown",
      "metadata": {
        "id": "RHfj_p0eioS2",
        "colab_type": "text"
      },
      "source": [
        "Теперь реализуем триграммную модель"
      ]
    },
    {
      "cell_type": "markdown",
      "metadata": {
        "id": "oVJteOzZirmd",
        "colab_type": "text"
      },
      "source": [
        "Создаем матрицу вероятностей перейти от биграммы к следующему слову"
      ]
    },
    {
      "cell_type": "code",
      "metadata": {
        "id": "kSQh6CO9ix-0",
        "colab_type": "code",
        "colab": {}
      },
      "source": [
        "trimatrix = np.zeros((len(bigrams), len(unigrams)))\n",
        "id2word = list(unigrams)\n",
        "word2id = {word:i for i, word in enumerate(id2word)}\n",
        "id2bigram = list(bigrams)\n",
        "bigram2id = {bigram:i for i, bigram in enumerate(id2bigram)}\n",
        "\n",
        "for ngram in trigrams:\n",
        "    word1, word2, word3 = ngram.split()\n",
        "    bigram = word1 + ' ' + word2\n",
        "    trimatrix[bigram2id[bigram]][word2id[word3]] = (trigrams[ngram]/bigrams[bigram]) "
      ],
      "execution_count": 0,
      "outputs": []
    },
    {
      "cell_type": "markdown",
      "metadata": {
        "id": "mgaRxtU4Llrh",
        "colab_type": "text"
      },
      "source": [
        "Отдельно задаем матрицу вероятностей перейти из тега start к следующему слову:"
      ]
    },
    {
      "cell_type": "code",
      "metadata": {
        "id": "HYVTH97x2hdW",
        "colab_type": "code",
        "colab": {}
      },
      "source": [
        "startmatrix = np.zeros((1, len(unigrams)))\n",
        "id2word = list(unigrams)\n",
        "word2id = {word:i for i, word in enumerate(id2word)}\n",
        "\n",
        "\n",
        "for ngram in bigrams:\n",
        "    word1, word2 = ngram.split()\n",
        "    if word1 == '<start>':\n",
        "        startmatrix[word2id[word1]][word2id[word2]] = (bigrams[ngram]/unigrams[word1])"
      ],
      "execution_count": 0,
      "outputs": []
    },
    {
      "cell_type": "markdown",
      "metadata": {
        "id": "jlHag1NMt3GC",
        "colab_type": "text"
      },
      "source": [
        "Задаем генерирующую функцию:"
      ]
    },
    {
      "cell_type": "code",
      "metadata": {
        "id": "ulfwVNj3t6z0",
        "colab_type": "code",
        "colab": {}
      },
      "source": [
        "def trigenerate(trimatrix, startmatrix, id2word, word2id, bigram2id, n=100, start='<start>'):\n",
        "    text = []\n",
        "    previous_idx = 0\n",
        "    last_idx = word2id[start]\n",
        "    \n",
        "    for i in range(n):\n",
        "        if last_idx == word2id[start]:\n",
        "            chosen = np.random.choice(startmatrix.shape[1], p=startmatrix[last_idx])\n",
        "            text.append(id2word[chosen])\n",
        "            previous_idx = last_idx\n",
        "            last_idx = chosen\n",
        "        current_bigram = id2word[previous_idx] + ' ' + id2word[last_idx]\n",
        "        current_idx = bigram2id[current_bigram]\n",
        "        chosen = np.random.choice(trimatrix.shape[1], p=trimatrix[current_idx])\n",
        "        text.append(id2word[chosen])\n",
        "        if id2word[chosen] == '<end>':\n",
        "            chosen = word2id['<start>']\n",
        "        previous_idx = last_idx\n",
        "        last_idx = chosen\n",
        "    \n",
        "    return ' '.join(text)"
      ],
      "execution_count": 0,
      "outputs": []
    },
    {
      "cell_type": "code",
      "metadata": {
        "id": "aR0_tewn65wl",
        "colab_type": "code",
        "outputId": "72277764-d386-46eb-8294-5d5762184897",
        "colab": {
          "base_uri": "https://localhost:8080/",
          "height": 224
        }
      },
      "source": [
        "print(trigenerate(trimatrix, startmatrix, id2word, word2id, bigram2id).replace('<end>', '\\n'))"
      ],
      "execution_count": 147,
      "outputs": [
        {
          "output_type": "stream",
          "text": [
            "и они с красными бантами \n",
            " так вот спрашиваю как по-украински кот \n",
            " и в частности машинным маслом и керосином наилучшим образом были смазаны и най-турсов кольт и вскрытая кобура била и хлопала его по спине николки и лариосика бесшумно шаркавших накануне \n",
            " один маленький укладистый и действительно в высшей степени живые и смышленые глаза смотрели явно устало но внимательно \n",
            " когда он лучше меня знает \n",
            " как это страшно они самое меня чуть не застрелили \n",
            " настала тишина и только тут поморгав глазами заметил погоны турбина \n",
            " большевик \n",
            " брынь раненый говорил ласково и утвердительно закачал головой \n",
            " а где же сенегальцев роты \n",
            " убедившись что улица окончательно затихла не\n"
          ],
          "name": "stdout"
        }
      ]
    },
    {
      "cell_type": "markdown",
      "metadata": {
        "id": "XjSBWtX8qtUM",
        "colab_type": "text"
      },
      "source": [
        "Сравнивая результаты работы биграммной и триграммной моделей, можно отметить, что тексты, сгенерированные с помощью триграмм в целом выглядят более осмысленными. В основном это видимо достигается за счет того, что триграммная модель, опираясь на два предыдущих слова, а не на одно, способна воспроизводить более протяженные отрывки из оригинального текста, чем это удается биграммной модели"
      ]
    },
    {
      "cell_type": "markdown",
      "metadata": {
        "id": "nADeGVcUqtuI",
        "colab_type": "text"
      },
      "source": [
        "# Byte-pair-encoding"
      ]
    },
    {
      "cell_type": "code",
      "metadata": {
        "id": "TQjJ3Fl8zk3z",
        "colab_type": "code",
        "outputId": "816cb360-53a6-4e4e-9f3c-0b41ed9d0a81",
        "colab": {
          "base_uri": "https://localhost:8080/",
          "height": 204
        }
      },
      "source": [
        "!wget https://raw.githubusercontent.com/olgasem10/Compling-tasks/master/%D0%A7%D0%B5%D1%80%D0%B5%D0%BF%D0%B0%D1%85%D0%B0.txt"
      ],
      "execution_count": 2,
      "outputs": [
        {
          "output_type": "stream",
          "text": [
            "--2019-10-22 10:49:08--  https://raw.githubusercontent.com/olgasem10/Compling-tasks/master/%D0%A7%D0%B5%D1%80%D0%B5%D0%BF%D0%B0%D1%85%D0%B0.txt\n",
            "Resolving raw.githubusercontent.com (raw.githubusercontent.com)... 151.101.0.133, 151.101.64.133, 151.101.128.133, ...\n",
            "Connecting to raw.githubusercontent.com (raw.githubusercontent.com)|151.101.0.133|:443... connected.\n",
            "HTTP request sent, awaiting response... 200 OK\n",
            "Length: 4132 (4.0K) [text/plain]\n",
            "Saving to: ‘Черепаха.txt’\n",
            "\n",
            "\rЧерепаха.txt          0%[                    ]       0  --.-KB/s               \rЧерепаха.txt        100%[===================>]   4.04K  --.-KB/s    in 0s      \n",
            "\n",
            "2019-10-22 10:49:09 (70.1 MB/s) - ‘Черепаха.txt’ saved [4132/4132]\n",
            "\n"
          ],
          "name": "stdout"
        }
      ]
    },
    {
      "cell_type": "code",
      "metadata": {
        "id": "fJsZ9eSH2MiM",
        "colab_type": "code",
        "outputId": "f45cfdd0-95a3-4222-fc36-78e7b8bde897",
        "colab": {
          "base_uri": "https://localhost:8080/",
          "height": 54
        }
      },
      "source": [
        "text = open('Черепаха.txt').read()\n",
        "text"
      ],
      "execution_count": 3,
      "outputs": [
        {
          "output_type": "execute_result",
          "data": {
            "text/plain": [
              "'Редкая морская черепаха появилась в «Москвариуме» на ВДНХ.\\nУвидеть черепаху в общем аквариуме можно ежедневно. А по понедельникам, средам и пятницам гости смогут также понаблюдать за ее кормлением.\\nГости «Москвариума» на ВДНХ увидят редкую морскую черепаху бисса, занесенную в Международную Красную книгу.\\n\\nСамец был передан одним из столичных зоомагазинов. Посетители уже назвали его Барбарис.\\n\\n«Символично, что именно во Всемирный день черепахи в главном морском аквариуме появился новый обитатель из редкого рода морских черепах бисса, — рассказал ихтиолог океанариума Ирина Мейнцер. — В “Москвариуме” Барбарис получил новый дом — большой морской аквариум, где он может расти и развиваться в самой благоприятной среде».\\n\\nЧерепаха была ослаблена, ихтиологи помогали ей набрать вес и укрепить иммунитет, прежде чем выпустить в общий аквариум. В неделю Барбарис съедает около 3,5 килограмма корма. Его излюбленное лакомство — кальмары, а также креветки и рыба. Сейчас вес черепахи увеличился с двух с половиной до шести килограммов, длина панциря составляет 40 сантиметров.\\n\\nСвой пятый день рождения самец отметит в просторном аквариуме площадью более 360 квадратных метров. Здесь также находятся более 400 обитателей: песчаные, зебровые, черноперые и белоперые акулы, акулий и гитарный скаты, а также многочисленные рыбы, в том числе гигантский групер и мурена.\\n\\nПосетители «Москвариума» могут ежедневно любоваться черепахой бисса, а также наблюдать за ее кормлением в 14:00 по понедельникам, средам и пятницам. За время адаптации самец привык к людям — радостно плывет навстречу ихтиологам и водолазам, а также очень любит, когда ему чешут панцирь.\\n\\nБисса относится к морским черепахам, единственным представителям рода Eretmochelys. Их отличает панцирь сердцевидной формы с ярким пятнистым рисунком. Длина тела может достигать 90 сантиметров, а масса — 60 килограммов. В природе ареал обитания черепах распространяется от умеренных широт Северного полушария (район Новой Шотландии, Великобритании, Черного и Японского морей) до умеренных широт Южного (юг Африки, Тасмания, Новая Зеландия). В последние годы численность мировой популяции черепах сильно сократилась из-за очень долгого периода взросления, браконьерства и загрязнения окружающей среды.\\n\\n\\n'"
            ]
          },
          "metadata": {
            "tags": []
          },
          "execution_count": 3
        }
      ]
    },
    {
      "cell_type": "code",
      "metadata": {
        "id": "o1xbYwC02C-q",
        "colab_type": "code",
        "colab": {}
      },
      "source": [
        "import nltk\n",
        "from nltk.tokenize import sent_tokenize"
      ],
      "execution_count": 0,
      "outputs": []
    },
    {
      "cell_type": "code",
      "metadata": {
        "id": "_LYMioZ22Ipc",
        "colab_type": "code",
        "outputId": "aa65e087-f845-4865-b3fb-f3984ae2e037",
        "colab": {
          "base_uri": "https://localhost:8080/",
          "height": 394
        }
      },
      "source": [
        "sentences=sent_tokenize(text, 'russian')\n",
        "sentences"
      ],
      "execution_count": 148,
      "outputs": [
        {
          "output_type": "execute_result",
          "data": {
            "text/plain": [
              "['Редкая морская черепаха появилась в «Москвариуме» на ВДНХ.',\n",
              " 'Увидеть черепаху в общем аквариуме можно ежедневно.',\n",
              " 'А по понедельникам, средам и пятницам гости смогут также понаблюдать за ее кормлением.',\n",
              " 'Гости «Москвариума» на ВДНХ увидят редкую морскую черепаху бисса, занесенную в Международную Красную книгу.',\n",
              " 'Самец был передан одним из столичных зоомагазинов.',\n",
              " 'Посетители уже назвали его Барбарис.',\n",
              " '«Символично, что именно во Всемирный день черепахи в главном морском аквариуме появился новый обитатель из редкого рода морских черепах бисса, — рассказал ихтиолог океанариума Ирина Мейнцер.',\n",
              " '— В “Москвариуме” Барбарис получил новый дом — большой морской аквариум, где он может расти и развиваться в самой благоприятной среде».',\n",
              " 'Черепаха была ослаблена, ихтиологи помогали ей набрать вес и укрепить иммунитет, прежде чем выпустить в общий аквариум.',\n",
              " 'В неделю Барбарис съедает около 3,5 килограмма корма.',\n",
              " 'Его излюбленное лакомство — кальмары, а также креветки и рыба.',\n",
              " 'Сейчас вес черепахи увеличился с двух с половиной до шести килограммов, длина панциря составляет 40 сантиметров.',\n",
              " 'Свой пятый день рождения самец отметит в просторном аквариуме площадью более 360 квадратных метров.',\n",
              " 'Здесь также находятся более 400 обитателей: песчаные, зебровые, черноперые и белоперые акулы, акулий и гитарный скаты, а также многочисленные рыбы, в том числе гигантский групер и мурена.',\n",
              " 'Посетители «Москвариума» могут ежедневно любоваться черепахой бисса, а также наблюдать за ее кормлением в 14:00 по понедельникам, средам и пятницам.',\n",
              " 'За время адаптации самец привык к людям — радостно плывет навстречу ихтиологам и водолазам, а также очень любит, когда ему чешут панцирь.',\n",
              " 'Бисса относится к морским черепахам, единственным представителям рода Eretmochelys.',\n",
              " 'Их отличает панцирь сердцевидной формы с ярким пятнистым рисунком.',\n",
              " 'Длина тела может достигать 90 сантиметров, а масса — 60 килограммов.',\n",
              " 'В природе ареал обитания черепах распространяется от умеренных широт Северного полушария (район Новой Шотландии, Великобритании, Черного и Японского морей) до умеренных широт Южного (юг Африки, Тасмания, Новая Зеландия).',\n",
              " 'В последние годы численность мировой популяции черепах сильно сократилась из-за очень долгого периода взросления, браконьерства и загрязнения окружающей среды.']"
            ]
          },
          "metadata": {
            "tags": []
          },
          "execution_count": 148
        }
      ]
    },
    {
      "cell_type": "markdown",
      "metadata": {
        "id": "vwKbKRcmmrcx",
        "colab_type": "text"
      },
      "source": [
        "Разделим полученные предложения на символы, удалим знаки препинания"
      ]
    },
    {
      "cell_type": "code",
      "metadata": {
        "id": "2gyu8oYjFPyo",
        "colab_type": "code",
        "colab": {}
      },
      "source": [
        "symbols = [list(sentence.lower()) for sentence in sentences]\n",
        "clean_symbols = []\n",
        "for sent in symbols:\n",
        "  a = [symbol.strip(punctuation) for symbol in sent]\n",
        "  a = [symbol for symbol in a if symbol]\n",
        "  clean_symbols.append(a)"
      ],
      "execution_count": 0,
      "outputs": []
    },
    {
      "cell_type": "code",
      "metadata": {
        "id": "qsDFAwyc3rv-",
        "colab_type": "code",
        "colab": {}
      },
      "source": [
        "import gensim"
      ],
      "execution_count": 0,
      "outputs": []
    },
    {
      "cell_type": "markdown",
      "metadata": {
        "id": "h5zGgpkrHqHU",
        "colab_type": "text"
      },
      "source": [
        "Первая итерация"
      ]
    },
    {
      "cell_type": "code",
      "metadata": {
        "id": "lzp_iaMZ3vFV",
        "colab_type": "code",
        "colab": {}
      },
      "source": [
        "ph = gensim.models.Phrases(clean_symbols, min_count=1, threshold=1)\n",
        "p = gensim.models.phrases.Phraser(ph)"
      ],
      "execution_count": 0,
      "outputs": []
    },
    {
      "cell_type": "markdown",
      "metadata": {
        "id": "Oi94tvjlnt_O",
        "colab_type": "text"
      },
      "source": [
        "Зададим функцию, с помощью которой можно будет отслеживать, какие сочетания объединились на каждом шаге"
      ]
    },
    {
      "cell_type": "code",
      "metadata": {
        "id": "JGx-05WeP9ED",
        "colab_type": "code",
        "colab": {}
      },
      "source": [
        "def add(mylist, n):\n",
        "  list1 = []\n",
        "  for sent in mylist:\n",
        "    list2 = [s for s in sent if len(s) >= n]\n",
        "    list1.extend(list2)\n",
        "  list3 = []\n",
        "  for i in list1:\n",
        "        if i not in list3:\n",
        "          list3.append(i)\n",
        "  return list3"
      ],
      "execution_count": 0,
      "outputs": []
    },
    {
      "cell_type": "markdown",
      "metadata": {
        "id": "SA1ntvDlV82G",
        "colab_type": "text"
      },
      "source": [
        "После первого шага объединились следующие сочетания букв:"
      ]
    },
    {
      "cell_type": "code",
      "metadata": {
        "id": "ET-d4ey6W5y4",
        "colab_type": "code",
        "colab": {
          "base_uri": "https://localhost:8080/",
          "height": 357
        },
        "outputId": "b93a8d44-c01e-498c-814e-da523f9d71bf"
      },
      "source": [
        "add(p[clean_symbols], 2)[:20]"
      ],
      "execution_count": 94,
      "outputs": [
        {
          "output_type": "execute_result",
          "data": {
            "text/plain": [
              "['с_к',\n",
              " 'ч_е',\n",
              " 'а_х',\n",
              " 'у_м',\n",
              " 'т_ь',\n",
              " 'б_щ',\n",
              " 'к_в',\n",
              " 'ж_е',\n",
              " 'л_ь',\n",
              " 'г_о',\n",
              " 'о_г',\n",
              " 'к_ж',\n",
              " 'л_ю',\n",
              " 'у_ю',\n",
              " 'ж_д',\n",
              " 'б_ы',\n",
              " 'н_ы',\n",
              " 'й_ ',\n",
              " 'в_ы',\n",
              " 'н_ц']"
            ]
          },
          "metadata": {
            "tags": []
          },
          "execution_count": 94
        }
      ]
    },
    {
      "cell_type": "markdown",
      "metadata": {
        "id": "1syEJ06QHsFO",
        "colab_type": "text"
      },
      "source": [
        "Вторая итерация"
      ]
    },
    {
      "cell_type": "code",
      "metadata": {
        "id": "44tTfe_F32iB",
        "colab_type": "code",
        "colab": {
          "base_uri": "https://localhost:8080/",
          "height": 357
        },
        "outputId": "cf6275b7-c2ff-4f1d-d5e9-36883c426c00"
      },
      "source": [
        "ph2 = gensim.models.Phrases(p[clean_symbols], min_count=1, threshold=1)\n",
        "p2 = gensim.models.phrases.Phraser(ph2)\n",
        "add(p2[p[clean_symbols]], 4)[:20]"
      ],
      "execution_count": 120,
      "outputs": [
        {
          "output_type": "execute_result",
          "data": {
            "text/plain": [
              "['р_с_к',\n",
              " ' _ч_е',\n",
              " 'п_а_х',\n",
              " 'с_к_в',\n",
              " 'и_у_м',\n",
              " 'т_ь_ ',\n",
              " 'ч_е_р',\n",
              " 'о_б_щ',\n",
              " 'а_к_в',\n",
              " 'ж_е_д',\n",
              " 'е_л_ь',\n",
              " 'о_г_у',\n",
              " 'а_к_ж',\n",
              " 'б_л_ю',\n",
              " 'а_т_ь',\n",
              " 'у_ю_ ',\n",
              " 'н_у_ю',\n",
              " 'е_ж_д',\n",
              " 'б_ы_л',\n",
              " 'н_ы_х']"
            ]
          },
          "metadata": {
            "tags": []
          },
          "execution_count": 120
        }
      ]
    },
    {
      "cell_type": "markdown",
      "metadata": {
        "id": "XBSqN_hDIKoM",
        "colab_type": "text"
      },
      "source": [
        "Третья итерация"
      ]
    },
    {
      "cell_type": "code",
      "metadata": {
        "id": "P254Rsz1IMVk",
        "colab_type": "code",
        "colab": {
          "base_uri": "https://localhost:8080/",
          "height": 357
        },
        "outputId": "e3132732-ff39-42ea-955e-ede19ba2d8e8"
      },
      "source": [
        "ph3 = gensim.models.Phrases(p2[p[clean_symbols]], min_count=1, threshold=1)\n",
        "p3 = gensim.models.phrases.Phraser(ph3)\n",
        "add(p3[p2[p[clean_symbols]]], 6)[:20]"
      ],
      "execution_count": 127,
      "outputs": [
        {
          "output_type": "execute_result",
          "data": {
            "text/plain": [
              "['я_ _ч_е',\n",
              " 'с_к_в_а',\n",
              " 'р_и_у_м',\n",
              " 'ч_е_р_е',\n",
              " 'п_а_х_у',\n",
              " ' _о_б_щ',\n",
              " ' _а_к_в',\n",
              " 'е_ж_е_д',\n",
              " 'е_л_ь_н',\n",
              " 'г_о_с_т',\n",
              " 'м_о_г_у',\n",
              " 'т_а_к_ж',\n",
              " 'а_б_л_ю',\n",
              " 'д_а_т_ь',\n",
              " 'н_у_ю_ ',\n",
              " ' _б_ы_л',\n",
              " 'н_ы_х_ ',\n",
              " 'р_н_ы_й_ ',\n",
              " ' _ч_е_р',\n",
              " 'е_п_а_х']"
            ]
          },
          "metadata": {
            "tags": []
          },
          "execution_count": 127
        }
      ]
    },
    {
      "cell_type": "markdown",
      "metadata": {
        "id": "Pti8E1xxI8wn",
        "colab_type": "text"
      },
      "source": [
        "Четвертая итерация"
      ]
    },
    {
      "cell_type": "code",
      "metadata": {
        "id": "j7mnkkihI-gj",
        "colab_type": "code",
        "colab": {
          "base_uri": "https://localhost:8080/",
          "height": 357
        },
        "outputId": "1b8aada6-c604-487a-9ddb-66da7b70f204"
      },
      "source": [
        "ph4 = gensim.models.Phrases(p3[p2[p[clean_symbols]]], min_count=1, threshold=1)\n",
        "p4 = gensim.models.phrases.Phraser(ph4)\n",
        "add(p4[p3[p2[p[clean_symbols]]]], 8)[:20]"
      ],
      "execution_count": 128,
      "outputs": [
        {
          "output_type": "execute_result",
          "data": {
            "text/plain": [
              "['м_о_р_с_к',\n",
              " 'я_ _ч_е_р_е',\n",
              " 'с_к_в_а_р_и_у_м',\n",
              " 'ч_е_р_е_п_а_х_у',\n",
              " 'м_ _а_к_в',\n",
              " 'а_р_и_у_м',\n",
              " ' _е_ж_е_д',\n",
              " 'е_д_е_л_ь_н',\n",
              " ' _п_я_т_н',\n",
              " 'г_о_с_т_и',\n",
              " 'м_о_г_у_т',\n",
              " ' _т_а_к_ж',\n",
              " 'н_а_б_л_ю',\n",
              " 'д_а_т_ь_ _з_а',\n",
              " 'н_у_ю_ _к',\n",
              " 'п_о_с_е_т',\n",
              " 'р_н_ы_й_ ',\n",
              " ' _ч_е_р_е_п_а_х',\n",
              " ' _н_о_в_ы',\n",
              " 'и_о_л_о_г']"
            ]
          },
          "metadata": {
            "tags": []
          },
          "execution_count": 128
        }
      ]
    },
    {
      "cell_type": "markdown",
      "metadata": {
        "id": "NEA6wfTHavwT",
        "colab_type": "text"
      },
      "source": [
        "На этом шаге впервые уже можно выявить несколько целых слов - черепаху, гости, могут, был, его, аквариум, очень, может"
      ]
    },
    {
      "cell_type": "markdown",
      "metadata": {
        "id": "M3tw3Zgxa_et",
        "colab_type": "text"
      },
      "source": [
        "Пятая итерация"
      ]
    },
    {
      "cell_type": "code",
      "metadata": {
        "id": "4tFdhLr3bDEB",
        "colab_type": "code",
        "colab": {
          "base_uri": "https://localhost:8080/",
          "height": 357
        },
        "outputId": "f4182b37-4df2-4da9-d050-14d4415dcc02"
      },
      "source": [
        "ph5 = gensim.models.Phrases(p4[p3[p2[p[clean_symbols]]]], min_count=1, threshold=1)\n",
        "p5 = gensim.models.phrases.Phraser(ph5)\n",
        "add(p5[p4[p3[p2[p[clean_symbols]]]]], 8)[:20]"
      ],
      "execution_count": 126,
      "outputs": [
        {
          "output_type": "execute_result",
          "data": {
            "text/plain": [
              "['м_о_р_с_к',\n",
              " 'я_ _ч_е_р_е',\n",
              " ' _в_ _м_о',\n",
              " 'с_к_в_а_р_и_у_м',\n",
              " 'ч_е_р_е_п_а_х_у',\n",
              " 'м_ _а_к_в_а_р_и_у_м',\n",
              " ' _е_ж_е_д_н',\n",
              " ' _п_о_н_е_д_е_л_ь_н',\n",
              " ' _с_р_е_д',\n",
              " 'и_ _п_я_т_н',\n",
              " 'г_о_с_т_и',\n",
              " 'м_о_г_у_т',\n",
              " ' _т_а_к_ж',\n",
              " 'н_а_б_л_ю_д_а_т_ь_ _з_а',\n",
              " 'е_ _к_о_р',\n",
              " 'м_л_е_н_и_е',\n",
              " ' _м_о_с_к_в_а_р_и_у_м',\n",
              " ' _б_и_с_с',\n",
              " 'н_у_ю_ _к',\n",
              " 'п_о_с_е_т_и_т_е']"
            ]
          },
          "metadata": {
            "tags": []
          },
          "execution_count": 126
        }
      ]
    },
    {
      "cell_type": "markdown",
      "metadata": {
        "id": "W_KEfraMfNry",
        "colab_type": "text"
      },
      "source": [
        "На этом шаге, кроме новых слов можно отметить также появление словосочетания - наблюдать за, к тому же некоторые слова присоединяют к себе начала или окончания соседних слов"
      ]
    }
  ]
}