{
  "nbformat": 4,
  "nbformat_minor": 0,
  "metadata": {
    "colab": {
      "name": "Hometask1.ipynb",
      "provenance": [],
      "collapsed_sections": [],
      "include_colab_link": true
    },
    "kernelspec": {
      "name": "python3",
      "display_name": "Python 3"
    }
  },
  "cells": [
    {
      "cell_type": "markdown",
      "metadata": {
        "id": "view-in-github",
        "colab_type": "text"
      },
      "source": [
        "<a href=\"https://colab.research.google.com/github/olgasem10/Compling-tasks/blob/master/Hometask1.ipynb\" target=\"_parent\"><img src=\"https://colab.research.google.com/assets/colab-badge.svg\" alt=\"Open In Colab\"/></a>"
      ]
    },
    {
      "cell_type": "code",
      "metadata": {
        "id": "t6a2oNnomm5l",
        "colab_type": "code",
        "outputId": "34cfdff3-1089-41f4-ca3e-77d77a2c2a9b",
        "colab": {
          "base_uri": "https://localhost:8080/",
          "height": 204
        }
      },
      "source": [
        "!pip install pymystem3==0.1.10\n",
        "!pip install pymorphy2[fast]"
      ],
      "execution_count": 218,
      "outputs": [
        {
          "output_type": "stream",
          "text": [
            "Requirement already satisfied: pymystem3==0.1.10 in /usr/local/lib/python3.6/dist-packages (0.1.10)\n",
            "Requirement already satisfied: requests in /usr/local/lib/python3.6/dist-packages (from pymystem3==0.1.10) (2.21.0)\n",
            "Requirement already satisfied: chardet<3.1.0,>=3.0.2 in /usr/local/lib/python3.6/dist-packages (from requests->pymystem3==0.1.10) (3.0.4)\n",
            "Requirement already satisfied: urllib3<1.25,>=1.21.1 in /usr/local/lib/python3.6/dist-packages (from requests->pymystem3==0.1.10) (1.24.3)\n",
            "Requirement already satisfied: idna<2.9,>=2.5 in /usr/local/lib/python3.6/dist-packages (from requests->pymystem3==0.1.10) (2.8)\n",
            "Requirement already satisfied: certifi>=2017.4.17 in /usr/local/lib/python3.6/dist-packages (from requests->pymystem3==0.1.10) (2019.9.11)\n",
            "Requirement already satisfied: pymorphy2[fast] in /usr/local/lib/python3.6/dist-packages (0.8)\n",
            "Requirement already satisfied: docopt>=0.6 in /usr/local/lib/python3.6/dist-packages (from pymorphy2[fast]) (0.6.2)\n",
            "Requirement already satisfied: pymorphy2-dicts<3.0,>=2.4 in /usr/local/lib/python3.6/dist-packages (from pymorphy2[fast]) (2.4.393442.3710985)\n",
            "Requirement already satisfied: dawg-python>=0.7 in /usr/local/lib/python3.6/dist-packages (from pymorphy2[fast]) (0.7.2)\n",
            "Requirement already satisfied: DAWG>=0.7.3; extra == \"fast\" in /usr/local/lib/python3.6/dist-packages (from pymorphy2[fast]) (0.7.8)\n"
          ],
          "name": "stdout"
        }
      ]
    },
    {
      "cell_type": "markdown",
      "metadata": {
        "id": "HPi-ppP3hhXe",
        "colab_type": "text"
      },
      "source": [
        "Задание №1"
      ]
    },
    {
      "cell_type": "markdown",
      "metadata": {
        "id": "IIsznsEX_DYR",
        "colab_type": "text"
      },
      "source": [
        "Модуль regex позволяет создавать регулярные выражения с нечетким совпадением, которые используются в том случае, когда в исходном тексте могут быть каике-либо ошибки (вставленные, удаленные или замененные символы)."
      ]
    },
    {
      "cell_type": "code",
      "metadata": {
        "id": "_dRtgMjqkJcy",
        "colab_type": "code",
        "outputId": "0c5e9ab2-54cd-4754-c67f-e5a1063ae33e",
        "colab": {
          "base_uri": "https://localhost:8080/",
          "height": 34
        }
      },
      "source": [
        "import re\n",
        "!pip install regex\n",
        "import regex"
      ],
      "execution_count": 219,
      "outputs": [
        {
          "output_type": "stream",
          "text": [
            "Requirement already satisfied: regex in /usr/local/lib/python3.6/dist-packages (2019.8.19)\n"
          ],
          "name": "stdout"
        }
      ]
    },
    {
      "cell_type": "markdown",
      "metadata": {
        "id": "asfwUdde_qWG",
        "colab_type": "text"
      },
      "source": [
        "Предположим, что у нас есть распознанный текст, в котором некоторые буквы ы были ошибочно распознаны как ьi"
      ]
    },
    {
      "cell_type": "code",
      "metadata": {
        "id": "9yExGrKO0X3f",
        "colab_type": "code",
        "colab": {}
      },
      "source": [
        "article = '''\n",
        "Черепахи, как и люди, полагаются в основном на свое зрение. Окружающий их мир полон красок. Разыскивая пищу, они обращают внимание в первую очередь на ее цвет и только потом уже на запах и вкус.\n",
        "Средиземноморским, балканским и другим черепахам, живущим на суше, особенно нравится все, что имеет красньiй цвет. Во время опытов наиболее привлекательньiми для них оказались красньiе яблоки и бананьi, которьiе они едят, красньiе лук и сельдерей, которьiе они никогда не едят, и даже красньiе кусочки дерева, бумаги, пластмассьi. Черепахи относятся благосклонно и к зеленому цвету, но предпочитают светло-зеленьiе тона темно-зеленьiм.\n",
        "Медлительность и неповоротливость черепах вошли в поговорки, которые придумали люди, плохо знающие этих животньiх.\n",
        "'''"
      ],
      "execution_count": 0,
      "outputs": []
    },
    {
      "cell_type": "markdown",
      "metadata": {
        "id": "FrdA9CAM_02j",
        "colab_type": "text"
      },
      "source": [
        "Используя обычный модуль re, мы можем пропустить те слова, в которых содержится неправильно распознанная буква\n"
      ]
    },
    {
      "cell_type": "code",
      "metadata": {
        "id": "i9I3IknD2Qp6",
        "colab_type": "code",
        "outputId": "4997a2c0-9547-4b80-f9f0-d8a479234c42",
        "colab": {
          "base_uri": "https://localhost:8080/",
          "height": 34
        }
      },
      "source": [
        "re.findall('которые', article)\n"
      ],
      "execution_count": 221,
      "outputs": [
        {
          "output_type": "execute_result",
          "data": {
            "text/plain": [
              "['которые']"
            ]
          },
          "metadata": {
            "tags": []
          },
          "execution_count": 221
        }
      ]
    },
    {
      "cell_type": "markdown",
      "metadata": {
        "id": "YOUvS-Md_84C",
        "colab_type": "text"
      },
      "source": [
        "Однако с помощью модуля regex мы можем составить такое выражение, в котором будет указаны допустимые ошибки в слове, и таким образом найти все слова"
      ]
    },
    {
      "cell_type": "code",
      "metadata": {
        "id": "MGe77Rrq2hba",
        "colab_type": "code",
        "outputId": "56242b27-bd6b-483c-95bd-82f67ab67a7d",
        "colab": {
          "base_uri": "https://localhost:8080/",
          "height": 34
        }
      },
      "source": [
        "regex.findall('которы{e<=2}е', article)\n"
      ],
      "execution_count": 222,
      "outputs": [
        {
          "output_type": "execute_result",
          "data": {
            "text/plain": [
              "['которьiе', 'которьiе', 'которые']"
            ]
          },
          "metadata": {
            "tags": []
          },
          "execution_count": 222
        }
      ]
    },
    {
      "cell_type": "markdown",
      "metadata": {
        "id": "FUGwueFaKc69",
        "colab_type": "text"
      },
      "source": [
        "Задание №2"
      ]
    },
    {
      "cell_type": "code",
      "metadata": {
        "id": "Ttkhei-CVzr9",
        "colab_type": "code",
        "colab": {}
      },
      "source": [
        "text = '''\n",
        "Выберите правильные варианты ответов. Для проверки выполненного задания нажмите кнопку «Проверить».\n",
        "\n",
        "Обособление обстоятельств\n",
        "\n",
        "Обстоятельство – второстепенный член предложения, который обозначает признак действия или другого признака. Обстоятельства поясняют сказуемые или другие члены предложения. При синтаксическом разборе предложения обстоятельства подчеркиваются пунктирной линией (тире, точка, тире). Обстоятельства необходимо выделять запятыми в трех случаях. Рассмотрим каждый из них по очереди.\n",
        "\n",
        "Первый случай\n",
        "\n",
        "Обстоятельства в предложениях могут быть выражены четырьмя частями речи: \n",
        "\n",
        "    наречием, например: Дворник встает рано;\n",
        "    деепричастием или деепричастным оборотом, например: Мужики, увидев помещика, сняли шапки;\n",
        "    инфинитивом, например: Все отправились на улицу (зачем?) расчищать снег; \n",
        "    существительным, например: Я приехал в столицу (зачем?) на экскурсию. \n",
        "\n",
        "Кроме этого, обстоятельство может быть выражено цельным по смыслу выражением, например: Дождь шел две недели подряд.\n",
        "\n",
        "Необходимо запомнить, что выделять запятыми нужно обстоятельства, которые выражены деепричастием или деепричастным оборотом. Сравните: Он сидел, листая журнал, и скучал и Он сидел на скамейке. В первом предложении обстоятельство листая журнал выделяется, так как оно выражено деепричастным оборотом, а во втором обстоятельство на скамейке не обособляется, так как оно выражено существительным с предлогом.\n",
        "\n",
        "Второй и третий случаи\n",
        "\n",
        "По значению обстоятельства делятся на следующие основные группы: \n",
        "\n",
        "    обстоятельства места, отвечающие на вопросы ГДЕ? КУДА? ОТКУДА? Например: Мы въехали (куда?) в город; \n",
        "    обстоятельства времени, отвечающие на вопросы КОГДА? С КАКИХ ПОР? ДО КАКИХ ПОР? КАК ДОЛГО? Например: Мы прождали их около двух часов;\n",
        "    обстоятельства причины, которые отвечают на вопросы ПОЧЕМУ? ОТЧЕГО? ПО КАКОЙ ПРИЧИНЕ? Например: От усталости я не мог говорить; \n",
        "    обстоятельства цели, которые отвечают на вопросы ЗАЧЕМ? ДЛЯ ЧЕГО? С КАКОЙ ЦЕЛЬЮ? Например: В санатории все приготовлено для лечения отдыхающих;\n",
        "    обстоятельства образа действия и степени, отвечающие на вопросы КАК? КАКИМ ОБРАЗОМ? В КАКОЙ СТЕПЕНИ? Например: Я несколько призадумался или Отец ни на шаг не отпускал меня;\n",
        "    обстоятельства условия, которые отвечают на вопрос ПРИ КАКОМ УСЛОВИИ? Например: При старании можно добиться успеха; \n",
        "    обстоятельства уступки, которые отвечают на вопрос НЕСМОТРЯ НА ЧТО? Например: На улице, несмотря на мороз, было многолюдно; \n",
        "    обстоятельства сравнения, отвечающие на вопрос КАК? Например: Голова у нее острижена, как у мальчишки. \n",
        "\n",
        "В классификации обстоятельств по значению одним из восьми видов являются обстоятельства сравнения: они отвечают на вопрос КАК? и начинается с союзов КАК, СЛОВНО или БУДТО. Например: У нее были длинные волосы, мягкие, как лен. В некоторых учебниках и справочных пособиях обстоятельства сравнения называют также сравнительными оборотами. Необходимо запомнить, что обстоятельства сравнения в предложениях выделяются запятыми.\n",
        "\n",
        "Еще один вид обстоятельств, который необходимо выделять запятыми, это обстоятельства уступки. Такие обстоятельства отвечают на вопрос НЕСМОТРЯ НА ЧТО? и начинаются с предлога НЕСМОТРЯ НА (или, реже, ВОПРЕКИ). Например: На улицах, несмотря на яркое солнце, горели фонари.\n",
        "\n",
        "Итак, следует запомнить три случая, когда обстоятельства необходимо выделять запятыми: \n",
        "\n",
        "    если они выражены деепричастным оборотом, \n",
        "    если они представляют собой сравнительный оборот, \n",
        "    если они начинаются с предлога НЕСМОТРЯ НА. \n",
        "\n",
        "Еще раз рассмотрите примеры. Сверкая быстро в вышине, кружились искры. (Лермонтов) Она вдруг скрылась, как птичка, вспугнутая из кустарника (Лермонтов). Несмотря на непредвиденные трудности, работа закончена в срок.\n",
        "\n",
        "Это правило имеет несколько важных примечаний: \n",
        "\n",
        "От деепричастий следует отличать наречия СТОЯ, СИДЯ, ЛЕЖА, МОЛЧА. НЕХОТЯ, ШУТЯ, НЕ ГЛЯДЯ, ИГРАЯ. Они образовались благодаря переходу слов из разряда деепричастий в наречия. Обстоятельства, выраженные такими словами, не обособляются. Например: Он стоял молча. \n",
        "\n",
        "Не выделяются также обстоятельства, выраженные фразеологическими оборотами, например: Они работали засучив рукава или Верчусь целый день как белка в колесе. \n",
        "\n",
        "Кроме обстоятельств уступки, которые выделяются всегда, могут факультативно обособляться обстоятельства, выраженные существительными с производными предлогами БЛАГОДАРЯ, СОГЛАСНО, ВОПРЕКИ, ВВИДУ, ВСЛЕДСТВИЕ, например: Благодаря хорошей погоде, мы купались в реке все лето. Обычно такие обстоятельства обособляются, если они распространены и стоят перед сказуемым.\n",
        "Упражнение\n",
        "\n",
        "    Через две недели_ наш сотрудник выйдет из отпуска.\n",
        "    Петр пошел в библиотеку_ готовиться к экзамену.\n",
        "    Выбежав на трибуну_ он быстро заговорил.\n",
        "    Обгоняя грузовик_ машина выехала на встречную полосу.\n",
        "    Несмотря на опасность_ капитан приказал продолжить движение.\n",
        "    Из леса_ доносились голоса грибников.\n",
        "    Ради победы_ они готовы на все.\n",
        "    Мокрые ступени оказались скользкими_ как лед.\n",
        "    Порт будет закрыт_ в случае усиления ветра.\n",
        "    Было темно, только две звездочки_ как два спасательных маяка_ сверкали на темно-синем своде (Лермонтов).\n",
        "    – Летит_ сломя голову ! Чуть с ног не сбил! – пробормотала старуха.\n",
        "    На борту пиджака_ как глаз_ торчал драгоценный камень (М. Булгаков).\n",
        "    Старуха_ несмотря на преклонный возраст_ отлично видит и слышит (А. Чехов).\n",
        "    Пройдя через тяжкие испытания_ он сумел сохранить свое человеческое достоинство (М. Шолохов).\n",
        "    В плите гудело_ как на пожаре (М. Булгаков).\n",
        "    На вопросы следователя он отвечал_ нехотя.\n",
        "    Лодка_ как утка_ ныряла и потом_ взмахнув веслами_ будто крыльями_ выскакивала на поверхности (М. Лермонтов).\n",
        "    Прихватив немецкого майора и портфель с документами_ Соколов добирается до своих (М. Шолохов).\n",
        "    Пережив сильное потрясение_ он заснул_ как убитый.\n",
        "    Везде и во всем он старался подчеркнуть свое превосходство_ считая себя благовоспитанным и гуманным (А. Фадеев).\n",
        "    Татьяна любит_ не шутя (А. Пушкин).\n",
        "    Жили спокойно, и вдруг гости свалились_ как снег на голову.\n",
        "    С тех пор и до конца московского разорения никто из домашних Безуховых_ несмотря на все поиски_ не видел больше Пьера и не знал, где он находится (Л. Толстой).\n",
        "    …Две минуты тому назад_ не подвергая себя никакой опасности_ хотел меня убить_ как собаку, ибо раненный в ногу немного сильнее, я бы непременно свалился с утёса (М. Лермонтов).\n",
        "    А затем на пожарища посыпали сотни мелких зажигательных бомб_ как зерна на свежевспаханную землю (К. Воннегут).\n",
        "    Людей, одиноких по натуре, которые_ как рак-отшельник или улитка_ стараются уйти в свою скорлупу, на этом свете не мало (А. Чехов).\n",
        "    Какой-то сволочной, под сибирского деланный кот-бродяга вынырнул из-за водосточной трубы и_ несмотря на вьюгу_ учуял краковскую (М. Булгаков).\n",
        "    Долгое время он боролся с своею догадкою_ принимая ее за мечту воспаленного съестными припасами воображения_ но чем чаще повторялись свидания, тем мучительнее становились сомнения (М. Салтыков-Щедрин). \n",
        "\n",
        "\n",
        "'''"
      ],
      "execution_count": 0,
      "outputs": []
    },
    {
      "cell_type": "code",
      "metadata": {
        "id": "3N6gMeC2asfM",
        "colab_type": "code",
        "colab": {}
      },
      "source": [
        "lowtext = text.lower()\n"
      ],
      "execution_count": 0,
      "outputs": []
    },
    {
      "cell_type": "code",
      "metadata": {
        "id": "FCozmFPakaTZ",
        "colab_type": "code",
        "outputId": "7e09c862-6376-4990-cbd5-2635c776214f",
        "colab": {
          "base_uri": "https://localhost:8080/",
          "height": 527
        }
      },
      "source": [
        "import string\n",
        "string.punctuation\n",
        "string.punctuation += '«»—–…“”'\n",
        "lowtext1 = [word.strip(string.punctuation) for word in text.split()]\n",
        "lowtext1 [:30]"
      ],
      "execution_count": 225,
      "outputs": [
        {
          "output_type": "execute_result",
          "data": {
            "text/plain": [
              "['Выберите',\n",
              " 'правильные',\n",
              " 'варианты',\n",
              " 'ответов',\n",
              " 'Для',\n",
              " 'проверки',\n",
              " 'выполненного',\n",
              " 'задания',\n",
              " 'нажмите',\n",
              " 'кнопку',\n",
              " 'Проверить',\n",
              " 'Обособление',\n",
              " 'обстоятельств',\n",
              " 'Обстоятельство',\n",
              " '',\n",
              " 'второстепенный',\n",
              " 'член',\n",
              " 'предложения',\n",
              " 'который',\n",
              " 'обозначает',\n",
              " 'признак',\n",
              " 'действия',\n",
              " 'или',\n",
              " 'другого',\n",
              " 'признака',\n",
              " 'Обстоятельства',\n",
              " 'поясняют',\n",
              " 'сказуемые',\n",
              " 'или',\n",
              " 'другие']"
            ]
          },
          "metadata": {
            "tags": []
          },
          "execution_count": 225
        }
      ]
    },
    {
      "cell_type": "code",
      "metadata": {
        "id": "S1Mhtk5vsqq3",
        "colab_type": "code",
        "outputId": "4ab4d655-595b-4a6b-d07c-66b5d9a23aca",
        "colab": {
          "base_uri": "https://localhost:8080/",
          "height": 527
        }
      },
      "source": [
        "from nltk.stem.snowball import SnowballStemmer\n",
        "stemmer = SnowballStemmer('russian')\n",
        "[(word, stemmer.stem(word)) for word in lowtext1][:30]\n",
        "\n"
      ],
      "execution_count": 226,
      "outputs": [
        {
          "output_type": "execute_result",
          "data": {
            "text/plain": [
              "[('Выберите', 'выбер'),\n",
              " ('правильные', 'правильн'),\n",
              " ('варианты', 'вариант'),\n",
              " ('ответов', 'ответ'),\n",
              " ('Для', 'для'),\n",
              " ('проверки', 'проверк'),\n",
              " ('выполненного', 'выполнен'),\n",
              " ('задания', 'задан'),\n",
              " ('нажмите', 'нажм'),\n",
              " ('кнопку', 'кнопк'),\n",
              " ('Проверить', 'провер'),\n",
              " ('Обособление', 'обособлен'),\n",
              " ('обстоятельств', 'обстоятельств'),\n",
              " ('Обстоятельство', 'обстоятельств'),\n",
              " ('', ''),\n",
              " ('второстепенный', 'второстепен'),\n",
              " ('член', 'член'),\n",
              " ('предложения', 'предложен'),\n",
              " ('который', 'котор'),\n",
              " ('обозначает', 'обознача'),\n",
              " ('признак', 'признак'),\n",
              " ('действия', 'действ'),\n",
              " ('или', 'ил'),\n",
              " ('другого', 'друг'),\n",
              " ('признака', 'признак'),\n",
              " ('Обстоятельства', 'обстоятельств'),\n",
              " ('поясняют', 'поясня'),\n",
              " ('сказуемые', 'сказуем'),\n",
              " ('или', 'ил'),\n",
              " ('другие', 'друг')]"
            ]
          },
          "metadata": {
            "tags": []
          },
          "execution_count": 226
        }
      ]
    },
    {
      "cell_type": "markdown",
      "metadata": {
        "id": "NOSlPs_2atBo",
        "colab_type": "text"
      },
      "source": [
        "Ошибки:\n",
        "\n",
        "1) два разных слова ошибочно свелись к одинаковой основе:\n",
        "\n",
        "следует и следующие оба сведены к след (есть также разные слова, сведенные к одной и той же основе, но сведенные не ошибочно, а правильно, например видов и видит сведены к вид)\n",
        "\n",
        "2) два словоформы одного слова после стемминга отличаются друг от друга\n",
        "\n",
        "ошибка не находится\n",
        "\n",
        "3) слово не изменилось после стемминга (слово должно быть русским и длиннее 4 символов):\n",
        "\n",
        "видел-видел, вынырнул-вынырнул, сидел-сидел, выйдет-выйдет"
      ]
    },
    {
      "cell_type": "markdown",
      "metadata": {
        "id": "90i-j8tlDLvE",
        "colab_type": "text"
      },
      "source": [
        "Задание №3"
      ]
    },
    {
      "cell_type": "markdown",
      "metadata": {
        "id": "eQEPKR54FkOn",
        "colab_type": "text"
      },
      "source": [
        "В список стоп-слов из NLTK я бы добавила следующие слова:\n",
        "\n",
        " - это, эта (список содержит разные формы этих слов, но не содержит их самих)\n",
        " \n",
        "- оно, другая, мои (к словам, которые уже имеются в определенном роде или числе могут быть добавлены те же слова в другом роде или числе)\n",
        "\n",
        "- который (также очень часто встречающееся местоимение)\n",
        "\n",
        "- либо (и как союз, и как часть местоимений)"
      ]
    },
    {
      "cell_type": "code",
      "metadata": {
        "id": "CHDpVQJKulkW",
        "colab_type": "code",
        "colab": {}
      },
      "source": [
        "Задание №4"
      ],
      "execution_count": 0,
      "outputs": []
    },
    {
      "cell_type": "code",
      "metadata": {
        "id": "axzOkCqeKi-b",
        "colab_type": "code",
        "colab": {}
      },
      "source": [
        "text = '''\n",
        "Эксперты нашли экстремизм в призывах Егора Жукова «бороться, чтобы Россия стала свободной»\n",
        "\n",
        "«Новая газета» опубликовала сокращенный вариант заключения экспертов Александра Коршикова и Анны Осокиной, которые анализировали видео из блога студента Высшей школы экономики Егора Жукова, обвиняемого в призывах к экстремизму в интернете (часть 2 статьи 280 УК).\n",
        "\n",
        "Эксперты нашли экстремизм в четырех видео на YouTube-канале Жукова. По их мнению, в видео «отчетливо прослеживается мотив политической ненависти или вражды к действующей власти».\n",
        "\n",
        "В заключении говорится, что Жуков приписывает действующей власти «враждебные действия», называет ее врагами, источником зла и вреда. Кроме того, студент призывает с этой властью бороться.\n",
        "\n",
        "«Автор описывает катастрофическое положение населения в России, как следствие целенаправленной политики действующей власти <...>. Основным идеалом, которого следует достичь, является \"смена власти в России\" для того, чтобы \"Россия стала свободной\"», — цитирует издание экспертов.\n",
        "\n",
        "В одном из видео, в котором Жуков размышлял об итогах митинга 7 октября 2017 года, эксперты увидели призыв бороться любым способом, «что включает в себя и действия насильственного характера, в частности, насильственный захват власти, вооруженный мятеж».\n",
        "\n",
        "Егор Жуков — фигурант «московского дела». Сначала его обвиняли в участии в массовых беспорядках (часть 2 статьи 212 УК). В суде говорили, что среди материалов есть видео, где Жуков показывает кому-то направо на акции 27 июля. Из-за этого студента 2 августа отправили в СИЗО.\n",
        "\n",
        "Однако через месяц дело о массовых беспорядках против Жукова закрыли, ему предъявили новое обвинение в призывах к экстремизму. По ходатайстве следствие суд перевел студента под домашний арест.\n",
        "'''"
      ],
      "execution_count": 0,
      "outputs": []
    },
    {
      "cell_type": "markdown",
      "metadata": {
        "id": "_7KeOdhNT_7o",
        "colab_type": "text"
      },
      "source": [
        "Первый вариант обработки:"
      ]
    },
    {
      "cell_type": "code",
      "metadata": {
        "id": "pk7oZZJYUBTQ",
        "colab_type": "code",
        "colab": {}
      },
      "source": [
        "import nltk\n",
        "from nltk.tokenize import sent_tokenize\n"
      ],
      "execution_count": 0,
      "outputs": []
    },
    {
      "cell_type": "markdown",
      "metadata": {
        "id": "DJtjVr0-rOTx",
        "colab_type": "text"
      },
      "source": [
        "Разделение на предложения:"
      ]
    },
    {
      "cell_type": "code",
      "metadata": {
        "id": "T_Q-vLOmVePy",
        "colab_type": "code",
        "colab": {
          "base_uri": "https://localhost:8080/",
          "height": 275
        },
        "outputId": "f13a5b3d-5b78-42b5-d7b4-d4370a72aca6"
      },
      "source": [
        "sentences=sent_tokenize(text, 'russian')\n",
        "sentences\n"
      ],
      "execution_count": 229,
      "outputs": [
        {
          "output_type": "execute_result",
          "data": {
            "text/plain": [
              "['\\nЭксперты нашли экстремизм в призывах Егора Жукова «бороться, чтобы Россия стала свободной»\\n\\n«Новая газета» опубликовала сокращенный вариант заключения экспертов Александра Коршикова и Анны Осокиной, которые анализировали видео из блога студента Высшей школы экономики Егора Жукова, обвиняемого в призывах к экстремизму в интернете (часть 2 статьи 280 УК).',\n",
              " 'Эксперты нашли экстремизм в четырех видео на YouTube-канале Жукова.',\n",
              " 'По их мнению, в видео «отчетливо прослеживается мотив политической ненависти или вражды к действующей власти».',\n",
              " 'В заключении говорится, что Жуков приписывает действующей власти «враждебные действия», называет ее врагами, источником зла и вреда.',\n",
              " 'Кроме того, студент призывает с этой властью бороться.',\n",
              " '«Автор описывает катастрофическое положение населения в России, как следствие целенаправленной политики действующей власти <...>.',\n",
              " 'Основным идеалом, которого следует достичь, является \"смена власти в России\" для того, чтобы \"Россия стала свободной\"», — цитирует издание экспертов.',\n",
              " 'В одном из видео, в котором Жуков размышлял об итогах митинга 7 октября 2017 года, эксперты увидели призыв бороться любым способом, «что включает в себя и действия насильственного характера, в частности, насильственный захват власти, вооруженный мятеж».',\n",
              " 'Егор Жуков — фигурант «московского дела».',\n",
              " 'Сначала его обвиняли в участии в массовых беспорядках (часть 2 статьи 212 УК).',\n",
              " 'В суде говорили, что среди материалов есть видео, где Жуков показывает кому-то направо на акции 27 июля.',\n",
              " 'Из-за этого студента 2 августа отправили в СИЗО.',\n",
              " 'Однако через месяц дело о массовых беспорядках против Жукова закрыли, ему предъявили новое обвинение в призывах к экстремизму.',\n",
              " 'По ходатайстве следствие суд перевел студента под домашний арест.']"
            ]
          },
          "metadata": {
            "tags": []
          },
          "execution_count": 229
        }
      ]
    },
    {
      "cell_type": "markdown",
      "metadata": {
        "id": "7EV4PPJ6rR99",
        "colab_type": "text"
      },
      "source": [
        "Разделение предложений на токены:"
      ]
    },
    {
      "cell_type": "code",
      "metadata": {
        "id": "0zxnWackXYqK",
        "colab_type": "code",
        "colab": {
          "base_uri": "https://localhost:8080/",
          "height": 54
        },
        "outputId": "a7ab2937-15c8-4a0c-f73e-52f03855329f"
      },
      "source": [
        "a=[]\n",
        "for sentence in sentences:\n",
        "  a.append(re.findall('\\w+-\\w+|\\w+', sentence))\n",
        "print(a)"
      ],
      "execution_count": 230,
      "outputs": [
        {
          "output_type": "stream",
          "text": [
            "[['Эксперты', 'нашли', 'экстремизм', 'в', 'призывах', 'Егора', 'Жукова', 'бороться', 'чтобы', 'Россия', 'стала', 'свободной', 'Новая', 'газета', 'опубликовала', 'сокращенный', 'вариант', 'заключения', 'экспертов', 'Александра', 'Коршикова', 'и', 'Анны', 'Осокиной', 'которые', 'анализировали', 'видео', 'из', 'блога', 'студента', 'Высшей', 'школы', 'экономики', 'Егора', 'Жукова', 'обвиняемого', 'в', 'призывах', 'к', 'экстремизму', 'в', 'интернете', 'часть', '2', 'статьи', '280', 'УК'], ['Эксперты', 'нашли', 'экстремизм', 'в', 'четырех', 'видео', 'на', 'YouTube-канале', 'Жукова'], ['По', 'их', 'мнению', 'в', 'видео', 'отчетливо', 'прослеживается', 'мотив', 'политической', 'ненависти', 'или', 'вражды', 'к', 'действующей', 'власти'], ['В', 'заключении', 'говорится', 'что', 'Жуков', 'приписывает', 'действующей', 'власти', 'враждебные', 'действия', 'называет', 'ее', 'врагами', 'источником', 'зла', 'и', 'вреда'], ['Кроме', 'того', 'студент', 'призывает', 'с', 'этой', 'властью', 'бороться'], ['Автор', 'описывает', 'катастрофическое', 'положение', 'населения', 'в', 'России', 'как', 'следствие', 'целенаправленной', 'политики', 'действующей', 'власти'], ['Основным', 'идеалом', 'которого', 'следует', 'достичь', 'является', 'смена', 'власти', 'в', 'России', 'для', 'того', 'чтобы', 'Россия', 'стала', 'свободной', 'цитирует', 'издание', 'экспертов'], ['В', 'одном', 'из', 'видео', 'в', 'котором', 'Жуков', 'размышлял', 'об', 'итогах', 'митинга', '7', 'октября', '2017', 'года', 'эксперты', 'увидели', 'призыв', 'бороться', 'любым', 'способом', 'что', 'включает', 'в', 'себя', 'и', 'действия', 'насильственного', 'характера', 'в', 'частности', 'насильственный', 'захват', 'власти', 'вооруженный', 'мятеж'], ['Егор', 'Жуков', 'фигурант', 'московского', 'дела'], ['Сначала', 'его', 'обвиняли', 'в', 'участии', 'в', 'массовых', 'беспорядках', 'часть', '2', 'статьи', '212', 'УК'], ['В', 'суде', 'говорили', 'что', 'среди', 'материалов', 'есть', 'видео', 'где', 'Жуков', 'показывает', 'кому-то', 'направо', 'на', 'акции', '27', 'июля'], ['Из-за', 'этого', 'студента', '2', 'августа', 'отправили', 'в', 'СИЗО'], ['Однако', 'через', 'месяц', 'дело', 'о', 'массовых', 'беспорядках', 'против', 'Жукова', 'закрыли', 'ему', 'предъявили', 'новое', 'обвинение', 'в', 'призывах', 'к', 'экстремизму'], ['По', 'ходатайстве', 'следствие', 'суд', 'перевел', 'студента', 'под', 'домашний', 'арест']]\n"
          ],
          "name": "stdout"
        }
      ]
    },
    {
      "cell_type": "markdown",
      "metadata": {
        "id": "L2lQBJLWrYzm",
        "colab_type": "text"
      },
      "source": [
        "Лемматизация токенов с помощью pymorphy"
      ]
    },
    {
      "cell_type": "code",
      "metadata": {
        "id": "MGgW6hG0jiZC",
        "colab_type": "code",
        "colab": {}
      },
      "source": [
        "from pymorphy2 import MorphAnalyzer\n",
        "morph = MorphAnalyzer()"
      ],
      "execution_count": 0,
      "outputs": []
    },
    {
      "cell_type": "code",
      "metadata": {
        "id": "g7qsUnCdk6cO",
        "colab_type": "code",
        "colab": {
          "base_uri": "https://localhost:8080/",
          "height": 717
        },
        "outputId": "35038e69-207a-430f-d04f-3a3296c1fb94"
      },
      "source": [
        "sent_analized=[]\n",
        "for sentence1 in a:\n",
        "  words_analized = [morph.parse(token) for token in sentence1]\n",
        "  sent_analized.append(words_analized)\n",
        "sent_analized[1]"
      ],
      "execution_count": 232,
      "outputs": [
        {
          "output_type": "execute_result",
          "data": {
            "text/plain": [
              "[[Parse(word='эксперты', tag=OpencorporaTag('NOUN,anim,masc plur,nomn'), normal_form='эксперт', score=1.0, methods_stack=((<DictionaryAnalyzer>, 'эксперты', 52, 6),))],\n",
              " [Parse(word='нашли', tag=OpencorporaTag('VERB,perf,tran plur,past,indc'), normal_form='найти', score=0.5, methods_stack=((<DictionaryAnalyzer>, 'нашли', 2013, 4),)),\n",
              "  Parse(word='нашли', tag=OpencorporaTag('VERB,perf,tran sing,impr,excl'), normal_form='наслать', score=0.5, methods_stack=((<DictionaryAnalyzer>, 'нашли', 1331, 13),))],\n",
              " [Parse(word='экстремизм', tag=OpencorporaTag('NOUN,inan,masc sing,accs'), normal_form='экстремизм', score=0.666666, methods_stack=((<DictionaryAnalyzer>, 'экстремизм', 33, 3),)),\n",
              "  Parse(word='экстремизм', tag=OpencorporaTag('NOUN,inan,masc sing,nomn'), normal_form='экстремизм', score=0.333333, methods_stack=((<DictionaryAnalyzer>, 'экстремизм', 33, 0),))],\n",
              " [Parse(word='в', tag=OpencorporaTag('PREP'), normal_form='в', score=0.999764, methods_stack=((<DictionaryAnalyzer>, 'в', 375, 0),)),\n",
              "  Parse(word='в', tag=OpencorporaTag('NOUN,inan,masc,Fixd,Abbr sing,nomn'), normal_form='век', score=1.9e-05, methods_stack=((<DictionaryAnalyzer>, 'в', 666, 20),)),\n",
              "  Parse(word='в', tag=OpencorporaTag('NOUN,inan,masc,Fixd,Abbr sing,gent'), normal_form='век', score=1.9e-05, methods_stack=((<DictionaryAnalyzer>, 'в', 666, 21),)),\n",
              "  Parse(word='в', tag=OpencorporaTag('NOUN,inan,masc,Fixd,Abbr sing,datv'), normal_form='век', score=1.9e-05, methods_stack=((<DictionaryAnalyzer>, 'в', 666, 22),)),\n",
              "  Parse(word='в', tag=OpencorporaTag('NOUN,inan,masc,Fixd,Abbr sing,accs'), normal_form='век', score=1.9e-05, methods_stack=((<DictionaryAnalyzer>, 'в', 666, 23),)),\n",
              "  Parse(word='в', tag=OpencorporaTag('NOUN,inan,masc,Fixd,Abbr sing,ablt'), normal_form='век', score=1.9e-05, methods_stack=((<DictionaryAnalyzer>, 'в', 666, 24),)),\n",
              "  Parse(word='в', tag=OpencorporaTag('NOUN,inan,masc,Fixd,Abbr sing,loct'), normal_form='век', score=1.9e-05, methods_stack=((<DictionaryAnalyzer>, 'в', 666, 25),)),\n",
              "  Parse(word='в', tag=OpencorporaTag('NOUN,inan,masc,Fixd,Abbr plur,nomn'), normal_form='век', score=1.9e-05, methods_stack=((<DictionaryAnalyzer>, 'в', 666, 26),)),\n",
              "  Parse(word='в', tag=OpencorporaTag('NOUN,inan,masc,Fixd,Abbr plur,gent'), normal_form='век', score=1.9e-05, methods_stack=((<DictionaryAnalyzer>, 'в', 666, 27),)),\n",
              "  Parse(word='в', tag=OpencorporaTag('NOUN,inan,masc,Fixd,Abbr plur,datv'), normal_form='век', score=1.9e-05, methods_stack=((<DictionaryAnalyzer>, 'в', 666, 28),)),\n",
              "  Parse(word='в', tag=OpencorporaTag('NOUN,inan,masc,Fixd,Abbr plur,accs'), normal_form='век', score=1.9e-05, methods_stack=((<DictionaryAnalyzer>, 'в', 666, 29),)),\n",
              "  Parse(word='в', tag=OpencorporaTag('NOUN,inan,masc,Fixd,Abbr plur,ablt'), normal_form='век', score=1.9e-05, methods_stack=((<DictionaryAnalyzer>, 'в', 666, 30),)),\n",
              "  Parse(word='в', tag=OpencorporaTag('NOUN,inan,masc,Fixd,Abbr plur,loct'), normal_form='век', score=1.9e-05, methods_stack=((<DictionaryAnalyzer>, 'в', 666, 31),))],\n",
              " [Parse(word='четырёх', tag=OpencorporaTag('NUMR gent'), normal_form='четыре', score=0.678571, methods_stack=((<DictionaryAnalyzer>, 'четырёх', 3036, 1),)),\n",
              "  Parse(word='четырёх', tag=OpencorporaTag('NUMR anim,accs'), normal_form='четыре', score=0.214285, methods_stack=((<DictionaryAnalyzer>, 'четырёх', 3036, 4),)),\n",
              "  Parse(word='четырёх', tag=OpencorporaTag('NUMR loct'), normal_form='четыре', score=0.107142, methods_stack=((<DictionaryAnalyzer>, 'четырёх', 3036, 6),))],\n",
              " [Parse(word='видео', tag=OpencorporaTag('NOUN,inan,neut,Fixd sing,nomn'), normal_form='видео', score=0.133333, methods_stack=((<DictionaryAnalyzer>, 'видео', 23, 0),)),\n",
              "  Parse(word='видео', tag=OpencorporaTag('NOUN,inan,neut,Fixd sing,accs'), normal_form='видео', score=0.133333, methods_stack=((<DictionaryAnalyzer>, 'видео', 23, 3),)),\n",
              "  Parse(word='видео', tag=OpencorporaTag('NOUN,inan,neut,Fixd sing,loct'), normal_form='видео', score=0.133333, methods_stack=((<DictionaryAnalyzer>, 'видео', 23, 5),)),\n",
              "  Parse(word='видео', tag=OpencorporaTag('NOUN,inan,neut,Fixd sing,gent'), normal_form='видео', score=0.066666, methods_stack=((<DictionaryAnalyzer>, 'видео', 23, 1),)),\n",
              "  Parse(word='видео', tag=OpencorporaTag('NOUN,inan,neut,Fixd sing,datv'), normal_form='видео', score=0.066666, methods_stack=((<DictionaryAnalyzer>, 'видео', 23, 2),)),\n",
              "  Parse(word='видео', tag=OpencorporaTag('NOUN,inan,neut,Fixd sing,ablt'), normal_form='видео', score=0.066666, methods_stack=((<DictionaryAnalyzer>, 'видео', 23, 4),)),\n",
              "  Parse(word='видео', tag=OpencorporaTag('NOUN,inan,neut,Fixd plur,nomn'), normal_form='видео', score=0.066666, methods_stack=((<DictionaryAnalyzer>, 'видео', 23, 6),)),\n",
              "  Parse(word='видео', tag=OpencorporaTag('NOUN,inan,neut,Fixd plur,gent'), normal_form='видео', score=0.066666, methods_stack=((<DictionaryAnalyzer>, 'видео', 23, 7),)),\n",
              "  Parse(word='видео', tag=OpencorporaTag('NOUN,inan,neut,Fixd plur,datv'), normal_form='видео', score=0.066666, methods_stack=((<DictionaryAnalyzer>, 'видео', 23, 8),)),\n",
              "  Parse(word='видео', tag=OpencorporaTag('NOUN,inan,neut,Fixd plur,accs'), normal_form='видео', score=0.066666, methods_stack=((<DictionaryAnalyzer>, 'видео', 23, 9),)),\n",
              "  Parse(word='видео', tag=OpencorporaTag('NOUN,inan,neut,Fixd plur,ablt'), normal_form='видео', score=0.066666, methods_stack=((<DictionaryAnalyzer>, 'видео', 23, 10),)),\n",
              "  Parse(word='видео', tag=OpencorporaTag('NOUN,inan,neut,Fixd plur,loct'), normal_form='видео', score=0.066666, methods_stack=((<DictionaryAnalyzer>, 'видео', 23, 11),))],\n",
              " [Parse(word='на', tag=OpencorporaTag('PREP'), normal_form='на', score=0.99931, methods_stack=((<DictionaryAnalyzer>, 'на', 24, 0),)),\n",
              "  Parse(word='на', tag=OpencorporaTag('PRCL'), normal_form='на', score=0.000477, methods_stack=((<DictionaryAnalyzer>, 'на', 22, 0),)),\n",
              "  Parse(word='на', tag=OpencorporaTag('INTJ'), normal_form='на', score=0.000212, methods_stack=((<DictionaryAnalyzer>, 'на', 21, 0),))],\n",
              " [Parse(word='youtube-канале', tag=OpencorporaTag('NOUN,inan,masc sing,loct'), normal_form='youtube-канал', score=1.0, methods_stack=((<HyphenatedWordsAnalyzer>, 'youtube', ((<DictionaryAnalyzer>, 'канале', 33, 5),)),))],\n",
              " [Parse(word='жукова', tag=OpencorporaTag('NOUN,anim,masc,Sgtm,Surn sing,gent'), normal_form='жуков', score=0.3333333333333333, methods_stack=((<DictionaryAnalyzer>, 'жукова', 36, 1),)),\n",
              "  Parse(word='жукова', tag=OpencorporaTag('NOUN,anim,masc,Sgtm,Surn sing,accs'), normal_form='жуков', score=0.3333333333333333, methods_stack=((<DictionaryAnalyzer>, 'жукова', 36, 3),)),\n",
              "  Parse(word='жукова', tag=OpencorporaTag('NOUN,anim,femn,Sgtm,Surn sing,nomn'), normal_form='жуков', score=0.3333333333333333, methods_stack=((<DictionaryAnalyzer>, 'жукова', 36, 6),))]]"
            ]
          },
          "metadata": {
            "tags": []
          },
          "execution_count": 232
        }
      ]
    },
    {
      "cell_type": "markdown",
      "metadata": {
        "id": "-jd6hkR2nDV4",
        "colab_type": "text"
      },
      "source": [
        "Второй вариант обработки:"
      ]
    },
    {
      "cell_type": "markdown",
      "metadata": {
        "id": "wq6GGxfVrtP5",
        "colab_type": "text"
      },
      "source": [
        "Разделение на предложения осуществилось следующим образом:"
      ]
    },
    {
      "cell_type": "markdown",
      "metadata": {
        "id": "2hCmTN2IHruj",
        "colab_type": "text"
      },
      "source": [
        "Эксперты нашли экстремизм в призывах Егора Жукова «бороться, чтобы Россия стала свободной»\n",
        "\n",
        "«Новая газета» опубликовала сокращенный вариант заключения экспертов Александра Коршикова и Анны Осокиной, которые анализировали видео из блога студента Высшей школы экономики Егора Жукова, обвиняемого в призывах к экстремизму в интернете (часть 2 статьи 280 УК). \n",
        "\n",
        "Эксперты нашли экстремизм в четырех видео на YouTube-канале Жукова. \\\\sПо их мнению, в видео «отчетливо прослеживается мотив политической ненависти или вражды к действующей власти». В заключении говорится, что Жуков приписывает действующей власти «враждебные действия», называет ее врагами, источником зла и вреда. \\\\sКроме того, студент призывает с этой властью бороться. \n",
        "\n",
        "«Автор описывает катастрофическое положение населения в России, как следствие целенаправленной политики действующей власти <...>. \\\\s Основным идеалом, которого следует достичь, является \"смена власти в России\" для того, чтобы \"Россия стала свободной\"», — цитирует издание экспертов. \n",
        "\n",
        "В одном из видео, в котором Жуков размышлял об итогах митинга 7 октября 2017 года, эксперты увидели призыв бороться любым способом, «что включает в себя и действия насильственного характера, в частности, насильственный захват власти, вооруженный мятеж». \n",
        "\n",
        "Егор Жуков — фигурант «московского дела». \\\\sСначала его обвиняли в участии в массовых беспорядках (часть 2 статьи 212 УК). \\\\s В суде говорили, что среди материалов есть видео, где Жуков показывает кому-то направо на акции 27 июля. \\\\sИз-за этого студента 2 августа отправили в СИЗО.\n",
        "\n",
        "Однако через месяц дело о массовых беспорядках против Жукова закрыли, ему предъявили новое обвинение в призывах к экстремизму. \\\\sПо ходатайстве следствие суд перевел студента под домашний арест.\n"
      ]
    },
    {
      "cell_type": "markdown",
      "metadata": {
        "id": "4ELswziNIFBd",
        "colab_type": "text"
      },
      "source": [
        "(отметки ставятся только между предложениями внутри параграфа)"
      ]
    },
    {
      "cell_type": "code",
      "metadata": {
        "id": "sdV2Yg4gnZ-c",
        "colab_type": "code",
        "colab": {}
      },
      "source": [
        "from pymystem3 import Mystem\n",
        "mystem = Mystem()"
      ],
      "execution_count": 0,
      "outputs": []
    },
    {
      "cell_type": "code",
      "metadata": {
        "id": "Nf3f7DdjngYs",
        "colab_type": "code",
        "colab": {
          "base_uri": "https://localhost:8080/",
          "height": 323
        },
        "outputId": "284f8b20-2f1c-4731-b262-77093e0f2f64"
      },
      "source": [
        "\n",
        "words_analized = mystem.analyze(text)\n",
        "words_analized[:10]"
      ],
      "execution_count": 234,
      "outputs": [
        {
          "output_type": "execute_result",
          "data": {
            "text/plain": [
              "[{'text': '\\n'},\n",
              " {'analysis': [{'gr': 'S,муж,од=им,мн', 'lex': 'эксперт', 'wt': 1}],\n",
              "  'text': 'Эксперты'},\n",
              " {'text': ' '},\n",
              " {'analysis': [{'gr': 'V=прош,мн,изъяв,сов,пе',\n",
              "    'lex': 'находить',\n",
              "    'wt': 0.9999726415}],\n",
              "  'text': 'нашли'},\n",
              " {'text': ' '},\n",
              " {'analysis': [{'gr': 'S,муж,неод=(вин,ед|им,ед)',\n",
              "    'lex': 'экстремизм',\n",
              "    'wt': 1}],\n",
              "  'text': 'экстремизм'},\n",
              " {'text': ' '},\n",
              " {'analysis': [{'gr': 'PR=', 'lex': 'в', 'wt': 0.9999917746}], 'text': 'в'},\n",
              " {'text': ' '},\n",
              " {'analysis': [{'gr': 'S,муж,неод=пр,мн', 'lex': 'призыв', 'wt': 1}],\n",
              "  'text': 'призывах'}]"
            ]
          },
          "metadata": {
            "tags": []
          },
          "execution_count": 234
        }
      ]
    },
    {
      "cell_type": "markdown",
      "metadata": {
        "id": "dE2CB0faIsvH",
        "colab_type": "text"
      },
      "source": [
        "Ответы на вопросы:\n",
        "\n",
        "1) Что лучше разбивает на предложения?\n",
        "\n",
        "Оба подхода показали одинаковый результат при разбиении текста на предложения\n",
        "\n",
        "2) Что лучше токенизирует (mystem или ваша регулярка)?\n",
        "\n",
        "Регулярное выражение выделяет в виде отдельных токенов не только слова, но и численные выражения, а mystem их пропускает. Предполагаю, что в контексте данного текста числа (а именно даты, и номер статьи УК) имеют значение. Регулярное выражение также сохранило в одном токене слово Youtube-канал. Поэтому считаю что регулярное выражение токенизировало лучше.\n",
        "\n",
        "3) Что лучше для лемматизации mystem или pymorphy?\n",
        "\n",
        "Для лемматизации лучше работает mystem, поскольку он не только приводит к леммам более точно, но и умеет самостоятельно разрешать омонимию.\n"
      ]
    }
  ]
}