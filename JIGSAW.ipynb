{
  "nbformat": 4,
  "nbformat_minor": 0,
  "metadata": {
    "kernelspec": {
      "display_name": "Python 3",
      "language": "python",
      "name": "python3"
    },
    "language_info": {
      "codemirror_mode": {
        "name": "ipython",
        "version": 3
      },
      "file_extension": ".py",
      "mimetype": "text/x-python",
      "name": "python",
      "nbconvert_exporter": "python",
      "pygments_lexer": "ipython3",
      "version": "3.7.6"
    },
    "colab": {
      "name": "JIGSAW.ipynb",
      "provenance": [],
      "include_colab_link": true
    }
  },
  "cells": [
    {
      "cell_type": "markdown",
      "metadata": {
        "id": "view-in-github",
        "colab_type": "text"
      },
      "source": [
        "<a href=\"https://colab.research.google.com/github/olgasem10/Compling-tasks/blob/master/JIGSAW.ipynb\" target=\"_parent\"><img src=\"https://colab.research.google.com/assets/colab-badge.svg\" alt=\"Open In Colab\"/></a>"
      ]
    },
    {
      "cell_type": "markdown",
      "metadata": {
        "id": "eu1Jl3BUWM-8",
        "colab_type": "text"
      },
      "source": [
        "# Экзамен по машинному обучению\n",
        "\n",
        "Пункты из всех рядов кроме сабмитов"
      ]
    },
    {
      "cell_type": "code",
      "metadata": {
        "id": "71pxPusdWM-9",
        "colab_type": "code",
        "colab": {}
      },
      "source": [
        "import pandas as pd\n",
        "import numpy as np"
      ],
      "execution_count": null,
      "outputs": []
    },
    {
      "cell_type": "code",
      "metadata": {
        "id": "GFjuvWgQWM_B",
        "colab_type": "code",
        "colab": {}
      },
      "source": [
        "pd.set_option('display.max_colwidth', 100)"
      ],
      "execution_count": null,
      "outputs": []
    },
    {
      "cell_type": "code",
      "metadata": {
        "id": "j09CmsaPWM_E",
        "colab_type": "code",
        "colab": {}
      },
      "source": [
        "data = pd.read_csv('jigsaw-toxic-comment-train.csv')"
      ],
      "execution_count": null,
      "outputs": []
    },
    {
      "cell_type": "code",
      "metadata": {
        "id": "5v6F5uDWWM_H",
        "colab_type": "code",
        "colab": {},
        "outputId": "4b3f07fa-0c11-4930-ca85-c307fa137b78"
      },
      "source": [
        "data.head()"
      ],
      "execution_count": null,
      "outputs": [
        {
          "output_type": "execute_result",
          "data": {
            "text/html": [
              "<div>\n",
              "<style scoped>\n",
              "    .dataframe tbody tr th:only-of-type {\n",
              "        vertical-align: middle;\n",
              "    }\n",
              "\n",
              "    .dataframe tbody tr th {\n",
              "        vertical-align: top;\n",
              "    }\n",
              "\n",
              "    .dataframe thead th {\n",
              "        text-align: right;\n",
              "    }\n",
              "</style>\n",
              "<table border=\"1\" class=\"dataframe\">\n",
              "  <thead>\n",
              "    <tr style=\"text-align: right;\">\n",
              "      <th></th>\n",
              "      <th>id</th>\n",
              "      <th>comment_text</th>\n",
              "      <th>toxic</th>\n",
              "      <th>severe_toxic</th>\n",
              "      <th>obscene</th>\n",
              "      <th>threat</th>\n",
              "      <th>insult</th>\n",
              "      <th>identity_hate</th>\n",
              "    </tr>\n",
              "  </thead>\n",
              "  <tbody>\n",
              "    <tr>\n",
              "      <th>0</th>\n",
              "      <td>0000997932d777bf</td>\n",
              "      <td>Explanation\\nWhy the edits made under my username Hardcore Metallica Fan were reverted? They wer...</td>\n",
              "      <td>0</td>\n",
              "      <td>0</td>\n",
              "      <td>0</td>\n",
              "      <td>0</td>\n",
              "      <td>0</td>\n",
              "      <td>0</td>\n",
              "    </tr>\n",
              "    <tr>\n",
              "      <th>1</th>\n",
              "      <td>000103f0d9cfb60f</td>\n",
              "      <td>D'aww! He matches this background colour I'm seemingly stuck with. Thanks.  (talk) 21:51, Januar...</td>\n",
              "      <td>0</td>\n",
              "      <td>0</td>\n",
              "      <td>0</td>\n",
              "      <td>0</td>\n",
              "      <td>0</td>\n",
              "      <td>0</td>\n",
              "    </tr>\n",
              "    <tr>\n",
              "      <th>2</th>\n",
              "      <td>000113f07ec002fd</td>\n",
              "      <td>Hey man, I'm really not trying to edit war. It's just that this guy is constantly removing relev...</td>\n",
              "      <td>0</td>\n",
              "      <td>0</td>\n",
              "      <td>0</td>\n",
              "      <td>0</td>\n",
              "      <td>0</td>\n",
              "      <td>0</td>\n",
              "    </tr>\n",
              "    <tr>\n",
              "      <th>3</th>\n",
              "      <td>0001b41b1c6bb37e</td>\n",
              "      <td>\"\\nMore\\nI can't make any real suggestions on improvement - I wondered if the section statistics...</td>\n",
              "      <td>0</td>\n",
              "      <td>0</td>\n",
              "      <td>0</td>\n",
              "      <td>0</td>\n",
              "      <td>0</td>\n",
              "      <td>0</td>\n",
              "    </tr>\n",
              "    <tr>\n",
              "      <th>4</th>\n",
              "      <td>0001d958c54c6e35</td>\n",
              "      <td>You, sir, are my hero. Any chance you remember what page that's on?</td>\n",
              "      <td>0</td>\n",
              "      <td>0</td>\n",
              "      <td>0</td>\n",
              "      <td>0</td>\n",
              "      <td>0</td>\n",
              "      <td>0</td>\n",
              "    </tr>\n",
              "  </tbody>\n",
              "</table>\n",
              "</div>"
            ],
            "text/plain": [
              "                 id  \\\n",
              "0  0000997932d777bf   \n",
              "1  000103f0d9cfb60f   \n",
              "2  000113f07ec002fd   \n",
              "3  0001b41b1c6bb37e   \n",
              "4  0001d958c54c6e35   \n",
              "\n",
              "                                                                                          comment_text  \\\n",
              "0  Explanation\\nWhy the edits made under my username Hardcore Metallica Fan were reverted? They wer...   \n",
              "1  D'aww! He matches this background colour I'm seemingly stuck with. Thanks.  (talk) 21:51, Januar...   \n",
              "2  Hey man, I'm really not trying to edit war. It's just that this guy is constantly removing relev...   \n",
              "3  \"\\nMore\\nI can't make any real suggestions on improvement - I wondered if the section statistics...   \n",
              "4                                  You, sir, are my hero. Any chance you remember what page that's on?   \n",
              "\n",
              "   toxic  severe_toxic  obscene  threat  insult  identity_hate  \n",
              "0      0             0        0       0       0              0  \n",
              "1      0             0        0       0       0              0  \n",
              "2      0             0        0       0       0              0  \n",
              "3      0             0        0       0       0              0  \n",
              "4      0             0        0       0       0              0  "
            ]
          },
          "metadata": {
            "tags": []
          },
          "execution_count": 177
        }
      ]
    },
    {
      "cell_type": "markdown",
      "metadata": {
        "id": "yjyr72IXWM_K",
        "colab_type": "text"
      },
      "source": [
        "# Описательный анализ\n",
        "\n",
        "Ряд 1, колонка 2: Описательный анализ данных с привязкой к целевой переменной (toxic) (как минимум 5 статистик на каждую группу) - 1.25 балл"
      ]
    },
    {
      "cell_type": "code",
      "metadata": {
        "id": "tlv7pTn0WM_L",
        "colab_type": "code",
        "colab": {}
      },
      "source": [
        "stats = data"
      ],
      "execution_count": null,
      "outputs": []
    },
    {
      "cell_type": "markdown",
      "metadata": {
        "id": "LTCBXzDTWM_N",
        "colab_type": "text"
      },
      "source": [
        " Длина комментария в символах"
      ]
    },
    {
      "cell_type": "code",
      "metadata": {
        "id": "l1xIMomyWM_O",
        "colab_type": "code",
        "colab": {}
      },
      "source": [
        "stats['text_char_length'] = stats['comment_text'].apply(lambda x: len(x))"
      ],
      "execution_count": null,
      "outputs": []
    },
    {
      "cell_type": "markdown",
      "metadata": {
        "id": "VC_tCJLSWM_R",
        "colab_type": "text"
      },
      "source": [
        "Длина комментария в токенах"
      ]
    },
    {
      "cell_type": "code",
      "metadata": {
        "id": "oJtNckL9WM_S",
        "colab_type": "code",
        "colab": {}
      },
      "source": [
        "stats['text_word_length'] = stats['comment_text'].apply(lambda x: len(x.split()))"
      ],
      "execution_count": null,
      "outputs": []
    },
    {
      "cell_type": "markdown",
      "metadata": {
        "id": "FKTpyoYuWM_V",
        "colab_type": "text"
      },
      "source": [
        "Длина комментария в абзацах"
      ]
    },
    {
      "cell_type": "code",
      "metadata": {
        "id": "Vbl2N0PxWM_V",
        "colab_type": "code",
        "colab": {}
      },
      "source": [
        "stats['text_par_length'] = stats['comment_text'].apply(lambda x: len(x.split('\\n')))"
      ],
      "execution_count": null,
      "outputs": []
    },
    {
      "cell_type": "markdown",
      "metadata": {
        "id": "0JFHqhIOWM_Y",
        "colab_type": "text"
      },
      "source": [
        "Средняя длина слова в комментарии"
      ]
    },
    {
      "cell_type": "code",
      "metadata": {
        "id": "sC0OKE8SWM_Y",
        "colab_type": "code",
        "colab": {}
      },
      "source": [
        "stats['mean_word_length'] = stats['comment_text'].apply(lambda x: np.mean([len(word) for word in x.split()]))"
      ],
      "execution_count": null,
      "outputs": []
    },
    {
      "cell_type": "markdown",
      "metadata": {
        "id": "yNjGzuxMWM_a",
        "colab_type": "text"
      },
      "source": [
        "Доля заглавных букв"
      ]
    },
    {
      "cell_type": "code",
      "metadata": {
        "id": "FB-jm71tWM_b",
        "colab_type": "code",
        "colab": {}
      },
      "source": [
        "stats['upper_ratio'] = stats['comment_text'].apply(lambda x: len([ch for ch in x if ch.isupper()])/len(x))"
      ],
      "execution_count": null,
      "outputs": []
    },
    {
      "cell_type": "markdown",
      "metadata": {
        "id": "NJkj1u4MWM_e",
        "colab_type": "text"
      },
      "source": [
        "Доля небуквенных символов"
      ]
    },
    {
      "cell_type": "code",
      "metadata": {
        "id": "Ta3riXSkWM_e",
        "colab_type": "code",
        "colab": {}
      },
      "source": [
        "stats['nonalpha_ratio'] = stats['comment_text'].apply(lambda x: len([ch for ch in x if not ch.isalpha() and not ch == ' '])/len(x))"
      ],
      "execution_count": null,
      "outputs": []
    },
    {
      "cell_type": "markdown",
      "metadata": {
        "id": "d8QfQgBPWM_g",
        "colab_type": "text"
      },
      "source": [
        "Сравнение токсичных и не токсичных комментариев:"
      ]
    },
    {
      "cell_type": "code",
      "metadata": {
        "id": "jJsgT7J3WM_h",
        "colab_type": "code",
        "colab": {},
        "outputId": "afe33f21-a99b-4b95-d590-63afc3417d28"
      },
      "source": [
        "stats[(stats['toxic'] == 1)][['text_char_length', 'text_word_length', \n",
        "                              'text_par_length', 'mean_word_length', \n",
        "                              'upper_ratio', 'nonalpha_ratio']].describe()"
      ],
      "execution_count": null,
      "outputs": [
        {
          "output_type": "execute_result",
          "data": {
            "text/html": [
              "<div>\n",
              "<style scoped>\n",
              "    .dataframe tbody tr th:only-of-type {\n",
              "        vertical-align: middle;\n",
              "    }\n",
              "\n",
              "    .dataframe tbody tr th {\n",
              "        vertical-align: top;\n",
              "    }\n",
              "\n",
              "    .dataframe thead th {\n",
              "        text-align: right;\n",
              "    }\n",
              "</style>\n",
              "<table border=\"1\" class=\"dataframe\">\n",
              "  <thead>\n",
              "    <tr style=\"text-align: right;\">\n",
              "      <th></th>\n",
              "      <th>text_char_length</th>\n",
              "      <th>text_word_length</th>\n",
              "      <th>text_par_length</th>\n",
              "      <th>mean_word_length</th>\n",
              "      <th>upper_ratio</th>\n",
              "      <th>nonalpha_ratio</th>\n",
              "    </tr>\n",
              "  </thead>\n",
              "  <tbody>\n",
              "    <tr>\n",
              "      <th>count</th>\n",
              "      <td>21384.000000</td>\n",
              "      <td>21384.000000</td>\n",
              "      <td>21384.000000</td>\n",
              "      <td>21384.000000</td>\n",
              "      <td>21384.000000</td>\n",
              "      <td>21384.000000</td>\n",
              "    </tr>\n",
              "    <tr>\n",
              "      <th>mean</th>\n",
              "      <td>280.604097</td>\n",
              "      <td>48.573466</td>\n",
              "      <td>3.213384</td>\n",
              "      <td>5.121478</td>\n",
              "      <td>0.112577</td>\n",
              "      <td>0.073643</td>\n",
              "    </tr>\n",
              "    <tr>\n",
              "      <th>std</th>\n",
              "      <td>613.588485</td>\n",
              "      <td>105.424224</td>\n",
              "      <td>8.807426</td>\n",
              "      <td>20.165753</td>\n",
              "      <td>0.211337</td>\n",
              "      <td>0.077752</td>\n",
              "    </tr>\n",
              "    <tr>\n",
              "      <th>min</th>\n",
              "      <td>3.000000</td>\n",
              "      <td>1.000000</td>\n",
              "      <td>1.000000</td>\n",
              "      <td>1.000000</td>\n",
              "      <td>0.000000</td>\n",
              "      <td>0.000000</td>\n",
              "    </tr>\n",
              "    <tr>\n",
              "      <th>25%</th>\n",
              "      <td>55.000000</td>\n",
              "      <td>10.000000</td>\n",
              "      <td>1.000000</td>\n",
              "      <td>4.041667</td>\n",
              "      <td>0.017964</td>\n",
              "      <td>0.031250</td>\n",
              "    </tr>\n",
              "    <tr>\n",
              "      <th>50%</th>\n",
              "      <td>115.000000</td>\n",
              "      <td>21.000000</td>\n",
              "      <td>1.000000</td>\n",
              "      <td>4.461538</td>\n",
              "      <td>0.034206</td>\n",
              "      <td>0.052632</td>\n",
              "    </tr>\n",
              "    <tr>\n",
              "      <th>75%</th>\n",
              "      <td>250.000000</td>\n",
              "      <td>45.000000</td>\n",
              "      <td>3.000000</td>\n",
              "      <td>4.928571</td>\n",
              "      <td>0.068182</td>\n",
              "      <td>0.089552</td>\n",
              "    </tr>\n",
              "    <tr>\n",
              "      <th>max</th>\n",
              "      <td>5000.000000</td>\n",
              "      <td>2321.000000</td>\n",
              "      <td>289.000000</td>\n",
              "      <td>1655.000000</td>\n",
              "      <td>0.998189</td>\n",
              "      <td>0.994769</td>\n",
              "    </tr>\n",
              "  </tbody>\n",
              "</table>\n",
              "</div>"
            ],
            "text/plain": [
              "       text_char_length  text_word_length  text_par_length  mean_word_length  \\\n",
              "count      21384.000000      21384.000000     21384.000000      21384.000000   \n",
              "mean         280.604097         48.573466         3.213384          5.121478   \n",
              "std          613.588485        105.424224         8.807426         20.165753   \n",
              "min            3.000000          1.000000         1.000000          1.000000   \n",
              "25%           55.000000         10.000000         1.000000          4.041667   \n",
              "50%          115.000000         21.000000         1.000000          4.461538   \n",
              "75%          250.000000         45.000000         3.000000          4.928571   \n",
              "max         5000.000000       2321.000000       289.000000       1655.000000   \n",
              "\n",
              "        upper_ratio  nonalpha_ratio  \n",
              "count  21384.000000    21384.000000  \n",
              "mean       0.112577        0.073643  \n",
              "std        0.211337        0.077752  \n",
              "min        0.000000        0.000000  \n",
              "25%        0.017964        0.031250  \n",
              "50%        0.034206        0.052632  \n",
              "75%        0.068182        0.089552  \n",
              "max        0.998189        0.994769  "
            ]
          },
          "metadata": {
            "tags": []
          },
          "execution_count": 80
        }
      ]
    },
    {
      "cell_type": "code",
      "metadata": {
        "id": "C_l8CXHGWM_j",
        "colab_type": "code",
        "colab": {},
        "outputId": "82381327-a0f2-456c-b339-d24e63619ef7"
      },
      "source": [
        "stats[(stats['toxic'] == 0)][['text_char_length', 'text_word_length', \n",
        "                              'text_par_length', 'mean_word_length', \n",
        "                              'upper_ratio', 'nonalpha_ratio']].describe()"
      ],
      "execution_count": null,
      "outputs": [
        {
          "output_type": "execute_result",
          "data": {
            "text/html": [
              "<div>\n",
              "<style scoped>\n",
              "    .dataframe tbody tr th:only-of-type {\n",
              "        vertical-align: middle;\n",
              "    }\n",
              "\n",
              "    .dataframe tbody tr th {\n",
              "        vertical-align: top;\n",
              "    }\n",
              "\n",
              "    .dataframe thead th {\n",
              "        text-align: right;\n",
              "    }\n",
              "</style>\n",
              "<table border=\"1\" class=\"dataframe\">\n",
              "  <thead>\n",
              "    <tr style=\"text-align: right;\">\n",
              "      <th></th>\n",
              "      <th>text_char_length</th>\n",
              "      <th>text_word_length</th>\n",
              "      <th>text_par_length</th>\n",
              "      <th>mean_word_length</th>\n",
              "      <th>upper_ratio</th>\n",
              "      <th>nonalpha_ratio</th>\n",
              "    </tr>\n",
              "  </thead>\n",
              "  <tbody>\n",
              "    <tr>\n",
              "      <th>count</th>\n",
              "      <td>202165.000000</td>\n",
              "      <td>202165.000000</td>\n",
              "      <td>202165.000000</td>\n",
              "      <td>202165.000000</td>\n",
              "      <td>202165.000000</td>\n",
              "      <td>202165.000000</td>\n",
              "    </tr>\n",
              "    <tr>\n",
              "      <th>mean</th>\n",
              "      <td>402.691178</td>\n",
              "      <td>68.415161</td>\n",
              "      <td>3.599322</td>\n",
              "      <td>4.959716</td>\n",
              "      <td>0.045593</td>\n",
              "      <td>0.070867</td>\n",
              "    </tr>\n",
              "    <tr>\n",
              "      <th>std</th>\n",
              "      <td>589.421496</td>\n",
              "      <td>98.633811</td>\n",
              "      <td>6.362831</td>\n",
              "      <td>4.414257</td>\n",
              "      <td>0.070363</td>\n",
              "      <td>0.066595</td>\n",
              "    </tr>\n",
              "    <tr>\n",
              "      <th>min</th>\n",
              "      <td>1.000000</td>\n",
              "      <td>1.000000</td>\n",
              "      <td>1.000000</td>\n",
              "      <td>1.000000</td>\n",
              "      <td>0.000000</td>\n",
              "      <td>0.000000</td>\n",
              "    </tr>\n",
              "    <tr>\n",
              "      <th>25%</th>\n",
              "      <td>100.000000</td>\n",
              "      <td>17.000000</td>\n",
              "      <td>1.000000</td>\n",
              "      <td>4.350000</td>\n",
              "      <td>0.020408</td>\n",
              "      <td>0.034483</td>\n",
              "    </tr>\n",
              "    <tr>\n",
              "      <th>50%</th>\n",
              "      <td>215.000000</td>\n",
              "      <td>37.000000</td>\n",
              "      <td>2.000000</td>\n",
              "      <td>4.714286</td>\n",
              "      <td>0.031250</td>\n",
              "      <td>0.052239</td>\n",
              "    </tr>\n",
              "    <tr>\n",
              "      <th>75%</th>\n",
              "      <td>450.000000</td>\n",
              "      <td>77.000000</td>\n",
              "      <td>3.000000</td>\n",
              "      <td>5.125000</td>\n",
              "      <td>0.047619</td>\n",
              "      <td>0.082645</td>\n",
              "    </tr>\n",
              "    <tr>\n",
              "      <th>max</th>\n",
              "      <td>5000.000000</td>\n",
              "      <td>1990.000000</td>\n",
              "      <td>596.000000</td>\n",
              "      <td>708.714286</td>\n",
              "      <td>1.000000</td>\n",
              "      <td>1.000000</td>\n",
              "    </tr>\n",
              "  </tbody>\n",
              "</table>\n",
              "</div>"
            ],
            "text/plain": [
              "       text_char_length  text_word_length  text_par_length  mean_word_length  \\\n",
              "count     202165.000000     202165.000000    202165.000000     202165.000000   \n",
              "mean         402.691178         68.415161         3.599322          4.959716   \n",
              "std          589.421496         98.633811         6.362831          4.414257   \n",
              "min            1.000000          1.000000         1.000000          1.000000   \n",
              "25%          100.000000         17.000000         1.000000          4.350000   \n",
              "50%          215.000000         37.000000         2.000000          4.714286   \n",
              "75%          450.000000         77.000000         3.000000          5.125000   \n",
              "max         5000.000000       1990.000000       596.000000        708.714286   \n",
              "\n",
              "         upper_ratio  nonalpha_ratio  \n",
              "count  202165.000000   202165.000000  \n",
              "mean        0.045593        0.070867  \n",
              "std         0.070363        0.066595  \n",
              "min         0.000000        0.000000  \n",
              "25%         0.020408        0.034483  \n",
              "50%         0.031250        0.052239  \n",
              "75%         0.047619        0.082645  \n",
              "max         1.000000        1.000000  "
            ]
          },
          "metadata": {
            "tags": []
          },
          "execution_count": 81
        }
      ]
    },
    {
      "cell_type": "markdown",
      "metadata": {
        "id": "HPzDGt0QWM_m",
        "colab_type": "text"
      },
      "source": [
        "Можно отметить, что токсичные комментарии в среднем короче, чем нетоксичные (и по символам, и по токенам, и по абзацам), но при этом у токсичных во всех случаях больше отклонение\n",
        "\n",
        "Самый длинный в токенах комментарий - токсичный, самый длинный в абзацах - нетоксичный\n",
        "\n",
        "Средняя длинна токена у токсичных комментариев больше\n",
        "\n",
        "В токсичных комментариях гораздо выше доля содержания заглавных букв\n",
        "\n",
        "Что касается содержания небуквенных символов (кроме пробелов) то их доля мало отличается для токсичных и нетоксичных комментариев"
      ]
    },
    {
      "cell_type": "markdown",
      "metadata": {
        "id": "ZAIy3ygiWM_m",
        "colab_type": "text"
      },
      "source": [
        "# Бейзлайн модель с отбором признаков\n",
        "\n",
        "Ряд 2, колонка 5: Бейзлайн модель из sklearn (векторайзер + модель) с отбором признаков (через permutation importance) - 2 балл"
      ]
    },
    {
      "cell_type": "code",
      "metadata": {
        "id": "4eHaHXyvWM_o",
        "colab_type": "code",
        "colab": {}
      },
      "source": [
        "from sklearn.feature_extraction.text import TfidfVectorizer\n",
        "from sklearn.linear_model import LogisticRegression\n",
        "from sklearn.metrics import accuracy_score, precision_score, recall_score, f1_score, roc_auc_score\n",
        "from sklearn.model_selection import train_test_split\n",
        "import eli5\n",
        "from eli5.sklearn import PermutationImportance"
      ],
      "execution_count": null,
      "outputs": []
    },
    {
      "cell_type": "code",
      "metadata": {
        "id": "IuSPQxQ8WM_q",
        "colab_type": "code",
        "colab": {}
      },
      "source": [
        "X = data.comment_text.values\n",
        "y = data.toxic.values"
      ],
      "execution_count": null,
      "outputs": []
    },
    {
      "cell_type": "code",
      "metadata": {
        "id": "eeRjWIS-WM_s",
        "colab_type": "code",
        "colab": {}
      },
      "source": [
        "X_train, X_test, y_train, y_test = train_test_split(X, y, test_size = 0.1, random_state=42, stratify = y)"
      ],
      "execution_count": null,
      "outputs": []
    },
    {
      "cell_type": "code",
      "metadata": {
        "id": "hpmLVbdCWM_v",
        "colab_type": "code",
        "colab": {}
      },
      "source": [
        "tfidf = TfidfVectorizer(max_features=10000, min_df=5, ngram_range=(1,2), max_df=0.4)"
      ],
      "execution_count": null,
      "outputs": []
    },
    {
      "cell_type": "code",
      "metadata": {
        "id": "Mioo_neVWM_x",
        "colab_type": "code",
        "colab": {}
      },
      "source": [
        "X_train_tfidf = tfidf.fit_transform(X_train)\n",
        "X_test_tfidf = tfidf.transform(X_test)"
      ],
      "execution_count": null,
      "outputs": []
    },
    {
      "cell_type": "code",
      "metadata": {
        "id": "WqG922FHWM_0",
        "colab_type": "code",
        "colab": {}
      },
      "source": [
        "logreg = LogisticRegression(max_iter = 200).fit(X_train_tfidf, y_train)"
      ],
      "execution_count": null,
      "outputs": []
    },
    {
      "cell_type": "code",
      "metadata": {
        "id": "yCqTlEJAWM_1",
        "colab_type": "code",
        "colab": {}
      },
      "source": [
        "predicted = logreg.predict(X_test_tfidf)\n",
        "probabilities = logreg.predict_proba(X_test_tfidf)\n",
        "probs = [p[1] for p in probabilities]"
      ],
      "execution_count": null,
      "outputs": []
    },
    {
      "cell_type": "code",
      "metadata": {
        "id": "fcd_kDaHWM_4",
        "colab_type": "code",
        "colab": {}
      },
      "source": [
        "def metrics(true, pred, probs):\n",
        "    acc = accuracy_score(true, pred)\n",
        "    p = precision_score(true, pred, average='binary')\n",
        "    r = recall_score(true, pred, average='binary')\n",
        "    f1 = f1_score(true, pred, average='binary')\n",
        "    roc_auc = roc_auc_score(true, probs)\n",
        "    print('acc = {0:1.4f}'.format(acc))\n",
        "    print('F1 = {0:1.4f}, P = {1:1.4f}, R = {2:1.4f}'.format(f1, p, r))\n",
        "    print('ROC AUC = {0:1.4f}'.format(roc_auc))"
      ],
      "execution_count": null,
      "outputs": []
    },
    {
      "cell_type": "code",
      "metadata": {
        "colab_type": "code",
        "id": "9vlRZumNHUAi",
        "scrolled": false,
        "colab": {
          "base_uri": "https://localhost:8080/",
          "height": 68
        },
        "outputId": "200f8233-9ed0-4881-98cc-826f305425c4"
      },
      "source": [
        "metrics(y_test, predicted, probs)"
      ],
      "execution_count": null,
      "outputs": [
        {
          "output_type": "stream",
          "text": [
            "acc = 0.9530\n",
            "F1 = 0.7096, P = 0.8681, R = 0.6001\n",
            "ROC AUC = 0.9664\n"
          ],
          "name": "stdout"
        }
      ]
    },
    {
      "cell_type": "markdown",
      "metadata": {
        "id": "Rk3h46gpWM_8",
        "colab_type": "text"
      },
      "source": [
        "### Отбор признаков"
      ]
    },
    {
      "cell_type": "code",
      "metadata": {
        "colab_type": "code",
        "id": "KgApB2CzHUA2",
        "colab": {
          "base_uri": "https://localhost:8080/",
          "height": 50
        },
        "outputId": "0c54f5bb-2448-4173-a722-6d469ad361f7"
      },
      "source": [
        "%%time\n",
        "perm = PermutationImportance(logreg, random_state=1).fit(X_train_tfidf.toarray(), y_train)"
      ],
      "execution_count": null,
      "outputs": [
        {
          "output_type": "stream",
          "text": [
            "CPU times: user 11h 28min 38s, sys: 1h 22min 29s, total: 12h 51min 7s\n",
            "Wall time: 7h 49min 11s\n"
          ],
          "name": "stdout"
        }
      ]
    },
    {
      "cell_type": "code",
      "metadata": {
        "colab_type": "code",
        "id": "YLbeHbcZHUA5",
        "colab": {
          "base_uri": "https://localhost:8080/",
          "height": 218
        },
        "outputId": "d1306343-be03-4fc5-dbb4-10ba1e707ee4"
      },
      "source": [
        "eli5.show_weights(perm, top=10)"
      ],
      "execution_count": null,
      "outputs": [
        {
          "output_type": "execute_result",
          "data": {
            "text/html": [
              "\n",
              "    <style>\n",
              "    table.eli5-weights tr:hover {\n",
              "        filter: brightness(85%);\n",
              "    }\n",
              "</style>\n",
              "\n",
              "\n",
              "\n",
              "    \n",
              "\n",
              "    \n",
              "\n",
              "    \n",
              "\n",
              "    \n",
              "\n",
              "    \n",
              "\n",
              "    \n",
              "\n",
              "\n",
              "    \n",
              "\n",
              "    \n",
              "\n",
              "    \n",
              "\n",
              "    \n",
              "\n",
              "    \n",
              "\n",
              "    \n",
              "\n",
              "\n",
              "    \n",
              "\n",
              "    \n",
              "\n",
              "    \n",
              "\n",
              "    \n",
              "\n",
              "    \n",
              "        <table class=\"eli5-weights eli5-feature-importances\" style=\"border-collapse: collapse; border: none; margin-top: 0em; table-layout: auto;\">\n",
              "    <thead>\n",
              "    <tr style=\"border: none;\">\n",
              "        <th style=\"padding: 0 1em 0 0.5em; text-align: right; border: none;\">Weight</th>\n",
              "        <th style=\"padding: 0 0.5em 0 0.5em; text-align: left; border: none;\">Feature</th>\n",
              "    </tr>\n",
              "    </thead>\n",
              "    <tbody>\n",
              "    \n",
              "        <tr style=\"background-color: hsl(120, 100.00%, 80.00%); border: none;\">\n",
              "            <td style=\"padding: 0 1em 0 0.5em; text-align: right; border: none;\">\n",
              "                0.0083\n",
              "                \n",
              "                    &plusmn; 0.0006\n",
              "                \n",
              "            </td>\n",
              "            <td style=\"padding: 0 0.5em 0 0.5em; text-align: left; border: none;\">\n",
              "                x3285\n",
              "            </td>\n",
              "        </tr>\n",
              "    \n",
              "        <tr style=\"background-color: hsl(120, 100.00%, 86.15%); border: none;\">\n",
              "            <td style=\"padding: 0 1em 0 0.5em; text-align: right; border: none;\">\n",
              "                0.0049\n",
              "                \n",
              "                    &plusmn; 0.0006\n",
              "                \n",
              "            </td>\n",
              "            <td style=\"padding: 0 0.5em 0 0.5em; text-align: left; border: none;\">\n",
              "                x3300\n",
              "            </td>\n",
              "        </tr>\n",
              "    \n",
              "        <tr style=\"background-color: hsl(120, 100.00%, 88.21%); border: none;\">\n",
              "            <td style=\"padding: 0 1em 0 0.5em; text-align: right; border: none;\">\n",
              "                0.0039\n",
              "                \n",
              "                    &plusmn; 0.0002\n",
              "                \n",
              "            </td>\n",
              "            <td style=\"padding: 0 0.5em 0 0.5em; text-align: left; border: none;\">\n",
              "                x7152\n",
              "            </td>\n",
              "        </tr>\n",
              "    \n",
              "        <tr style=\"background-color: hsl(120, 100.00%, 89.70%); border: none;\">\n",
              "            <td style=\"padding: 0 1em 0 0.5em; text-align: right; border: none;\">\n",
              "                0.0032\n",
              "                \n",
              "                    &plusmn; 0.0003\n",
              "                \n",
              "            </td>\n",
              "            <td style=\"padding: 0 0.5em 0 0.5em; text-align: left; border: none;\">\n",
              "                x7540\n",
              "            </td>\n",
              "        </tr>\n",
              "    \n",
              "        <tr style=\"background-color: hsl(120, 100.00%, 92.08%); border: none;\">\n",
              "            <td style=\"padding: 0 1em 0 0.5em; text-align: right; border: none;\">\n",
              "                0.0022\n",
              "                \n",
              "                    &plusmn; 0.0002\n",
              "                \n",
              "            </td>\n",
              "            <td style=\"padding: 0 0.5em 0 0.5em; text-align: left; border: none;\">\n",
              "                x3866\n",
              "            </td>\n",
              "        </tr>\n",
              "    \n",
              "        <tr style=\"background-color: hsl(120, 100.00%, 92.81%); border: none;\">\n",
              "            <td style=\"padding: 0 1em 0 0.5em; text-align: right; border: none;\">\n",
              "                0.0019\n",
              "                \n",
              "                    &plusmn; 0.0002\n",
              "                \n",
              "            </td>\n",
              "            <td style=\"padding: 0 0.5em 0 0.5em; text-align: left; border: none;\">\n",
              "                x1402\n",
              "            </td>\n",
              "        </tr>\n",
              "    \n",
              "        <tr style=\"background-color: hsl(120, 100.00%, 92.86%); border: none;\">\n",
              "            <td style=\"padding: 0 1em 0 0.5em; text-align: right; border: none;\">\n",
              "                0.0019\n",
              "                \n",
              "                    &plusmn; 0.0001\n",
              "                \n",
              "            </td>\n",
              "            <td style=\"padding: 0 0.5em 0 0.5em; text-align: left; border: none;\">\n",
              "                x7576\n",
              "            </td>\n",
              "        </tr>\n",
              "    \n",
              "        <tr style=\"background-color: hsl(120, 100.00%, 93.82%); border: none;\">\n",
              "            <td style=\"padding: 0 1em 0 0.5em; text-align: right; border: none;\">\n",
              "                0.0016\n",
              "                \n",
              "                    &plusmn; 0.0001\n",
              "                \n",
              "            </td>\n",
              "            <td style=\"padding: 0 0.5em 0 0.5em; text-align: left; border: none;\">\n",
              "                x1042\n",
              "            </td>\n",
              "        </tr>\n",
              "    \n",
              "        <tr style=\"background-color: hsl(120, 100.00%, 94.28%); border: none;\">\n",
              "            <td style=\"padding: 0 1em 0 0.5em; text-align: right; border: none;\">\n",
              "                0.0014\n",
              "                \n",
              "                    &plusmn; 0.0002\n",
              "                \n",
              "            </td>\n",
              "            <td style=\"padding: 0 0.5em 0 0.5em; text-align: left; border: none;\">\n",
              "                x1052\n",
              "            </td>\n",
              "        </tr>\n",
              "    \n",
              "        <tr style=\"background-color: hsl(120, 100.00%, 95.23%); border: none;\">\n",
              "            <td style=\"padding: 0 1em 0 0.5em; text-align: right; border: none;\">\n",
              "                0.0011\n",
              "                \n",
              "                    &plusmn; 0.0001\n",
              "                \n",
              "            </td>\n",
              "            <td style=\"padding: 0 0.5em 0 0.5em; text-align: left; border: none;\">\n",
              "                x6106\n",
              "            </td>\n",
              "        </tr>\n",
              "    \n",
              "    \n",
              "        \n",
              "            <tr style=\"background-color: hsl(120, 100.00%, 95.23%); border: none;\">\n",
              "                <td colspan=\"2\" style=\"padding: 0 0.5em 0 0.5em; text-align: center; border: none; white-space: nowrap;\">\n",
              "                    <i>&hellip; 9990 more &hellip;</i>\n",
              "                </td>\n",
              "            </tr>\n",
              "        \n",
              "    \n",
              "    </tbody>\n",
              "</table>\n",
              "    \n",
              "\n",
              "    \n",
              "\n",
              "\n",
              "    \n",
              "\n",
              "    \n",
              "\n",
              "    \n",
              "\n",
              "    \n",
              "\n",
              "    \n",
              "\n",
              "    \n",
              "\n",
              "\n",
              "\n"
            ],
            "text/plain": [
              "<IPython.core.display.HTML object>"
            ]
          },
          "metadata": {
            "tags": []
          },
          "execution_count": 17
        }
      ]
    },
    {
      "cell_type": "code",
      "metadata": {
        "colab_type": "code",
        "id": "APqNML08HUA7",
        "colab": {}
      },
      "source": [
        "weights = eli5.formatters.as_dataframe.explain_weights_df(perm)\n",
        "weights.to_csv('weights10000.csv', index = False)"
      ],
      "execution_count": null,
      "outputs": []
    },
    {
      "cell_type": "code",
      "metadata": {
        "colab_type": "code",
        "id": "PdDqoxi3HUBA",
        "colab": {}
      },
      "source": [
        "top_features = [int(i[1:]) for i in weights[weights.weight != 0].feature if 'BIAS' not in i]"
      ],
      "execution_count": null,
      "outputs": []
    },
    {
      "cell_type": "markdown",
      "metadata": {
        "id": "CCGp3MXZWNAG",
        "colab_type": "text"
      },
      "source": [
        "Из 10000 признаков после отбора осталось 4430"
      ]
    },
    {
      "cell_type": "code",
      "metadata": {
        "colab_type": "code",
        "id": "cqygLEunHUBC",
        "colab": {
          "base_uri": "https://localhost:8080/",
          "height": 34
        },
        "outputId": "6e07563f-ea56-49b2-bfe1-fe0f22549564"
      },
      "source": [
        "len(top_features)"
      ],
      "execution_count": null,
      "outputs": [
        {
          "output_type": "execute_result",
          "data": {
            "text/plain": [
              "4430"
            ]
          },
          "metadata": {
            "tags": []
          },
          "execution_count": 45
        }
      ]
    },
    {
      "cell_type": "code",
      "metadata": {
        "colab_type": "code",
        "id": "LEe6Mu80HUBF",
        "colab": {
          "base_uri": "https://localhost:8080/",
          "height": 419
        },
        "outputId": "bf29182f-7207-4096-8532-0db06068d4e3"
      },
      "source": [
        "weights[weights.weight == 0]"
      ],
      "execution_count": null,
      "outputs": [
        {
          "output_type": "execute_result",
          "data": {
            "text/html": [
              "<div>\n",
              "<style scoped>\n",
              "    .dataframe tbody tr th:only-of-type {\n",
              "        vertical-align: middle;\n",
              "    }\n",
              "\n",
              "    .dataframe tbody tr th {\n",
              "        vertical-align: top;\n",
              "    }\n",
              "\n",
              "    .dataframe thead th {\n",
              "        text-align: right;\n",
              "    }\n",
              "</style>\n",
              "<table border=\"1\" class=\"dataframe\">\n",
              "  <thead>\n",
              "    <tr style=\"text-align: right;\">\n",
              "      <th></th>\n",
              "      <th>feature</th>\n",
              "      <th>weight</th>\n",
              "      <th>std</th>\n",
              "    </tr>\n",
              "  </thead>\n",
              "  <tbody>\n",
              "    <tr>\n",
              "      <th>2647</th>\n",
              "      <td>x3524</td>\n",
              "      <td>0.0</td>\n",
              "      <td>0.0</td>\n",
              "    </tr>\n",
              "    <tr>\n",
              "      <th>2648</th>\n",
              "      <td>x3814</td>\n",
              "      <td>0.0</td>\n",
              "      <td>0.0</td>\n",
              "    </tr>\n",
              "    <tr>\n",
              "      <th>2649</th>\n",
              "      <td>x3476</td>\n",
              "      <td>0.0</td>\n",
              "      <td>0.0</td>\n",
              "    </tr>\n",
              "    <tr>\n",
              "      <th>2650</th>\n",
              "      <td>x585</td>\n",
              "      <td>0.0</td>\n",
              "      <td>0.0</td>\n",
              "    </tr>\n",
              "    <tr>\n",
              "      <th>2651</th>\n",
              "      <td>x747</td>\n",
              "      <td>0.0</td>\n",
              "      <td>0.0</td>\n",
              "    </tr>\n",
              "    <tr>\n",
              "      <th>...</th>\n",
              "      <td>...</td>\n",
              "      <td>...</td>\n",
              "      <td>...</td>\n",
              "    </tr>\n",
              "    <tr>\n",
              "      <th>8212</th>\n",
              "      <td>x5112</td>\n",
              "      <td>0.0</td>\n",
              "      <td>0.0</td>\n",
              "    </tr>\n",
              "    <tr>\n",
              "      <th>8213</th>\n",
              "      <td>x6429</td>\n",
              "      <td>0.0</td>\n",
              "      <td>0.0</td>\n",
              "    </tr>\n",
              "    <tr>\n",
              "      <th>8214</th>\n",
              "      <td>x5044</td>\n",
              "      <td>0.0</td>\n",
              "      <td>0.0</td>\n",
              "    </tr>\n",
              "    <tr>\n",
              "      <th>8215</th>\n",
              "      <td>x5116</td>\n",
              "      <td>0.0</td>\n",
              "      <td>0.0</td>\n",
              "    </tr>\n",
              "    <tr>\n",
              "      <th>8216</th>\n",
              "      <td>x6427</td>\n",
              "      <td>0.0</td>\n",
              "      <td>0.0</td>\n",
              "    </tr>\n",
              "  </tbody>\n",
              "</table>\n",
              "<p>5570 rows × 3 columns</p>\n",
              "</div>"
            ],
            "text/plain": [
              "     feature  weight  std\n",
              "2647   x3524     0.0  0.0\n",
              "2648   x3814     0.0  0.0\n",
              "2649   x3476     0.0  0.0\n",
              "2650    x585     0.0  0.0\n",
              "2651    x747     0.0  0.0\n",
              "...      ...     ...  ...\n",
              "8212   x5112     0.0  0.0\n",
              "8213   x6429     0.0  0.0\n",
              "8214   x5044     0.0  0.0\n",
              "8215   x5116     0.0  0.0\n",
              "8216   x6427     0.0  0.0\n",
              "\n",
              "[5570 rows x 3 columns]"
            ]
          },
          "metadata": {
            "tags": []
          },
          "execution_count": 43
        }
      ]
    },
    {
      "cell_type": "code",
      "metadata": {
        "colab_type": "code",
        "id": "1zXLuzdEHUBH",
        "colab": {}
      },
      "source": [
        "X_train_perm = X_train_tfidf[:,top_features]\n",
        "X_test_perm = X_test_tfidf[:,top_features]"
      ],
      "execution_count": null,
      "outputs": []
    },
    {
      "cell_type": "code",
      "metadata": {
        "colab_type": "code",
        "id": "_UCBFiMrHUBK",
        "colab": {}
      },
      "source": [
        "perm_model = LogisticRegression(max_iter = 200).fit(X_train_perm, y_train)"
      ],
      "execution_count": null,
      "outputs": []
    },
    {
      "cell_type": "code",
      "metadata": {
        "colab_type": "code",
        "id": "u_kyN5fIHUBM",
        "colab": {}
      },
      "source": [
        "predicted2 = perm_model.predict(X_test_perm)\n",
        "probabilities2 = perm_model.predict_proba(X_test_perm)\n",
        "probs2 = [p[1] for p in probabilities2]"
      ],
      "execution_count": null,
      "outputs": []
    },
    {
      "cell_type": "code",
      "metadata": {
        "colab_type": "code",
        "id": "WgmJ007sHUBQ",
        "scrolled": false,
        "colab": {
          "base_uri": "https://localhost:8080/",
          "height": 68
        },
        "outputId": "ee19bea6-77a8-4ccf-80d3-edd491bc69fc"
      },
      "source": [
        "metrics(y_test, predicted2, probs2)"
      ],
      "execution_count": null,
      "outputs": [
        {
          "output_type": "stream",
          "text": [
            "acc = 0.9531\n",
            "F1 = 0.7105, P = 0.8677, R = 0.6015\n",
            "ROC AUC = 0.9663\n"
          ],
          "name": "stdout"
        }
      ]
    },
    {
      "cell_type": "markdown",
      "metadata": {
        "id": "4yoNZ8CVWNAT",
        "colab_type": "text"
      },
      "source": [
        "# Ансамбль\n",
        "\n",
        "Ряд 3, колонка 5: Ансамбль из моделей в sklearn - 2 балла"
      ]
    },
    {
      "cell_type": "code",
      "metadata": {
        "id": "GvXvlm7mWNAT",
        "colab_type": "code",
        "colab": {}
      },
      "source": [
        "from sklearn.tree import DecisionTreeClassifier\n",
        "from sklearn.linear_model import LogisticRegression, RidgeClassifier\n",
        "from sklearn.neighbors import KNeighborsClassifier\n",
        "from sklearn.naive_bayes import GaussianNB\n",
        "from sklearn.svm import LinearSVC\n",
        "from sklearn.pipeline import Pipeline\n",
        "from sklearn.ensemble import VotingClassifier\n",
        "from sklearn.preprocessing import FunctionTransformer"
      ],
      "execution_count": null,
      "outputs": []
    },
    {
      "cell_type": "code",
      "metadata": {
        "colab_type": "code",
        "id": "zAvi1O9cPpBi",
        "colab": {}
      },
      "source": [
        "clf1 = LogisticRegression(max_iter = 200)\n",
        "clf2 = GaussianNB()\n",
        "clf3 = LinearSVC(max_iter = 500)\n",
        "clf4 = DecisionTreeClassifier()\n",
        "clf5 = RidgeClassifier()"
      ],
      "execution_count": null,
      "outputs": []
    },
    {
      "cell_type": "code",
      "metadata": {
        "colab_type": "code",
        "id": "HuFwDzG-P9co",
        "colab": {}
      },
      "source": [
        "voting = VotingClassifier(estimators=[\n",
        "        ('clf1', clf1), \n",
        "        ('clf2', clf2), \n",
        "        ('clf3', clf3), \n",
        "        ('clf4', clf4),\n",
        "        ('clf5', clf5) \n",
        "        ], \n",
        "        voting='hard')"
      ],
      "execution_count": null,
      "outputs": []
    },
    {
      "cell_type": "code",
      "metadata": {
        "colab_type": "code",
        "id": "OXSYi--KQDLA",
        "colab": {
          "base_uri": "https://localhost:8080/",
          "height": 51
        },
        "outputId": "36ed79f1-9e62-4bfd-aa4d-aa330268d2b4"
      },
      "source": [
        "%%time\n",
        "pipe = Pipeline([\n",
        "    ('to_dense', FunctionTransformer(lambda x: x.todense(), accept_sparse=True)), \n",
        "    ('clf', voting),\n",
        "    ])\n",
        "pipe = pipe.fit(X_train_perm[:80000], y_train[:80000])"
      ],
      "execution_count": null,
      "outputs": [
        {
          "output_type": "stream",
          "text": [
            "CPU times: user 42min 19s, sys: 7.16 s, total: 42min 26s\n",
            "Wall time: 40min 45s\n"
          ],
          "name": "stdout"
        }
      ]
    },
    {
      "cell_type": "code",
      "metadata": {
        "id": "7NbRPWMKWNAc",
        "colab_type": "code",
        "colab": {}
      },
      "source": [
        "def metrics(true, pred):\n",
        "    acc = accuracy_score(true, pred)\n",
        "    p = precision_score(true, pred, average='binary')\n",
        "    r = recall_score(true, pred, average='binary')\n",
        "    f1 = f1_score(true, pred, average='binary')\n",
        "    roc_auc = roc_auc_score(true, pred)\n",
        "    print('acc = {0:1.4f}'.format(acc))\n",
        "    print('F1 = {0:1.4f}, P = {1:1.4f}, R = {2:1.4f}'.format(f1, p, r))\n",
        "    print('ROC AUC = {0:1.4f}'.format(roc_auc))"
      ],
      "execution_count": null,
      "outputs": []
    },
    {
      "cell_type": "code",
      "metadata": {
        "colab_type": "code",
        "id": "Wu8mvy5U4xIB",
        "colab": {}
      },
      "source": [
        "predictions2 = pipe.predict(X_test_perm)"
      ],
      "execution_count": null,
      "outputs": []
    },
    {
      "cell_type": "code",
      "metadata": {
        "colab_type": "code",
        "id": "32BFn0rl40HL",
        "colab": {
          "base_uri": "https://localhost:8080/",
          "height": 68
        },
        "outputId": "69bc9e81-993e-4429-c3cd-4a874ca78416"
      },
      "source": [
        "metrics(y_test, predictions2)"
      ],
      "execution_count": null,
      "outputs": [
        {
          "output_type": "stream",
          "text": [
            "acc = 0.9533\n",
            "F1 = 0.7102, P = 0.8747, R = 0.5978\n",
            "ROC AUC = 0.7944\n"
          ],
          "name": "stdout"
        }
      ]
    },
    {
      "cell_type": "markdown",
      "metadata": {
        "id": "Q7gWabJXWNAk",
        "colab_type": "text"
      },
      "source": [
        "Рассчитать ROC AUC по-настоящему здесь не получается, поскольку при параметре voting = 'hard' вероятности недоступны, а при 'soft' голосовании ансамбль работал хуже"
      ]
    },
    {
      "cell_type": "markdown",
      "metadata": {
        "id": "-WPHLZo9WNAl",
        "colab_type": "text"
      },
      "source": [
        "# Токенизация на символьные n-граммы\n",
        "\n",
        "Ряд 5, колонка 5: Использование токенизации на символьные нграммы - 2 балла"
      ]
    },
    {
      "cell_type": "code",
      "metadata": {
        "colab_type": "code",
        "id": "HG0cvXCYFuoD",
        "colab": {}
      },
      "source": [
        "import youtokentome as yttm"
      ],
      "execution_count": null,
      "outputs": []
    },
    {
      "cell_type": "code",
      "metadata": {
        "colab_type": "code",
        "id": "NfNtrwbnGE9k",
        "colab": {}
      },
      "source": [
        "yttm_train = '\\n'.join(X_train.tolist())"
      ],
      "execution_count": null,
      "outputs": []
    },
    {
      "cell_type": "code",
      "metadata": {
        "colab_type": "code",
        "id": "Ie-9hjtzG2Hy",
        "colab": {}
      },
      "source": [
        "train_path = '/content/drive/My Drive/Jigsaw/yttm_train2.txt'\n",
        "model_path = '/content/drive/My Drive/Jigsaw/yttm2.model'"
      ],
      "execution_count": null,
      "outputs": []
    },
    {
      "cell_type": "code",
      "metadata": {
        "colab_type": "code",
        "id": "lzIx5U_-GJyz",
        "colab": {}
      },
      "source": [
        "with open(train_path, 'w') as f:\n",
        "  f.write(yttm_train)"
      ],
      "execution_count": null,
      "outputs": []
    },
    {
      "cell_type": "code",
      "metadata": {
        "colab_type": "code",
        "id": "kQOKJu8KHaN6",
        "colab": {
          "base_uri": "https://localhost:8080/",
          "height": 34
        },
        "outputId": "e8bbfa60-a3f4-469f-dc5b-1bcddb2198ab"
      },
      "source": [
        "yttm.BPE.train(data=train_path, vocab_size=100000, model=model_path)"
      ],
      "execution_count": null,
      "outputs": [
        {
          "output_type": "execute_result",
          "data": {
            "text/plain": [
              "<youtokentome.youtokentome.BPE at 0x7fef005d13c8>"
            ]
          },
          "metadata": {
            "tags": []
          },
          "execution_count": 13
        }
      ]
    },
    {
      "cell_type": "code",
      "metadata": {
        "colab_type": "code",
        "id": "YpoEPa-8IMOf",
        "colab": {}
      },
      "source": [
        "bpe = yttm.BPE(model=model_path)"
      ],
      "execution_count": null,
      "outputs": []
    },
    {
      "cell_type": "code",
      "metadata": {
        "colab_type": "code",
        "id": "fqqHle6wIfF6",
        "colab": {
          "base_uri": "https://localhost:8080/",
          "height": 34
        },
        "outputId": "58ac9161-bde2-4b5b-c166-b9bfefc0fdd2"
      },
      "source": [
        "X_train[0]"
      ],
      "execution_count": null,
      "outputs": [
        {
          "output_type": "execute_result",
          "data": {
            "text/plain": [
              "'so what idiot stop vanalising'"
            ]
          },
          "metadata": {
            "tags": []
          },
          "execution_count": 17
        }
      ]
    },
    {
      "cell_type": "code",
      "metadata": {
        "colab_type": "code",
        "id": "r_cu6f7uJRnT",
        "colab": {
          "base_uri": "https://localhost:8080/",
          "height": 34
        },
        "outputId": "a07160d0-d113-42a8-9608-735dd6a328cf"
      },
      "source": [
        "print(bpe.encode(X_train[0], output_type=yttm.OutputType.SUBWORD))"
      ],
      "execution_count": null,
      "outputs": [
        {
          "output_type": "stream",
          "text": [
            "['▁so', '▁what', '▁idiot', '▁stop', '▁van', 'al', 'ising']\n"
          ],
          "name": "stdout"
        }
      ]
    },
    {
      "cell_type": "code",
      "metadata": {
        "colab_type": "code",
        "id": "2B7-g78ZNZpC",
        "colab": {
          "base_uri": "https://localhost:8080/",
          "height": 34
        },
        "outputId": "14e550f9-8dbb-4d29-b387-304953c79d3e"
      },
      "source": [
        "vocab_len = len(bpe.vocab())\n",
        "vocab_len"
      ],
      "execution_count": null,
      "outputs": [
        {
          "output_type": "execute_result",
          "data": {
            "text/plain": [
              "100000"
            ]
          },
          "metadata": {
            "tags": []
          },
          "execution_count": 16
        }
      ]
    },
    {
      "cell_type": "code",
      "metadata": {
        "colab_type": "code",
        "id": "dr0lbcVvPCBC",
        "colab": {}
      },
      "source": [
        "X_train_ind = [bpe.encode(text, output_type=yttm.OutputType.ID) for text in X_train]\n",
        "X_test_ind = [bpe.encode(text, output_type=yttm.OutputType.ID) for text in X_test]"
      ],
      "execution_count": null,
      "outputs": []
    },
    {
      "cell_type": "markdown",
      "metadata": {
        "id": "3RRZ1eegWNA9",
        "colab_type": "text"
      },
      "source": [
        "# Нейронная модель \n",
        "\n",
        "Ряд 4, колонка 5: Любая нейронная модель (минимум 5 слоев) с Dropout, Pooling и колбеками - 2 балла"
      ]
    },
    {
      "cell_type": "code",
      "metadata": {
        "colab_type": "code",
        "id": "BMiVDMZmPmNS",
        "colab": {
          "base_uri": "https://localhost:8080/",
          "height": 34
        },
        "outputId": "20b19c9a-8d45-4f2c-fba3-e0cafb4f18e8"
      },
      "source": [
        "MAX_LEN = max(len(x) for x in X_train_ind)\n",
        "MEAN_LEN = np.median([len(x) for x in X_train_ind])\n",
        "MAX_LEN, MEAN_LEN"
      ],
      "execution_count": null,
      "outputs": [
        {
          "output_type": "execute_result",
          "data": {
            "text/plain": [
              "(3185, 40.0)"
            ]
          },
          "metadata": {
            "tags": []
          },
          "execution_count": 21
        }
      ]
    },
    {
      "cell_type": "code",
      "metadata": {
        "colab_type": "code",
        "id": "LPVY9U5XQKzb",
        "colab": {}
      },
      "source": [
        "X_train_pad = tf.keras.preprocessing.sequence.pad_sequences(X_train_ind, maxlen=100)\n",
        "X_test_pad = tf.keras.preprocessing.sequence.pad_sequences(X_test_ind, maxlen=100)"
      ],
      "execution_count": null,
      "outputs": []
    },
    {
      "cell_type": "code",
      "metadata": {
        "colab_type": "code",
        "id": "iKEQNFPqiCJY",
        "colab": {}
      },
      "source": [
        "from tensorflow.keras import backend as K\n",
        "def f1(y_true, y_pred):\n",
        "    def recall(y_true, y_pred):\n",
        "        \"\"\"Recall metric.\n",
        "\n",
        "        Only computes a batch-wise average of recall.\n",
        "\n",
        "        Computes the recall, a metric for multi-label classification of\n",
        "        how many relevant items are selected.\n",
        "        \"\"\"\n",
        "        true_positives = K.sum(K.round(K.clip(y_true * y_pred, 0, 1)))\n",
        "        possible_positives = K.sum(K.round(K.clip(y_true, 0, 1)))\n",
        "        recall = true_positives / (possible_positives + K.epsilon())\n",
        "        return recall\n",
        "\n",
        "    def precision(y_true, y_pred):\n",
        "        \"\"\"Precision metric.\n",
        "\n",
        "        Only computes a batch-wise average of precision.\n",
        "\n",
        "        Computes the precision, a metric for multi-label classification of\n",
        "        how many selected items are relevant.\n",
        "        \"\"\"\n",
        "        true_positives = K.sum(K.round(K.clip(y_true * y_pred, 0, 1)))\n",
        "        predicted_positives = K.sum(K.round(K.clip(y_pred, 0, 1)))\n",
        "        precision = true_positives / (predicted_positives + K.epsilon())\n",
        "        return precision\n",
        "    precision = precision(y_true, y_pred)\n",
        "    recall = recall(y_true, y_pred)\n",
        "    return 2*((precision*recall)/(precision+recall+K.epsilon()))"
      ],
      "execution_count": null,
      "outputs": []
    },
    {
      "cell_type": "code",
      "metadata": {
        "colab_type": "code",
        "id": "xvWhfY-e02gd",
        "colab": {}
      },
      "source": [
        "inputs = tf.keras.layers.Input(shape=(100,), name='inputs')\n",
        "embeddings = tf.keras.layers.Embedding(input_dim=vocab_len, output_dim=10, name='embeddings')(inputs, )\n",
        "\n",
        "\n",
        "pad1 = tf.keras.layers.Lambda(lambda x: tf.pad(x, \n",
        "                                               [[0,0], [77,77], [0, 0]], \n",
        "                                               mode='REFLECT'), name='pad1')(embeddings)\n",
        "conv1 = tf.keras.layers.Conv1D(kernel_size=8, filters=56, strides = 2, name='conv1')(pad1)\n",
        "drop1 = tf.keras.layers.Dropout(0.6, name='drop1')(conv1)\n",
        "conv2 = tf.keras.layers.Conv1D(kernel_size=6, filters=40, strides = 2, name='conv2')(drop1)\n",
        "pool1 = tf.keras.layers.MaxPool1D()(conv2)\n",
        "\n",
        "\n",
        "drop0 = tf.keras.layers.Dropout(0.5, name='drop0')(embeddings)\n",
        "pad2 = tf.keras.layers.Lambda(lambda x: tf.pad(x, \n",
        "                                               [[0,0], [85,85], [0, 0]], \n",
        "                                               mode='REFLECT'), name='pad2')(drop0)\n",
        "conv3 = tf.keras.layers.Conv1D(kernel_size=10, filters=64, strides = 2, name='conv3')(pad2)\n",
        "pool2 = tf.keras.layers.MaxPool1D()(conv3)\n",
        "conv4 = tf.keras.layers.Conv1D(kernel_size=6, filters=32, strides = 2, name='conv4')(pool2)\n",
        "\n",
        "\n",
        "concat = tf.keras.layers.concatenate([pool1, conv4], name='concat')\n",
        "flat = tf.keras.layers.Flatten()(concat)\n",
        "dense = tf.keras.layers.Dense(64, activation='relu')(flat)\n",
        "\n",
        "outputs = tf.keras.layers.Dense(1, activation='sigmoid')(dense)\n",
        "\n",
        "model = tf.keras.Model(inputs=inputs, outputs=outputs)\n",
        "optimizer = tf.keras.optimizers.Adam(learning_rate=0.001)\n",
        "model.compile(optimizer=optimizer,\n",
        "              loss='binary_crossentropy',\n",
        "              metrics=[f1, tf.keras.metrics.AUC()])"
      ],
      "execution_count": null,
      "outputs": []
    },
    {
      "cell_type": "code",
      "metadata": {
        "colab_type": "code",
        "id": "5fxEHZtKIC0G",
        "colab": {}
      },
      "source": [
        "checkpoint = tf.keras.callbacks.ModelCheckpoint('/content/drive/My Drive/Jigsaw/model.weights', \n",
        "                                                monitor='val_auc_12', \n",
        "                                                verbose=1, \n",
        "                                                save_weights_only=True, \n",
        "                                                save_best_only=True, \n",
        "                                                mode='max', \n",
        "                                                save_freq='epoch')\n",
        " \n",
        "early_stop = tf.keras.callbacks.EarlyStopping(monitor='val_auc_12', \n",
        "                                              min_delta=0.01, \n",
        "                                              patience=3, \n",
        "                                              verbose=1, \n",
        "                                              mode='max')"
      ],
      "execution_count": null,
      "outputs": []
    },
    {
      "cell_type": "code",
      "metadata": {
        "colab_type": "code",
        "id": "sQj2QV6tg1nf",
        "scrolled": true,
        "colab": {
          "base_uri": "https://localhost:8080/",
          "height": 714
        },
        "outputId": "f9551269-b3c3-42b4-a961-e968fc091b8e"
      },
      "source": [
        "model.summary()"
      ],
      "execution_count": null,
      "outputs": [
        {
          "output_type": "stream",
          "text": [
            "Model: \"model_12\"\n",
            "__________________________________________________________________________________________________\n",
            "Layer (type)                    Output Shape         Param #     Connected to                     \n",
            "==================================================================================================\n",
            "inputs (InputLayer)             [(None, 100)]        0                                            \n",
            "__________________________________________________________________________________________________\n",
            "embeddings (Embedding)          (None, 100, 10)      1000000     inputs[0][0]                     \n",
            "__________________________________________________________________________________________________\n",
            "pad1 (Lambda)                   (None, 254, 10)      0           embeddings[0][0]                 \n",
            "__________________________________________________________________________________________________\n",
            "drop0 (Dropout)                 (None, 100, 10)      0           embeddings[0][0]                 \n",
            "__________________________________________________________________________________________________\n",
            "conv1 (Conv1D)                  (None, 124, 56)      4536        pad1[0][0]                       \n",
            "__________________________________________________________________________________________________\n",
            "pad2 (Lambda)                   (None, 270, 10)      0           drop0[0][0]                      \n",
            "__________________________________________________________________________________________________\n",
            "drop1 (Dropout)                 (None, 124, 56)      0           conv1[0][0]                      \n",
            "__________________________________________________________________________________________________\n",
            "conv3 (Conv1D)                  (None, 131, 64)      6464        pad2[0][0]                       \n",
            "__________________________________________________________________________________________________\n",
            "conv2 (Conv1D)                  (None, 60, 40)       13480       drop1[0][0]                      \n",
            "__________________________________________________________________________________________________\n",
            "max_pooling1d_24 (MaxPooling1D) (None, 65, 64)       0           conv3[0][0]                      \n",
            "__________________________________________________________________________________________________\n",
            "max_pooling1d_23 (MaxPooling1D) (None, 30, 40)       0           conv2[0][0]                      \n",
            "__________________________________________________________________________________________________\n",
            "conv4 (Conv1D)                  (None, 30, 32)       12320       max_pooling1d_24[0][0]           \n",
            "__________________________________________________________________________________________________\n",
            "concat (Concatenate)            (None, 30, 72)       0           max_pooling1d_23[0][0]           \n",
            "                                                                 conv4[0][0]                      \n",
            "__________________________________________________________________________________________________\n",
            "flatten_7 (Flatten)             (None, 2160)         0           concat[0][0]                     \n",
            "__________________________________________________________________________________________________\n",
            "dense_18 (Dense)                (None, 64)           138304      flatten_7[0][0]                  \n",
            "__________________________________________________________________________________________________\n",
            "dense_19 (Dense)                (None, 1)            65          dense_18[0][0]                   \n",
            "==================================================================================================\n",
            "Total params: 1,175,169\n",
            "Trainable params: 1,175,169\n",
            "Non-trainable params: 0\n",
            "__________________________________________________________________________________________________\n"
          ],
          "name": "stdout"
        }
      ]
    },
    {
      "cell_type": "code",
      "metadata": {
        "colab_type": "code",
        "id": "iC6z6G-PDJed",
        "colab": {
          "base_uri": "https://localhost:8080/",
          "height": 323
        },
        "outputId": "eac59b0e-0a56-4605-cb5c-fa6775263328"
      },
      "source": [
        "model.fit(X_train_pad, y_train, \n",
        "          validation_data=(X_test_pad, y_test),\n",
        "          batch_size=1000,\n",
        "          epochs=10,\n",
        "          callbacks=[checkpoint, early_stop])"
      ],
      "execution_count": null,
      "outputs": [
        {
          "output_type": "stream",
          "text": [
            "Epoch 1/10\n",
            "202/202 [==============================] - ETA: 0s - loss: 0.2308 - f1: 0.3429 - auc_12: 0.8458\n",
            "Epoch 00001: val_auc_12 improved from -inf to 0.94542, saving model to /content/drive/My Drive/Jigsaw/model.weights\n",
            "202/202 [==============================] - 148s 732ms/step - loss: 0.2308 - f1: 0.3429 - auc_12: 0.8458 - val_loss: 0.1539 - val_f1: 0.6814 - val_auc_12: 0.9454\n",
            "Epoch 2/10\n",
            "202/202 [==============================] - ETA: 0s - loss: 0.1075 - f1: 0.7692 - auc_12: 0.9735\n",
            "Epoch 00002: val_auc_12 improved from 0.94542 to 0.94855, saving model to /content/drive/My Drive/Jigsaw/model.weights\n",
            "202/202 [==============================] - 148s 732ms/step - loss: 0.1075 - f1: 0.7692 - auc_12: 0.9735 - val_loss: 0.1501 - val_f1: 0.7151 - val_auc_12: 0.9485\n",
            "Epoch 3/10\n",
            "202/202 [==============================] - ETA: 0s - loss: 0.0622 - f1: 0.8768 - auc_12: 0.9914\n",
            "Epoch 00003: val_auc_12 did not improve from 0.94855\n",
            "202/202 [==============================] - 150s 742ms/step - loss: 0.0622 - f1: 0.8768 - auc_12: 0.9914 - val_loss: 0.1782 - val_f1: 0.7026 - val_auc_12: 0.9256\n",
            "Epoch 4/10\n",
            "202/202 [==============================] - ETA: 0s - loss: 0.0341 - f1: 0.9384 - auc_12: 0.9970\n",
            "Epoch 00004: val_auc_12 did not improve from 0.94855\n",
            "202/202 [==============================] - 146s 724ms/step - loss: 0.0341 - f1: 0.9384 - auc_12: 0.9970 - val_loss: 0.2849 - val_f1: 0.6841 - val_auc_12: 0.8925\n",
            "Epoch 00004: early stopping\n"
          ],
          "name": "stdout"
        },
        {
          "output_type": "execute_result",
          "data": {
            "text/plain": [
              "<tensorflow.python.keras.callbacks.History at 0x7feec9242d68>"
            ]
          },
          "metadata": {
            "tags": []
          },
          "execution_count": 71
        }
      ]
    },
    {
      "cell_type": "markdown",
      "metadata": {
        "id": "AkSH7QWoWNBR",
        "colab_type": "text"
      },
      "source": [
        "# Поиск аутлаеров\n",
        "\n",
        "Ряд 7, колонка 1: Поиск аутлаеров в данных с помощью кластеризации (нужно найти хотя бы 20 странных не одинаковых текста)  - 1.5 балла"
      ]
    },
    {
      "cell_type": "code",
      "metadata": {
        "id": "3iQVZNwlWNBS",
        "colab_type": "code",
        "colab": {}
      },
      "source": [
        "from sklearn.decomposition import PCA, TruncatedSVD\n",
        "from sklearn.cluster import DBSCAN"
      ],
      "execution_count": null,
      "outputs": []
    },
    {
      "cell_type": "code",
      "metadata": {
        "id": "L7YrTljDWNBT",
        "colab_type": "code",
        "colab": {}
      },
      "source": [
        "X = data.comment_text.values"
      ],
      "execution_count": null,
      "outputs": []
    },
    {
      "cell_type": "code",
      "metadata": {
        "id": "Zh7Ppj5hWNBW",
        "colab_type": "code",
        "colab": {}
      },
      "source": [
        "tfidf = TfidfVectorizer(max_features=10000, min_df=5, ngram_range=(1,2), max_df=0.4)\n",
        "X_tfidf = tfidf.fit_transform(X)"
      ],
      "execution_count": null,
      "outputs": []
    },
    {
      "cell_type": "markdown",
      "metadata": {
        "id": "IzKkayY0WNBY",
        "colab_type": "text"
      },
      "source": [
        "Получилось, что что-то более менее похожее на аутлаеры иногда появлялось в -1 кластере тогда, когда использовалось понижение размерности (я использовала PCA и TruncatedSVD)"
      ]
    },
    {
      "cell_type": "code",
      "metadata": {
        "id": "GscOuhUaWNBY",
        "colab_type": "code",
        "colab": {}
      },
      "source": [
        "pca = PCA(n_components=2)\n",
        "sample = X_tfidf[:10000]\n",
        "X_pca = pca.fit_transform(sample.toarray())"
      ],
      "execution_count": null,
      "outputs": []
    },
    {
      "cell_type": "code",
      "metadata": {
        "id": "QLmkXFPdWNBa",
        "colab_type": "code",
        "colab": {},
        "outputId": "ced29e68-33f5-48fd-8c21-961dc3a6964b"
      },
      "source": [
        "cluster = DBSCAN(min_samples = 5, eps = 0.02)\n",
        "cluster.fit(X_pca)"
      ],
      "execution_count": null,
      "outputs": [
        {
          "output_type": "execute_result",
          "data": {
            "text/plain": [
              "DBSCAN(algorithm='auto', eps=0.02, leaf_size=30, metric='euclidean',\n",
              "       metric_params=None, min_samples=5, n_jobs=None, p=None)"
            ]
          },
          "metadata": {
            "tags": []
          },
          "execution_count": 251
        }
      ]
    },
    {
      "cell_type": "code",
      "metadata": {
        "id": "ULz6gbXZWNBc",
        "colab_type": "code",
        "colab": {},
        "outputId": "8fc6cf8e-35b9-4569-a86b-14c792e9ba8b"
      },
      "source": [
        "set(cluster.labels_)"
      ],
      "execution_count": null,
      "outputs": [
        {
          "output_type": "execute_result",
          "data": {
            "text/plain": [
              "{-1, 0, 1, 2, 3, 4, 5, 6, 7, 8}"
            ]
          },
          "metadata": {
            "tags": []
          },
          "execution_count": 252
        }
      ]
    },
    {
      "cell_type": "code",
      "metadata": {
        "id": "FT5b9JzcWNBe",
        "colab_type": "code",
        "colab": {}
      },
      "source": [
        "out_inds = [i for i, label in enumerate(cluster.labels_) if label ==-1]"
      ],
      "execution_count": null,
      "outputs": []
    },
    {
      "cell_type": "code",
      "metadata": {
        "id": "GyaMivZoWNBg",
        "colab_type": "code",
        "colab": {},
        "outputId": "c64f1c7f-4c90-4b69-ebb6-e0a0d2425143"
      },
      "source": [
        "out_inds[:10]"
      ],
      "execution_count": null,
      "outputs": [
        {
          "output_type": "execute_result",
          "data": {
            "text/plain": [
              "[539, 553, 584, 675, 821, 864, 963, 1437, 1611, 1908]"
            ]
          },
          "metadata": {
            "tags": []
          },
          "execution_count": 254
        }
      ]
    },
    {
      "cell_type": "markdown",
      "metadata": {
        "id": "qdd8dJ9IWNBh",
        "colab_type": "text"
      },
      "source": [
        "По большей части все равно собираются обычные комментарии, возможно с редкими словами"
      ]
    },
    {
      "cell_type": "code",
      "metadata": {
        "id": "u38PjjkoWNBi",
        "colab_type": "code",
        "colab": {},
        "outputId": "6a2b3a16-9f3c-4107-c237-fba2293e0462"
      },
      "source": [
        "data.loc[out_inds[:10], ['comment_text', 'toxic']]"
      ],
      "execution_count": null,
      "outputs": [
        {
          "output_type": "execute_result",
          "data": {
            "text/html": [
              "<div>\n",
              "<style scoped>\n",
              "    .dataframe tbody tr th:only-of-type {\n",
              "        vertical-align: middle;\n",
              "    }\n",
              "\n",
              "    .dataframe tbody tr th {\n",
              "        vertical-align: top;\n",
              "    }\n",
              "\n",
              "    .dataframe thead th {\n",
              "        text-align: right;\n",
              "    }\n",
              "</style>\n",
              "<table border=\"1\" class=\"dataframe\">\n",
              "  <thead>\n",
              "    <tr style=\"text-align: right;\">\n",
              "      <th></th>\n",
              "      <th>comment_text</th>\n",
              "      <th>toxic</th>\n",
              "    </tr>\n",
              "  </thead>\n",
              "  <tbody>\n",
              "    <tr>\n",
              "      <th>539</th>\n",
              "      <td>\"\\n\\nElvis... Crying in the Chapel  Feudalist  \"</td>\n",
              "      <td>0</td>\n",
              "    </tr>\n",
              "    <tr>\n",
              "      <th>553</th>\n",
              "      <td>iPad talk page \\n\\nWhy did you remove that IP's edit to the talk page? It wasn't spam...</td>\n",
              "      <td>0</td>\n",
              "    </tr>\n",
              "    <tr>\n",
              "      <th>584</th>\n",
              "      <td>\"\\n\\n Question on Possible Citation \\n\\nI'm sorry if I missed your question - I don't pay much a...</td>\n",
              "      <td>0</td>\n",
              "    </tr>\n",
              "    <tr>\n",
              "      <th>675</th>\n",
              "      <td>\"\\n\\n Please do not add unsourced negative or controversial biographical material to pages, as y...</td>\n",
              "      <td>0</td>\n",
              "    </tr>\n",
              "    <tr>\n",
              "      <th>821</th>\n",
              "      <td>31 July 2007\\n Please stop. If you continue to vandalize Wikipedia, you will be blocked from edi...</td>\n",
              "      <td>0</td>\n",
              "    </tr>\n",
              "    <tr>\n",
              "      <th>864</th>\n",
              "      <td>\"\\n\\nReplacement\\n\\nPLEASE DO NOT EDIT BELOW THIS NOTE. THE WHOLE SUPRA-SECTION WILL DISAPPEAR A...</td>\n",
              "      <td>0</td>\n",
              "    </tr>\n",
              "    <tr>\n",
              "      <th>963</th>\n",
              "      <td>\"\\n\\n Please do not remove content from pages without explanation, as you did with this edit to ...</td>\n",
              "      <td>0</td>\n",
              "    </tr>\n",
              "    <tr>\n",
              "      <th>1437</th>\n",
              "      <td>\"\\nTalkback\\n\\nBlessed be!!  Talk \"</td>\n",
              "      <td>0</td>\n",
              "    </tr>\n",
              "    <tr>\n",
              "      <th>1611</th>\n",
              "      <td>\"\\n\\n Please stop your disruptive editing. If you continue to vandalize Wikipedia,  you will be ...</td>\n",
              "      <td>0</td>\n",
              "    </tr>\n",
              "    <tr>\n",
              "      <th>1908</th>\n",
              "      <td>\"\\n\\nA tag has been placed on Beezwax, requesting that it be speedily deleted from Wikipedia. Th...</td>\n",
              "      <td>0</td>\n",
              "    </tr>\n",
              "  </tbody>\n",
              "</table>\n",
              "</div>"
            ],
            "text/plain": [
              "                                                                                             comment_text  \\\n",
              "539                                                      \"\\n\\nElvis... Crying in the Chapel  Feudalist  \"   \n",
              "553              iPad talk page \\n\\nWhy did you remove that IP's edit to the talk page? It wasn't spam...   \n",
              "584   \"\\n\\n Question on Possible Citation \\n\\nI'm sorry if I missed your question - I don't pay much a...   \n",
              "675   \"\\n\\n Please do not add unsourced negative or controversial biographical material to pages, as y...   \n",
              "821   31 July 2007\\n Please stop. If you continue to vandalize Wikipedia, you will be blocked from edi...   \n",
              "864   \"\\n\\nReplacement\\n\\nPLEASE DO NOT EDIT BELOW THIS NOTE. THE WHOLE SUPRA-SECTION WILL DISAPPEAR A...   \n",
              "963   \"\\n\\n Please do not remove content from pages without explanation, as you did with this edit to ...   \n",
              "1437                                                                  \"\\nTalkback\\n\\nBlessed be!!  Talk \"   \n",
              "1611  \"\\n\\n Please stop your disruptive editing. If you continue to vandalize Wikipedia,  you will be ...   \n",
              "1908  \"\\n\\nA tag has been placed on Beezwax, requesting that it be speedily deleted from Wikipedia. Th...   \n",
              "\n",
              "      toxic  \n",
              "539       0  \n",
              "553       0  \n",
              "584       0  \n",
              "675       0  \n",
              "821       0  \n",
              "864       0  \n",
              "963       0  \n",
              "1437      0  \n",
              "1611      0  \n",
              "1908      0  "
            ]
          },
          "metadata": {
            "tags": []
          },
          "execution_count": 255
        }
      ]
    },
    {
      "cell_type": "markdown",
      "metadata": {
        "id": "vgk_dzY7WNBj",
        "colab_type": "text"
      },
      "source": [
        "Но среди них можно найти \"аутлаеры\""
      ]
    },
    {
      "cell_type": "code",
      "metadata": {
        "id": "C9qOh_z-WNBk",
        "colab_type": "code",
        "colab": {},
        "outputId": "343022e9-8918-4be6-cf46-f2431205adb1"
      },
      "source": [
        "print(data.loc[140864,'comment_text'])"
      ],
      "execution_count": null,
      "outputs": [
        {
          "output_type": "stream",
          "text": [
            "\"\n",
            "\n",
            "hunk\n",
            "\n",
            "hunk\n",
            "\n",
            "YOU'VE BEEN HIT BY THE\n",
            "\n",
            "|^^^^^^^^^^^^|\n",
            "|SEXY TRUCK | '|\"\"\"\"\"\";.., ___.\n",
            "|_..._...______===|= _|__|..., ] |\n",
            "\"\"(@ )'(@ )\"\"\"\"\"\"\"\"*|(@ )(@ )*****(@\n",
            "\n",
            "ONCE YOU'VE BEEN HIT, YOU HAVE TO HIT 8 PEOPLE! IF YOU GET HIT AGAIN YOU'LL KNOW YOU'RE REALLY SEXY! IF YOU BRAKE THE CHAIN, YOULL BE CURSED WITH UN*SEXYNESS FOR 10 YEARS SO PASS IT; HIT WHO EVER YOU THINK IS SEXY!\"\n"
          ],
          "name": "stdout"
        }
      ]
    },
    {
      "cell_type": "code",
      "metadata": {
        "id": "saBVNa5qWNBl",
        "colab_type": "code",
        "colab": {},
        "outputId": "60d55c4d-8b15-435f-d834-06cf9dd8e9da"
      },
      "source": [
        "numbers = [8468, 10137, 12833, 29023, 37571, 37861, 40220, 54528, 59587, 76063, 98371, 98599, \n",
        "           99858, 109927, 122666, 125021, 128827, 131729, 140545, 142181, 144580, 146571, 156684, 159601,\n",
        "          7307, 38651, 1859, 21366, 1189, 201326, 21283, 22959, 47881, 7063]\n",
        "numbers.sort()\n",
        "print(len(numbers))"
      ],
      "execution_count": null,
      "outputs": [
        {
          "output_type": "stream",
          "text": [
            "34\n"
          ],
          "name": "stdout"
        }
      ]
    },
    {
      "cell_type": "markdown",
      "metadata": {
        "id": "vNm8Cta4WNBp",
        "colab_type": "text"
      },
      "source": [
        "Ниже некоторые комментарии, найденные при разных параметрах кластеризации, которые содержат:\n",
        "\n",
        "- слова на других языках\n",
        "\n",
        "- странные ники пользователей\n",
        "\n",
        "- бессмысленные сочетания букв\n",
        "\n",
        "- слова написанные отдельными буквами (через пробел или через перенос строки)\n",
        "\n",
        "- необычные символы (вроде ♥ ☺ ★ ♪ ߷ ♀)\n",
        "\n",
        "- много небуквенных символов"
      ]
    },
    {
      "cell_type": "code",
      "metadata": {
        "scrolled": false,
        "id": "33TuzFoMWNBp",
        "colab_type": "code",
        "colab": {},
        "outputId": "0097844f-eb78-4b6f-d204-4c73b60c0aa8"
      },
      "source": [
        "outliers = data.loc[numbers, ['comment_text', 'toxic']]\n",
        "outliers"
      ],
      "execution_count": null,
      "outputs": [
        {
          "output_type": "execute_result",
          "data": {
            "text/html": [
              "<div>\n",
              "<style scoped>\n",
              "    .dataframe tbody tr th:only-of-type {\n",
              "        vertical-align: middle;\n",
              "    }\n",
              "\n",
              "    .dataframe tbody tr th {\n",
              "        vertical-align: top;\n",
              "    }\n",
              "\n",
              "    .dataframe thead th {\n",
              "        text-align: right;\n",
              "    }\n",
              "</style>\n",
              "<table border=\"1\" class=\"dataframe\">\n",
              "  <thead>\n",
              "    <tr style=\"text-align: right;\">\n",
              "      <th></th>\n",
              "      <th>comment_text</th>\n",
              "      <th>toxic</th>\n",
              "    </tr>\n",
              "  </thead>\n",
              "  <tbody>\n",
              "    <tr>\n",
              "      <th>1189</th>\n",
              "      <td>\"\\n{| style=\"\"background-color:#F5FFFA; padding:0;\"\" cellpadding=\"\"0\"\"\\n|style=\"\"border:1px soli...</td>\n",
              "      <td>0</td>\n",
              "    </tr>\n",
              "    <tr>\n",
              "      <th>1859</th>\n",
              "      <td>(T | C)   \\n\\n Owned \\n\\n  (T | C)</td>\n",
              "      <td>0</td>\n",
              "    </tr>\n",
              "    <tr>\n",
              "      <th>7063</th>\n",
              "      <td>You're a moron! \\n\\nIt's F\\nU\\nC\\nK\\n \\nF\\nU\\nC\\nK\\n \\nF\\nU\\nC\\nK\\n \\nA\\n \\nD\\nU\\nC\\nK\\n,\\n \\nS\\...</td>\n",
              "      <td>1</td>\n",
              "    </tr>\n",
              "    <tr>\n",
              "      <th>7307</th>\n",
              "      <td>I have placed the user who you said was the Sockpuppeters block log on the page. From what I hav...</td>\n",
              "      <td>0</td>\n",
              "    </tr>\n",
              "    <tr>\n",
              "      <th>8468</th>\n",
              "      <td>\"\\nMuch content was dubiously changed and made what appeared to be changes to fundamental conten...</td>\n",
              "      <td>0</td>\n",
              "    </tr>\n",
              "    <tr>\n",
              "      <th>10137</th>\n",
              "      <td>\"==Name==\\nI've been studying Satmar for a good bit, and I've been to Kiryas Joel. I've never he...</td>\n",
              "      <td>0</td>\n",
              "    </tr>\n",
              "    <tr>\n",
              "      <th>12833</th>\n",
              "      <td>Hi Raul!\\nHi Raul!\\nHi Raul!\\nHi Raul!\\nHi Raul!\\nHi Raul!\\nHi Raul!\\nHi Raul!\\nHi Raul!\\nHi Rau...</td>\n",
              "      <td>0</td>\n",
              "    </tr>\n",
              "    <tr>\n",
              "      <th>21283</th>\n",
              "      <td>\"\\nYeah that's not very many. I see \"\"searchFocus\"\", \"\"Twinkle\"\", \"\"HideFundraisingNotice\"\", \"\"R...</td>\n",
              "      <td>0</td>\n",
              "    </tr>\n",
              "    <tr>\n",
              "      <th>21366</th>\n",
              "      <td>I SAID GOOD DAY BIATCH\\nDONT BREAK WP:3RR BIATCH\\nHAHAHAHAHAHAHAHAHAHHAAHAHHAHAHAAHHAHAHAHAHAHAH...</td>\n",
              "      <td>1</td>\n",
              "    </tr>\n",
              "    <tr>\n",
              "      <th>22959</th>\n",
              "      <td>95.svg|20px]] New Jersey Turnpike/Interstate 95\\n|-\\n!colspan=5|\\nNew York\\n|-\\n|\\n|\\n|\\n|rowspa...</td>\n",
              "      <td>0</td>\n",
              "    </tr>\n",
              "    <tr>\n",
              "      <th>29023</th>\n",
              "      <td>\"\\nAwesome |☺★ (talk) \"</td>\n",
              "      <td>0</td>\n",
              "    </tr>\n",
              "    <tr>\n",
              "      <th>37571</th>\n",
              "      <td>JahMarley Wright \\n\\nfddddddddddddddddddddddddd</td>\n",
              "      <td>0</td>\n",
              "    </tr>\n",
              "    <tr>\n",
              "      <th>37861</th>\n",
              "      <td>\"\\n\\nThis is Moe\\n ε ]]\"</td>\n",
              "      <td>0</td>\n",
              "    </tr>\n",
              "    <tr>\n",
              "      <th>38651</th>\n",
              "      <td>Hate you \\n\\ni;uhbsirtubgyihihlkjngkjbnkgjnbkjfgnbknfgjkbnkfjgnbjkfnjbkfnjbkjbnfkjnbkjnbkjnfbfkj...</td>\n",
              "      <td>1</td>\n",
              "    </tr>\n",
              "    <tr>\n",
              "      <th>40220</th>\n",
              "      <td>COPYVIO Tags- What's the procedure \\n\\nGraemel,\\n\\nHow do you tag URL's for copyright violations...</td>\n",
              "      <td>0</td>\n",
              "    </tr>\n",
              "    <tr>\n",
              "      <th>47881</th>\n",
              "      <td>}}\\n{{translated page|fr|Jacques d'Allonville de Louville</td>\n",
              "      <td>0</td>\n",
              "    </tr>\n",
              "    <tr>\n",
              "      <th>54528</th>\n",
              "      <td>EPONA EPONA EPONA EPONA EPONA EPONA</td>\n",
              "      <td>0</td>\n",
              "    </tr>\n",
              "    <tr>\n",
              "      <th>59587</th>\n",
              "      <td>Why Did you delete our post about the world famous Angler John Bailey????\\n=We manager John Bail...</td>\n",
              "      <td>0</td>\n",
              "    </tr>\n",
              "    <tr>\n",
              "      <th>76063</th>\n",
              "      <td>\"{| width=\"\"100%\"\" cellspacing=\"\"0\"\" cellpadding=\"\"6\"\" style=\"\"font-size:95%; line-height: 15px;...</td>\n",
              "      <td>0</td>\n",
              "    </tr>\n",
              "    <tr>\n",
              "      <th>98371</th>\n",
              "      <td>]]- 10 September 1910, [[[Couvet]] )</td>\n",
              "      <td>0</td>\n",
              "    </tr>\n",
              "    <tr>\n",
              "      <th>98599</th>\n",
              "      <td>\"\\n\\nOk... uploaded it )... '''''''''''♥' \"</td>\n",
              "      <td>0</td>\n",
              "    </tr>\n",
              "    <tr>\n",
              "      <th>99858</th>\n",
              "      <td>DOUUUCHHHHEEEEBAGGGGGGG.\\ntake it eeeeaaassssyyyyy, bro!</td>\n",
              "      <td>0</td>\n",
              "    </tr>\n",
              "    <tr>\n",
              "      <th>109927</th>\n",
              "      <td>\"\\n\\nI swapped out the guts to test the file handling portion...\\n\\nopen FILE, \"\"Outlinelist.txt...</td>\n",
              "      <td>0</td>\n",
              "    </tr>\n",
              "    <tr>\n",
              "      <th>122666</th>\n",
              "      <td>\"\\n/Hi ;\"\"&gt;, fixed it.   \"</td>\n",
              "      <td>0</td>\n",
              "    </tr>\n",
              "    <tr>\n",
              "      <th>125021</th>\n",
              "      <td>\"\\n\"\"100th\"\" is boxy. -Peter \"</td>\n",
              "      <td>0</td>\n",
              "    </tr>\n",
              "    <tr>\n",
              "      <th>128827</th>\n",
              "      <td>Visa\\n\\n4266841355696699/0317\\n\\n544\\n\\nRenu Timilsina\\n\\n905 Spencer Ave Santa Rosa CA 95404\\n\\...</td>\n",
              "      <td>0</td>\n",
              "    </tr>\n",
              "    <tr>\n",
              "      <th>131729</th>\n",
              "      <td>\"FFFFF UUUUUU CCCCCC KKKKKK ===== YOU! F UU C KK YOU FFFFF UUUUUU CCCCCC KKKKKK ===== YOU! F UU ...</td>\n",
              "      <td>1</td>\n",
              "    </tr>\n",
              "    <tr>\n",
              "      <th>140545</th>\n",
              "      <td>{done}} Readded it. -</td>\n",
              "      <td>0</td>\n",
              "    </tr>\n",
              "    <tr>\n",
              "      <th>142181</th>\n",
              "      <td>Capital Tokushima (city) \\nRegion Shikoku \\nIsland Shikoku \\nGovernor Kamon Iizumi \\nArea 4,144....</td>\n",
              "      <td>0</td>\n",
              "    </tr>\n",
              "    <tr>\n",
              "      <th>144580</th>\n",
              "      <td>User:Nikosgreencookie (User talk:Nikosgreencookie)</td>\n",
              "      <td>0</td>\n",
              "    </tr>\n",
              "    <tr>\n",
              "      <th>146571</th>\n",
              "      <td>]] | [[User talk:Huwmanbeing/2014|2014</td>\n",
              "      <td>0</td>\n",
              "    </tr>\n",
              "    <tr>\n",
              "      <th>156684</th>\n",
              "      <td>see you next tuesday \\n\\nC U N T\\nC U N T\\nC U N T\\nC U N T\\nC U N T\\n\\nF A G G O T\\n\\nW A N K E...</td>\n",
              "      <td>1</td>\n",
              "    </tr>\n",
              "    <tr>\n",
              "      <th>159601</th>\n",
              "      <td>Puwersa ng Masa!</td>\n",
              "      <td>0</td>\n",
              "    </tr>\n",
              "    <tr>\n",
              "      <th>201326</th>\n",
              "      <td>\" \\n\\n  \\n :: The Albanian word for Vampire is Dhampir (Dham = teeth and Pir = drink/suck) … In ...</td>\n",
              "      <td>0</td>\n",
              "    </tr>\n",
              "  </tbody>\n",
              "</table>\n",
              "</div>"
            ],
            "text/plain": [
              "                                                                                               comment_text  \\\n",
              "1189    \"\\n{| style=\"\"background-color:#F5FFFA; padding:0;\"\" cellpadding=\"\"0\"\"\\n|style=\"\"border:1px soli...   \n",
              "1859                                                                     (T | C)   \\n\\n Owned \\n\\n  (T | C)   \n",
              "7063    You're a moron! \\n\\nIt's F\\nU\\nC\\nK\\n \\nF\\nU\\nC\\nK\\n \\nF\\nU\\nC\\nK\\n \\nA\\n \\nD\\nU\\nC\\nK\\n,\\n \\nS\\...   \n",
              "7307    I have placed the user who you said was the Sockpuppeters block log on the page. From what I hav...   \n",
              "8468    \"\\nMuch content was dubiously changed and made what appeared to be changes to fundamental conten...   \n",
              "10137   \"==Name==\\nI've been studying Satmar for a good bit, and I've been to Kiryas Joel. I've never he...   \n",
              "12833   Hi Raul!\\nHi Raul!\\nHi Raul!\\nHi Raul!\\nHi Raul!\\nHi Raul!\\nHi Raul!\\nHi Raul!\\nHi Raul!\\nHi Rau...   \n",
              "21283   \"\\nYeah that's not very many. I see \"\"searchFocus\"\", \"\"Twinkle\"\", \"\"HideFundraisingNotice\"\", \"\"R...   \n",
              "21366   I SAID GOOD DAY BIATCH\\nDONT BREAK WP:3RR BIATCH\\nHAHAHAHAHAHAHAHAHAHHAAHAHHAHAHAAHHAHAHAHAHAHAH...   \n",
              "22959   95.svg|20px]] New Jersey Turnpike/Interstate 95\\n|-\\n!colspan=5|\\nNew York\\n|-\\n|\\n|\\n|\\n|rowspa...   \n",
              "29023                                                                               \"\\nAwesome |☺★ (talk) \"   \n",
              "37571                                                       JahMarley Wright \\n\\nfddddddddddddddddddddddddd   \n",
              "37861                                                                              \"\\n\\nThis is Moe\\n ε ]]\"   \n",
              "38651   Hate you \\n\\ni;uhbsirtubgyihihlkjngkjbnkgjnbkjfgnbknfgjkbnkfjgnbjkfnjbkfnjbkjbnfkjnbkjnbkjnfbfkj...   \n",
              "40220   COPYVIO Tags- What's the procedure \\n\\nGraemel,\\n\\nHow do you tag URL's for copyright violations...   \n",
              "47881                                             }}\\n{{translated page|fr|Jacques d'Allonville de Louville   \n",
              "54528                                                                   EPONA EPONA EPONA EPONA EPONA EPONA   \n",
              "59587   Why Did you delete our post about the world famous Angler John Bailey????\\n=We manager John Bail...   \n",
              "76063   \"{| width=\"\"100%\"\" cellspacing=\"\"0\"\" cellpadding=\"\"6\"\" style=\"\"font-size:95%; line-height: 15px;...   \n",
              "98371                                                                  ]]- 10 September 1910, [[[Couvet]] )   \n",
              "98599                                                           \"\\n\\nOk... uploaded it )... '''''''''''♥' \"   \n",
              "99858                                              DOUUUCHHHHEEEEBAGGGGGGG.\\ntake it eeeeaaassssyyyyy, bro!   \n",
              "109927  \"\\n\\nI swapped out the guts to test the file handling portion...\\n\\nopen FILE, \"\"Outlinelist.txt...   \n",
              "122666                                                                           \"\\n/Hi ;\"\">, fixed it.   \"   \n",
              "125021                                                                       \"\\n\"\"100th\"\" is boxy. -Peter \"   \n",
              "128827  Visa\\n\\n4266841355696699/0317\\n\\n544\\n\\nRenu Timilsina\\n\\n905 Spencer Ave Santa Rosa CA 95404\\n\\...   \n",
              "131729  \"FFFFF UUUUUU CCCCCC KKKKKK ===== YOU! F UU C KK YOU FFFFF UUUUUU CCCCCC KKKKKK ===== YOU! F UU ...   \n",
              "140545                                                                                {done}} Readded it. -   \n",
              "142181  Capital Tokushima (city) \\nRegion Shikoku \\nIsland Shikoku \\nGovernor Kamon Iizumi \\nArea 4,144....   \n",
              "144580                                                   User:Nikosgreencookie (User talk:Nikosgreencookie)   \n",
              "146571                                                               ]] | [[User talk:Huwmanbeing/2014|2014   \n",
              "156684  see you next tuesday \\n\\nC U N T\\nC U N T\\nC U N T\\nC U N T\\nC U N T\\n\\nF A G G O T\\n\\nW A N K E...   \n",
              "159601                                                                                     Puwersa ng Masa!   \n",
              "201326  \" \\n\\n  \\n :: The Albanian word for Vampire is Dhampir (Dham = teeth and Pir = drink/suck) … In ...   \n",
              "\n",
              "        toxic  \n",
              "1189        0  \n",
              "1859        0  \n",
              "7063        1  \n",
              "7307        0  \n",
              "8468        0  \n",
              "10137       0  \n",
              "12833       0  \n",
              "21283       0  \n",
              "21366       1  \n",
              "22959       0  \n",
              "29023       0  \n",
              "37571       0  \n",
              "37861       0  \n",
              "38651       1  \n",
              "40220       0  \n",
              "47881       0  \n",
              "54528       0  \n",
              "59587       0  \n",
              "76063       0  \n",
              "98371       0  \n",
              "98599       0  \n",
              "99858       0  \n",
              "109927      0  \n",
              "122666      0  \n",
              "125021      0  \n",
              "128827      0  \n",
              "131729      1  \n",
              "140545      0  \n",
              "142181      0  \n",
              "144580      0  \n",
              "146571      0  \n",
              "156684      1  \n",
              "159601      0  \n",
              "201326      0  "
            ]
          },
          "metadata": {
            "tags": []
          },
          "execution_count": 263
        }
      ]
    }
  ]
}