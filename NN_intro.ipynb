{
  "nbformat": 4,
  "nbformat_minor": 0,
  "metadata": {
    "colab": {
      "name": "NN_intro.ipynb",
      "provenance": [],
      "collapsed_sections": [],
      "authorship_tag": "ABX9TyPYbsZHuT8EV/pfxIvVKvRm",
      "include_colab_link": true
    },
    "kernelspec": {
      "name": "python3",
      "display_name": "Python 3"
    }
  },
  "cells": [
    {
      "cell_type": "markdown",
      "metadata": {
        "id": "view-in-github",
        "colab_type": "text"
      },
      "source": [
        "<a href=\"https://colab.research.google.com/github/olgasem10/Compling-tasks/blob/master/NN_intro.ipynb\" target=\"_parent\"><img src=\"https://colab.research.google.com/assets/colab-badge.svg\" alt=\"Open In Colab\"/></a>"
      ]
    },
    {
      "cell_type": "code",
      "metadata": {
        "id": "KWw8TDI9T8RN",
        "colab_type": "code",
        "colab": {}
      },
      "source": [
        "import pandas as pd\n",
        "import numpy as np\n",
        "from string import punctuation\n",
        "from sklearn.model_selection import train_test_split\n",
        "from collections import Counter\n",
        "from sklearn.metrics import classification_report\n",
        "import matplotlib.pyplot as plt\n",
        "%matplotlib inline"
      ],
      "execution_count": 0,
      "outputs": []
    },
    {
      "cell_type": "code",
      "metadata": {
        "id": "6nV4hmG6UQFu",
        "colab_type": "code",
        "colab": {}
      },
      "source": [
        "import tensorflow as tf"
      ],
      "execution_count": 0,
      "outputs": []
    },
    {
      "cell_type": "code",
      "metadata": {
        "id": "u8RoUg3pVGRE",
        "colab_type": "code",
        "outputId": "7547d92a-b5c2-49ff-81da-b5b1ab302d26",
        "colab": {
          "base_uri": "https://localhost:8080/",
          "height": 122
        }
      },
      "source": [
        "from google.colab import drive\n",
        "drive.mount('/content/drive')"
      ],
      "execution_count": 0,
      "outputs": [
        {
          "output_type": "stream",
          "text": [
            "Go to this URL in a browser: https://accounts.google.com/o/oauth2/auth?client_id=947318989803-6bn6qk8qdgf4n4g3pfee6491hc0brc4i.apps.googleusercontent.com&redirect_uri=urn%3aietf%3awg%3aoauth%3a2.0%3aoob&response_type=code&scope=email%20https%3a%2f%2fwww.googleapis.com%2fauth%2fdocs.test%20https%3a%2f%2fwww.googleapis.com%2fauth%2fdrive%20https%3a%2f%2fwww.googleapis.com%2fauth%2fdrive.photos.readonly%20https%3a%2f%2fwww.googleapis.com%2fauth%2fpeopleapi.readonly\n",
            "\n",
            "Enter your authorization code:\n",
            "··········\n",
            "Mounted at /content/drive\n"
          ],
          "name": "stdout"
        }
      ]
    },
    {
      "cell_type": "code",
      "metadata": {
        "id": "XqYprYYaVcuM",
        "colab_type": "code",
        "outputId": "ca94d0f1-605b-4723-f701-3e7ef9175dc8",
        "colab": {
          "base_uri": "https://localhost:8080/",
          "height": 85
        }
      },
      "source": [
        "!unzip '/content/drive/My Drive/NN_data.zip'"
      ],
      "execution_count": 0,
      "outputs": [
        {
          "output_type": "stream",
          "text": [
            "Archive:  /content/drive/My Drive/NN_data.zip\n",
            "  inflating: avito_data.csv          \n",
            "  inflating: quora.csv               \n",
            "  inflating: __MACOSX/._quora.csv    \n"
          ],
          "name": "stdout"
        }
      ]
    },
    {
      "cell_type": "code",
      "metadata": {
        "id": "_jcHFVuWV7l0",
        "colab_type": "code",
        "colab": {}
      },
      "source": [
        "quora = pd.read_csv('/content/drive/My Drive/quora.csv')"
      ],
      "execution_count": 0,
      "outputs": []
    },
    {
      "cell_type": "code",
      "metadata": {
        "id": "vushXRPNV-Ub",
        "colab_type": "code",
        "outputId": "389432bd-2436-4845-b8de-6b63edd72b5a",
        "colab": {
          "base_uri": "https://localhost:8080/",
          "height": 419
        }
      },
      "source": [
        "quora"
      ],
      "execution_count": 0,
      "outputs": [
        {
          "output_type": "execute_result",
          "data": {
            "text/html": [
              "<div>\n",
              "<style scoped>\n",
              "    .dataframe tbody tr th:only-of-type {\n",
              "        vertical-align: middle;\n",
              "    }\n",
              "\n",
              "    .dataframe tbody tr th {\n",
              "        vertical-align: top;\n",
              "    }\n",
              "\n",
              "    .dataframe thead th {\n",
              "        text-align: right;\n",
              "    }\n",
              "</style>\n",
              "<table border=\"1\" class=\"dataframe\">\n",
              "  <thead>\n",
              "    <tr style=\"text-align: right;\">\n",
              "      <th></th>\n",
              "      <th>qid</th>\n",
              "      <th>question_text</th>\n",
              "      <th>target</th>\n",
              "    </tr>\n",
              "  </thead>\n",
              "  <tbody>\n",
              "    <tr>\n",
              "      <th>0</th>\n",
              "      <td>00002165364db923c7e6</td>\n",
              "      <td>How did Quebec nationalists see their province...</td>\n",
              "      <td>0</td>\n",
              "    </tr>\n",
              "    <tr>\n",
              "      <th>1</th>\n",
              "      <td>000032939017120e6e44</td>\n",
              "      <td>Do you have an adopted dog, how would you enco...</td>\n",
              "      <td>0</td>\n",
              "    </tr>\n",
              "    <tr>\n",
              "      <th>2</th>\n",
              "      <td>0000412ca6e4628ce2cf</td>\n",
              "      <td>Why does velocity affect time? Does velocity a...</td>\n",
              "      <td>0</td>\n",
              "    </tr>\n",
              "    <tr>\n",
              "      <th>3</th>\n",
              "      <td>000042bf85aa498cd78e</td>\n",
              "      <td>How did Otto von Guericke used the Magdeburg h...</td>\n",
              "      <td>0</td>\n",
              "    </tr>\n",
              "    <tr>\n",
              "      <th>4</th>\n",
              "      <td>0000455dfa3e01eae3af</td>\n",
              "      <td>Can I convert montra helicon D to a mountain b...</td>\n",
              "      <td>0</td>\n",
              "    </tr>\n",
              "    <tr>\n",
              "      <th>...</th>\n",
              "      <td>...</td>\n",
              "      <td>...</td>\n",
              "      <td>...</td>\n",
              "    </tr>\n",
              "    <tr>\n",
              "      <th>1306117</th>\n",
              "      <td>ffffcc4e2331aaf1e41e</td>\n",
              "      <td>What other technical skills do you need as a c...</td>\n",
              "      <td>0</td>\n",
              "    </tr>\n",
              "    <tr>\n",
              "      <th>1306118</th>\n",
              "      <td>ffffd431801e5a2f4861</td>\n",
              "      <td>Does MS in ECE have good job prospects in USA ...</td>\n",
              "      <td>0</td>\n",
              "    </tr>\n",
              "    <tr>\n",
              "      <th>1306119</th>\n",
              "      <td>ffffd48fb36b63db010c</td>\n",
              "      <td>Is foam insulation toxic?</td>\n",
              "      <td>0</td>\n",
              "    </tr>\n",
              "    <tr>\n",
              "      <th>1306120</th>\n",
              "      <td>ffffec519fa37cf60c78</td>\n",
              "      <td>How can one start a research project based on ...</td>\n",
              "      <td>0</td>\n",
              "    </tr>\n",
              "    <tr>\n",
              "      <th>1306121</th>\n",
              "      <td>ffffed09fedb5088744a</td>\n",
              "      <td>Who wins in a battle between a Wolverine and a...</td>\n",
              "      <td>0</td>\n",
              "    </tr>\n",
              "  </tbody>\n",
              "</table>\n",
              "<p>1306122 rows × 3 columns</p>\n",
              "</div>"
            ],
            "text/plain": [
              "                          qid  ... target\n",
              "0        00002165364db923c7e6  ...      0\n",
              "1        000032939017120e6e44  ...      0\n",
              "2        0000412ca6e4628ce2cf  ...      0\n",
              "3        000042bf85aa498cd78e  ...      0\n",
              "4        0000455dfa3e01eae3af  ...      0\n",
              "...                       ...  ...    ...\n",
              "1306117  ffffcc4e2331aaf1e41e  ...      0\n",
              "1306118  ffffd431801e5a2f4861  ...      0\n",
              "1306119  ffffd48fb36b63db010c  ...      0\n",
              "1306120  ffffec519fa37cf60c78  ...      0\n",
              "1306121  ffffed09fedb5088744a  ...      0\n",
              "\n",
              "[1306122 rows x 3 columns]"
            ]
          },
          "metadata": {
            "tags": []
          },
          "execution_count": 5
        }
      ]
    },
    {
      "cell_type": "markdown",
      "metadata": {
        "id": "zrRBa_jRYVQ1",
        "colab_type": "text"
      },
      "source": [
        "### Предобработка"
      ]
    },
    {
      "cell_type": "code",
      "metadata": {
        "id": "tjlxTg4KYdlL",
        "colab_type": "code",
        "colab": {}
      },
      "source": [
        "def preprocess(text):\n",
        "    tokens = text.lower().split()\n",
        "    tokens = [token.strip(punctuation) for token in tokens]\n",
        "    return tokens"
      ],
      "execution_count": 0,
      "outputs": []
    },
    {
      "cell_type": "code",
      "metadata": {
        "id": "BG3_IMVVYYFb",
        "colab_type": "code",
        "colab": {}
      },
      "source": [
        "# словарь\n",
        "vocab = Counter()\n",
        "\n",
        "for text in quora.question_text:\n",
        "    vocab.update(preprocess(text))"
      ],
      "execution_count": 0,
      "outputs": []
    },
    {
      "cell_type": "code",
      "metadata": {
        "id": "z5z_i2D1Yj7r",
        "colab_type": "code",
        "outputId": "6f448846-38c0-44ad-be27-e824b0c6e0a2",
        "colab": {
          "base_uri": "https://localhost:8080/",
          "height": 34
        }
      },
      "source": [
        "len(vocab)"
      ],
      "execution_count": 0,
      "outputs": [
        {
          "output_type": "execute_result",
          "data": {
            "text/plain": [
              "273056"
            ]
          },
          "metadata": {
            "tags": []
          },
          "execution_count": 14
        }
      ]
    },
    {
      "cell_type": "code",
      "metadata": {
        "id": "0UlAeqIEYtBT",
        "colab_type": "code",
        "outputId": "d5c1402d-6a49-4064-a883-86c5c8c47727",
        "colab": {
          "base_uri": "https://localhost:8080/",
          "height": 34
        }
      },
      "source": [
        "# отфильтрованный словарь\n",
        "filtered_vocab = set()\n",
        "\n",
        "for word in vocab:\n",
        "    if vocab[word] > 50:\n",
        "        filtered_vocab.add(word)\n",
        "\n",
        "len(filtered_vocab)"
      ],
      "execution_count": 0,
      "outputs": [
        {
          "output_type": "execute_result",
          "data": {
            "text/plain": [
              "14083"
            ]
          },
          "metadata": {
            "tags": []
          },
          "execution_count": 9
        }
      ]
    },
    {
      "cell_type": "code",
      "metadata": {
        "id": "mf4PLtfgY3Ib",
        "colab_type": "code",
        "colab": {}
      },
      "source": [
        "# индексируем слова\n",
        "word2id = {'UNK':1, 'PAD':0}\n",
        "\n",
        "for word in filtered_vocab:\n",
        "    word2id[word] = len(word2id)"
      ],
      "execution_count": 0,
      "outputs": []
    },
    {
      "cell_type": "code",
      "metadata": {
        "id": "g041KXhjY646",
        "colab_type": "code",
        "colab": {}
      },
      "source": [
        "# переводим тексты в последовательности индексов\n",
        "X = []\n",
        "\n",
        "for text in quora.question_text:\n",
        "    tokens = preprocess(text)\n",
        "    ids = [word2id.get(token, 1) for token in tokens]\n",
        "    X.append(ids)"
      ],
      "execution_count": 0,
      "outputs": []
    },
    {
      "cell_type": "code",
      "metadata": {
        "id": "i2mPzNK4ZGbK",
        "colab_type": "code",
        "outputId": "b7113a30-e1ce-4f41-facc-e7d949ad35f3",
        "colab": {
          "base_uri": "https://localhost:8080/",
          "height": 34
        }
      },
      "source": [
        "MAX_LEN = max(len(x) for x in X)\n",
        "MAX_LEN"
      ],
      "execution_count": 0,
      "outputs": [
        {
          "output_type": "execute_result",
          "data": {
            "text/plain": [
              "134"
            ]
          },
          "metadata": {
            "tags": []
          },
          "execution_count": 12
        }
      ]
    },
    {
      "cell_type": "code",
      "metadata": {
        "id": "dMkE-37UZSNL",
        "colab_type": "code",
        "colab": {}
      },
      "source": [
        "X = tf.keras.preprocessing.sequence.pad_sequences(X, maxlen=MAX_LEN)"
      ],
      "execution_count": 0,
      "outputs": []
    },
    {
      "cell_type": "code",
      "metadata": {
        "id": "6YPRuMJyZWQ0",
        "colab_type": "code",
        "outputId": "06a10cbb-a1e7-4e6d-d329-06aa9db6ff19",
        "colab": {
          "base_uri": "https://localhost:8080/",
          "height": 34
        }
      },
      "source": [
        "X.shape"
      ],
      "execution_count": 0,
      "outputs": [
        {
          "output_type": "execute_result",
          "data": {
            "text/plain": [
              "(1306122, 134)"
            ]
          },
          "metadata": {
            "tags": []
          },
          "execution_count": 21
        }
      ]
    },
    {
      "cell_type": "code",
      "metadata": {
        "id": "XdbmhwRAZYsk",
        "colab_type": "code",
        "colab": {}
      },
      "source": [
        "y = quora.target.values"
      ],
      "execution_count": 0,
      "outputs": []
    },
    {
      "cell_type": "code",
      "metadata": {
        "id": "sJi9ImpzZ032",
        "colab_type": "code",
        "colab": {}
      },
      "source": [
        "X_train, X_valid, y_train, y_valid = train_test_split(X, y, test_size=0.05, random_state=42)"
      ],
      "execution_count": 0,
      "outputs": []
    },
    {
      "cell_type": "markdown",
      "metadata": {
        "id": "7e72lEI5BDpd",
        "colab_type": "text"
      },
      "source": [
        "## Конкатенация"
      ]
    },
    {
      "cell_type": "code",
      "metadata": {
        "id": "76Y_kPbYcazX",
        "colab_type": "code",
        "colab": {}
      },
      "source": [
        "inputs = tf.keras.layers.Input(shape=(MAX_LEN,))\n",
        "\n",
        "embeddings = tf.keras.layers.Embedding(input_dim=len(word2id), output_dim=100)(inputs, )\n",
        "mean = tf.keras.layers.Flatten()(embeddings)\n",
        "dense = tf.keras.layers.Dense(64, activation='relu')(mean)\n",
        "dense = tf.keras.layers.Dense(64, activation='relu')(dense)\n",
        "outputs = tf.keras.layers.Dense(1, activation='sigmoid')(dense)\n",
        "\n",
        "model = tf.keras.Model(inputs=inputs, outputs=outputs)\n",
        "optimizer = tf.keras.optimizers.Adam(learning_rate=0.0001)\n",
        "model.compile(optimizer=optimizer,\n",
        "              loss='binary_crossentropy',\n",
        "              metrics=['accuracy'])"
      ],
      "execution_count": 0,
      "outputs": []
    },
    {
      "cell_type": "code",
      "metadata": {
        "id": "GgH6NVwtz5_-",
        "colab_type": "code",
        "outputId": "dc611742-e3a0-41f5-fa82-b84b3d105ef9",
        "colab": {
          "base_uri": "https://localhost:8080/",
          "height": 374
        }
      },
      "source": [
        "model.fit(X_train, y_train, \n",
        "          validation_data=(X_valid, y_valid),\n",
        "          batch_size=5000,\n",
        "         epochs=10)"
      ],
      "execution_count": 0,
      "outputs": [
        {
          "output_type": "stream",
          "text": [
            "Epoch 1/10\n",
            "249/249 [==============================] - 196s 786ms/step - loss: 0.2293 - accuracy: 0.9381 - val_loss: 0.1756 - val_accuracy: 0.9401\n",
            "Epoch 2/10\n",
            "249/249 [==============================] - 196s 786ms/step - loss: 0.1466 - accuracy: 0.9452 - val_loss: 0.1283 - val_accuracy: 0.9510\n",
            "Epoch 3/10\n",
            "249/249 [==============================] - 193s 774ms/step - loss: 0.1240 - accuracy: 0.9510 - val_loss: 0.1193 - val_accuracy: 0.9531\n",
            "Epoch 4/10\n",
            "249/249 [==============================] - 186s 748ms/step - loss: 0.1164 - accuracy: 0.9533 - val_loss: 0.1153 - val_accuracy: 0.9544\n",
            "Epoch 5/10\n",
            "249/249 [==============================] - 189s 761ms/step - loss: 0.1123 - accuracy: 0.9546 - val_loss: 0.1134 - val_accuracy: 0.9550\n",
            "Epoch 6/10\n",
            "249/249 [==============================] - 195s 782ms/step - loss: 0.1094 - accuracy: 0.9556 - val_loss: 0.1127 - val_accuracy: 0.9553\n",
            "Epoch 7/10\n",
            "249/249 [==============================] - 193s 774ms/step - loss: 0.1072 - accuracy: 0.9564 - val_loss: 0.1118 - val_accuracy: 0.9562\n",
            "Epoch 8/10\n",
            "249/249 [==============================] - 196s 786ms/step - loss: 0.1052 - accuracy: 0.9571 - val_loss: 0.1132 - val_accuracy: 0.9561\n",
            "Epoch 9/10\n",
            "249/249 [==============================] - 199s 799ms/step - loss: 0.1034 - accuracy: 0.9577 - val_loss: 0.1131 - val_accuracy: 0.9565\n",
            "Epoch 10/10\n",
            "249/249 [==============================] - 195s 785ms/step - loss: 0.1021 - accuracy: 0.9583 - val_loss: 0.1127 - val_accuracy: 0.9558\n"
          ],
          "name": "stdout"
        },
        {
          "output_type": "execute_result",
          "data": {
            "text/plain": [
              "<tensorflow.python.keras.callbacks.History at 0x7f6c83ff2780>"
            ]
          },
          "metadata": {
            "tags": []
          },
          "execution_count": 53
        }
      ]
    },
    {
      "cell_type": "code",
      "metadata": {
        "id": "eRiHcHqll21i",
        "colab_type": "code",
        "outputId": "03c6a59e-be07-494d-e1cd-499a80e4ca54",
        "colab": {
          "base_uri": "https://localhost:8080/",
          "height": 312
        }
      },
      "source": [
        "print(model.history.history.keys())\n",
        "# summarize history for accuracy\n",
        "plt.plot(model.history.history['accuracy'])\n",
        "plt.plot(model.history.history['val_accuracy'])\n",
        "plt.title('model accuracy')\n",
        "plt.ylabel('accuracy')\n",
        "plt.xlabel('epoch')\n",
        "plt.legend(['train', 'val'], loc='upper left')\n",
        "plt.show()"
      ],
      "execution_count": 0,
      "outputs": [
        {
          "output_type": "stream",
          "text": [
            "dict_keys(['loss', 'accuracy', 'val_loss', 'val_accuracy'])\n"
          ],
          "name": "stdout"
        },
        {
          "output_type": "display_data",
          "data": {
            "image/png": "[encoded data removed]",
            "text/plain": [
              "<Figure size 432x288 with 1 Axes>"
            ]
          },
          "metadata": {
            "tags": [],
            "needs_background": "light"
          }
        }
      ]
    },
    {
      "cell_type": "code",
      "metadata": {
        "id": "deZk6SphmO29",
        "colab_type": "code",
        "colab": {}
      },
      "source": [
        "preds = model.predict(X_valid).reshape(-1)"
      ],
      "execution_count": 0,
      "outputs": []
    },
    {
      "cell_type": "code",
      "metadata": {
        "id": "tsZjj2JAmRjl",
        "colab_type": "code",
        "outputId": "fd028238-a5fd-4855-8980-2ba32bf9f2c9",
        "colab": {
          "base_uri": "https://localhost:8080/",
          "height": 170
        }
      },
      "source": [
        "print(classification_report(y_valid, (preds > 0.5).astype(int)))"
      ],
      "execution_count": 0,
      "outputs": [
        {
          "output_type": "stream",
          "text": [
            "              precision    recall  f1-score   support\n",
            "\n",
            "           0       0.97      0.98      0.98     61365\n",
            "           1       0.65      0.57      0.61      3942\n",
            "\n",
            "    accuracy                           0.96     65307\n",
            "   macro avg       0.81      0.77      0.79     65307\n",
            "weighted avg       0.95      0.96      0.95     65307\n",
            "\n"
          ],
          "name": "stdout"
        }
      ]
    },
    {
      "cell_type": "markdown",
      "metadata": {
        "id": "WKcxiwvZNsKB",
        "colab_type": "text"
      },
      "source": [
        "## Усреднение"
      ]
    },
    {
      "cell_type": "code",
      "metadata": {
        "id": "DhDawMpPPnqU",
        "colab_type": "code",
        "colab": {}
      },
      "source": [
        "inputs = tf.keras.layers.Input(shape=(MAX_LEN,))\n",
        "\n",
        "\n",
        "embeddings = tf.keras.layers.Embedding(input_dim=len(word2id), output_dim=100)(inputs, )\n",
        "mean = tf.keras.layers.Lambda(lambda x: tf.keras.backend.mean(x,  axis=1))(embeddings)\n",
        "dense = tf.keras.layers.Dense(64, activation='relu')(mean)\n",
        "dense1 = tf.keras.layers.Dense(64, activation='relu')(dense)\n",
        "dense2 = tf.keras.layers.Dense(64, activation='relu')(dense1)\n",
        "outputs = tf.keras.layers.Dense(1, activation='sigmoid')(dense2)\n",
        "\n",
        "model = tf.keras.Model(inputs=inputs, outputs=outputs)\n",
        "optimizer = tf.keras.optimizers.Adam(learning_rate=0.0001)\n",
        "model.compile(optimizer=optimizer,\n",
        "              loss='binary_crossentropy',\n",
        "              metrics=['accuracy'])"
      ],
      "execution_count": 0,
      "outputs": []
    },
    {
      "cell_type": "code",
      "metadata": {
        "id": "Q3pAF-rlPvy8",
        "colab_type": "code",
        "outputId": "1425b18b-9b69-4fbe-f495-80c8a82eaefa",
        "colab": {
          "base_uri": "https://localhost:8080/",
          "height": 340
        }
      },
      "source": [
        "model.fit(X_train, y_train, \n",
        "          validation_data=(X_valid, y_valid),\n",
        "          batch_size=5000,\n",
        "         epochs=9)"
      ],
      "execution_count": 0,
      "outputs": [
        {
          "output_type": "stream",
          "text": [
            "Epoch 1/9\n",
            "249/249 [==============================] - 55s 223ms/step - loss: 0.4752 - accuracy: 0.9381 - val_loss: 0.2356 - val_accuracy: 0.9396\n",
            "Epoch 2/9\n",
            "249/249 [==============================] - 53s 214ms/step - loss: 0.2271 - accuracy: 0.9381 - val_loss: 0.2200 - val_accuracy: 0.9396\n",
            "Epoch 3/9\n",
            "249/249 [==============================] - 54s 215ms/step - loss: 0.2225 - accuracy: 0.9381 - val_loss: 0.2159 - val_accuracy: 0.9396\n",
            "Epoch 4/9\n",
            "249/249 [==============================] - 53s 213ms/step - loss: 0.2167 - accuracy: 0.9381 - val_loss: 0.2066 - val_accuracy: 0.9396\n",
            "Epoch 5/9\n",
            "249/249 [==============================] - 53s 215ms/step - loss: 0.1974 - accuracy: 0.9383 - val_loss: 0.1748 - val_accuracy: 0.9420\n",
            "Epoch 6/9\n",
            "249/249 [==============================] - 53s 212ms/step - loss: 0.1600 - accuracy: 0.9430 - val_loss: 0.1436 - val_accuracy: 0.9474\n",
            "Epoch 7/9\n",
            "249/249 [==============================] - 53s 211ms/step - loss: 0.1407 - accuracy: 0.9469 - val_loss: 0.1331 - val_accuracy: 0.9502\n",
            "Epoch 8/9\n",
            "249/249 [==============================] - 53s 213ms/step - loss: 0.1325 - accuracy: 0.9491 - val_loss: 0.1274 - val_accuracy: 0.9519\n",
            "Epoch 9/9\n",
            "249/249 [==============================] - 53s 212ms/step - loss: 0.1269 - accuracy: 0.9503 - val_loss: 0.1233 - val_accuracy: 0.9525\n"
          ],
          "name": "stdout"
        },
        {
          "output_type": "execute_result",
          "data": {
            "text/plain": [
              "<tensorflow.python.keras.callbacks.History at 0x7fccfdea9898>"
            ]
          },
          "metadata": {
            "tags": []
          },
          "execution_count": 24
        }
      ]
    },
    {
      "cell_type": "code",
      "metadata": {
        "id": "9mWRTdFcS6K6",
        "colab_type": "code",
        "colab": {}
      },
      "source": [
        "preds = model.predict(X_valid).reshape(-1)"
      ],
      "execution_count": 0,
      "outputs": []
    },
    {
      "cell_type": "code",
      "metadata": {
        "id": "hPBS-iLDV-gp",
        "colab_type": "code",
        "outputId": "2a1258cd-eb31-4c8e-ee88-f0f1df2f291a",
        "colab": {
          "base_uri": "https://localhost:8080/",
          "height": 170
        }
      },
      "source": [
        "print(classification_report(y_valid, (preds > 0.5).astype(int)))"
      ],
      "execution_count": 0,
      "outputs": [
        {
          "output_type": "stream",
          "text": [
            "              precision    recall  f1-score   support\n",
            "\n",
            "           0       0.96      0.99      0.98     61365\n",
            "           1       0.67      0.42      0.52      3942\n",
            "\n",
            "    accuracy                           0.95     65307\n",
            "   macro avg       0.82      0.70      0.75     65307\n",
            "weighted avg       0.95      0.95      0.95     65307\n",
            "\n"
          ],
          "name": "stdout"
        }
      ]
    },
    {
      "cell_type": "markdown",
      "metadata": {
        "id": "wJ2OJxIMW16o",
        "colab_type": "text"
      },
      "source": [
        "## Сумма"
      ]
    },
    {
      "cell_type": "code",
      "metadata": {
        "id": "NveYDeUAW58I",
        "colab_type": "code",
        "colab": {}
      },
      "source": [
        "inputs = tf.keras.layers.Input(shape=(MAX_LEN,))\n",
        "\n",
        "\n",
        "embeddings = tf.keras.layers.Embedding(input_dim=len(word2id), output_dim=100)(inputs, )\n",
        "mean = tf.keras.layers.Lambda(lambda x: tf.keras.backend.sum(x,  axis=1))(embeddings)\n",
        "dense = tf.keras.layers.Dense(64, activation='relu')(mean)\n",
        "dense1 = tf.keras.layers.Dense(64, activation='relu')(dense)\n",
        "outputs = tf.keras.layers.Dense(1, activation='sigmoid')(dense1)\n",
        "\n",
        "model = tf.keras.Model(inputs=inputs, outputs=outputs)\n",
        "optimizer = tf.keras.optimizers.Adam(learning_rate=0.0001)\n",
        "model.compile(optimizer=optimizer,\n",
        "              loss='binary_crossentropy',\n",
        "              metrics=['accuracy'])"
      ],
      "execution_count": 0,
      "outputs": []
    },
    {
      "cell_type": "code",
      "metadata": {
        "id": "gJ6QMH7Ta1q0",
        "colab_type": "code",
        "outputId": "71f74241-71ba-44da-d3f1-aa0fb3ea5eaf",
        "colab": {
          "base_uri": "https://localhost:8080/",
          "height": 374
        }
      },
      "source": [
        "model.fit(X_train, y_train, \n",
        "          validation_data=(X_valid, y_valid),\n",
        "          batch_size=5000,\n",
        "         epochs=10)"
      ],
      "execution_count": 0,
      "outputs": [
        {
          "output_type": "stream",
          "text": [
            "Epoch 1/10\n",
            "249/249 [==============================] - 66s 264ms/step - loss: 0.1962 - accuracy: 0.9390 - val_loss: 0.1570 - val_accuracy: 0.9444\n",
            "Epoch 2/10\n",
            "249/249 [==============================] - 66s 263ms/step - loss: 0.1433 - accuracy: 0.9463 - val_loss: 0.1291 - val_accuracy: 0.9511\n",
            "Epoch 3/10\n",
            "249/249 [==============================] - 66s 263ms/step - loss: 0.1258 - accuracy: 0.9509 - val_loss: 0.1207 - val_accuracy: 0.9539\n",
            "Epoch 4/10\n",
            "249/249 [==============================] - 65s 263ms/step - loss: 0.1186 - accuracy: 0.9530 - val_loss: 0.1179 - val_accuracy: 0.9539\n",
            "Epoch 5/10\n",
            "249/249 [==============================] - 65s 260ms/step - loss: 0.1150 - accuracy: 0.9543 - val_loss: 0.1145 - val_accuracy: 0.9553\n",
            "Epoch 6/10\n",
            "249/249 [==============================] - 65s 260ms/step - loss: 0.1123 - accuracy: 0.9551 - val_loss: 0.1131 - val_accuracy: 0.9554\n",
            "Epoch 7/10\n",
            "249/249 [==============================] - 65s 259ms/step - loss: 0.1102 - accuracy: 0.9557 - val_loss: 0.1126 - val_accuracy: 0.9555\n",
            "Epoch 8/10\n",
            "249/249 [==============================] - 65s 260ms/step - loss: 0.1089 - accuracy: 0.9561 - val_loss: 0.1119 - val_accuracy: 0.9558\n",
            "Epoch 9/10\n",
            "249/249 [==============================] - 66s 263ms/step - loss: 0.1076 - accuracy: 0.9565 - val_loss: 0.1130 - val_accuracy: 0.9557\n",
            "Epoch 10/10\n",
            "249/249 [==============================] - 65s 261ms/step - loss: 0.1069 - accuracy: 0.9568 - val_loss: 0.1120 - val_accuracy: 0.9555\n"
          ],
          "name": "stdout"
        },
        {
          "output_type": "execute_result",
          "data": {
            "text/plain": [
              "<tensorflow.python.keras.callbacks.History at 0x7f6c80cf3780>"
            ]
          },
          "metadata": {
            "tags": []
          },
          "execution_count": 69
        }
      ]
    },
    {
      "cell_type": "code",
      "metadata": {
        "id": "EIkiJvRleX3x",
        "colab_type": "code",
        "outputId": "2ab4be76-2bf8-4e8b-a6c7-10fa09446d6a",
        "colab": {
          "base_uri": "https://localhost:8080/",
          "height": 312
        }
      },
      "source": [
        "print(model.history.history.keys())\n",
        "# summarize history for accuracy\n",
        "plt.plot(model.history.history['accuracy'])\n",
        "plt.plot(model.history.history['val_accuracy'])\n",
        "plt.title('model accuracy')\n",
        "plt.ylabel('accuracy')\n",
        "plt.xlabel('epoch')\n",
        "plt.legend(['train', 'val'], loc='upper left')\n",
        "plt.show()"
      ],
      "execution_count": 0,
      "outputs": [
        {
          "output_type": "stream",
          "text": [
            "dict_keys(['loss', 'accuracy', 'val_loss', 'val_accuracy'])\n"
          ],
          "name": "stdout"
        },
        {
          "output_type": "display_data",
          "data": {
            "image/png": "[encoded data removed]",
            "text/plain": [
              "<Figure size 432x288 with 1 Axes>"
            ]
          },
          "metadata": {
            "tags": [],
            "needs_background": "light"
          }
        }
      ]
    },
    {
      "cell_type": "code",
      "metadata": {
        "id": "pzuxoXlvebRH",
        "colab_type": "code",
        "colab": {}
      },
      "source": [
        "preds = model.predict(X_valid).reshape(-1)"
      ],
      "execution_count": 0,
      "outputs": []
    },
    {
      "cell_type": "code",
      "metadata": {
        "id": "tHvSMofZedgQ",
        "colab_type": "code",
        "outputId": "08ced1fd-fb81-4d25-ac34-61e2820df730",
        "colab": {
          "base_uri": "https://localhost:8080/",
          "height": 170
        }
      },
      "source": [
        "print(classification_report(y_valid, (preds > 0.5).astype(int)))"
      ],
      "execution_count": 0,
      "outputs": [
        {
          "output_type": "stream",
          "text": [
            "              precision    recall  f1-score   support\n",
            "\n",
            "           0       0.97      0.98      0.98     61365\n",
            "           1       0.66      0.55      0.60      3942\n",
            "\n",
            "    accuracy                           0.96     65307\n",
            "   macro avg       0.81      0.77      0.79     65307\n",
            "weighted avg       0.95      0.96      0.95     65307\n",
            "\n"
          ],
          "name": "stdout"
        }
      ]
    },
    {
      "cell_type": "markdown",
      "metadata": {
        "id": "DkLf9fie9yI7",
        "colab_type": "text"
      },
      "source": [
        "Конкатенация показывает лучший результат"
      ]
    },
    {
      "cell_type": "markdown",
      "metadata": {
        "id": "vxqRWAKODSD6",
        "colab_type": "text"
      },
      "source": [
        "При изменении параметров слоев (например, при использовании другой функции активации) результат значительно не меняется:\n",
        "\n"
      ]
    },
    {
      "cell_type": "code",
      "metadata": {
        "id": "XfQ1SuZOEEQZ",
        "colab_type": "code",
        "colab": {}
      },
      "source": [
        "inputs = tf.keras.layers.Input(shape=(MAX_LEN,))\n",
        "\n",
        "\n",
        "embeddings = tf.keras.layers.Embedding(input_dim=len(word2id), output_dim=100, mask_zero = True)(inputs, )\n",
        "mean = tf.keras.layers.Lambda(lambda x: tf.keras.backend.sum(x,  axis=1))(embeddings)\n",
        "dense = tf.keras.layers.Dense(64, activation='tanh')(mean)\n",
        "dense1 = tf.keras.layers.Dense(64, activation='tanh')(dense)\n",
        "outputs = tf.keras.layers.Dense(1, activation='sigmoid')(dense1)\n",
        "\n",
        "model = tf.keras.Model(inputs=inputs, outputs=outputs)\n",
        "optimizer = tf.keras.optimizers.Adam(learning_rate=0.0001)\n",
        "model.compile(optimizer=optimizer,\n",
        "              loss='binary_crossentropy',\n",
        "              metrics=['accuracy'])"
      ],
      "execution_count": 0,
      "outputs": []
    },
    {
      "cell_type": "code",
      "metadata": {
        "id": "o1ZsyJEyxW8v",
        "colab_type": "code",
        "outputId": "4092f29d-48ef-46d4-f86f-6eea4d23eade",
        "colab": {
          "base_uri": "https://localhost:8080/",
          "height": 306
        }
      },
      "source": [
        "model.fit(X_train, y_train, \n",
        "          validation_data=(X_valid, y_valid),\n",
        "          batch_size=5000,\n",
        "         epochs=8)"
      ],
      "execution_count": 0,
      "outputs": [
        {
          "output_type": "stream",
          "text": [
            "Epoch 1/8\n",
            "249/249 [==============================] - 53s 214ms/step - loss: 0.2348 - accuracy: 0.9300 - val_loss: 0.1871 - val_accuracy: 0.9398\n",
            "Epoch 2/8\n",
            "249/249 [==============================] - 52s 210ms/step - loss: 0.1583 - accuracy: 0.9433 - val_loss: 0.1337 - val_accuracy: 0.9501\n",
            "Epoch 3/8\n",
            "249/249 [==============================] - 53s 212ms/step - loss: 0.1281 - accuracy: 0.9502 - val_loss: 0.1217 - val_accuracy: 0.9532\n",
            "Epoch 4/8\n",
            "249/249 [==============================] - 52s 210ms/step - loss: 0.1200 - accuracy: 0.9526 - val_loss: 0.1176 - val_accuracy: 0.9545\n",
            "Epoch 5/8\n",
            "249/249 [==============================] - 53s 211ms/step - loss: 0.1158 - accuracy: 0.9540 - val_loss: 0.1152 - val_accuracy: 0.9549\n",
            "Epoch 6/8\n",
            "249/249 [==============================] - 52s 210ms/step - loss: 0.1134 - accuracy: 0.9547 - val_loss: 0.1139 - val_accuracy: 0.9553\n",
            "Epoch 7/8\n",
            "249/249 [==============================] - 52s 210ms/step - loss: 0.1116 - accuracy: 0.9552 - val_loss: 0.1130 - val_accuracy: 0.9556\n",
            "Epoch 8/8\n",
            "249/249 [==============================] - 53s 212ms/step - loss: 0.1103 - accuracy: 0.9556 - val_loss: 0.1131 - val_accuracy: 0.9558\n"
          ],
          "name": "stdout"
        },
        {
          "output_type": "execute_result",
          "data": {
            "text/plain": [
              "<tensorflow.python.keras.callbacks.History at 0x7f07ac3ebfd0>"
            ]
          },
          "metadata": {
            "tags": []
          },
          "execution_count": 22
        }
      ]
    },
    {
      "cell_type": "code",
      "metadata": {
        "id": "GvVSHZjZJUfE",
        "colab_type": "code",
        "colab": {}
      },
      "source": [
        "preds = model.predict(X_valid).reshape(-1)"
      ],
      "execution_count": 0,
      "outputs": []
    },
    {
      "cell_type": "code",
      "metadata": {
        "id": "9pgx497GJXhu",
        "colab_type": "code",
        "outputId": "568bceef-41ae-443f-cf16-d74e3e02da07",
        "colab": {
          "base_uri": "https://localhost:8080/",
          "height": 170
        }
      },
      "source": [
        "print(classification_report(y_valid, (preds > 0.5).astype(int)))"
      ],
      "execution_count": 0,
      "outputs": [
        {
          "output_type": "stream",
          "text": [
            "              precision    recall  f1-score   support\n",
            "\n",
            "           0       0.97      0.99      0.98     61365\n",
            "           1       0.68      0.50      0.57      3942\n",
            "\n",
            "    accuracy                           0.96     65307\n",
            "   macro avg       0.82      0.74      0.78     65307\n",
            "weighted avg       0.95      0.96      0.95     65307\n",
            "\n"
          ],
          "name": "stdout"
        }
      ]
    },
    {
      "cell_type": "markdown",
      "metadata": {
        "id": "fSVW9YLzzcvS",
        "colab_type": "text"
      },
      "source": [
        "## Word2Vec и FastText"
      ]
    },
    {
      "cell_type": "code",
      "metadata": {
        "id": "790E7vrZzkQ0",
        "colab_type": "code",
        "colab": {}
      },
      "source": [
        "import gensim"
      ],
      "execution_count": 0,
      "outputs": []
    },
    {
      "cell_type": "code",
      "metadata": {
        "id": "P5BOZd680Tfj",
        "colab_type": "code",
        "colab": {}
      },
      "source": [
        "data = quora.question_text.apply(preprocess).tolist()"
      ],
      "execution_count": 0,
      "outputs": []
    },
    {
      "cell_type": "code",
      "metadata": {
        "id": "mvJYs37m0qX8",
        "colab_type": "code",
        "colab": {}
      },
      "source": [
        "w2v_model = gensim.models.Word2Vec(data, size = 100, window = 10, sg = 0)"
      ],
      "execution_count": 0,
      "outputs": []
    },
    {
      "cell_type": "code",
      "metadata": {
        "id": "DqU0apZz1nfr",
        "colab_type": "code",
        "colab": {}
      },
      "source": [
        "fast_text = gensim.models.FastText(data, size=100)"
      ],
      "execution_count": 0,
      "outputs": []
    },
    {
      "cell_type": "code",
      "metadata": {
        "id": "lfX3_IAh4cgo",
        "colab_type": "code",
        "outputId": "5d2dcf19-85e8-4987-ad19-1f1c5c3d9e79",
        "colab": {
          "base_uri": "https://localhost:8080/",
          "height": 51
        }
      },
      "source": [
        "w2v_weights = np.zeros((len(word2id), 100))\n",
        "\n",
        "for word, i in word2id.items():\n",
        "    if word == 'PAD':\n",
        "        continue\n",
        "    \n",
        "    if word == 'UNK':\n",
        "        continue\n",
        "            \n",
        "    try:\n",
        "        w2v_weights[i] = w2v_model[word] \n",
        "    \n",
        "    except KeyError:\n",
        "        continue"
      ],
      "execution_count": 0,
      "outputs": [
        {
          "output_type": "stream",
          "text": [
            "/usr/local/lib/python3.6/dist-packages/ipykernel_launcher.py:11: DeprecationWarning: Call to deprecated `__getitem__` (Method will be removed in 4.0.0, use self.wv.__getitem__() instead).\n",
            "  # This is added back by InteractiveShellApp.init_path()\n"
          ],
          "name": "stderr"
        }
      ]
    },
    {
      "cell_type": "code",
      "metadata": {
        "id": "xLz186-W4np9",
        "colab_type": "code",
        "outputId": "48bc1b1c-3567-431e-d43e-ea0c310a17ac",
        "colab": {
          "base_uri": "https://localhost:8080/",
          "height": 119
        }
      },
      "source": [
        "ft_weights = np.zeros((len(word2id), 100))\n",
        "\n",
        "for word, i in word2id.items():\n",
        "    if word == 'PAD':\n",
        "        continue\n",
        "    \n",
        "    if word == 'UNK':\n",
        "        ft_weights[i] = fast_text['absworrandom']\n",
        "    \n",
        "    try:\n",
        "        ft_weights[i] = fast_text[word]\n",
        "    \n",
        "    except KeyError:\n",
        "        ft_weights[i] = fast_text['wofnvgsafbaudad']"
      ],
      "execution_count": 0,
      "outputs": [
        {
          "output_type": "stream",
          "text": [
            "/usr/local/lib/python3.6/dist-packages/ipykernel_launcher.py:8: DeprecationWarning: Call to deprecated `__getitem__` (Method will be removed in 4.0.0, use self.wv.__getitem__() instead).\n",
            "  \n",
            "/usr/local/lib/python3.6/dist-packages/ipykernel_launcher.py:11: DeprecationWarning: Call to deprecated `__getitem__` (Method will be removed in 4.0.0, use self.wv.__getitem__() instead).\n",
            "  # This is added back by InteractiveShellApp.init_path()\n",
            "/usr/local/lib/python3.6/dist-packages/ipykernel_launcher.py:14: DeprecationWarning: Call to deprecated `__getitem__` (Method will be removed in 4.0.0, use self.wv.__getitem__() instead).\n",
            "  \n"
          ],
          "name": "stderr"
        }
      ]
    },
    {
      "cell_type": "markdown",
      "metadata": {
        "id": "8qeZoUow8IV7",
        "colab_type": "text"
      },
      "source": [
        "Конкатенация"
      ]
    },
    {
      "cell_type": "code",
      "metadata": {
        "id": "L1ektD_T4rts",
        "colab_type": "code",
        "colab": {}
      },
      "source": [
        "inputs = tf.keras.layers.Input(shape=(MAX_LEN,))\n",
        "\n",
        "embeddings1 = tf.keras.layers.Embedding(input_dim=len(word2id), output_dim=100, trainable=False,\n",
        "                                      weights=[w2v_weights])(inputs, )\n",
        "embeddings2 = tf.keras.layers.Embedding(input_dim=len(word2id), output_dim=100, trainable=False,\n",
        "                                      weights=[ft_weights])(inputs, )\n",
        "merged = tf.keras.layers.Concatenate()([embeddings1, embeddings2])\n",
        "mean = tf.keras.layers.Flatten()(merged)\n",
        "dense = tf.keras.layers.Dense(64, activation='relu')(mean)\n",
        "dense = tf.keras.layers.Dense(64, activation='relu')(dense)\n",
        "outputs = tf.keras.layers.Dense(1, activation='sigmoid')(dense)\n",
        "\n",
        "model = tf.keras.Model(inputs=inputs, outputs=outputs)\n",
        "optimizer = tf.keras.optimizers.Adam(learning_rate=0.0001)\n",
        "model.compile(optimizer=optimizer,\n",
        "              loss='binary_crossentropy',\n",
        "              metrics=['accuracy'])\n"
      ],
      "execution_count": 0,
      "outputs": []
    },
    {
      "cell_type": "code",
      "metadata": {
        "id": "ql2kMM014u1c",
        "colab_type": "code",
        "outputId": "7fbd5f34-6c1f-4b72-ff10-9d9e654dbb1f",
        "colab": {
          "base_uri": "https://localhost:8080/",
          "height": 306
        }
      },
      "source": [
        "model.fit(X_train, y_train, \n",
        "          validation_data=(X_valid, y_valid),\n",
        "          batch_size=6000,\n",
        "         epochs=8)"
      ],
      "execution_count": 0,
      "outputs": [
        {
          "output_type": "stream",
          "text": [
            "Epoch 1/8\n",
            "207/207 [==============================] - 244s 1s/step - loss: 0.1060 - accuracy: 0.9602 - val_loss: 0.1309 - val_accuracy: 0.9504\n",
            "Epoch 2/8\n",
            "207/207 [==============================] - 243s 1s/step - loss: 0.1027 - accuracy: 0.9617 - val_loss: 0.1327 - val_accuracy: 0.9500\n",
            "Epoch 3/8\n",
            "207/207 [==============================] - 245s 1s/step - loss: 0.0997 - accuracy: 0.9628 - val_loss: 0.1347 - val_accuracy: 0.9501\n",
            "Epoch 4/8\n",
            "207/207 [==============================] - 245s 1s/step - loss: 0.0967 - accuracy: 0.9641 - val_loss: 0.1362 - val_accuracy: 0.9493\n",
            "Epoch 5/8\n",
            "207/207 [==============================] - 246s 1s/step - loss: 0.0938 - accuracy: 0.9653 - val_loss: 0.1384 - val_accuracy: 0.9497\n",
            "Epoch 6/8\n",
            "207/207 [==============================] - 245s 1s/step - loss: 0.0910 - accuracy: 0.9666 - val_loss: 0.1412 - val_accuracy: 0.9483\n",
            "Epoch 7/8\n",
            "207/207 [==============================] - 245s 1s/step - loss: 0.0885 - accuracy: 0.9676 - val_loss: 0.1437 - val_accuracy: 0.9485\n",
            "Epoch 8/8\n",
            "207/207 [==============================] - 246s 1s/step - loss: 0.0860 - accuracy: 0.9686 - val_loss: 0.1474 - val_accuracy: 0.9486\n"
          ],
          "name": "stdout"
        },
        {
          "output_type": "execute_result",
          "data": {
            "text/plain": [
              "<tensorflow.python.keras.callbacks.History at 0x7f0709d4f710>"
            ]
          },
          "metadata": {
            "tags": []
          },
          "execution_count": 35
        }
      ]
    },
    {
      "cell_type": "code",
      "metadata": {
        "id": "MhZu_C9o_yfb",
        "colab_type": "code",
        "outputId": "b6243a40-dc9f-4c22-9a02-d16f0b50ec09",
        "colab": {
          "base_uri": "https://localhost:8080/",
          "height": 312
        }
      },
      "source": [
        "print(model.history.history.keys())\n",
        "plt.plot(model.history.history['accuracy'])\n",
        "plt.plot(model.history.history['val_accuracy'])\n",
        "plt.title('model accuracy')\n",
        "plt.ylabel('accuracy')\n",
        "plt.xlabel('epoch')\n",
        "plt.legend(['train', 'val'], loc='upper left')\n",
        "plt.show()"
      ],
      "execution_count": 0,
      "outputs": [
        {
          "output_type": "stream",
          "text": [
            "dict_keys(['loss', 'accuracy', 'val_loss', 'val_accuracy'])\n"
          ],
          "name": "stdout"
        },
        {
          "output_type": "display_data",
          "data": {
            "image/png": "[encoded data removed]",
            "text/plain": [
              "<Figure size 432x288 with 1 Axes>"
            ]
          },
          "metadata": {
            "tags": [],
            "needs_background": "light"
          }
        }
      ]
    },
    {
      "cell_type": "code",
      "metadata": {
        "id": "86t1HvTtHVaN",
        "colab_type": "code",
        "colab": {}
      },
      "source": [
        "preds = model.predict(X_valid).reshape(-1)"
      ],
      "execution_count": 0,
      "outputs": []
    },
    {
      "cell_type": "code",
      "metadata": {
        "id": "YaPpe9_nHX7R",
        "colab_type": "code",
        "outputId": "c388084a-70c8-4730-be27-d3363d8395b5",
        "colab": {
          "base_uri": "https://localhost:8080/",
          "height": 170
        }
      },
      "source": [
        "print(classification_report(y_valid, (preds > 0.5).astype(int)))"
      ],
      "execution_count": 0,
      "outputs": [
        {
          "output_type": "stream",
          "text": [
            "              precision    recall  f1-score   support\n",
            "\n",
            "           0       0.96      0.98      0.97     61365\n",
            "           1       0.61      0.41      0.49      3942\n",
            "\n",
            "    accuracy                           0.95     65307\n",
            "   macro avg       0.79      0.70      0.73     65307\n",
            "weighted avg       0.94      0.95      0.94     65307\n",
            "\n"
          ],
          "name": "stdout"
        }
      ]
    },
    {
      "cell_type": "markdown",
      "metadata": {
        "id": "MdFi91L1_Tb1",
        "colab_type": "text"
      },
      "source": [
        "Усреднение"
      ]
    },
    {
      "cell_type": "code",
      "metadata": {
        "id": "KaSi6auK_vfp",
        "colab_type": "code",
        "colab": {}
      },
      "source": [
        "inputs = tf.keras.layers.Input(shape=(MAX_LEN,))\n",
        "\n",
        "embeddings1 = tf.keras.layers.Embedding(input_dim=len(word2id), output_dim=100, trainable=False,\n",
        "                                      weights=[w2v_weights])(inputs, )\n",
        "embeddings2 = tf.keras.layers.Embedding(input_dim=len(word2id), output_dim=100, trainable=False,\n",
        "                                      weights=[ft_weights])(inputs, )\n",
        "merged = tf.keras.layers.Average()([embeddings1, embeddings2])\n",
        "mean = tf.keras.layers.Flatten()(merged)\n",
        "dense = tf.keras.layers.Dense(64, activation='relu')(mean)\n",
        "dense = tf.keras.layers.Dense(64, activation='relu')(dense)\n",
        "outputs = tf.keras.layers.Dense(1, activation='sigmoid')(dense)\n",
        "\n",
        "model = tf.keras.Model(inputs=inputs, outputs=outputs)\n",
        "optimizer = tf.keras.optimizers.Adam(learning_rate=0.0001)\n",
        "model.compile(optimizer=optimizer,\n",
        "              loss='binary_crossentropy',\n",
        "              metrics=['accuracy'])"
      ],
      "execution_count": 0,
      "outputs": []
    },
    {
      "cell_type": "code",
      "metadata": {
        "id": "pUbfzQpVIJO1",
        "colab_type": "code",
        "outputId": "7c08e054-9cc8-4866-f837-6f8ef8a9c06f",
        "colab": {
          "base_uri": "https://localhost:8080/",
          "height": 238
        }
      },
      "source": [
        "model.fit(X_train, y_train, \n",
        "          validation_data=(X_valid, y_valid),\n",
        "          batch_size=6000,\n",
        "         epochs=6)"
      ],
      "execution_count": 0,
      "outputs": [
        {
          "output_type": "stream",
          "text": [
            "Epoch 1/6\n",
            "207/207 [==============================] - 149s 718ms/step - loss: 0.2057 - accuracy: 0.9372 - val_loss: 0.1545 - val_accuracy: 0.9448\n",
            "Epoch 2/6\n",
            "207/207 [==============================] - 148s 715ms/step - loss: 0.1500 - accuracy: 0.9446 - val_loss: 0.1432 - val_accuracy: 0.9470\n",
            "Epoch 3/6\n",
            "207/207 [==============================] - 150s 723ms/step - loss: 0.1417 - accuracy: 0.9468 - val_loss: 0.1392 - val_accuracy: 0.9479\n",
            "Epoch 4/6\n",
            "207/207 [==============================] - 148s 717ms/step - loss: 0.1370 - accuracy: 0.9481 - val_loss: 0.1374 - val_accuracy: 0.9484\n",
            "Epoch 5/6\n",
            "207/207 [==============================] - 149s 718ms/step - loss: 0.1336 - accuracy: 0.9492 - val_loss: 0.1361 - val_accuracy: 0.9488\n",
            "Epoch 6/6\n",
            "207/207 [==============================] - 149s 719ms/step - loss: 0.1308 - accuracy: 0.9502 - val_loss: 0.1350 - val_accuracy: 0.9489\n"
          ],
          "name": "stdout"
        },
        {
          "output_type": "execute_result",
          "data": {
            "text/plain": [
              "<tensorflow.python.keras.callbacks.History at 0x7f070945e390>"
            ]
          },
          "metadata": {
            "tags": []
          },
          "execution_count": 40
        }
      ]
    },
    {
      "cell_type": "code",
      "metadata": {
        "id": "YFPL1wepObkE",
        "colab_type": "code",
        "outputId": "2128c754-df36-432e-81ae-bfcfbb8971cb",
        "colab": {
          "base_uri": "https://localhost:8080/",
          "height": 312
        }
      },
      "source": [
        "print(model.history.history.keys())\n",
        "plt.plot(model.history.history['accuracy'])\n",
        "plt.plot(model.history.history['val_accuracy'])\n",
        "plt.title('model accuracy')\n",
        "plt.ylabel('accuracy')\n",
        "plt.xlabel('epoch')\n",
        "plt.legend(['train', 'val'], loc='upper left')\n",
        "plt.show()"
      ],
      "execution_count": 0,
      "outputs": [
        {
          "output_type": "stream",
          "text": [
            "dict_keys(['loss', 'accuracy', 'val_loss', 'val_accuracy'])\n"
          ],
          "name": "stdout"
        },
        {
          "output_type": "display_data",
          "data": {
            "image/png": "[encoded data removed]",
            "text/plain": [
              "<Figure size 432x288 with 1 Axes>"
            ]
          },
          "metadata": {
            "tags": [],
            "needs_background": "light"
          }
        }
      ]
    },
    {
      "cell_type": "code",
      "metadata": {
        "id": "v9pCF6SSIN65",
        "colab_type": "code",
        "colab": {}
      },
      "source": [
        "preds = model.predict(X_valid).reshape(-1)"
      ],
      "execution_count": 0,
      "outputs": []
    },
    {
      "cell_type": "code",
      "metadata": {
        "id": "DC3fquieIPjk",
        "colab_type": "code",
        "outputId": "c23e7851-2163-4ad8-a787-ccea211cecdf",
        "colab": {
          "base_uri": "https://localhost:8080/",
          "height": 170
        }
      },
      "source": [
        "print(classification_report(y_valid, (preds > 0.5).astype(int)))"
      ],
      "execution_count": 0,
      "outputs": [
        {
          "output_type": "stream",
          "text": [
            "              precision    recall  f1-score   support\n",
            "\n",
            "           0       0.96      0.99      0.97     61365\n",
            "           1       0.63      0.36      0.46      3942\n",
            "\n",
            "    accuracy                           0.95     65307\n",
            "   macro avg       0.80      0.67      0.72     65307\n",
            "weighted avg       0.94      0.95      0.94     65307\n",
            "\n"
          ],
          "name": "stdout"
        }
      ]
    },
    {
      "cell_type": "markdown",
      "metadata": {
        "id": "G1fVFCJaPD7U",
        "colab_type": "text"
      },
      "source": [
        "При конкатенации результат лучше"
      ]
    },
    {
      "cell_type": "markdown",
      "metadata": {
        "id": "hXQG5GnmAdoF",
        "colab_type": "text"
      },
      "source": [
        "Попробуем изменить предобработку - лемматизируем и удалим стоп-слова"
      ]
    },
    {
      "cell_type": "code",
      "metadata": {
        "id": "pszlGKNsAkck",
        "colab_type": "code",
        "colab": {}
      },
      "source": [
        "import spacy\n",
        "from nltk.corpus import stopwords\n",
        "stops = stopwords.words('english')\n",
        "stops.extend(['would'])"
      ],
      "execution_count": 0,
      "outputs": []
    },
    {
      "cell_type": "code",
      "metadata": {
        "id": "t0bp0ImYArN5",
        "colab_type": "code",
        "colab": {}
      },
      "source": [
        "def tokenize(text):\n",
        "    words = [word.strip(punctuation) for word in text.lower().split()]\n",
        "    words = [word for word in words if word and word not in stops]\n",
        "    return words"
      ],
      "execution_count": 0,
      "outputs": []
    },
    {
      "cell_type": "code",
      "metadata": {
        "id": "iikiO1ikAuDk",
        "colab_type": "code",
        "colab": {}
      },
      "source": [
        "nlp = spacy.load('en', disable=['parser', 'ner'])\n",
        "def spacy_lemm(sent):\n",
        "  sent = ' '.join(tokenize(sent))\n",
        "  doc = nlp(sent)\n",
        "  out_sent = [w.lemma_  for w in doc if w.lemma_ !='-PRON-']\n",
        "  return(out_sent)"
      ],
      "execution_count": 0,
      "outputs": []
    },
    {
      "cell_type": "code",
      "metadata": {
        "id": "e8roSnduBOyQ",
        "colab_type": "code",
        "colab": {}
      },
      "source": [
        "data = [spacy_lemm(text) for text in quora.question_text]"
      ],
      "execution_count": 0,
      "outputs": []
    },
    {
      "cell_type": "code",
      "metadata": {
        "id": "Eb4NUVRrBjDy",
        "colab_type": "code",
        "colab": {}
      },
      "source": [
        "vocab = Counter()\n",
        "\n",
        "for text in data:\n",
        "    vocab.update(text)"
      ],
      "execution_count": 0,
      "outputs": []
    },
    {
      "cell_type": "code",
      "metadata": {
        "id": "H19TzoCTGEEl",
        "colab_type": "code",
        "colab": {}
      },
      "source": [
        "filtered_vocab = set()\n",
        "\n",
        "for word in vocab:\n",
        "    if vocab[word] > 50:\n",
        "        filtered_vocab.add(word)\n",
        "\n",
        "len(filtered_vocab)"
      ],
      "execution_count": 0,
      "outputs": []
    },
    {
      "cell_type": "code",
      "metadata": {
        "id": "wJtOZOA7GHqi",
        "colab_type": "code",
        "colab": {}
      },
      "source": [
        "word2id = {'UNK':1, 'PAD':0}\n",
        "\n",
        "for word in filtered_vocab:\n",
        "    word2id[word] = len(word2id)"
      ],
      "execution_count": 0,
      "outputs": []
    },
    {
      "cell_type": "code",
      "metadata": {
        "id": "aV44buIHGJhc",
        "colab_type": "code",
        "colab": {}
      },
      "source": [
        "X = []\n",
        "\n",
        "for text in data:\n",
        "    ids = [word2id.get(token, 1) for token in text]\n",
        "    X.append(ids)"
      ],
      "execution_count": 0,
      "outputs": []
    },
    {
      "cell_type": "code",
      "metadata": {
        "id": "_36IFhq0GLOt",
        "colab_type": "code",
        "colab": {}
      },
      "source": [
        "MAX_LEN = max(len(x) for x in X)"
      ],
      "execution_count": 0,
      "outputs": []
    },
    {
      "cell_type": "code",
      "metadata": {
        "id": "_1PqB1tKGNZx",
        "colab_type": "code",
        "colab": {}
      },
      "source": [
        "X = tf.keras.preprocessing.sequence.pad_sequences(X, maxlen=MAX_LEN)\n",
        "y = quora.target.values"
      ],
      "execution_count": 0,
      "outputs": []
    },
    {
      "cell_type": "code",
      "metadata": {
        "id": "nkaPHTRMGQT6",
        "colab_type": "code",
        "colab": {}
      },
      "source": [
        "X_train, X_valid, y_train, y_valid = train_test_split(X, y, test_size=0.05, random_state=42)"
      ],
      "execution_count": 0,
      "outputs": []
    },
    {
      "cell_type": "code",
      "metadata": {
        "id": "hyHaI6_3GR1m",
        "colab_type": "code",
        "colab": {}
      },
      "source": [
        "w2v_model = gensim.models.Word2Vec(data, size = 100, window = 10, sg = 0)"
      ],
      "execution_count": 0,
      "outputs": []
    },
    {
      "cell_type": "code",
      "metadata": {
        "id": "FZwzhjtrGTdw",
        "colab_type": "code",
        "colab": {}
      },
      "source": [
        "fast_text = gensim.models.FastText(data, size=100)"
      ],
      "execution_count": 0,
      "outputs": []
    },
    {
      "cell_type": "code",
      "metadata": {
        "id": "RmB0KAI5HIbF",
        "colab_type": "code",
        "colab": {}
      },
      "source": [
        "w2v_weights = np.zeros((len(word2id), 100))\n",
        "\n",
        "for word, i in word2id.items():\n",
        "    if word == 'PAD':\n",
        "        continue\n",
        "    \n",
        "    if word == 'UNK':\n",
        "        continue\n",
        "    \n",
        "    try:\n",
        "        w2v_weights[i] = w2v_model[word]\n",
        "    \n",
        "    \n",
        "    except KeyError:\n",
        "        continue"
      ],
      "execution_count": 0,
      "outputs": []
    },
    {
      "cell_type": "code",
      "metadata": {
        "id": "5YAjJPu5HLj4",
        "colab_type": "code",
        "colab": {}
      },
      "source": [
        "ft_weights = np.zeros((len(word2id), 100))\n",
        "\n",
        "for word, i in word2id.items():\n",
        "    if word == 'PAD':\n",
        "        continue\n",
        "    \n",
        "    if word == 'UNK':\n",
        "        ft_weights[i] = fast_text['absworrandom']\n",
        "    \n",
        "    try:\n",
        "        ft_weights[i] = fast_text[word]\n",
        "    \n",
        "    except KeyError:\n",
        "        ft_weights[i] = fast_text['wofnvgsafbaudad']"
      ],
      "execution_count": 0,
      "outputs": []
    },
    {
      "cell_type": "code",
      "metadata": {
        "id": "iuRD_ZNRYuCR",
        "colab_type": "code",
        "colab": {}
      },
      "source": [
        "inputs = tf.keras.layers.Input(shape=(MAX_LEN,))\n",
        "\n",
        "embeddings1 = tf.keras.layers.Embedding(input_dim=len(word2id), output_dim=100, trainable=False,\n",
        "                                      weights=[w2v_weights])(inputs, )\n",
        "embeddings2 = tf.keras.layers.Embedding(input_dim=len(word2id), output_dim=100, trainable=False,\n",
        "                                      weights=[ft_weights])(inputs, )\n",
        "merged = tf.keras.layers.Concatenate()([embeddings1, embeddings2])\n",
        "mean = tf.keras.layers.Flatten()(merged)\n",
        "dense = tf.keras.layers.Dense(64, activation='relu')(mean)\n",
        "dense = tf.keras.layers.Dense(64, activation='relu')(dense)\n",
        "outputs = tf.keras.layers.Dense(1, activation='sigmoid')(dense)\n",
        "\n",
        "model = tf.keras.Model(inputs=inputs, outputs=outputs)\n",
        "optimizer = tf.keras.optimizers.Adam(learning_rate=0.0001)\n",
        "model.compile(optimizer=optimizer,\n",
        "              loss='binary_crossentropy',\n",
        "              metrics=['accuracy'])\n"
      ],
      "execution_count": 0,
      "outputs": []
    },
    {
      "cell_type": "code",
      "metadata": {
        "id": "Q5XfdR-8b-BY",
        "colab_type": "code",
        "outputId": "a85f7db8-05da-4bc0-b3d8-d57a71de0824",
        "colab": {
          "base_uri": "https://localhost:8080/",
          "height": 306
        }
      },
      "source": [
        "model.fit(X_train, y_train, \n",
        "          validation_data=(X_valid, y_valid),\n",
        "          batch_size=6000,\n",
        "         epochs=8)"
      ],
      "execution_count": 0,
      "outputs": [
        {
          "output_type": "stream",
          "text": [
            "Epoch 1/8\n",
            "207/207 [==============================] - 400s 2s/step - loss: 0.2100 - accuracy: 0.9353 - val_loss: 0.1465 - val_accuracy: 0.9479\n",
            "Epoch 2/8\n",
            "207/207 [==============================] - 399s 2s/step - loss: 0.1413 - accuracy: 0.9475 - val_loss: 0.1353 - val_accuracy: 0.9489\n",
            "Epoch 3/8\n",
            "207/207 [==============================] - 401s 2s/step - loss: 0.1330 - accuracy: 0.9495 - val_loss: 0.1310 - val_accuracy: 0.9498\n",
            "Epoch 4/8\n",
            "207/207 [==============================] - 399s 2s/step - loss: 0.1281 - accuracy: 0.9511 - val_loss: 0.1286 - val_accuracy: 0.9505\n",
            "Epoch 5/8\n",
            "207/207 [==============================] - 400s 2s/step - loss: 0.1244 - accuracy: 0.9522 - val_loss: 0.1268 - val_accuracy: 0.9509\n",
            "Epoch 6/8\n",
            "207/207 [==============================] - 399s 2s/step - loss: 0.1212 - accuracy: 0.9535 - val_loss: 0.1263 - val_accuracy: 0.9512\n",
            "Epoch 7/8\n",
            "207/207 [==============================] - 399s 2s/step - loss: 0.1181 - accuracy: 0.9546 - val_loss: 0.1259 - val_accuracy: 0.9507\n",
            "Epoch 8/8\n",
            "207/207 [==============================] - 400s 2s/step - loss: 0.1151 - accuracy: 0.9559 - val_loss: 0.1259 - val_accuracy: 0.9509\n"
          ],
          "name": "stdout"
        },
        {
          "output_type": "execute_result",
          "data": {
            "text/plain": [
              "<tensorflow.python.keras.callbacks.History at 0x7fdc41719550>"
            ]
          },
          "metadata": {
            "tags": []
          },
          "execution_count": 50
        }
      ]
    },
    {
      "cell_type": "code",
      "metadata": {
        "id": "3xA7vcPurpg7",
        "colab_type": "code",
        "outputId": "fe14227b-6d65-469e-f932-b2fcc97a04db",
        "colab": {
          "base_uri": "https://localhost:8080/",
          "height": 312
        }
      },
      "source": [
        "print(model.history.history.keys())\n",
        "plt.plot(model.history.history['accuracy'])\n",
        "plt.plot(model.history.history['val_accuracy'])\n",
        "plt.title('model accuracy')\n",
        "plt.ylabel('accuracy')\n",
        "plt.xlabel('epoch')\n",
        "plt.legend(['train', 'val'], loc='upper left')\n",
        "plt.show()"
      ],
      "execution_count": 0,
      "outputs": [
        {
          "output_type": "stream",
          "text": [
            "dict_keys(['loss', 'accuracy', 'val_loss', 'val_accuracy'])\n"
          ],
          "name": "stdout"
        },
        {
          "output_type": "display_data",
          "data": {
            "image/png": "[encoded data removed]",
            "text/plain": [
              "<Figure size 432x288 with 1 Axes>"
            ]
          },
          "metadata": {
            "tags": [],
            "needs_background": "light"
          }
        }
      ]
    },
    {
      "cell_type": "code",
      "metadata": {
        "id": "MfGcTT40rwrv",
        "colab_type": "code",
        "colab": {}
      },
      "source": [
        "preds = model.predict(X_valid).reshape(-1)"
      ],
      "execution_count": 0,
      "outputs": []
    },
    {
      "cell_type": "code",
      "metadata": {
        "id": "43rwwmT9ry65",
        "colab_type": "code",
        "outputId": "5e3d45f5-4fd5-467a-fbfd-856a12f6ea47",
        "colab": {
          "base_uri": "https://localhost:8080/",
          "height": 170
        }
      },
      "source": [
        "print(classification_report(y_valid, (preds > 0.5).astype(int)))"
      ],
      "execution_count": 0,
      "outputs": [
        {
          "output_type": "stream",
          "text": [
            "              precision    recall  f1-score   support\n",
            "\n",
            "           0       0.96      0.99      0.97     61365\n",
            "           1       0.65      0.41      0.50      3942\n",
            "\n",
            "    accuracy                           0.95     65307\n",
            "   macro avg       0.80      0.70      0.74     65307\n",
            "weighted avg       0.94      0.95      0.95     65307\n",
            "\n"
          ],
          "name": "stdout"
        }
      ]
    },
    {
      "cell_type": "markdown",
      "metadata": {
        "id": "ohFlZ77GJhh8",
        "colab_type": "text"
      },
      "source": [
        "Результат лучше, чем с w2v и fasttext без предобработки, но хуже, чем без предобученных эмбеддингов"
      ]
    }
  ]
}